{
 "cells": [
  {
   "cell_type": "code",
   "execution_count": 1,
   "id": "b62cd618",
   "metadata": {},
   "outputs": [
    {
     "name": "stdout",
     "output_type": "stream",
     "text": [
      "Collecting bertopic\n",
      "  Obtaining dependency information for bertopic from https://files.pythonhosted.org/packages/98/05/2d6b305391efff89c2b4cf19cf847f971ca163eb5c149d0d2ffac0a9c7ed/bertopic-0.17.3-py3-none-any.whl.metadata\n",
      "  Downloading bertopic-0.17.3-py3-none-any.whl.metadata (24 kB)\n",
      "Requirement already satisfied: datasets in c:\\users\\ptpl-648\\desktop\\hands_on_llm\\.venv\\lib\\site-packages (4.0.0)\n",
      "Requirement already satisfied: openai in c:\\users\\ptpl-648\\desktop\\hands_on_llm\\.venv\\lib\\site-packages (1.101.0)\n",
      "Collecting datamapplot\n",
      "  Obtaining dependency information for datamapplot from https://files.pythonhosted.org/packages/ff/32/5c8e9741c148a385b45174a0fc0af337c8d611e2cfdfec3c8a243febddb2/datamapplot-0.6.3-py3-none-any.whl.metadata\n",
      "  Downloading datamapplot-0.6.3-py3-none-any.whl.metadata (7.8 kB)\n",
      "Collecting hdbscan>=0.8.29 (from bertopic)\n",
      "  Obtaining dependency information for hdbscan>=0.8.29 from https://files.pythonhosted.org/packages/64/b1/96c347c7740efa1ac803be64155159284f92fafcff88c1077344e64eead5/hdbscan-0.8.40-cp311-cp311-win_amd64.whl.metadata\n",
      "  Downloading hdbscan-0.8.40-cp311-cp311-win_amd64.whl.metadata (15 kB)\n",
      "Collecting umap-learn>=0.5.0 (from bertopic)\n",
      "  Obtaining dependency information for umap-learn>=0.5.0 from https://files.pythonhosted.org/packages/6b/b1/c24deeda9baf1fd491aaad941ed89e0fed6c583a117fd7b79e0a33a1e6c0/umap_learn-0.5.9.post2-py3-none-any.whl.metadata\n",
      "  Downloading umap_learn-0.5.9.post2-py3-none-any.whl.metadata (25 kB)\n",
      "Requirement already satisfied: numpy>=1.20.0 in c:\\users\\ptpl-648\\desktop\\hands_on_llm\\.venv\\lib\\site-packages (from bertopic) (1.26.4)\n",
      "Requirement already satisfied: pandas>=1.1.5 in c:\\users\\ptpl-648\\desktop\\hands_on_llm\\.venv\\lib\\site-packages (from bertopic) (2.3.2)\n",
      "Collecting plotly>=4.7.0 (from bertopic)\n",
      "  Obtaining dependency information for plotly>=4.7.0 from https://files.pythonhosted.org/packages/95/a9/12e2dc726ba1ba775a2c6922d5d5b4488ad60bdab0888c337c194c8e6de8/plotly-6.3.0-py3-none-any.whl.metadata\n",
      "  Downloading plotly-6.3.0-py3-none-any.whl.metadata (8.5 kB)\n",
      "Requirement already satisfied: scikit-learn>=1.0 in c:\\users\\ptpl-648\\desktop\\hands_on_llm\\.venv\\lib\\site-packages (from bertopic) (1.5.0)\n",
      "Requirement already satisfied: sentence-transformers>=0.4.1 in c:\\users\\ptpl-648\\desktop\\hands_on_llm\\.venv\\lib\\site-packages (from bertopic) (3.0.1)\n",
      "Requirement already satisfied: tqdm>=4.41.1 in c:\\users\\ptpl-648\\desktop\\hands_on_llm\\.venv\\lib\\site-packages (from bertopic) (4.67.1)\n",
      "Collecting llvmlite>0.36.0 (from bertopic)\n",
      "  Obtaining dependency information for llvmlite>0.36.0 from https://files.pythonhosted.org/packages/5f/c6/258801143975a6d09a373f2641237992496e15567b907a4d401839d671b8/llvmlite-0.44.0-cp311-cp311-win_amd64.whl.metadata\n",
      "  Downloading llvmlite-0.44.0-cp311-cp311-win_amd64.whl.metadata (5.0 kB)\n",
      "Requirement already satisfied: filelock in c:\\users\\ptpl-648\\desktop\\hands_on_llm\\.venv\\lib\\site-packages (from datasets) (3.19.1)\n",
      "Requirement already satisfied: pyarrow>=15.0.0 in c:\\users\\ptpl-648\\desktop\\hands_on_llm\\.venv\\lib\\site-packages (from datasets) (21.0.0)\n",
      "Requirement already satisfied: dill<0.3.9,>=0.3.0 in c:\\users\\ptpl-648\\desktop\\hands_on_llm\\.venv\\lib\\site-packages (from datasets) (0.3.8)\n",
      "Requirement already satisfied: requests>=2.32.2 in c:\\users\\ptpl-648\\desktop\\hands_on_llm\\.venv\\lib\\site-packages (from datasets) (2.32.5)\n",
      "Requirement already satisfied: xxhash in c:\\users\\ptpl-648\\desktop\\hands_on_llm\\.venv\\lib\\site-packages (from datasets) (3.5.0)\n",
      "Requirement already satisfied: multiprocess<0.70.17 in c:\\users\\ptpl-648\\desktop\\hands_on_llm\\.venv\\lib\\site-packages (from datasets) (0.70.16)\n",
      "Requirement already satisfied: fsspec[http]<=2025.3.0,>=2023.1.0 in c:\\users\\ptpl-648\\desktop\\hands_on_llm\\.venv\\lib\\site-packages (from datasets) (2025.3.0)\n",
      "Requirement already satisfied: huggingface-hub>=0.24.0 in c:\\users\\ptpl-648\\desktop\\hands_on_llm\\.venv\\lib\\site-packages (from datasets) (0.34.4)\n",
      "Requirement already satisfied: packaging in c:\\users\\ptpl-648\\desktop\\hands_on_llm\\.venv\\lib\\site-packages (from datasets) (25.0)\n",
      "Requirement already satisfied: pyyaml>=5.1 in c:\\users\\ptpl-648\\desktop\\hands_on_llm\\.venv\\lib\\site-packages (from datasets) (6.0.2)\n",
      "Requirement already satisfied: anyio<5,>=3.5.0 in c:\\users\\ptpl-648\\desktop\\hands_on_llm\\.venv\\lib\\site-packages (from openai) (4.10.0)\n",
      "Requirement already satisfied: distro<2,>=1.7.0 in c:\\users\\ptpl-648\\desktop\\hands_on_llm\\.venv\\lib\\site-packages (from openai) (1.9.0)\n",
      "Requirement already satisfied: httpx<1,>=0.23.0 in c:\\users\\ptpl-648\\desktop\\hands_on_llm\\.venv\\lib\\site-packages (from openai) (0.28.1)\n",
      "Requirement already satisfied: jiter<1,>=0.4.0 in c:\\users\\ptpl-648\\desktop\\hands_on_llm\\.venv\\lib\\site-packages (from openai) (0.10.0)\n",
      "Requirement already satisfied: pydantic<3,>=1.9.0 in c:\\users\\ptpl-648\\desktop\\hands_on_llm\\.venv\\lib\\site-packages (from openai) (2.11.7)\n",
      "Requirement already satisfied: sniffio in c:\\users\\ptpl-648\\desktop\\hands_on_llm\\.venv\\lib\\site-packages (from openai) (1.3.1)\n",
      "Requirement already satisfied: typing-extensions<5,>=4.11 in c:\\users\\ptpl-648\\desktop\\hands_on_llm\\.venv\\lib\\site-packages (from openai) (4.14.1)\n",
      "Collecting colorcet (from datamapplot)\n",
      "  Obtaining dependency information for colorcet from https://files.pythonhosted.org/packages/c6/c6/9963d588cc3d75d766c819e0377a168ef83cf3316a92769971527a1ad1de/colorcet-3.1.0-py3-none-any.whl.metadata\n",
      "  Downloading colorcet-3.1.0-py3-none-any.whl.metadata (6.3 kB)\n",
      "Collecting colorspacious>=1.1 (from datamapplot)\n",
      "  Obtaining dependency information for colorspacious>=1.1 from https://files.pythonhosted.org/packages/ab/a1/318b9aeca7b9856410ededa4f52d6f82174d1a41e64bdd70d951e532675a/colorspacious-1.1.2-py2.py3-none-any.whl.metadata\n",
      "  Downloading colorspacious-1.1.2-py2.py3-none-any.whl.metadata (3.6 kB)\n",
      "Collecting dask[complete]<2025.0.1,>=2024.4.1 (from datamapplot)\n",
      "  Obtaining dependency information for dask[complete]<2025.0.1,>=2024.4.1 from https://files.pythonhosted.org/packages/6d/5a/cdc78a77bb1c7290fd1ccfe6001437f99a2af63e28343299abd09336236e/dask-2024.12.1-py3-none-any.whl.metadata\n",
      "  Downloading dask-2024.12.1-py3-none-any.whl.metadata (3.7 kB)\n",
      "Collecting datashader>=0.16 (from datamapplot)\n",
      "  Obtaining dependency information for datashader>=0.16 from https://files.pythonhosted.org/packages/28/0e/b11ad5fd77e3dd0baad9cac3184315be7654ae401e3b0b0c324503f23d96/datashader-0.18.2-py3-none-any.whl.metadata\n",
      "  Downloading datashader-0.18.2-py3-none-any.whl.metadata (7.6 kB)\n",
      "Collecting importlib-resources (from datamapplot)\n",
      "  Obtaining dependency information for importlib-resources from https://files.pythonhosted.org/packages/a4/ed/1f1afb2e9e7f38a545d628f864d562a5ae64fe6f7a10e28ffb9b185b4e89/importlib_resources-6.5.2-py3-none-any.whl.metadata\n",
      "  Downloading importlib_resources-6.5.2-py3-none-any.whl.metadata (3.9 kB)\n",
      "Requirement already satisfied: jinja2 in c:\\users\\ptpl-648\\desktop\\hands_on_llm\\.venv\\lib\\site-packages (from datamapplot) (3.1.6)\n",
      "Collecting matplotlib>=3.8 (from datamapplot)\n",
      "  Obtaining dependency information for matplotlib>=3.8 from https://files.pythonhosted.org/packages/b7/81/3200b792a5e8b354f31f4101ad7834743ad07b6d620259f2059317b25e4d/matplotlib-3.10.5-cp311-cp311-win_amd64.whl.metadata\n",
      "  Downloading matplotlib-3.10.5-cp311-cp311-win_amd64.whl.metadata (11 kB)\n",
      "Collecting numba>=0.56 (from datamapplot)\n",
      "  Obtaining dependency information for numba>=0.56 from https://files.pythonhosted.org/packages/0f/a4/2b309a6a9f6d4d8cfba583401c7c2f9ff887adb5d54d8e2e130274c0973f/numba-0.61.2-cp311-cp311-win_amd64.whl.metadata\n",
      "  Downloading numba-0.61.2-cp311-cp311-win_amd64.whl.metadata (2.9 kB)\n",
      "Collecting pylabeladjust (from datamapplot)\n",
      "  Obtaining dependency information for pylabeladjust from https://files.pythonhosted.org/packages/3a/cd/b706a538a53b5033a86ebfd85621ab0ba78ba3d8a09fd4060e346e0cfb20/pylabeladjust-0.1.13-py3-none-any.whl.metadata\n",
      "  Downloading pylabeladjust-0.1.13-py3-none-any.whl.metadata (8.2 kB)\n",
      "Collecting rcssmin>=1.1.2 (from datamapplot)\n",
      "  Downloading rcssmin-1.2.1.tar.gz (584 kB)\n",
      "     ---------------------------------------- 0.0/584.8 kB ? eta -:--:--\n",
      "     ------------------------------------  583.7/584.8 kB 17.9 MB/s eta 0:00:01\n",
      "     ------------------------------------- 584.8/584.8 kB 12.2 MB/s eta 0:00:00\n",
      "  Installing build dependencies: started\n",
      "  Installing build dependencies: finished with status 'done'\n",
      "  Getting requirements to build wheel: started\n",
      "  Getting requirements to build wheel: finished with status 'done'\n",
      "  Preparing metadata (pyproject.toml): started\n",
      "  Preparing metadata (pyproject.toml): finished with status 'done'\n",
      "Collecting rjsmin>=1.2.2 (from datamapplot)\n",
      "  Downloading rjsmin-1.2.4.tar.gz (422 kB)\n",
      "     ---------------------------------------- 0.0/422.3 kB ? eta -:--:--\n",
      "     ------------------------------------- 422.3/422.3 kB 27.5 MB/s eta 0:00:00\n",
      "  Installing build dependencies: started\n",
      "  Installing build dependencies: finished with status 'done'\n",
      "  Getting requirements to build wheel: started\n",
      "  Getting requirements to build wheel: finished with status 'done'\n",
      "  Preparing metadata (pyproject.toml): started\n",
      "  Preparing metadata (pyproject.toml): finished with status 'done'\n",
      "Collecting scikit-image>=0.22 (from datamapplot)\n",
      "  Obtaining dependency information for scikit-image>=0.22 from https://files.pythonhosted.org/packages/de/ec/b57c500ee85885df5f2188f8bb70398481393a69de44a00d6f1d055f103c/scikit_image-0.25.2-cp311-cp311-win_amd64.whl.metadata\n",
      "  Downloading scikit_image-0.25.2-cp311-cp311-win_amd64.whl.metadata (14 kB)\n",
      "Requirement already satisfied: platformdirs in c:\\users\\ptpl-648\\desktop\\hands_on_llm\\.venv\\lib\\site-packages (from datamapplot) (4.3.8)\n",
      "Requirement already satisfied: idna>=2.8 in c:\\users\\ptpl-648\\desktop\\hands_on_llm\\.venv\\lib\\site-packages (from anyio<5,>=3.5.0->openai) (3.10)\n",
      "Collecting click>=8.1 (from dask[complete]<2025.0.1,>=2024.4.1->datamapplot)\n",
      "  Obtaining dependency information for click>=8.1 from https://files.pythonhosted.org/packages/85/32/10bb5764d90a8eee674e9dc6f4db6a0ab47c8c4d0d83c27f7c39ac415a4d/click-8.2.1-py3-none-any.whl.metadata\n",
      "  Downloading click-8.2.1-py3-none-any.whl.metadata (2.5 kB)\n",
      "Collecting cloudpickle>=3.0.0 (from dask[complete]<2025.0.1,>=2024.4.1->datamapplot)\n",
      "  Obtaining dependency information for cloudpickle>=3.0.0 from https://files.pythonhosted.org/packages/7e/e8/64c37fadfc2816a7701fa8a6ed8d87327c7d54eacfbfb6edab14a2f2be75/cloudpickle-3.1.1-py3-none-any.whl.metadata\n",
      "  Downloading cloudpickle-3.1.1-py3-none-any.whl.metadata (7.1 kB)\n",
      "Collecting partd>=1.4.0 (from dask[complete]<2025.0.1,>=2024.4.1->datamapplot)\n",
      "  Obtaining dependency information for partd>=1.4.0 from https://files.pythonhosted.org/packages/71/e7/40fb618334dcdf7c5a316c0e7343c5cd82d3d866edc100d98e29bc945ecd/partd-1.4.2-py3-none-any.whl.metadata\n",
      "  Downloading partd-1.4.2-py3-none-any.whl.metadata (4.6 kB)\n",
      "Collecting toolz>=0.10.0 (from dask[complete]<2025.0.1,>=2024.4.1->datamapplot)\n",
      "  Obtaining dependency information for toolz>=0.10.0 from https://files.pythonhosted.org/packages/03/98/eb27cc78ad3af8e302c9d8ff4977f5026676e130d28dd7578132a457170c/toolz-1.0.0-py3-none-any.whl.metadata\n",
      "  Downloading toolz-1.0.0-py3-none-any.whl.metadata (5.1 kB)\n",
      "Collecting importlib_metadata>=4.13.0 (from dask[complete]<2025.0.1,>=2024.4.1->datamapplot)\n",
      "  Obtaining dependency information for importlib_metadata>=4.13.0 from https://files.pythonhosted.org/packages/20/b0/36bd937216ec521246249be3bf9855081de4c5e06a0c9b4219dbeda50373/importlib_metadata-8.7.0-py3-none-any.whl.metadata\n",
      "  Downloading importlib_metadata-8.7.0-py3-none-any.whl.metadata (4.8 kB)\n",
      "Collecting lz4>=4.3.2 (from dask[complete]<2025.0.1,>=2024.4.1->datamapplot)\n",
      "  Obtaining dependency information for lz4>=4.3.2 from https://files.pythonhosted.org/packages/07/f0/9efe53b4945441a5d2790d455134843ad86739855b7e6199977bf6dc8898/lz4-4.4.4-cp311-cp311-win_amd64.whl.metadata\n",
      "  Downloading lz4-4.4.4-cp311-cp311-win_amd64.whl.metadata (3.9 kB)\n",
      "Collecting multipledispatch (from datashader>=0.16->datamapplot)\n",
      "  Obtaining dependency information for multipledispatch from https://files.pythonhosted.org/packages/51/c0/00c9809d8b9346eb238a6bbd5f83e846a4ce4503da94a4c08cb7284c325b/multipledispatch-1.0.0-py3-none-any.whl.metadata\n",
      "  Downloading multipledispatch-1.0.0-py3-none-any.whl.metadata (3.8 kB)\n",
      "Collecting param (from datashader>=0.16->datamapplot)\n",
      "  Obtaining dependency information for param from https://files.pythonhosted.org/packages/6a/57/2b46b199482bbaaade2f978164577cf7c2fdc2782a7caf29fabd5265a84f/param-2.2.1-py3-none-any.whl.metadata\n",
      "  Downloading param-2.2.1-py3-none-any.whl.metadata (6.6 kB)\n",
      "Collecting pyct (from datashader>=0.16->datamapplot)\n",
      "  Obtaining dependency information for pyct from https://files.pythonhosted.org/packages/75/e7/c7c1e9e1b6b23ca1db7af3c6826d57d8da883021f751edcc9c82143b127a/pyct-0.5.0-py2.py3-none-any.whl.metadata\n",
      "  Downloading pyct-0.5.0-py2.py3-none-any.whl.metadata (7.4 kB)\n",
      "Requirement already satisfied: scipy in c:\\users\\ptpl-648\\desktop\\hands_on_llm\\.venv\\lib\\site-packages (from datashader>=0.16->datamapplot) (1.10.1)\n",
      "Collecting xarray (from datashader>=0.16->datamapplot)\n",
      "  Obtaining dependency information for xarray from https://files.pythonhosted.org/packages/e6/c8/0f8db9d9478de8d70cbcae2056588401e26168e269d6d9919bf2ecb01f78/xarray-2025.8.0-py3-none-any.whl.metadata\n",
      "  Downloading xarray-2025.8.0-py3-none-any.whl.metadata (12 kB)\n",
      "Requirement already satisfied: aiohttp!=4.0.0a0,!=4.0.0a1 in c:\\users\\ptpl-648\\desktop\\hands_on_llm\\.venv\\lib\\site-packages (from fsspec[http]<=2025.3.0,>=2023.1.0->datasets) (3.12.15)\n",
      "Requirement already satisfied: joblib>=1.0 in c:\\users\\ptpl-648\\desktop\\hands_on_llm\\.venv\\lib\\site-packages (from hdbscan>=0.8.29->bertopic) (1.5.1)\n",
      "Requirement already satisfied: certifi in c:\\users\\ptpl-648\\desktop\\hands_on_llm\\.venv\\lib\\site-packages (from httpx<1,>=0.23.0->openai) (2025.8.3)\n",
      "Requirement already satisfied: httpcore==1.* in c:\\users\\ptpl-648\\desktop\\hands_on_llm\\.venv\\lib\\site-packages (from httpx<1,>=0.23.0->openai) (1.0.9)\n",
      "Requirement already satisfied: h11>=0.16 in c:\\users\\ptpl-648\\desktop\\hands_on_llm\\.venv\\lib\\site-packages (from httpcore==1.*->httpx<1,>=0.23.0->openai) (0.16.0)\n",
      "Collecting contourpy>=1.0.1 (from matplotlib>=3.8->datamapplot)\n",
      "  Obtaining dependency information for contourpy>=1.0.1 from https://files.pythonhosted.org/packages/98/4b/9bd370b004b5c9d8045c6c33cf65bae018b27aca550a3f657cdc99acdbd8/contourpy-1.3.3-cp311-cp311-win_amd64.whl.metadata\n",
      "  Downloading contourpy-1.3.3-cp311-cp311-win_amd64.whl.metadata (5.5 kB)\n",
      "Collecting cycler>=0.10 (from matplotlib>=3.8->datamapplot)\n",
      "  Obtaining dependency information for cycler>=0.10 from https://files.pythonhosted.org/packages/e7/05/c19819d5e3d95294a6f5947fb9b9629efb316b96de511b418c53d245aae6/cycler-0.12.1-py3-none-any.whl.metadata\n",
      "  Downloading cycler-0.12.1-py3-none-any.whl.metadata (3.8 kB)\n",
      "Collecting fonttools>=4.22.0 (from matplotlib>=3.8->datamapplot)\n",
      "  Obtaining dependency information for fonttools>=4.22.0 from https://files.pythonhosted.org/packages/94/bd/e2624d06ab94e41c7c77727b2941f1baed7edb647e63503953e6888020c9/fonttools-4.59.1-cp311-cp311-win_amd64.whl.metadata\n",
      "  Downloading fonttools-4.59.1-cp311-cp311-win_amd64.whl.metadata (111 kB)\n",
      "     ---------------------------------------- 0.0/111.1 kB ? eta -:--:--\n",
      "     ---------------------------------------- 111.1/111.1 kB ? eta 0:00:00\n",
      "Collecting kiwisolver>=1.3.1 (from matplotlib>=3.8->datamapplot)\n",
      "  Obtaining dependency information for kiwisolver>=1.3.1 from https://files.pythonhosted.org/packages/3b/c6/f8df8509fd1eee6c622febe54384a96cfaf4d43bf2ccec7a0cc17e4715c9/kiwisolver-1.4.9-cp311-cp311-win_amd64.whl.metadata\n",
      "  Downloading kiwisolver-1.4.9-cp311-cp311-win_amd64.whl.metadata (6.4 kB)\n",
      "Requirement already satisfied: pillow>=8 in c:\\users\\ptpl-648\\desktop\\hands_on_llm\\.venv\\lib\\site-packages (from matplotlib>=3.8->datamapplot) (11.3.0)\n",
      "Collecting pyparsing>=2.3.1 (from matplotlib>=3.8->datamapplot)\n",
      "  Obtaining dependency information for pyparsing>=2.3.1 from https://files.pythonhosted.org/packages/05/e7/df2285f3d08fee213f2d041540fa4fc9ca6c2d44cf36d3a035bf2a8d2bcc/pyparsing-3.2.3-py3-none-any.whl.metadata\n",
      "  Downloading pyparsing-3.2.3-py3-none-any.whl.metadata (5.0 kB)\n",
      "Requirement already satisfied: python-dateutil>=2.7 in c:\\users\\ptpl-648\\desktop\\hands_on_llm\\.venv\\lib\\site-packages (from matplotlib>=3.8->datamapplot) (2.9.0.post0)\n",
      "Requirement already satisfied: pytz>=2020.1 in c:\\users\\ptpl-648\\desktop\\hands_on_llm\\.venv\\lib\\site-packages (from pandas>=1.1.5->bertopic) (2025.2)\n",
      "Requirement already satisfied: tzdata>=2022.7 in c:\\users\\ptpl-648\\desktop\\hands_on_llm\\.venv\\lib\\site-packages (from pandas>=1.1.5->bertopic) (2025.2)\n",
      "Collecting narwhals>=1.15.1 (from plotly>=4.7.0->bertopic)\n",
      "  Obtaining dependency information for narwhals>=1.15.1 from https://files.pythonhosted.org/packages/a8/01/824fff6789ce92a53242d24b6f5f3a982df2f610c51020f934bf878d2a99/narwhals-2.1.2-py3-none-any.whl.metadata\n",
      "  Downloading narwhals-2.1.2-py3-none-any.whl.metadata (11 kB)\n",
      "Requirement already satisfied: annotated-types>=0.6.0 in c:\\users\\ptpl-648\\desktop\\hands_on_llm\\.venv\\lib\\site-packages (from pydantic<3,>=1.9.0->openai) (0.7.0)\n",
      "Requirement already satisfied: pydantic-core==2.33.2 in c:\\users\\ptpl-648\\desktop\\hands_on_llm\\.venv\\lib\\site-packages (from pydantic<3,>=1.9.0->openai) (2.33.2)\n",
      "Requirement already satisfied: typing-inspection>=0.4.0 in c:\\users\\ptpl-648\\desktop\\hands_on_llm\\.venv\\lib\\site-packages (from pydantic<3,>=1.9.0->openai) (0.4.1)\n",
      "Requirement already satisfied: charset_normalizer<4,>=2 in c:\\users\\ptpl-648\\desktop\\hands_on_llm\\.venv\\lib\\site-packages (from requests>=2.32.2->datasets) (3.4.3)\n",
      "Requirement already satisfied: urllib3<3,>=1.21.1 in c:\\users\\ptpl-648\\desktop\\hands_on_llm\\.venv\\lib\\site-packages (from requests>=2.32.2->datasets) (2.5.0)\n",
      "Collecting scipy (from datashader>=0.16->datamapplot)\n",
      "  Obtaining dependency information for scipy from https://files.pythonhosted.org/packages/c4/94/994369978509f227cba7dfb9e623254d0d5559506fe994aef4bea3ed469c/scipy-1.16.1-cp311-cp311-win_amd64.whl.metadata\n",
      "  Downloading scipy-1.16.1-cp311-cp311-win_amd64.whl.metadata (60 kB)\n",
      "     ---------------------------------------- 0.0/60.8 kB ? eta -:--:--\n",
      "     ---------------------------------------- 60.8/60.8 kB ? eta 0:00:00\n",
      "Requirement already satisfied: networkx>=3.0 in c:\\users\\ptpl-648\\desktop\\hands_on_llm\\.venv\\lib\\site-packages (from scikit-image>=0.22->datamapplot) (3.5)\n",
      "Collecting imageio!=2.35.0,>=2.33 (from scikit-image>=0.22->datamapplot)\n",
      "  Obtaining dependency information for imageio!=2.35.0,>=2.33 from https://files.pythonhosted.org/packages/cb/bd/b394387b598ed84d8d0fa90611a90bee0adc2021820ad5729f7ced74a8e2/imageio-2.37.0-py3-none-any.whl.metadata\n",
      "  Downloading imageio-2.37.0-py3-none-any.whl.metadata (5.2 kB)\n",
      "Collecting tifffile>=2022.8.12 (from scikit-image>=0.22->datamapplot)\n",
      "  Obtaining dependency information for tifffile>=2022.8.12 from https://files.pythonhosted.org/packages/3a/d8/1ba8f32bfc9cb69e37edeca93738e883f478fbe84ae401f72c0d8d507841/tifffile-2025.6.11-py3-none-any.whl.metadata\n",
      "  Downloading tifffile-2025.6.11-py3-none-any.whl.metadata (32 kB)\n",
      "Collecting lazy-loader>=0.4 (from scikit-image>=0.22->datamapplot)\n",
      "  Obtaining dependency information for lazy-loader>=0.4 from https://files.pythonhosted.org/packages/83/60/d497a310bde3f01cb805196ac61b7ad6dc5dcf8dce66634dc34364b20b4f/lazy_loader-0.4-py3-none-any.whl.metadata\n",
      "  Downloading lazy_loader-0.4-py3-none-any.whl.metadata (7.6 kB)\n",
      "Requirement already satisfied: threadpoolctl>=3.1.0 in c:\\users\\ptpl-648\\desktop\\hands_on_llm\\.venv\\lib\\site-packages (from scikit-learn>=1.0->bertopic) (3.6.0)\n",
      "Requirement already satisfied: transformers<5.0.0,>=4.34.0 in c:\\users\\ptpl-648\\desktop\\hands_on_llm\\.venv\\lib\\site-packages (from sentence-transformers>=0.4.1->bertopic) (4.41.2)\n",
      "Requirement already satisfied: torch>=1.11.0 in c:\\users\\ptpl-648\\desktop\\hands_on_llm\\.venv\\lib\\site-packages (from sentence-transformers>=0.4.1->bertopic) (2.8.0)\n",
      "Requirement already satisfied: colorama in c:\\users\\ptpl-648\\desktop\\hands_on_llm\\.venv\\lib\\site-packages (from tqdm>=4.41.1->bertopic) (0.4.6)\n",
      "Collecting scikit-learn>=1.0 (from bertopic)\n",
      "  Obtaining dependency information for scikit-learn>=1.0 from https://files.pythonhosted.org/packages/b2/3b/47b5eaee01ef2b5a80ba3f7f6ecf79587cb458690857d4777bfd77371c6f/scikit_learn-1.7.1-cp311-cp311-win_amd64.whl.metadata\n",
      "  Downloading scikit_learn-1.7.1-cp311-cp311-win_amd64.whl.metadata (11 kB)\n",
      "Collecting pynndescent>=0.5 (from umap-learn>=0.5.0->bertopic)\n",
      "  Obtaining dependency information for pynndescent>=0.5 from https://files.pythonhosted.org/packages/d2/53/d23a97e0a2c690d40b165d1062e2c4ccc796be458a1ce59f6ba030434663/pynndescent-0.5.13-py3-none-any.whl.metadata\n",
      "  Downloading pynndescent-0.5.13-py3-none-any.whl.metadata (6.8 kB)\n",
      "Requirement already satisfied: MarkupSafe>=2.0 in c:\\users\\ptpl-648\\desktop\\hands_on_llm\\.venv\\lib\\site-packages (from jinja2->datamapplot) (3.0.2)\n",
      "Collecting Pyqtree<2.0.0,>=1.0.0 (from pylabeladjust->datamapplot)\n",
      "  Downloading Pyqtree-1.0.0.tar.gz (5.2 kB)\n",
      "  Installing build dependencies: started\n",
      "  Installing build dependencies: finished with status 'done'\n",
      "  Getting requirements to build wheel: started\n",
      "  Getting requirements to build wheel: finished with status 'done'\n",
      "  Preparing metadata (pyproject.toml): started\n",
      "  Preparing metadata (pyproject.toml): finished with status 'done'\n",
      "Requirement already satisfied: aiohappyeyeballs>=2.5.0 in c:\\users\\ptpl-648\\desktop\\hands_on_llm\\.venv\\lib\\site-packages (from aiohttp!=4.0.0a0,!=4.0.0a1->fsspec[http]<=2025.3.0,>=2023.1.0->datasets) (2.6.1)\n",
      "Requirement already satisfied: aiosignal>=1.4.0 in c:\\users\\ptpl-648\\desktop\\hands_on_llm\\.venv\\lib\\site-packages (from aiohttp!=4.0.0a0,!=4.0.0a1->fsspec[http]<=2025.3.0,>=2023.1.0->datasets) (1.4.0)\n",
      "Requirement already satisfied: attrs>=17.3.0 in c:\\users\\ptpl-648\\desktop\\hands_on_llm\\.venv\\lib\\site-packages (from aiohttp!=4.0.0a0,!=4.0.0a1->fsspec[http]<=2025.3.0,>=2023.1.0->datasets) (25.3.0)\n",
      "Requirement already satisfied: frozenlist>=1.1.1 in c:\\users\\ptpl-648\\desktop\\hands_on_llm\\.venv\\lib\\site-packages (from aiohttp!=4.0.0a0,!=4.0.0a1->fsspec[http]<=2025.3.0,>=2023.1.0->datasets) (1.7.0)\n",
      "Requirement already satisfied: multidict<7.0,>=4.5 in c:\\users\\ptpl-648\\desktop\\hands_on_llm\\.venv\\lib\\site-packages (from aiohttp!=4.0.0a0,!=4.0.0a1->fsspec[http]<=2025.3.0,>=2023.1.0->datasets) (6.6.4)\n",
      "Requirement already satisfied: propcache>=0.2.0 in c:\\users\\ptpl-648\\desktop\\hands_on_llm\\.venv\\lib\\site-packages (from aiohttp!=4.0.0a0,!=4.0.0a1->fsspec[http]<=2025.3.0,>=2023.1.0->datasets) (0.3.2)\n",
      "Requirement already satisfied: yarl<2.0,>=1.17.0 in c:\\users\\ptpl-648\\desktop\\hands_on_llm\\.venv\\lib\\site-packages (from aiohttp!=4.0.0a0,!=4.0.0a1->fsspec[http]<=2025.3.0,>=2023.1.0->datasets) (1.20.1)\n",
      "Collecting zipp>=3.20 (from importlib_metadata>=4.13.0->dask[complete]<2025.0.1,>=2024.4.1->datamapplot)\n",
      "  Obtaining dependency information for zipp>=3.20 from https://files.pythonhosted.org/packages/2e/54/647ade08bf0db230bfea292f893923872fd20be6ac6f53b2b936ba839d75/zipp-3.23.0-py3-none-any.whl.metadata\n",
      "  Downloading zipp-3.23.0-py3-none-any.whl.metadata (3.6 kB)\n",
      "Collecting locket (from partd>=1.4.0->dask[complete]<2025.0.1,>=2024.4.1->datamapplot)\n",
      "  Obtaining dependency information for locket from https://files.pythonhosted.org/packages/db/bc/83e112abc66cd466c6b83f99118035867cecd41802f8d044638aa78a106e/locket-1.0.0-py2.py3-none-any.whl.metadata\n",
      "  Downloading locket-1.0.0-py2.py3-none-any.whl.metadata (2.8 kB)\n",
      "Requirement already satisfied: six>=1.5 in c:\\users\\ptpl-648\\desktop\\hands_on_llm\\.venv\\lib\\site-packages (from python-dateutil>=2.7->matplotlib>=3.8->datamapplot) (1.17.0)\n",
      "Requirement already satisfied: sympy>=1.13.3 in c:\\users\\ptpl-648\\desktop\\hands_on_llm\\.venv\\lib\\site-packages (from torch>=1.11.0->sentence-transformers>=0.4.1->bertopic) (1.14.0)\n",
      "Requirement already satisfied: regex!=2019.12.17 in c:\\users\\ptpl-648\\desktop\\hands_on_llm\\.venv\\lib\\site-packages (from transformers<5.0.0,>=4.34.0->sentence-transformers>=0.4.1->bertopic) (2025.7.34)\n",
      "Requirement already satisfied: tokenizers<0.20,>=0.19 in c:\\users\\ptpl-648\\desktop\\hands_on_llm\\.venv\\lib\\site-packages (from transformers<5.0.0,>=4.34.0->sentence-transformers>=0.4.1->bertopic) (0.19.1)\n",
      "Requirement already satisfied: safetensors>=0.4.1 in c:\\users\\ptpl-648\\desktop\\hands_on_llm\\.venv\\lib\\site-packages (from transformers<5.0.0,>=4.34.0->sentence-transformers>=0.4.1->bertopic) (0.6.2)\n",
      "Collecting dask-expr<1.2,>=1.1 (from dask[complete]<2025.0.1,>=2024.4.1->datamapplot)\n",
      "  Obtaining dependency information for dask-expr<1.2,>=1.1 from https://files.pythonhosted.org/packages/a9/99/60c73ccb5a272ff396bc766bfa3c9caa71484424983f0334070263a16581/dask_expr-1.1.21-py3-none-any.whl.metadata\n",
      "  Downloading dask_expr-1.1.21-py3-none-any.whl.metadata (2.6 kB)\n",
      "Collecting distributed==2024.12.1 (from dask[complete]<2025.0.1,>=2024.4.1->datamapplot)\n",
      "  Obtaining dependency information for distributed==2024.12.1 from https://files.pythonhosted.org/packages/e8/90/82171cc7fe1c6d10bac57587c7ac012be80412ad06ef8c4952c5f067f869/distributed-2024.12.1-py3-none-any.whl.metadata\n",
      "  Downloading distributed-2024.12.1-py3-none-any.whl.metadata (3.3 kB)\n",
      "Collecting bokeh>=3.1.0 (from dask[complete]<2025.0.1,>=2024.4.1->datamapplot)\n",
      "  Obtaining dependency information for bokeh>=3.1.0 from https://files.pythonhosted.org/packages/91/48/08b2382e739236aa3360b7976360ba3e0c043b6234e25951c18c1eb6fa06/bokeh-3.7.3-py3-none-any.whl.metadata\n",
      "  Downloading bokeh-3.7.3-py3-none-any.whl.metadata (12 kB)\n",
      "Collecting msgpack>=1.0.2 (from distributed==2024.12.1->dask[complete]<2025.0.1,>=2024.4.1->datamapplot)\n",
      "  Obtaining dependency information for msgpack>=1.0.2 from https://files.pythonhosted.org/packages/48/45/9d1780768d3b249accecc5a38c725eb1e203d44a191f7b7ff1941f7df60c/msgpack-1.1.1-cp311-cp311-win_amd64.whl.metadata\n",
      "  Downloading msgpack-1.1.1-cp311-cp311-win_amd64.whl.metadata (8.6 kB)\n",
      "Requirement already satisfied: psutil>=5.8.0 in c:\\users\\ptpl-648\\desktop\\hands_on_llm\\.venv\\lib\\site-packages (from distributed==2024.12.1->dask[complete]<2025.0.1,>=2024.4.1->datamapplot) (7.0.0)\n",
      "Collecting sortedcontainers>=2.0.5 (from distributed==2024.12.1->dask[complete]<2025.0.1,>=2024.4.1->datamapplot)\n",
      "  Obtaining dependency information for sortedcontainers>=2.0.5 from https://files.pythonhosted.org/packages/32/46/9cb0e58b2deb7f82b84065f37f3bffeb12413f947f9388e4cac22c4621ce/sortedcontainers-2.4.0-py2.py3-none-any.whl.metadata\n",
      "  Downloading sortedcontainers-2.4.0-py2.py3-none-any.whl.metadata (10 kB)\n",
      "Collecting tblib>=1.6.0 (from distributed==2024.12.1->dask[complete]<2025.0.1,>=2024.4.1->datamapplot)\n",
      "  Obtaining dependency information for tblib>=1.6.0 from https://files.pythonhosted.org/packages/27/44/aa5c8b10b2cce7a053018e0d132bd58e27527a0243c4985383d5b6fd93e9/tblib-3.1.0-py3-none-any.whl.metadata\n",
      "  Downloading tblib-3.1.0-py3-none-any.whl.metadata (25 kB)\n",
      "Requirement already satisfied: tornado>=6.2.0 in c:\\users\\ptpl-648\\desktop\\hands_on_llm\\.venv\\lib\\site-packages (from distributed==2024.12.1->dask[complete]<2025.0.1,>=2024.4.1->datamapplot) (6.5.2)\n",
      "Collecting zict>=3.0.0 (from distributed==2024.12.1->dask[complete]<2025.0.1,>=2024.4.1->datamapplot)\n",
      "  Obtaining dependency information for zict>=3.0.0 from https://files.pythonhosted.org/packages/80/ab/11a76c1e2126084fde2639514f24e6111b789b0bfa4fc6264a8975c7e1f1/zict-3.0.0-py2.py3-none-any.whl.metadata\n",
      "  Downloading zict-3.0.0-py2.py3-none-any.whl.metadata (899 bytes)\n",
      "Collecting xyzservices>=2021.09.1 (from bokeh>=3.1.0->dask[complete]<2025.0.1,>=2024.4.1->datamapplot)\n",
      "  Obtaining dependency information for xyzservices>=2021.09.1 from https://files.pythonhosted.org/packages/d6/7d/b77455d7c7c51255b2992b429107fab811b2e36ceaf76da1e55a045dc568/xyzservices-2025.4.0-py3-none-any.whl.metadata\n",
      "  Downloading xyzservices-2025.4.0-py3-none-any.whl.metadata (4.3 kB)\n",
      "Requirement already satisfied: mpmath<1.4,>=1.1.0 in c:\\users\\ptpl-648\\desktop\\hands_on_llm\\.venv\\lib\\site-packages (from sympy>=1.13.3->torch>=1.11.0->sentence-transformers>=0.4.1->bertopic) (1.3.0)\n",
      "Downloading bertopic-0.17.3-py3-none-any.whl (153 kB)\n",
      "   ---------------------------------------- 0.0/153.0 kB ? eta -:--:--\n",
      "   ---------------------------------------- 153.0/153.0 kB 8.9 MB/s eta 0:00:00\n",
      "Downloading datamapplot-0.6.3-py3-none-any.whl (163 kB)\n",
      "   ---------------------------------------- 0.0/163.5 kB ? eta -:--:--\n",
      "   ---------------------------------------- 163.5/163.5 kB 9.6 MB/s eta 0:00:00\n",
      "Downloading colorspacious-1.1.2-py2.py3-none-any.whl (37 kB)\n",
      "Downloading datashader-0.18.2-py3-none-any.whl (18.3 MB)\n",
      "   ---------------------------------------- 0.0/18.3 MB ? eta -:--:--\n",
      "   -- ------------------------------------- 1.0/18.3 MB 30.7 MB/s eta 0:00:01\n",
      "   --- ------------------------------------ 1.5/18.3 MB 18.6 MB/s eta 0:00:01\n",
      "   ----- ---------------------------------- 2.5/18.3 MB 19.9 MB/s eta 0:00:01\n",
      "   ------- -------------------------------- 3.3/18.3 MB 17.3 MB/s eta 0:00:01\n",
      "   ----------- ---------------------------- 5.1/18.3 MB 21.7 MB/s eta 0:00:01\n",
      "   --------------- ------------------------ 7.2/18.3 MB 25.4 MB/s eta 0:00:01\n",
      "   -------------------- ------------------- 9.4/18.3 MB 28.7 MB/s eta 0:00:01\n",
      "   ------------------------- -------------- 11.8/18.3 MB 38.5 MB/s eta 0:00:01\n",
      "   ------------------------------ --------- 14.2/18.3 MB 46.7 MB/s eta 0:00:01\n",
      "   ----------------------------------- ---- 16.3/18.3 MB 46.7 MB/s eta 0:00:01\n",
      "   ---------------------------------------  18.3/18.3 MB 50.4 MB/s eta 0:00:01\n",
      "   ---------------------------------------- 18.3/18.3 MB 40.9 MB/s eta 0:00:00\n",
      "Downloading hdbscan-0.8.40-cp311-cp311-win_amd64.whl (732 kB)\n",
      "   ---------------------------------------- 0.0/732.2 kB ? eta -:--:--\n",
      "   --------------------------------------- 732.2/732.2 kB 23.3 MB/s eta 0:00:00\n",
      "Downloading llvmlite-0.44.0-cp311-cp311-win_amd64.whl (30.3 MB)\n",
      "   ---------------------------------------- 0.0/30.3 MB ? eta -:--:--\n",
      "   -- ------------------------------------- 1.9/30.3 MB 40.7 MB/s eta 0:00:01\n",
      "   ----- ---------------------------------- 4.0/30.3 MB 42.4 MB/s eta 0:00:01\n",
      "   ------- -------------------------------- 6.1/30.3 MB 43.2 MB/s eta 0:00:01\n",
      "   ----------- ---------------------------- 8.5/30.3 MB 45.5 MB/s eta 0:00:01\n",
      "   -------------- ------------------------- 11.3/30.3 MB 46.7 MB/s eta 0:00:01\n",
      "   ------------------ --------------------- 14.0/30.3 MB 54.4 MB/s eta 0:00:01\n",
      "   --------------------- ------------------ 16.2/30.3 MB 54.4 MB/s eta 0:00:01\n",
      "   --------------------- ------------------ 16.6/30.3 MB 43.5 MB/s eta 0:00:01\n",
      "   ----------------------- ---------------- 17.8/30.3 MB 38.6 MB/s eta 0:00:01\n",
      "   ------------------------- -------------- 19.2/30.3 MB 36.4 MB/s eta 0:00:01\n",
      "   ---------------------------- ----------- 21.6/30.3 MB 36.4 MB/s eta 0:00:01\n",
      "   ------------------------------- -------- 24.2/30.3 MB 36.4 MB/s eta 0:00:01\n",
      "   ---------------------------------- ----- 26.4/30.3 MB 36.4 MB/s eta 0:00:01\n",
      "   ------------------------------------- -- 28.8/30.3 MB 54.7 MB/s eta 0:00:01\n",
      "   ---------------------------------------  30.3/30.3 MB 59.8 MB/s eta 0:00:01\n",
      "   ---------------------------------------  30.3/30.3 MB 59.8 MB/s eta 0:00:01\n",
      "   ---------------------------------------- 30.3/30.3 MB 40.9 MB/s eta 0:00:00\n",
      "Downloading matplotlib-3.10.5-cp311-cp311-win_amd64.whl (8.1 MB)\n",
      "   ---------------------------------------- 0.0/8.1 MB ? eta -:--:--\n",
      "   ---------- ----------------------------- 2.1/8.1 MB 44.2 MB/s eta 0:00:01\n",
      "   --------------------- ------------------ 4.3/8.1 MB 45.9 MB/s eta 0:00:01\n",
      "   ------------------------------- -------- 6.5/8.1 MB 45.8 MB/s eta 0:00:01\n",
      "   ---------------------------------------  8.1/8.1 MB 47.0 MB/s eta 0:00:01\n",
      "   ---------------------------------------- 8.1/8.1 MB 39.9 MB/s eta 0:00:00\n",
      "Downloading numba-0.61.2-cp311-cp311-win_amd64.whl (2.8 MB)\n",
      "   ---------------------------------------- 0.0/2.8 MB ? eta -:--:--\n",
      "   --------------- ------------------------ 1.1/2.8 MB 66.6 MB/s eta 0:00:01\n",
      "   ---------------------------------------- 2.8/2.8 MB 44.8 MB/s eta 0:00:00\n",
      "Downloading plotly-6.3.0-py3-none-any.whl (9.8 MB)\n",
      "   ---------------------------------------- 0.0/9.8 MB ? eta -:--:--\n",
      "   --- ------------------------------------ 0.9/9.8 MB 53.8 MB/s eta 0:00:01\n",
      "   ---------- ----------------------------- 2.7/9.8 MB 42.6 MB/s eta 0:00:01\n",
      "   -------------------- ------------------- 5.0/9.8 MB 45.6 MB/s eta 0:00:01\n",
      "   ------------------------- -------------- 6.3/9.8 MB 40.4 MB/s eta 0:00:01\n",
      "   -------------------------------- ------- 8.1/9.8 MB 39.7 MB/s eta 0:00:01\n",
      "   ---------------------------------------  9.8/9.8 MB 39.1 MB/s eta 0:00:01\n",
      "   ---------------------------------------- 9.8/9.8 MB 34.8 MB/s eta 0:00:00\n",
      "Downloading scikit_image-0.25.2-cp311-cp311-win_amd64.whl (12.8 MB)\n",
      "   ---------------------------------------- 0.0/12.8 MB ? eta -:--:--\n",
      "   ---- ----------------------------------- 1.4/12.8 MB 45.6 MB/s eta 0:00:01\n",
      "   --------- ------------------------------ 3.1/12.8 MB 39.5 MB/s eta 0:00:01\n",
      "   -------------- ------------------------- 4.6/12.8 MB 36.7 MB/s eta 0:00:01\n",
      "   -------------------- ------------------- 6.7/12.8 MB 38.8 MB/s eta 0:00:01\n",
      "   --------------------------- ------------ 8.7/12.8 MB 39.5 MB/s eta 0:00:01\n",
      "   ---------------------------------- ----- 11.1/12.8 MB 40.9 MB/s eta 0:00:01\n",
      "   ---------------------------------------  12.8/12.8 MB 46.7 MB/s eta 0:00:01\n",
      "   ---------------------------------------- 12.8/12.8 MB 38.4 MB/s eta 0:00:00\n",
      "Downloading umap_learn-0.5.9.post2-py3-none-any.whl (90 kB)\n",
      "   ---------------------------------------- 0.0/90.1 kB ? eta -:--:--\n",
      "   ---------------------------------------- 90.1/90.1 kB ? eta 0:00:00\n",
      "Downloading scikit_learn-1.7.1-cp311-cp311-win_amd64.whl (8.9 MB)\n",
      "   ---------------------------------------- 0.0/8.9 MB ? eta -:--:--\n",
      "   ------- -------------------------------- 1.6/8.9 MB 51.2 MB/s eta 0:00:01\n",
      "   ----------------- ---------------------- 3.8/8.9 MB 48.3 MB/s eta 0:00:01\n",
      "   ---------------------------- ----------- 6.3/8.9 MB 50.7 MB/s eta 0:00:01\n",
      "   --------------------------------- ------ 7.5/8.9 MB 43.8 MB/s eta 0:00:01\n",
      "   -------------------------------------- - 8.6/8.9 MB 39.4 MB/s eta 0:00:01\n",
      "   ---------------------------------------- 8.9/8.9 MB 33.5 MB/s eta 0:00:00\n",
      "Downloading colorcet-3.1.0-py3-none-any.whl (260 kB)\n",
      "   ---------------------------------------- 0.0/260.3 kB ? eta -:--:--\n",
      "   ---------------------------------------- 260.3/260.3 kB ? eta 0:00:00\n",
      "Downloading importlib_resources-6.5.2-py3-none-any.whl (37 kB)\n",
      "Downloading pylabeladjust-0.1.13-py3-none-any.whl (19 kB)\n",
      "Downloading click-8.2.1-py3-none-any.whl (102 kB)\n",
      "   ---------------------------------------- 0.0/102.2 kB ? eta -:--:--\n",
      "   ---------------------------------------- 102.2/102.2 kB ? eta 0:00:00\n",
      "Downloading cloudpickle-3.1.1-py3-none-any.whl (20 kB)\n",
      "Downloading contourpy-1.3.3-cp311-cp311-win_amd64.whl (225 kB)\n",
      "   ---------------------------------------- 0.0/225.2 kB ? eta -:--:--\n",
      "   ---------------------------------------- 225.2/225.2 kB ? eta 0:00:00\n",
      "Downloading cycler-0.12.1-py3-none-any.whl (8.3 kB)\n",
      "Downloading fonttools-4.59.1-cp311-cp311-win_amd64.whl (2.3 MB)\n",
      "   ---------------------------------------- 0.0/2.3 MB ? eta -:--:--\n",
      "   --------------------------------- ------ 1.9/2.3 MB 39.7 MB/s eta 0:00:01\n",
      "   ---------------------------------------- 2.3/2.3 MB 35.8 MB/s eta 0:00:00\n",
      "Downloading imageio-2.37.0-py3-none-any.whl (315 kB)\n",
      "   ---------------------------------------- 0.0/315.8 kB ? eta -:--:--\n",
      "   --------------------------------------- 315.8/315.8 kB 19.1 MB/s eta 0:00:00\n",
      "Downloading importlib_metadata-8.7.0-py3-none-any.whl (27 kB)\n",
      "Downloading kiwisolver-1.4.9-cp311-cp311-win_amd64.whl (73 kB)\n",
      "   ---------------------------------------- 0.0/73.8 kB ? eta -:--:--\n",
      "   ---------------------------------------- 73.8/73.8 kB ? eta 0:00:00\n",
      "Downloading lazy_loader-0.4-py3-none-any.whl (12 kB)\n",
      "Downloading lz4-4.4.4-cp311-cp311-win_amd64.whl (99 kB)\n",
      "   ---------------------------------------- 0.0/99.9 kB ? eta -:--:--\n",
      "   ---------------------------------------- 99.9/99.9 kB 6.0 MB/s eta 0:00:00\n",
      "Downloading narwhals-2.1.2-py3-none-any.whl (392 kB)\n",
      "   ---------------------------------------- 0.0/392.1 kB ? eta -:--:--\n",
      "   --------------------------------------- 392.1/392.1 kB 23.9 MB/s eta 0:00:00\n",
      "Downloading partd-1.4.2-py3-none-any.whl (18 kB)\n",
      "Downloading pynndescent-0.5.13-py3-none-any.whl (56 kB)\n",
      "   ---------------------------------------- 0.0/56.9 kB ? eta -:--:--\n",
      "   ---------------------------------------- 56.9/56.9 kB ? eta 0:00:00\n",
      "Downloading pyparsing-3.2.3-py3-none-any.whl (111 kB)\n",
      "   ---------------------------------------- 0.0/111.1 kB ? eta -:--:--\n",
      "   ---------------------------------------- 111.1/111.1 kB 6.7 MB/s eta 0:00:00\n",
      "Downloading scipy-1.16.1-cp311-cp311-win_amd64.whl (38.6 MB)\n",
      "   ---------------------------------------- 0.0/38.6 MB ? eta -:--:--\n",
      "   - -------------------------------------- 1.8/38.6 MB 57.8 MB/s eta 0:00:01\n",
      "   --- ------------------------------------ 3.8/38.6 MB 49.1 MB/s eta 0:00:01\n",
      "   ------ --------------------------------- 6.2/38.6 MB 49.3 MB/s eta 0:00:01\n",
      "   -------- ------------------------------- 7.8/38.6 MB 45.5 MB/s eta 0:00:01\n",
      "   ---------- ----------------------------- 10.2/38.6 MB 46.6 MB/s eta 0:00:01\n",
      "   ------------ --------------------------- 12.5/38.6 MB 46.7 MB/s eta 0:00:01\n",
      "   -------------- ------------------------- 14.1/38.6 MB 43.7 MB/s eta 0:00:01\n",
      "   ---------------- ----------------------- 16.2/38.6 MB 43.7 MB/s eta 0:00:01\n",
      "   ------------------ --------------------- 17.7/38.6 MB 40.9 MB/s eta 0:00:01\n",
      "   -------------------- ------------------- 19.3/38.6 MB 38.5 MB/s eta 0:00:01\n",
      "   --------------------- ------------------ 20.5/38.6 MB 36.4 MB/s eta 0:00:01\n",
      "   ---------------------- ----------------- 21.4/38.6 MB 32.7 MB/s eta 0:00:01\n",
      "   ----------------------- ---------------- 22.6/38.6 MB 31.2 MB/s eta 0:00:01\n",
      "   ------------------------ --------------- 23.8/38.6 MB 28.4 MB/s eta 0:00:01\n",
      "   ------------------------- -------------- 24.5/38.6 MB 27.3 MB/s eta 0:00:01\n",
      "   ------------------------- -------------- 24.7/38.6 MB 25.2 MB/s eta 0:00:01\n",
      "   -------------------------- ------------- 25.2/38.6 MB 22.6 MB/s eta 0:00:01\n",
      "   -------------------------- ------------- 25.8/38.6 MB 21.1 MB/s eta 0:00:01\n",
      "   --------------------------- ------------ 26.5/38.6 MB 19.8 MB/s eta 0:00:01\n",
      "   ---------------------------- ----------- 27.9/38.6 MB 19.8 MB/s eta 0:00:01\n",
      "   ------------------------------ --------- 29.2/38.6 MB 19.2 MB/s eta 0:00:01\n",
      "   ------------------------------- -------- 30.6/38.6 MB 19.8 MB/s eta 0:00:01\n",
      "   -------------------------------- ------- 31.7/38.6 MB 19.9 MB/s eta 0:00:01\n",
      "   ---------------------------------- ----- 32.9/38.6 MB 19.9 MB/s eta 0:00:01\n",
      "   ----------------------------------- ---- 34.2/38.6 MB 19.9 MB/s eta 0:00:01\n",
      "   ------------------------------------ --- 34.9/38.6 MB 21.8 MB/s eta 0:00:01\n",
      "   ------------------------------------ --- 35.5/38.6 MB 21.8 MB/s eta 0:00:01\n",
      "   ------------------------------------- -- 36.0/38.6 MB 21.8 MB/s eta 0:00:01\n",
      "   ------------------------------------- -- 36.5/38.6 MB 21.8 MB/s eta 0:00:01\n",
      "   -------------------------------------- - 37.4/38.6 MB 21.1 MB/s eta 0:00:01\n",
      "   ---------------------------------------  38.0/38.6 MB 19.9 MB/s eta 0:00:01\n",
      "   ---------------------------------------  38.6/38.6 MB 18.7 MB/s eta 0:00:01\n",
      "   ---------------------------------------  38.6/38.6 MB 18.7 MB/s eta 0:00:01\n",
      "   ---------------------------------------- 38.6/38.6 MB 16.0 MB/s eta 0:00:00\n",
      "Downloading tifffile-2025.6.11-py3-none-any.whl (230 kB)\n",
      "   ---------------------------------------- 0.0/230.8 kB ? eta -:--:--\n",
      "   ---------------------------------------- 230.8/230.8 kB 6.9 MB/s eta 0:00:00\n",
      "Downloading toolz-1.0.0-py3-none-any.whl (56 kB)\n",
      "   ---------------------------------------- 0.0/56.4 kB ? eta -:--:--\n",
      "   ---------------------------------------- 56.4/56.4 kB ? eta 0:00:00\n",
      "Downloading dask-2024.12.1-py3-none-any.whl (1.3 MB)\n",
      "   ---------------------------------------- 0.0/1.3 MB ? eta -:--:--\n",
      "   ---------------------------------------  1.3/1.3 MB 26.6 MB/s eta 0:00:01\n",
      "   ---------------------------------------- 1.3/1.3 MB 20.3 MB/s eta 0:00:00\n",
      "Downloading distributed-2024.12.1-py3-none-any.whl (1.0 MB)\n",
      "   ---------------------------------------- 0.0/1.0 MB ? eta -:--:--\n",
      "   ---------------------------------------- 1.0/1.0 MB 21.5 MB/s eta 0:00:00\n",
      "Downloading multipledispatch-1.0.0-py3-none-any.whl (12 kB)\n",
      "Downloading param-2.2.1-py3-none-any.whl (119 kB)\n",
      "   ---------------------------------------- 0.0/119.0 kB ? eta -:--:--\n",
      "   ---------------------------------------- 119.0/119.0 kB ? eta 0:00:00\n",
      "Downloading pyct-0.5.0-py2.py3-none-any.whl (15 kB)\n",
      "Downloading xarray-2025.8.0-py3-none-any.whl (1.3 MB)\n",
      "   ---------------------------------------- 0.0/1.3 MB ? eta -:--:--\n",
      "   ---------------------------------------  1.3/1.3 MB 28.3 MB/s eta 0:00:01\n",
      "   ---------------------------------------- 1.3/1.3 MB 21.1 MB/s eta 0:00:00\n",
      "Downloading bokeh-3.7.3-py3-none-any.whl (7.0 MB)\n",
      "   ---------------------------------------- 0.0/7.0 MB ? eta -:--:--\n",
      "   ------ --------------------------------- 1.2/7.0 MB 25.7 MB/s eta 0:00:01\n",
      "   ------------- -------------------------- 2.3/7.0 MB 24.7 MB/s eta 0:00:01\n",
      "   -------------------- ------------------- 3.7/7.0 MB 26.1 MB/s eta 0:00:01\n",
      "   --------------------------- ------------ 4.8/7.0 MB 25.4 MB/s eta 0:00:01\n",
      "   ---------------------------------- ----- 6.1/7.0 MB 25.7 MB/s eta 0:00:01\n",
      "   ---------------------------------------  7.0/7.0 MB 26.4 MB/s eta 0:00:01\n",
      "   ---------------------------------------- 7.0/7.0 MB 23.6 MB/s eta 0:00:00\n",
      "Downloading dask_expr-1.1.21-py3-none-any.whl (244 kB)\n",
      "   ---------------------------------------- 0.0/244.3 kB ? eta -:--:--\n",
      "   ---------------------------------------- 244.3/244.3 kB ? eta 0:00:00\n",
      "Downloading locket-1.0.0-py2.py3-none-any.whl (4.4 kB)\n",
      "Downloading zipp-3.23.0-py3-none-any.whl (10 kB)\n",
      "Downloading msgpack-1.1.1-cp311-cp311-win_amd64.whl (72 kB)\n",
      "   ---------------------------------------- 0.0/72.3 kB ? eta -:--:--\n",
      "   ---------------------------------------- 72.3/72.3 kB 4.1 MB/s eta 0:00:00\n",
      "Downloading sortedcontainers-2.4.0-py2.py3-none-any.whl (29 kB)\n",
      "Downloading tblib-3.1.0-py3-none-any.whl (12 kB)\n",
      "Downloading xyzservices-2025.4.0-py3-none-any.whl (90 kB)\n",
      "   ---------------------------------------- 0.0/90.4 kB ? eta -:--:--\n",
      "   ---------------------------------------- 90.4/90.4 kB 5.3 MB/s eta 0:00:00\n",
      "Downloading zict-3.0.0-py2.py3-none-any.whl (43 kB)\n",
      "   ---------------------------------------- 0.0/43.3 kB ? eta -:--:--\n",
      "   ---------------------------------------- 43.3/43.3 kB 2.1 MB/s eta 0:00:00\n",
      "Building wheels for collected packages: rcssmin, rjsmin, Pyqtree\n",
      "  Building wheel for rcssmin (pyproject.toml): started\n",
      "  Building wheel for rcssmin (pyproject.toml): finished with status 'done'\n",
      "  Created wheel for rcssmin: filename=rcssmin-1.2.1-py3-none-any.whl size=11778 sha256=68c1d2bbc4e5507b9c45d925b25c1f6f4b565ef170b543d244054c0786808f7d\n",
      "  Stored in directory: c:\\users\\ptpl-648\\appdata\\local\\pip\\cache\\wheels\\06\\d3\\f5\\483a911569df11f930835f9858bbefef6a3b7edd998efe828f\n",
      "  Building wheel for rjsmin (pyproject.toml): started\n",
      "  Building wheel for rjsmin (pyproject.toml): finished with status 'done'\n",
      "  Created wheel for rjsmin: filename=rjsmin-1.2.4-py3-none-any.whl size=12590 sha256=3e51fffd0e5aee8084690eaf0e0bb2ad9cb12c79fa7bf9f75d07247834ee0976\n",
      "  Stored in directory: c:\\users\\ptpl-648\\appdata\\local\\pip\\cache\\wheels\\59\\c1\\2b\\7553c1b1e5352f3b1dcbd9b0953a316d50c73cc2514086d80c\n",
      "  Building wheel for Pyqtree (pyproject.toml): started\n",
      "  Building wheel for Pyqtree (pyproject.toml): finished with status 'done'\n",
      "  Created wheel for Pyqtree: filename=pyqtree-1.0.0-py3-none-any.whl size=6043 sha256=fc958cee4eb1dd79ede7e8666535df419b32d911a8c70efdf1765a7199c3fd6a\n",
      "  Stored in directory: c:\\users\\ptpl-648\\appdata\\local\\pip\\cache\\wheels\\4c\\87\\93\\c44242a244e4cea2cb9f5414ec450ababd7acac8b3377c3f9e\n",
      "Successfully built rcssmin rjsmin Pyqtree\n",
      "Installing collected packages: sortedcontainers, rjsmin, rcssmin, Pyqtree, multipledispatch, zipp, zict, xyzservices, toolz, tifffile, tblib, scipy, pyparsing, param, narwhals, msgpack, lz4, locket, llvmlite, lazy-loader, kiwisolver, importlib-resources, imageio, fonttools, cycler, contourpy, colorspacious, colorcet, cloudpickle, click, scikit-learn, scikit-image, pyct, plotly, partd, numba, matplotlib, importlib_metadata, xarray, pynndescent, pylabeladjust, hdbscan, dask, bokeh, umap-learn, distributed, datashader, dask-expr, bertopic, datamapplot\n",
      "  Attempting uninstall: scipy\n",
      "    Found existing installation: scipy 1.10.1\n",
      "    Uninstalling scipy-1.10.1:\n",
      "      Successfully uninstalled scipy-1.10.1\n",
      "  Attempting uninstall: scikit-learn\n",
      "    Found existing installation: scikit-learn 1.5.0\n",
      "    Uninstalling scikit-learn-1.5.0:\n",
      "      Successfully uninstalled scikit-learn-1.5.0\n",
      "Successfully installed Pyqtree-1.0.0 bertopic-0.17.3 bokeh-3.7.3 click-8.2.1 cloudpickle-3.1.1 colorcet-3.1.0 colorspacious-1.1.2 contourpy-1.3.3 cycler-0.12.1 dask-2024.12.1 dask-expr-1.1.21 datamapplot-0.6.3 datashader-0.18.2 distributed-2024.12.1 fonttools-4.59.1 hdbscan-0.8.40 imageio-2.37.0 importlib-resources-6.5.2 importlib_metadata-8.7.0 kiwisolver-1.4.9 lazy-loader-0.4 llvmlite-0.44.0 locket-1.0.0 lz4-4.4.4 matplotlib-3.10.5 msgpack-1.1.1 multipledispatch-1.0.0 narwhals-2.1.2 numba-0.61.2 param-2.2.1 partd-1.4.2 plotly-6.3.0 pyct-0.5.0 pylabeladjust-0.1.13 pynndescent-0.5.13 pyparsing-3.2.3 rcssmin-1.2.1 rjsmin-1.2.4 scikit-image-0.25.2 scikit-learn-1.7.1 scipy-1.16.1 sortedcontainers-2.4.0 tblib-3.1.0 tifffile-2025.6.11 toolz-1.0.0 umap-learn-0.5.9.post2 xarray-2025.8.0 xyzservices-2025.4.0 zict-3.0.0 zipp-3.23.0\n"
     ]
    },
    {
     "name": "stderr",
     "output_type": "stream",
     "text": [
      "\n",
      "[notice] A new release of pip is available: 23.2.1 -> 25.2\n",
      "[notice] To update, run: python.exe -m pip install --upgrade pip\n"
     ]
    }
   ],
   "source": [
    "!pip install bertopic datasets openai datamapplot"
   ]
  },
  {
   "cell_type": "markdown",
   "id": "d9790c16",
   "metadata": {},
   "source": [
    "## ArXiv Articles"
   ]
  },
  {
   "cell_type": "code",
   "execution_count": 2,
   "id": "a3e41b7b",
   "metadata": {},
   "outputs": [
    {
     "name": "stderr",
     "output_type": "stream",
     "text": [
      "c:\\Users\\ptpl-648\\Desktop\\Hands_on_LLM\\.venv\\Lib\\site-packages\\tqdm\\auto.py:21: TqdmWarning: IProgress not found. Please update jupyter and ipywidgets. See https://ipywidgets.readthedocs.io/en/stable/user_install.html\n",
      "  from .autonotebook import tqdm as notebook_tqdm\n",
      "c:\\Users\\ptpl-648\\Desktop\\Hands_on_LLM\\.venv\\Lib\\site-packages\\huggingface_hub\\file_download.py:143: UserWarning: `huggingface_hub` cache-system uses symlinks by default to efficiently store duplicated files but your machine does not support them in C:\\Users\\ptpl-648\\.cache\\huggingface\\hub\\datasets--maartengr--arxiv_nlp. Caching files will still work but in a degraded version that might require more space on your disk. This warning can be disabled by setting the `HF_HUB_DISABLE_SYMLINKS_WARNING` environment variable. For more details, see https://huggingface.co/docs/huggingface_hub/how-to-cache#limitations.\n",
      "To support symlinks on Windows, you either need to activate Developer Mode or to run Python as an administrator. In order to activate developer mode, see this article: https://docs.microsoft.com/en-us/windows/apps/get-started/enable-your-device-for-development\n",
      "  warnings.warn(message)\n",
      "Xet Storage is enabled for this repo, but the 'hf_xet' package is not installed. Falling back to regular HTTP download. For better performance, install the package with: `pip install huggingface_hub[hf_xet]` or `pip install hf_xet`\n",
      "Generating train split: 44949 examples [00:00, 63722.41 examples/s]\n"
     ]
    }
   ],
   "source": [
    "# Load data from huggingface\n",
    "from datasets import load_dataset\n",
    "dataset = load_dataset(\"maartengr/arxiv_nlp\")[\"train\"]\n",
    "\n",
    "# Extract metadata\n",
    "abstracts = dataset[\"Abstracts\"]\n",
    "titles = dataset[\"Titles\"]"
   ]
  },
  {
   "cell_type": "markdown",
   "id": "aa8df795",
   "metadata": {},
   "source": [
    "## A Common Pipeline for Text Clustering\n",
    "\n",
    "### 1. Embedding Documents"
   ]
  },
  {
   "cell_type": "code",
   "execution_count": 4,
   "id": "675bb4d1",
   "metadata": {},
   "outputs": [
    {
     "name": "stderr",
     "output_type": "stream",
     "text": [
      "Batches: 100%|██████████| 1405/1405 [2:14:11<00:00,  5.73s/it]    \n"
     ]
    }
   ],
   "source": [
    "from sentence_transformers import SentenceTransformer\n",
    "\n",
    "# Create an embedding for each abstract\n",
    "embedding_model = SentenceTransformer('thenlper/gte-small')\n",
    "embeddings = embedding_model.encode(abstracts[:], show_progress_bar=True)"
   ]
  },
  {
   "cell_type": "code",
   "execution_count": 5,
   "id": "0e73af56",
   "metadata": {},
   "outputs": [
    {
     "data": {
      "text/plain": [
       "(44949, 384)"
      ]
     },
     "execution_count": 5,
     "metadata": {},
     "output_type": "execute_result"
    }
   ],
   "source": [
    "embeddings.shape"
   ]
  },
  {
   "cell_type": "markdown",
   "id": "1fdf6171",
   "metadata": {},
   "source": [
    "### 2. Reducing the Dimensionality of Embeddings"
   ]
  },
  {
   "cell_type": "code",
   "execution_count": 6,
   "id": "e4df2d78",
   "metadata": {},
   "outputs": [
    {
     "name": "stderr",
     "output_type": "stream",
     "text": [
      "c:\\Users\\ptpl-648\\Desktop\\Hands_on_LLM\\.venv\\Lib\\site-packages\\umap\\umap_.py:1952: UserWarning: n_jobs value 1 overridden to 1 by setting random_state. Use no seed for parallelism.\n",
      "  warn(\n"
     ]
    }
   ],
   "source": [
    "from umap import UMAP\n",
    "\n",
    "# We reduce the input embeddings from 384 dimenions to 5 dimenions\n",
    "umap_model = UMAP(\n",
    "    n_components=5, min_dist=0.0, metric='cosine', random_state=42\n",
    ")\n",
    "reduced_embeddings = umap_model.fit_transform(embeddings)"
   ]
  },
  {
   "cell_type": "markdown",
   "id": "213b89ef",
   "metadata": {},
   "source": [
    "### 3. Cluster the Reduced Embeddings"
   ]
  },
  {
   "cell_type": "code",
   "execution_count": 9,
   "id": "10380140",
   "metadata": {},
   "outputs": [
    {
     "name": "stderr",
     "output_type": "stream",
     "text": [
      "c:\\Users\\ptpl-648\\Desktop\\Hands_on_LLM\\.venv\\Lib\\site-packages\\sklearn\\utils\\deprecation.py:132: FutureWarning: 'force_all_finite' was renamed to 'ensure_all_finite' in 1.6 and will be removed in 1.8.\n",
      "  warnings.warn(\n",
      "c:\\Users\\ptpl-648\\Desktop\\Hands_on_LLM\\.venv\\Lib\\site-packages\\sklearn\\utils\\deprecation.py:132: FutureWarning: 'force_all_finite' was renamed to 'ensure_all_finite' in 1.6 and will be removed in 1.8.\n",
      "  warnings.warn(\n"
     ]
    }
   ],
   "source": [
    "from hdbscan import HDBSCAN\n",
    "\n",
    "# We fit the model and extract the clusters\n",
    "hdbscan_model = HDBSCAN(\n",
    "    min_cluster_size=50, metric='euclidean', cluster_selection_method='eom'\n",
    ").fit(reduced_embeddings)\n",
    "clusters = hdbscan_model.labels_"
   ]
  },
  {
   "cell_type": "code",
   "execution_count": 10,
   "id": "1f835f3c",
   "metadata": {},
   "outputs": [
    {
     "data": {
      "text/plain": [
       "150"
      ]
     },
     "execution_count": 10,
     "metadata": {},
     "output_type": "execute_result"
    }
   ],
   "source": [
    "# How many clusters did we generate?\n",
    "len(set(clusters))"
   ]
  },
  {
   "cell_type": "code",
   "execution_count": 13,
   "id": "9c8123d6",
   "metadata": {},
   "outputs": [
    {
     "data": {
      "text/plain": [
       "array([ -1,  -1,  -1, 132,  93, 102, 102,  -1, 103,  -1,  -1,  65,  93,\n",
       "        93,  -1], dtype=int64)"
      ]
     },
     "execution_count": 13,
     "metadata": {},
     "output_type": "execute_result"
    }
   ],
   "source": [
    "clusters[:15]"
   ]
  },
  {
   "cell_type": "markdown",
   "id": "ce75db6c",
   "metadata": {},
   "source": [
    "### Inspecting the Clusters\n",
    "Manually inspect the first three documents in cluster 0:"
   ]
  },
  {
   "cell_type": "code",
   "execution_count": 14,
   "id": "5c04283a",
   "metadata": {},
   "outputs": [
    {
     "name": "stdout",
     "output_type": "stream",
     "text": [
      "  This works aims to design a statistical machine translation from English text\n",
      "to American Sign Language (ASL). The system is based on Moses tool with some\n",
      "modifications and the results are synthesized through a 3D avatar for\n",
      "interpretation. First, we translate the input text to gloss, a written fo... \n",
      "\n",
      "  Researches on signed languages still strongly dissociate lin- guistic issues\n",
      "related on phonological and phonetic aspects, and gesture studies for\n",
      "recognition and synthesis purposes. This paper focuses on the imbrication of\n",
      "motion and meaning for the analysis, synthesis and evaluation of sign lang... \n",
      "\n",
      "  Modern computational linguistic software cannot produce important aspects of\n",
      "sign language translation. Using some researches we deduce that the majority of\n",
      "automatic sign language translation systems ignore many aspects when they\n",
      "generate animation; therefore the interpretation lost the truth inf... \n",
      "\n"
     ]
    }
   ],
   "source": [
    "import numpy as np\n",
    "\n",
    "# Print first three documents in cluster 0\n",
    "cluster = 0\n",
    "for index in np.where(clusters==cluster)[0][:3]:\n",
    "    print(abstracts[int(index)][:300] + \"... \\n\")"
   ]
  },
  {
   "cell_type": "markdown",
   "id": "310a7a7c",
   "metadata": {},
   "source": [
    "Next, we reduce our embeddings to 2-dimensions so that we can plot them and get a rough understanding of the generated clusters."
   ]
  },
  {
   "cell_type": "code",
   "execution_count": 29,
   "id": "ebfdb5bc",
   "metadata": {},
   "outputs": [],
   "source": [
    "import pandas as pd\n",
    "\n",
    "# Reduce 384-dimensional embeddings to 2 dimensions for easier visualization\n",
    "reduced_embeddings = UMAP(\n",
    "    n_components=2, min_dist=0.0, metric='cosine', random_state=42\n",
    ").fit_transform(embeddings)\n",
    "\n",
    "# Create dataframe\n",
    "df = pd.DataFrame(reduced_embeddings, columns=[\"x\", \"y\"])\n",
    "df[\"title\"] = titles\n",
    "df[\"cluster\"] = [str(c) for c in clusters]\n",
    "\n",
    "# Select outliers and non-outliers (clusters)\n",
    "clusters_df = df.loc[df.cluster != \"-1\", :]\n",
    "outliers_df = df.loc[df.cluster == \"-1\", :]"
   ]
  },
  {
   "cell_type": "markdown",
   "id": "11900f73",
   "metadata": {},
   "source": [
    "#### Static plot"
   ]
  },
  {
   "cell_type": "code",
   "execution_count": 30,
   "id": "a7fa53f4",
   "metadata": {},
   "outputs": [
    {
     "data": {
      "text/plain": [
       "(-8.462946581840516, 11.388619589805604, -8.527087140083314, 12.114328789711)"
      ]
     },
     "execution_count": 30,
     "metadata": {},
     "output_type": "execute_result"
    },
    {
     "data": {
      "image/png": "[encoded data removed]",
      "text/plain": [
       "<Figure size 640x480 with 1 Axes>"
      ]
     },
     "metadata": {},
     "output_type": "display_data"
    }
   ],
   "source": [
    "import matplotlib.pyplot as plt\n",
    "\n",
    "# Plot outliers and non-outliers seperately\n",
    "plt.scatter(outliers_df.x, outliers_df.y, alpha=0.05, s=2, c=\"grey\")\n",
    "plt.scatter(\n",
    "    clusters_df.x, clusters_df.y, c=clusters_df.cluster.astype(int),\n",
    "    alpha=0.6, s=2, cmap='tab20b'\n",
    ")\n",
    "plt.axis('off')"
   ]
  },
  {
   "cell_type": "markdown",
   "id": "c0213903",
   "metadata": {},
   "source": [
    "### From Text Clustering to Topic Modeling\n",
    "#### BERTopic: A Modular Topic Modeling Framework"
   ]
  },
  {
   "cell_type": "code",
   "execution_count": 31,
   "id": "3c665981",
   "metadata": {},
   "outputs": [],
   "source": [
    "# !pip install --upgrade bertopic sentence-transformers"
   ]
  },
  {
   "cell_type": "code",
   "execution_count": 32,
   "id": "d0df2c6a",
   "metadata": {},
   "outputs": [
    {
     "name": "stderr",
     "output_type": "stream",
     "text": [
      "2025-08-24 19:08:45,099 - BERTopic - Dimensionality - Fitting the dimensionality reduction algorithm\n",
      "2025-08-24 19:09:24,225 - BERTopic - Dimensionality - Completed ✓\n",
      "2025-08-24 19:09:24,227 - BERTopic - Cluster - Start clustering the reduced embeddings\n",
      "2025-08-24 19:09:27,621 - BERTopic - Cluster - Completed ✓\n",
      "2025-08-24 19:09:27,631 - BERTopic - Representation - Fine-tuning topics using representation models.\n",
      "2025-08-24 19:09:31,791 - BERTopic - Representation - Completed ✓\n"
     ]
    }
   ],
   "source": [
    "from bertopic import BERTopic\n",
    "\n",
    "# Train our model with our previously defined models\n",
    "topic_model = BERTopic(\n",
    "    embedding_model=embedding_model,\n",
    "    umap_model=umap_model,\n",
    "    hdbscan_model=hdbscan_model,\n",
    "    verbose=True\n",
    ").fit(abstracts, embeddings)"
   ]
  },
  {
   "cell_type": "code",
   "execution_count": 33,
   "id": "7e36834c",
   "metadata": {},
   "outputs": [
    {
     "data": {
      "text/html": [
       "<div>\n",
       "<style scoped>\n",
       "    .dataframe tbody tr th:only-of-type {\n",
       "        vertical-align: middle;\n",
       "    }\n",
       "\n",
       "    .dataframe tbody tr th {\n",
       "        vertical-align: top;\n",
       "    }\n",
       "\n",
       "    .dataframe thead th {\n",
       "        text-align: right;\n",
       "    }\n",
       "</style>\n",
       "<table border=\"1\" class=\"dataframe\">\n",
       "  <thead>\n",
       "    <tr style=\"text-align: right;\">\n",
       "      <th></th>\n",
       "      <th>Topic</th>\n",
       "      <th>Count</th>\n",
       "      <th>Name</th>\n",
       "      <th>Representation</th>\n",
       "      <th>Representative_Docs</th>\n",
       "    </tr>\n",
       "  </thead>\n",
       "  <tbody>\n",
       "    <tr>\n",
       "      <th>0</th>\n",
       "      <td>-1</td>\n",
       "      <td>14222</td>\n",
       "      <td>-1_the_of_and_to</td>\n",
       "      <td>[the, of, and, to, in, we, language, that, for...</td>\n",
       "      <td>[  Language models have steadily increased in ...</td>\n",
       "    </tr>\n",
       "    <tr>\n",
       "      <th>1</th>\n",
       "      <td>0</td>\n",
       "      <td>2202</td>\n",
       "      <td>0_question_questions_answer_qa</td>\n",
       "      <td>[question, questions, answer, qa, answering, a...</td>\n",
       "      <td>[  While models have reached superhuman perfor...</td>\n",
       "    </tr>\n",
       "    <tr>\n",
       "      <th>2</th>\n",
       "      <td>1</td>\n",
       "      <td>2107</td>\n",
       "      <td>1_speech_asr_recognition_end</td>\n",
       "      <td>[speech, asr, recognition, end, acoustic, spea...</td>\n",
       "      <td>[  Recent advances in text-to-speech (TTS) led...</td>\n",
       "    </tr>\n",
       "    <tr>\n",
       "      <th>3</th>\n",
       "      <td>2</td>\n",
       "      <td>1358</td>\n",
       "      <td>2_medical_clinical_biomedical_patient</td>\n",
       "      <td>[medical, clinical, biomedical, patient, notes...</td>\n",
       "      <td>[  Distributed representations of medical conc...</td>\n",
       "    </tr>\n",
       "    <tr>\n",
       "      <th>4</th>\n",
       "      <td>3</td>\n",
       "      <td>910</td>\n",
       "      <td>3_summarization_summaries_summary_abstractive</td>\n",
       "      <td>[summarization, summaries, summary, abstractiv...</td>\n",
       "      <td>[  Abstractive summarization systems generally...</td>\n",
       "    </tr>\n",
       "    <tr>\n",
       "      <th>...</th>\n",
       "      <td>...</td>\n",
       "      <td>...</td>\n",
       "      <td>...</td>\n",
       "      <td>...</td>\n",
       "      <td>...</td>\n",
       "    </tr>\n",
       "    <tr>\n",
       "      <th>145</th>\n",
       "      <td>144</td>\n",
       "      <td>54</td>\n",
       "      <td>144_typing_entity_type_types</td>\n",
       "      <td>[typing, entity, type, types, grained, mention...</td>\n",
       "      <td>[  For the task of fine-grained entity typing ...</td>\n",
       "    </tr>\n",
       "    <tr>\n",
       "      <th>146</th>\n",
       "      <td>145</td>\n",
       "      <td>53</td>\n",
       "      <td>145_mixed_code_sentiment_mixing</td>\n",
       "      <td>[mixed, code, sentiment, mixing, english, anal...</td>\n",
       "      <td>[  In today's interconnected and multilingual ...</td>\n",
       "    </tr>\n",
       "    <tr>\n",
       "      <th>147</th>\n",
       "      <td>146</td>\n",
       "      <td>53</td>\n",
       "      <td>146_dialect_identification_arabic_dialects</td>\n",
       "      <td>[dialect, identification, arabic, dialects, ad...</td>\n",
       "      <td>[  In this paper, we present our approach for ...</td>\n",
       "    </tr>\n",
       "    <tr>\n",
       "      <th>148</th>\n",
       "      <td>147</td>\n",
       "      <td>53</td>\n",
       "      <td>147_memes_meme_hateful_multimodal</td>\n",
       "      <td>[memes, meme, hateful, multimodal, harmful, me...</td>\n",
       "      <td>[  Memes are becoming a useful source of data ...</td>\n",
       "    </tr>\n",
       "    <tr>\n",
       "      <th>149</th>\n",
       "      <td>148</td>\n",
       "      <td>51</td>\n",
       "      <td>148_prompt_prompts_optimization_llms</td>\n",
       "      <td>[prompt, prompts, optimization, llms, promptin...</td>\n",
       "      <td>[  Prompt optimization aims to find the best p...</td>\n",
       "    </tr>\n",
       "  </tbody>\n",
       "</table>\n",
       "<p>150 rows × 5 columns</p>\n",
       "</div>"
      ],
      "text/plain": [
       "     Topic  Count                                           Name  \\\n",
       "0       -1  14222                               -1_the_of_and_to   \n",
       "1        0   2202                 0_question_questions_answer_qa   \n",
       "2        1   2107                   1_speech_asr_recognition_end   \n",
       "3        2   1358          2_medical_clinical_biomedical_patient   \n",
       "4        3    910  3_summarization_summaries_summary_abstractive   \n",
       "..     ...    ...                                            ...   \n",
       "145    144     54                   144_typing_entity_type_types   \n",
       "146    145     53                145_mixed_code_sentiment_mixing   \n",
       "147    146     53     146_dialect_identification_arabic_dialects   \n",
       "148    147     53              147_memes_meme_hateful_multimodal   \n",
       "149    148     51           148_prompt_prompts_optimization_llms   \n",
       "\n",
       "                                        Representation  \\\n",
       "0    [the, of, and, to, in, we, language, that, for...   \n",
       "1    [question, questions, answer, qa, answering, a...   \n",
       "2    [speech, asr, recognition, end, acoustic, spea...   \n",
       "3    [medical, clinical, biomedical, patient, notes...   \n",
       "4    [summarization, summaries, summary, abstractiv...   \n",
       "..                                                 ...   \n",
       "145  [typing, entity, type, types, grained, mention...   \n",
       "146  [mixed, code, sentiment, mixing, english, anal...   \n",
       "147  [dialect, identification, arabic, dialects, ad...   \n",
       "148  [memes, meme, hateful, multimodal, harmful, me...   \n",
       "149  [prompt, prompts, optimization, llms, promptin...   \n",
       "\n",
       "                                   Representative_Docs  \n",
       "0    [  Language models have steadily increased in ...  \n",
       "1    [  While models have reached superhuman perfor...  \n",
       "2    [  Recent advances in text-to-speech (TTS) led...  \n",
       "3    [  Distributed representations of medical conc...  \n",
       "4    [  Abstractive summarization systems generally...  \n",
       "..                                                 ...  \n",
       "145  [  For the task of fine-grained entity typing ...  \n",
       "146  [  In today's interconnected and multilingual ...  \n",
       "147  [  In this paper, we present our approach for ...  \n",
       "148  [  Memes are becoming a useful source of data ...  \n",
       "149  [  Prompt optimization aims to find the best p...  \n",
       "\n",
       "[150 rows x 5 columns]"
      ]
     },
     "execution_count": 33,
     "metadata": {},
     "output_type": "execute_result"
    }
   ],
   "source": [
    "topic_model.get_topic_info()"
   ]
  },
  {
   "cell_type": "markdown",
   "id": "64478013",
   "metadata": {},
   "source": [
    "Hundreds of topics were generated using the default model! To get the top 10 keywords per topic as well as their c-TF-IDF weights, we can use the get_topic() function:"
   ]
  },
  {
   "cell_type": "code",
   "execution_count": 34,
   "id": "ae3de80f",
   "metadata": {},
   "outputs": [
    {
     "data": {
      "text/plain": [
       "[('question', 0.02157975365492854),\n",
       " ('questions', 0.016141196007212717),\n",
       " ('answer', 0.016090157344112215),\n",
       " ('qa', 0.015928331931266956),\n",
       " ('answering', 0.015013663807375226),\n",
       " ('answers', 0.01005000806774396),\n",
       " ('retrieval', 0.009640000292331108),\n",
       " ('comprehension', 0.007832068752808941),\n",
       " ('reading', 0.0072878195764788595),\n",
       " ('the', 0.006412560392150337)]"
      ]
     },
     "execution_count": 34,
     "metadata": {},
     "output_type": "execute_result"
    }
   ],
   "source": [
    "topic_model.get_topic(0)"
   ]
  },
  {
   "cell_type": "markdown",
   "id": "ff08d4f9",
   "metadata": {},
   "source": [
    "We can use the find_topics() function to search for specific topics based on a search term. Let’s search for a topic about topic modeling:"
   ]
  },
  {
   "cell_type": "markdown",
   "id": "939de250",
   "metadata": {},
   "source": [
    "topic_model.find_topics(\"topic modeling\")"
   ]
  },
  {
   "cell_type": "markdown",
   "id": "a0f4cab2",
   "metadata": {},
   "source": [
    "It returns that topic 22 has a relatively high similarity (0.95) with our search term. If we then inspect the topic, we can see that it is indeed a topic about topic modeling:"
   ]
  },
  {
   "cell_type": "code",
   "execution_count": 35,
   "id": "d2e4d4f2",
   "metadata": {},
   "outputs": [
    {
     "data": {
      "text/plain": [
       "[('adversarial', 0.06464607974362714),\n",
       " ('attacks', 0.03251239754106016),\n",
       " ('attack', 0.03155489219271329),\n",
       " ('robustness', 0.022592574705474055),\n",
       " ('examples', 0.018761233300207594),\n",
       " ('perturbations', 0.014413484289992748),\n",
       " ('defense', 0.010907914190008267),\n",
       " ('perturbation', 0.010332738418594325),\n",
       " ('nlp', 0.009336133135905799),\n",
       " ('against', 0.008940458312241068)]"
      ]
     },
     "execution_count": 35,
     "metadata": {},
     "output_type": "execute_result"
    }
   ],
   "source": [
    "topic_model.get_topic(22)"
   ]
  },
  {
   "cell_type": "markdown",
   "id": "93fbc8d3",
   "metadata": {},
   "source": [
    "That seems like a topic that is, in part, characterized by the classic LDA technique. Let's see if the BERTopic paper was also assigned to topic 22:"
   ]
  },
  {
   "cell_type": "code",
   "execution_count": 36,
   "id": "09433679",
   "metadata": {},
   "outputs": [
    {
     "data": {
      "text/plain": [
       "23"
      ]
     },
     "execution_count": 36,
     "metadata": {},
     "output_type": "execute_result"
    }
   ],
   "source": [
    "topic_model.topics_[titles.index('BERTopic: Neural topic modeling with a class-based TF-IDF procedure')]"
   ]
  },
  {
   "cell_type": "markdown",
   "id": "5edb3cce",
   "metadata": {},
   "source": [
    "It is! We expected it might be because there are non-LDA specific words in the topic describtion such as \"clustering\" and \"topic\"."
   ]
  },
  {
   "cell_type": "markdown",
   "id": "685ce915",
   "metadata": {},
   "source": [
    "### Visualizations\n",
    "#### Visualize Documents"
   ]
  },
  {
   "cell_type": "code",
   "execution_count": 38,
   "id": "a994d8e5",
   "metadata": {},
   "outputs": [
    {
     "name": "stdout",
     "output_type": "stream",
     "text": [
      "<class 'list'>\n"
     ]
    }
   ],
   "source": [
    "print(type(titles))"
   ]
  },
  {
   "cell_type": "code",
   "execution_count": 39,
   "id": "6a9bd75d",
   "metadata": {},
   "outputs": [
    {
     "name": "stdout",
     "output_type": "stream",
     "text": [
      "<class 'str'>\n"
     ]
    }
   ],
   "source": [
    "print(type(titles[0]))"
   ]
  },
  {
   "cell_type": "code",
   "execution_count": 40,
   "id": "1b7c7697",
   "metadata": {},
   "outputs": [
    {
     "name": "stderr",
     "output_type": "stream",
     "text": [
      "2025-08-24 19:16:09,724 - BERTopic - Embedding - Transforming documents to embeddings.\n",
      "Batches: 100%|██████████| 1405/1405 [16:37:29<00:00, 42.60s/it]       \n",
      "2025-08-25 11:53:41,981 - BERTopic - Embedding - Completed ✓\n",
      "2025-08-25 11:53:41,983 - BERTopic - Dimensionality - Fitting the dimensionality reduction algorithm\n",
      "2025-08-25 12:02:34,482 - BERTopic - Dimensionality - Completed ✓\n",
      "2025-08-25 12:02:34,488 - BERTopic - Cluster - Start clustering the reduced embeddings\n",
      "2025-08-25 12:03:03,099 - BERTopic - Cluster - Completed ✓\n",
      "2025-08-25 12:03:03,126 - BERTopic - Representation - Fine-tuning topics using representation models.\n",
      "2025-08-25 12:03:15,319 - BERTopic - Representation - Completed ✓\n"
     ]
    }
   ],
   "source": [
    "topic_model = BERTopic(\n",
    "    embedding_model=embedding_model,\n",
    "    umap_model=umap_model,\n",
    "    hdbscan_model=hdbscan_model,\n",
    "    verbose=True\n",
    ")\n",
    "\n",
    "topics, probs = topic_model.fit_transform(abstracts)  # only pass documents!"
   ]
  },
  {
   "cell_type": "code",
   "execution_count": 42,
   "id": "ab12772f",
   "metadata": {},
   "outputs": [],
   "source": [
    "# # Reduce embeddings to 2D\n",
    "# from umap import UMAP\n",
    "# reduced_embeddings = UMAP(n_components=2, min_dist=0.0, metric=\"cosine\", random_state=42)\\\n",
    "#     .fit_transform(embeddings).tolist()\n",
    "\n",
    "# # Ensure titles are strings\n",
    "# titles = list(map(str, titles))\n",
    "\n",
    "# # Visualize\n",
    "# fig = topic_model.visualize_documents(\n",
    "#     titles,\n",
    "#     reduced_embeddings=reduced_embeddings,\n",
    "#     width=1200,\n",
    "#     hide_annotations=True\n",
    "# )\n",
    "# fig.update_layout(font=dict(size=16))\n",
    "# fig.show()\n"
   ]
  },
  {
   "cell_type": "code",
   "execution_count": 43,
   "id": "6edc21ef",
   "metadata": {},
   "outputs": [],
   "source": [
    "# # Ensure titles is a Python list of strings\n",
    "# titles = list(map(str, titles))\n",
    "\n",
    "# # Ensure reduced_embeddings is a list of lists (instead of numpy)\n",
    "# reduced_embeddings = reduced_embeddings.tolist()\n",
    "\n",
    "# fig = topic_model.visualize_documents(\n",
    "#     titles,\n",
    "#     reduced_embeddings=reduced_embeddings,\n",
    "#     width=1200,\n",
    "#     hide_annotations=True\n",
    "# )\n",
    "\n",
    "# fig.update_layout(font=dict(size=16))\n"
   ]
  },
  {
   "cell_type": "code",
   "execution_count": 47,
   "id": "25820d02",
   "metadata": {},
   "outputs": [],
   "source": [
    "# !pip install -U nbformat"
   ]
  },
  {
   "cell_type": "code",
   "execution_count": 48,
   "id": "1128d274",
   "metadata": {},
   "outputs": [
    {
     "ename": "ValueError",
     "evalue": "Mime type rendering requires nbformat>=4.2.0 but it is not installed",
     "output_type": "error",
     "traceback": [
      "\u001b[31m---------------------------------------------------------------------------\u001b[39m",
      "\u001b[31mValueError\u001b[39m                                Traceback (most recent call last)",
      "\u001b[36mFile \u001b[39m\u001b[32mc:\\Users\\ptpl-648\\Desktop\\Hands_on_LLM\\.venv\\Lib\\site-packages\\IPython\\core\\formatters.py:984\u001b[39m, in \u001b[36mIPythonDisplayFormatter.__call__\u001b[39m\u001b[34m(self, obj)\u001b[39m\n\u001b[32m    982\u001b[39m method = get_real_method(obj, \u001b[38;5;28mself\u001b[39m.print_method)\n\u001b[32m    983\u001b[39m \u001b[38;5;28;01mif\u001b[39;00m method \u001b[38;5;129;01mis\u001b[39;00m \u001b[38;5;129;01mnot\u001b[39;00m \u001b[38;5;28;01mNone\u001b[39;00m:\n\u001b[32m--> \u001b[39m\u001b[32m984\u001b[39m     \u001b[43mmethod\u001b[49m\u001b[43m(\u001b[49m\u001b[43m)\u001b[49m\n\u001b[32m    985\u001b[39m     \u001b[38;5;28;01mreturn\u001b[39;00m \u001b[38;5;28;01mTrue\u001b[39;00m\n",
      "\u001b[36mFile \u001b[39m\u001b[32mc:\\Users\\ptpl-648\\Desktop\\Hands_on_LLM\\.venv\\Lib\\site-packages\\plotly\\basedatatypes.py:850\u001b[39m, in \u001b[36mBaseFigure._ipython_display_\u001b[39m\u001b[34m(self)\u001b[39m\n\u001b[32m    847\u001b[39m \u001b[38;5;28;01mimport\u001b[39;00m\u001b[38;5;250m \u001b[39m\u001b[34;01mplotly\u001b[39;00m\u001b[34;01m.\u001b[39;00m\u001b[34;01mio\u001b[39;00m\u001b[38;5;250m \u001b[39m\u001b[38;5;28;01mas\u001b[39;00m\u001b[38;5;250m \u001b[39m\u001b[34;01mpio\u001b[39;00m\n\u001b[32m    849\u001b[39m \u001b[38;5;28;01mif\u001b[39;00m pio.renderers.render_on_display \u001b[38;5;129;01mand\u001b[39;00m pio.renderers.default:\n\u001b[32m--> \u001b[39m\u001b[32m850\u001b[39m     \u001b[43mpio\u001b[49m\u001b[43m.\u001b[49m\u001b[43mshow\u001b[49m\u001b[43m(\u001b[49m\u001b[38;5;28;43mself\u001b[39;49m\u001b[43m)\u001b[49m\n\u001b[32m    851\u001b[39m \u001b[38;5;28;01melse\u001b[39;00m:\n\u001b[32m    852\u001b[39m     \u001b[38;5;28mprint\u001b[39m(\u001b[38;5;28mrepr\u001b[39m(\u001b[38;5;28mself\u001b[39m))\n",
      "\u001b[36mFile \u001b[39m\u001b[32mc:\\Users\\ptpl-648\\Desktop\\Hands_on_LLM\\.venv\\Lib\\site-packages\\plotly\\io\\_renderers.py:415\u001b[39m, in \u001b[36mshow\u001b[39m\u001b[34m(fig, renderer, validate, **kwargs)\u001b[39m\n\u001b[32m    410\u001b[39m     \u001b[38;5;28;01mraise\u001b[39;00m \u001b[38;5;167;01mValueError\u001b[39;00m(\n\u001b[32m    411\u001b[39m         \u001b[33m\"\u001b[39m\u001b[33mMime type rendering requires ipython but it is not installed\u001b[39m\u001b[33m\"\u001b[39m\n\u001b[32m    412\u001b[39m     )\n\u001b[32m    414\u001b[39m \u001b[38;5;28;01mif\u001b[39;00m \u001b[38;5;129;01mnot\u001b[39;00m nbformat \u001b[38;5;129;01mor\u001b[39;00m Version(nbformat.__version__) < Version(\u001b[33m\"\u001b[39m\u001b[33m4.2.0\u001b[39m\u001b[33m\"\u001b[39m):\n\u001b[32m--> \u001b[39m\u001b[32m415\u001b[39m     \u001b[38;5;28;01mraise\u001b[39;00m \u001b[38;5;167;01mValueError\u001b[39;00m(\n\u001b[32m    416\u001b[39m         \u001b[33m\"\u001b[39m\u001b[33mMime type rendering requires nbformat>=4.2.0 but it is not installed\u001b[39m\u001b[33m\"\u001b[39m\n\u001b[32m    417\u001b[39m     )\n\u001b[32m    419\u001b[39m display_jupyter_version_warnings()\n\u001b[32m    421\u001b[39m ipython_display.display(bundle, raw=\u001b[38;5;28;01mTrue\u001b[39;00m)\n",
      "\u001b[31mValueError\u001b[39m: Mime type rendering requires nbformat>=4.2.0 but it is not installed"
     ]
    },
    {
     "data": {
      "application/vnd.plotly.v1+json": {
       "config": {
        "plotlyServerURL": "https://plot.ly"
       },
       "data": [
        {
         "hoverinfo": "text",
         "marker": {
          "color": "rgb(61,153,112)"
         },
         "mode": "lines",
         "type": "scatter",
         "x": {
          "bdata": "AAAAAAAAAAAkxVcelAjZPyTFVx6UCNk/AAAAAAAAAAA=",
          "dtype": "f8"
         },
         "xaxis": "x",
         "y": {
          "bdata": "AAAAAAAAFMAAAAAAAAAUwAAAAAAAAC7AAAAAAAAALsA=",
          "dtype": "f8"
         },
         "yaxis": "y"
        },
        {
         "hoverinfo": "text",
         "marker": {
          "color": "rgb(61,153,112)"
         },
         "mode": "lines",
         "type": "scatter",
         "x": {
          "bdata": "JMVXHpQI2T+O4f8IouHmP47h/wii4eY/AAAAAAAAAAA=",
          "dtype": "f8"
         },
         "xaxis": "x",
         "y": {
          "bdata": "AAAAAAAAJMAAAAAAAAAkwAAAAAAAADnAAAAAAAAAOcA=",
          "dtype": "f8"
         },
         "yaxis": "y"
        },
        {
         "hoverinfo": "text",
         "marker": {
          "color": "rgb(255,65,54)"
         },
         "mode": "lines",
         "type": "scatter",
         "x": {
          "bdata": "AAAAAAAAAADWjLUDBzrjP9aMtQMHOuM/AAAAAAAAAAA=",
          "dtype": "f8"
         },
         "xaxis": "x",
         "y": {
          "bdata": "AAAAAACAQcAAAAAAAIBBwAAAAAAAgEbAAAAAAACARsA=",
          "dtype": "f8"
         },
         "yaxis": "y"
        },
        {
         "hoverinfo": "text",
         "marker": {
          "color": "rgb(255,65,54)"
         },
         "mode": "lines",
         "type": "scatter",
         "x": {
          "bdata": "AAAAAAAAAAAMz0Jh3I3hPwzPQmHcjeE/AAAAAAAAAAA=",
          "dtype": "f8"
         },
         "xaxis": "x",
         "y": {
          "bdata": "AAAAAACAS8AAAAAAAIBLwAAAAAAAQFDAAAAAAABAUMA=",
          "dtype": "f8"
         },
         "yaxis": "y"
        },
        {
         "hoverinfo": "text",
         "marker": {
          "color": "rgb(255,65,54)"
         },
         "mode": "lines",
         "type": "scatter",
         "x": {
          "bdata": "AAAAAAAAAABvj1PUQw3jP2+PU9RDDeM/AAAAAAAAAAA=",
          "dtype": "f8"
         },
         "xaxis": "x",
         "y": {
          "bdata": "AAAAAADAUsAAAAAAAMBSwAAAAAAAQFXAAAAAAABAVcA=",
          "dtype": "f8"
         },
         "yaxis": "y"
        },
        {
         "hoverinfo": "text",
         "marker": {
          "color": "rgb(255,65,54)"
         },
         "mode": "lines",
         "type": "scatter",
         "x": {
          "bdata": "DM9CYdyN4T81Jpg1k+blPzUmmDWT5uU/b49T1EMN4z8=",
          "dtype": "f8"
         },
         "xaxis": "x",
         "y": {
          "bdata": "AAAAAAAATsAAAAAAAABOwAAAAAAAAFTAAAAAAAAAVMA=",
          "dtype": "f8"
         },
         "yaxis": "y"
        },
        {
         "hoverinfo": "text",
         "marker": {
          "color": "rgb(255,65,54)"
         },
         "mode": "lines",
         "type": "scatter",
         "x": {
          "bdata": "AAAAAAAAAAA4chqLzJbkPzhyGovMluQ/AAAAAAAAAAA=",
          "dtype": "f8"
         },
         "xaxis": "x",
         "y": {
          "bdata": "AAAAAADAV8AAAAAAAMBXwAAAAAAAQFrAAAAAAABAWsA=",
          "dtype": "f8"
         },
         "yaxis": "y"
        },
        {
         "hoverinfo": "text",
         "marker": {
          "color": "rgb(255,65,54)"
         },
         "mode": "lines",
         "type": "scatter",
         "x": {
          "bdata": "NSaYNZPm5T/lvkozLSXoP+W+SjMtJeg/OHIai8yW5D8=",
          "dtype": "f8"
         },
         "xaxis": "x",
         "y": {
          "bdata": "AAAAAACAUcAAAAAAAIBRwAAAAAAAAFnAAAAAAAAAWcA=",
          "dtype": "f8"
         },
         "yaxis": "y"
        },
        {
         "hoverinfo": "text",
         "marker": {
          "color": "rgb(255,65,54)"
         },
         "mode": "lines",
         "type": "scatter",
         "x": {
          "bdata": "1oy1Awc64z82rAiDIPfpPzasCIMg9+k/5b5KMy0l6D8=",
          "dtype": "f8"
         },
         "xaxis": "x",
         "y": {
          "bdata": "AAAAAAAARMAAAAAAAABEwAAAAAAAQFXAAAAAAABAVcA=",
          "dtype": "f8"
         },
         "yaxis": "y"
        },
        {
         "hoverinfo": "text",
         "marker": {
          "color": "rgb(35,205,205)"
         },
         "mode": "lines",
         "type": "scatter",
         "x": {
          "bdata": "AAAAAAAAAABOXt0xkjTSP05e3TGSNNI/AAAAAAAAAAA=",
          "dtype": "f8"
         },
         "xaxis": "x",
         "y": {
          "bdata": "AAAAAABAX8AAAAAAAEBfwAAAAAAA4GDAAAAAAADgYMA=",
          "dtype": "f8"
         },
         "yaxis": "y"
        },
        {
         "hoverinfo": "text",
         "marker": {
          "color": "rgb(35,205,205)"
         },
         "mode": "lines",
         "type": "scatter",
         "x": {
          "bdata": "AAAAAAAAAACjVUsED0XlP6NVSwQPReU/Tl7dMZI00j8=",
          "dtype": "f8"
         },
         "xaxis": "x",
         "y": {
          "bdata": "AAAAAADAXMAAAAAAAMBcwAAAAAAAQGDAAAAAAABAYMA=",
          "dtype": "f8"
         },
         "yaxis": "y"
        },
        {
         "hoverinfo": "text",
         "marker": {
          "color": "rgb(35,205,205)"
         },
         "mode": "lines",
         "type": "scatter",
         "x": {
          "bdata": "AAAAAAAAAADwD+zCl97jP/AP7MKX3uM/AAAAAAAAAAA=",
          "dtype": "f8"
         },
         "xaxis": "x",
         "y": {
          "bdata": "AAAAAAAgYsAAAAAAACBiwAAAAAAAYGPAAAAAAABgY8A=",
          "dtype": "f8"
         },
         "yaxis": "y"
        },
        {
         "hoverinfo": "text",
         "marker": {
          "color": "rgb(35,205,205)"
         },
         "mode": "lines",
         "type": "scatter",
         "x": {
          "bdata": "AAAAAAAAAAB0t5cH1tfiP3S3lwfW1+I/AAAAAAAAAAA=",
          "dtype": "f8"
         },
         "xaxis": "x",
         "y": {
          "bdata": "AAAAAACgZMAAAAAAAKBkwAAAAAAA4GXAAAAAAADgZcA=",
          "dtype": "f8"
         },
         "yaxis": "y"
        },
        {
         "hoverinfo": "text",
         "marker": {
          "color": "rgb(35,205,205)"
         },
         "mode": "lines",
         "type": "scatter",
         "x": {
          "bdata": "AAAAAAAAAADM/Y5O92beP8z9jk73Zt4/AAAAAAAAAAA=",
          "dtype": "f8"
         },
         "xaxis": "x",
         "y": {
          "bdata": "AAAAAAAgZ8AAAAAAACBnwAAAAAAAYGjAAAAAAABgaMA=",
          "dtype": "f8"
         },
         "yaxis": "y"
        },
        {
         "hoverinfo": "text",
         "marker": {
          "color": "rgb(35,205,205)"
         },
         "mode": "lines",
         "type": "scatter",
         "x": {
          "bdata": "zP2OTvdm3j+3141qHhTiP7fXjWoeFOI/AAAAAAAAAAA=",
          "dtype": "f8"
         },
         "xaxis": "x",
         "y": {
          "bdata": "AAAAAADAZ8AAAAAAAMBnwAAAAAAAoGnAAAAAAACgacA=",
          "dtype": "f8"
         },
         "yaxis": "y"
        },
        {
         "hoverinfo": "text",
         "marker": {
          "color": "rgb(35,205,205)"
         },
         "mode": "lines",
         "type": "scatter",
         "x": {
          "bdata": "dLeXB9bX4j+p1uOysWTjP6nW47KxZOM/t9eNah4U4j8=",
          "dtype": "f8"
         },
         "xaxis": "x",
         "y": {
          "bdata": "AAAAAABAZcAAAAAAAEBlwAAAAAAAsGjAAAAAAACwaMA=",
          "dtype": "f8"
         },
         "yaxis": "y"
        },
        {
         "hoverinfo": "text",
         "marker": {
          "color": "rgb(35,205,205)"
         },
         "mode": "lines",
         "type": "scatter",
         "x": {
          "bdata": "AAAAAAAAAAA++tv1SS/gPz762/VJL+A/AAAAAAAAAAA=",
          "dtype": "f8"
         },
         "xaxis": "x",
         "y": {
          "bdata": "AAAAAADgasAAAAAAAOBqwAAAAAAAIGzAAAAAAAAgbMA=",
          "dtype": "f8"
         },
         "yaxis": "y"
        },
        {
         "hoverinfo": "text",
         "marker": {
          "color": "rgb(35,205,205)"
         },
         "mode": "lines",
         "type": "scatter",
         "x": {
          "bdata": "Pvrb9Ukv4D/uKQXtTKfkP+4pBe1Mp+Q/AAAAAAAAAAA=",
          "dtype": "f8"
         },
         "xaxis": "x",
         "y": {
          "bdata": "AAAAAACAa8AAAAAAAIBrwAAAAAAAYG3AAAAAAABgbcA=",
          "dtype": "f8"
         },
         "yaxis": "y"
        },
        {
         "hoverinfo": "text",
         "marker": {
          "color": "rgb(35,205,205)"
         },
         "mode": "lines",
         "type": "scatter",
         "x": {
          "bdata": "qdbjsrFk4z9Lq6Qll+zlP0urpCWX7OU/7ikF7Uyn5D8=",
          "dtype": "f8"
         },
         "xaxis": "x",
         "y": {
          "bdata": "AAAAAAD4ZsAAAAAAAPhmwAAAAAAAcGzAAAAAAABwbMA=",
          "dtype": "f8"
         },
         "yaxis": "y"
        },
        {
         "hoverinfo": "text",
         "marker": {
          "color": "rgb(35,205,205)"
         },
         "mode": "lines",
         "type": "scatter",
         "x": {
          "bdata": "8A/swpfe4z9tIMVxwRHnP20gxXHBEec/S6ukJZfs5T8=",
          "dtype": "f8"
         },
         "xaxis": "x",
         "y": {
          "bdata": "AAAAAADAYsAAAAAAAMBiwAAAAAAAtGnAAAAAAAC0acA=",
          "dtype": "f8"
         },
         "yaxis": "y"
        },
        {
         "hoverinfo": "text",
         "marker": {
          "color": "rgb(35,205,205)"
         },
         "mode": "lines",
         "type": "scatter",
         "x": {
          "bdata": "AAAAAAAAAABhhbgZ+hfgP2GFuBn6F+A/AAAAAAAAAAA=",
          "dtype": "f8"
         },
         "xaxis": "x",
         "y": {
          "bdata": "AAAAAACgbsAAAAAAAKBuwAAAAAAA4G/AAAAAAADgb8A=",
          "dtype": "f8"
         },
         "yaxis": "y"
        },
        {
         "hoverinfo": "text",
         "marker": {
          "color": "rgb(35,205,205)"
         },
         "mode": "lines",
         "type": "scatter",
         "x": {
          "bdata": "YYW4GfoX4D+5RNzHR+LnP7lE3MdH4uc/AAAAAAAAAAA=",
          "dtype": "f8"
         },
         "xaxis": "x",
         "y": {
          "bdata": "AAAAAABAb8AAAAAAAEBvwAAAAAAAkHDAAAAAAACQcMA=",
          "dtype": "f8"
         },
         "yaxis": "y"
        },
        {
         "hoverinfo": "text",
         "marker": {
          "color": "rgb(35,205,205)"
         },
         "mode": "lines",
         "type": "scatter",
         "x": {
          "bdata": "bSDFccER5z9GHzQTNHvsP0YfNBM0e+w/uUTcx0fi5z8=",
          "dtype": "f8"
         },
         "xaxis": "x",
         "y": {
          "bdata": "AAAAAAA6ZsAAAAAAADpmwAAAAAAAGHDAAAAAAAAYcMA=",
          "dtype": "f8"
         },
         "yaxis": "y"
        },
        {
         "hoverinfo": "text",
         "marker": {
          "color": "rgb(35,205,205)"
         },
         "mode": "lines",
         "type": "scatter",
         "x": {
          "bdata": "o1VLBA9F5T8nD6+aQvTsPycPr5pC9Ow/Rh80EzR77D8=",
          "dtype": "f8"
         },
         "xaxis": "x",
         "y": {
          "bdata": "AAAAAACgXsAAAAAAAKBewAAAAAAANWvAAAAAAAA1a8A=",
          "dtype": "f8"
         },
         "yaxis": "y"
        },
        {
         "hoverinfo": "text",
         "marker": {
          "color": "rgb(0,116,217)"
         },
         "mode": "lines",
         "type": "scatter",
         "x": {
          "bdata": "NqwIgyD36T9EtR65ujzwP0S1Hrm6PPA/Jw+vmkL07D8=",
          "dtype": "f8"
         },
         "xaxis": "x",
         "y": {
          "bdata": "AAAAAABAT8AAAAAAAEBPwAAAAACAQmXAAAAAAIBCZcA=",
          "dtype": "f8"
         },
         "yaxis": "y"
        },
        {
         "hoverinfo": "text",
         "marker": {
          "color": "rgb(0,116,217)"
         },
         "mode": "lines",
         "type": "scatter",
         "x": {
          "bdata": "juH/CKLh5j/5luYFTHPxP/mW5gVMc/E/RLUeubo88D8=",
          "dtype": "f8"
         },
         "xaxis": "x",
         "y": {
          "bdata": "AAAAAACAMcAAAAAAAIAxwAAAAACAEl3AAAAAAIASXcA=",
          "dtype": "f8"
         },
         "yaxis": "y"
        },
        {
         "hoverinfo": "text",
         "marker": {
          "color": "rgb(133,20,75)"
         },
         "mode": "lines",
         "type": "scatter",
         "x": {
          "bdata": "AAAAAAAAAABGwjqt5F/fP0bCOq3kX98/AAAAAAAAAAA=",
          "dtype": "f8"
         },
         "xaxis": "x",
         "y": {
          "bdata": "AAAAAADQccAAAAAAANBxwAAAAAAAcHLAAAAAAABwcsA=",
          "dtype": "f8"
         },
         "yaxis": "y"
        },
        {
         "hoverinfo": "text",
         "marker": {
          "color": "rgb(133,20,75)"
         },
         "mode": "lines",
         "type": "scatter",
         "x": {
          "bdata": "AAAAAAAAAACWvfaeVZLkP5a99p5VkuQ/RsI6reRf3z8=",
          "dtype": "f8"
         },
         "xaxis": "x",
         "y": {
          "bdata": "AAAAAAAwccAAAAAAADBxwAAAAAAAIHLAAAAAAAAgcsA=",
          "dtype": "f8"
         },
         "yaxis": "y"
        },
        {
         "hoverinfo": "text",
         "marker": {
          "color": "rgb(133,20,75)"
         },
         "mode": "lines",
         "type": "scatter",
         "x": {
          "bdata": "AAAAAAAAAAD8iwUnt9/WP/yLBSe339Y/AAAAAAAAAAA=",
          "dtype": "f8"
         },
         "xaxis": "x",
         "y": {
          "bdata": "AAAAAAAQc8AAAAAAABBzwAAAAAAAsHPAAAAAAACwc8A=",
          "dtype": "f8"
         },
         "yaxis": "y"
        },
        {
         "hoverinfo": "text",
         "marker": {
          "color": "rgb(133,20,75)"
         },
         "mode": "lines",
         "type": "scatter",
         "x": {
          "bdata": "AAAAAAAAAAD2WXYVENnUP/ZZdhUQ2dQ/AAAAAAAAAAA=",
          "dtype": "f8"
         },
         "xaxis": "x",
         "y": {
          "bdata": "AAAAAABQdMAAAAAAAFB0wAAAAAAA8HTAAAAAAADwdMA=",
          "dtype": "f8"
         },
         "yaxis": "y"
        },
        {
         "hoverinfo": "text",
         "marker": {
          "color": "rgb(133,20,75)"
         },
         "mode": "lines",
         "type": "scatter",
         "x": {
          "bdata": "9ll2FRDZ1D8TEWisfHblPxMRaKx8duU/AAAAAAAAAAA=",
          "dtype": "f8"
         },
         "xaxis": "x",
         "y": {
          "bdata": "AAAAAACgdMAAAAAAAKB0wAAAAAAAkHXAAAAAAACQdcA=",
          "dtype": "f8"
         },
         "yaxis": "y"
        },
        {
         "hoverinfo": "text",
         "marker": {
          "color": "rgb(133,20,75)"
         },
         "mode": "lines",
         "type": "scatter",
         "x": {
          "bdata": "/IsFJ7ff1j+mn7WHE//nP6aftYcT/+c/ExForHx25T8=",
          "dtype": "f8"
         },
         "xaxis": "x",
         "y": {
          "bdata": "AAAAAABgc8AAAAAAAGBzwAAAAAAAGHXAAAAAAAAYdcA=",
          "dtype": "f8"
         },
         "yaxis": "y"
        },
        {
         "hoverinfo": "text",
         "marker": {
          "color": "rgb(133,20,75)"
         },
         "mode": "lines",
         "type": "scatter",
         "x": {
          "bdata": "lr32nlWS5D9REfTBF7PpP1ER9MEXs+k/pp+1hxP/5z8=",
          "dtype": "f8"
         },
         "xaxis": "x",
         "y": {
          "bdata": "AAAAAACoccAAAAAAAKhxwAAAAAAAPHTAAAAAAAA8dMA=",
          "dtype": "f8"
         },
         "yaxis": "y"
        },
        {
         "hoverinfo": "text",
         "marker": {
          "color": "rgb(133,20,75)"
         },
         "mode": "lines",
         "type": "scatter",
         "x": {
          "bdata": "AAAAAAAAAACSFywdlI3TP5IXLB2UjdM/AAAAAAAAAAA=",
          "dtype": "f8"
         },
         "xaxis": "x",
         "y": {
          "bdata": "AAAAAAAwdsAAAAAAADB2wAAAAAAA0HbAAAAAAADQdsA=",
          "dtype": "f8"
         },
         "yaxis": "y"
        },
        {
         "hoverinfo": "text",
         "marker": {
          "color": "rgb(133,20,75)"
         },
         "mode": "lines",
         "type": "scatter",
         "x": {
          "bdata": "URH0wRez6T/J8jyvH7bsP8nyPK8ftuw/khcsHZSN0z8=",
          "dtype": "f8"
         },
         "xaxis": "x",
         "y": {
          "bdata": "AAAAAADycsAAAAAAAPJywAAAAAAAgHbAAAAAAACAdsA=",
          "dtype": "f8"
         },
         "yaxis": "y"
        },
        {
         "hoverinfo": "text",
         "marker": {
          "color": "rgb(255,220,0)"
         },
         "mode": "lines",
         "type": "scatter",
         "x": {
          "bdata": "AAAAAAAAAAB4o1XVX7/bP3ijVdVfv9s/AAAAAAAAAAA=",
          "dtype": "f8"
         },
         "xaxis": "x",
         "y": {
          "bdata": "AAAAAABwd8AAAAAAAHB3wAAAAAAAEHjAAAAAAAAQeMA=",
          "dtype": "f8"
         },
         "yaxis": "y"
        },
        {
         "hoverinfo": "text",
         "marker": {
          "color": "rgb(255,220,0)"
         },
         "mode": "lines",
         "type": "scatter",
         "x": {
          "bdata": "AAAAAAAAAADKlWqzVDbWP8qVarNUNtY/AAAAAAAAAAA=",
          "dtype": "f8"
         },
         "xaxis": "x",
         "y": {
          "bdata": "AAAAAABQecAAAAAAAFB5wAAAAAAA8HnAAAAAAADwecA=",
          "dtype": "f8"
         },
         "yaxis": "y"
        },
        {
         "hoverinfo": "text",
         "marker": {
          "color": "rgb(255,220,0)"
         },
         "mode": "lines",
         "type": "scatter",
         "x": {
          "bdata": "AAAAAAAAAAC/Esjq5VvbP78SyOrlW9s/ypVqs1Q21j8=",
          "dtype": "f8"
         },
         "xaxis": "x",
         "y": {
          "bdata": "AAAAAACweMAAAAAAALB4wAAAAAAAoHnAAAAAAACgecA=",
          "dtype": "f8"
         },
         "yaxis": "y"
        },
        {
         "hoverinfo": "text",
         "marker": {
          "color": "rgb(255,220,0)"
         },
         "mode": "lines",
         "type": "scatter",
         "x": {
          "bdata": "eKNV1V+/2z+IaCx5QwTnP4hoLHlDBOc/vxLI6uVb2z8=",
          "dtype": "f8"
         },
         "xaxis": "x",
         "y": {
          "bdata": "AAAAAADAd8AAAAAAAMB3wAAAAAAAKHnAAAAAAAAoecA=",
          "dtype": "f8"
         },
         "yaxis": "y"
        },
        {
         "hoverinfo": "text",
         "marker": {
          "color": "rgb(0,116,217)"
         },
         "mode": "lines",
         "type": "scatter",
         "x": {
          "bdata": "yfI8rx+27D8jwLGJwvDyPyPAsYnC8PI/iGgseUME5z8=",
          "dtype": "f8"
         },
         "xaxis": "x",
         "y": {
          "bdata": "AAAAAAC5dMAAAAAAALl0wAAAAAAAdHjAAAAAAAB0eMA=",
          "dtype": "f8"
         },
         "yaxis": "y"
        },
        {
         "hoverinfo": "text",
         "marker": {
          "color": "rgb(0,116,217)"
         },
         "mode": "lines",
         "type": "scatter",
         "x": {
          "bdata": "+ZbmBUxz8T/IEZC2Y2z2P8gRkLZjbPY/I8CxicLw8j8=",
          "dtype": "f8"
         },
         "xaxis": "x",
         "y": {
          "bdata": "AAAAAEC5UMAAAAAAQLlQwAAAAACAlnbAAAAAAICWdsA=",
          "dtype": "f8"
         },
         "yaxis": "y"
        },
        {
         "hoverinfo": "text",
         "marker": {
          "color": "rgb(40,35,35)"
         },
         "mode": "lines",
         "type": "scatter",
         "x": {
          "bdata": "AAAAAAAAAABAMqzxeUfmP0AyrPF5R+Y/AAAAAAAAAAA=",
          "dtype": "f8"
         },
         "xaxis": "x",
         "y": {
          "bdata": "AAAAAAAwe8AAAAAAADB7wAAAAAAA0HvAAAAAAADQe8A=",
          "dtype": "f8"
         },
         "yaxis": "y"
        },
        {
         "hoverinfo": "text",
         "marker": {
          "color": "rgb(40,35,35)"
         },
         "mode": "lines",
         "type": "scatter",
         "x": {
          "bdata": "QDKs8XlH5j8dKWBSo+vmPx0pYFKj6+Y/AAAAAAAAAAA=",
          "dtype": "f8"
         },
         "xaxis": "x",
         "y": {
          "bdata": "AAAAAACAe8AAAAAAAIB7wAAAAAAAcHzAAAAAAABwfMA=",
          "dtype": "f8"
         },
         "yaxis": "y"
        },
        {
         "hoverinfo": "text",
         "marker": {
          "color": "rgb(40,35,35)"
         },
         "mode": "lines",
         "type": "scatter",
         "x": {
          "bdata": "AAAAAAAAAACV7kN0nUvqP5XuQ3SdS+o/HSlgUqPr5j8=",
          "dtype": "f8"
         },
         "xaxis": "x",
         "y": {
          "bdata": "AAAAAACQesAAAAAAAJB6wAAAAAAA+HvAAAAAAAD4e8A=",
          "dtype": "f8"
         },
         "yaxis": "y"
        },
        {
         "hoverinfo": "text",
         "marker": {
          "color": "rgb(40,35,35)"
         },
         "mode": "lines",
         "type": "scatter",
         "x": {
          "bdata": "AAAAAAAAAABWCUUZ7EvcP1YJRRnsS9w/AAAAAAAAAAA=",
          "dtype": "f8"
         },
         "xaxis": "x",
         "y": {
          "bdata": "AAAAAABQfsAAAAAAAFB+wAAAAAAA8H7AAAAAAADwfsA=",
          "dtype": "f8"
         },
         "yaxis": "y"
        },
        {
         "hoverinfo": "text",
         "marker": {
          "color": "rgb(40,35,35)"
         },
         "mode": "lines",
         "type": "scatter",
         "x": {
          "bdata": "AAAAAAAAAAAEiMQz2y7kPwSIxDPbLuQ/VglFGexL3D8=",
          "dtype": "f8"
         },
         "xaxis": "x",
         "y": {
          "bdata": "AAAAAACwfcAAAAAAALB9wAAAAAAAoH7AAAAAAACgfsA=",
          "dtype": "f8"
         },
         "yaxis": "y"
        },
        {
         "hoverinfo": "text",
         "marker": {
          "color": "rgb(40,35,35)"
         },
         "mode": "lines",
         "type": "scatter",
         "x": {
          "bdata": "AAAAAAAAAACZgpEu3iHlP5mCkS7eIeU/BIjEM9su5D8=",
          "dtype": "f8"
         },
         "xaxis": "x",
         "y": {
          "bdata": "AAAAAAAQfcAAAAAAABB9wAAAAAAAKH7AAAAAAAAofsA=",
          "dtype": "f8"
         },
         "yaxis": "y"
        },
        {
         "hoverinfo": "text",
         "marker": {
          "color": "rgb(40,35,35)"
         },
         "mode": "lines",
         "type": "scatter",
         "x": {
          "bdata": "le5DdJ1L6j/L9bM5MILuP8v1szkwgu4/mYKRLt4h5T8=",
          "dtype": "f8"
         },
         "xaxis": "x",
         "y": {
          "bdata": "AAAAAABEe8AAAAAAAER7wAAAAAAAnH3AAAAAAACcfcA=",
          "dtype": "f8"
         },
         "yaxis": "y"
        },
        {
         "hoverinfo": "text",
         "marker": {
          "color": "rgb(40,35,35)"
         },
         "mode": "lines",
         "type": "scatter",
         "x": {
          "bdata": "AAAAAAAAAACQNUU9Ff7pP5A1RT0V/uk/AAAAAAAAAAA=",
          "dtype": "f8"
         },
         "xaxis": "x",
         "y": {
          "bdata": "AAAAAAAYgMAAAAAAABiAwAAAAAAAaIDAAAAAAABogMA=",
          "dtype": "f8"
         },
         "yaxis": "y"
        },
        {
         "hoverinfo": "text",
         "marker": {
          "color": "rgb(40,35,35)"
         },
         "mode": "lines",
         "type": "scatter",
         "x": {
          "bdata": "AAAAAAAAAAAHwFjK9kLrPwfAWMr2Qus/kDVFPRX+6T8=",
          "dtype": "f8"
         },
         "xaxis": "x",
         "y": {
          "bdata": "AAAAAACQf8AAAAAAAJB/wAAAAAAAQIDAAAAAAABAgMA=",
          "dtype": "f8"
         },
         "yaxis": "y"
        },
        {
         "hoverinfo": "text",
         "marker": {
          "color": "rgb(40,35,35)"
         },
         "mode": "lines",
         "type": "scatter",
         "x": {
          "bdata": "B8BYyvZC6z+LUqXOFvHsP4tSpc4W8ew/AAAAAAAAAAA=",
          "dtype": "f8"
         },
         "xaxis": "x",
         "y": {
          "bdata": "AAAAAAAEgMAAAAAAAASAwAAAAAAAuIDAAAAAAAC4gMA=",
          "dtype": "f8"
         },
         "yaxis": "y"
        },
        {
         "hoverinfo": "text",
         "marker": {
          "color": "rgb(40,35,35)"
         },
         "mode": "lines",
         "type": "scatter",
         "x": {
          "bdata": "y/WzOTCC7j9KpSEP5+3vP0qlIQ/n7e8/i1Klzhbx7D8=",
          "dtype": "f8"
         },
         "xaxis": "x",
         "y": {
          "bdata": "AAAAAABwfMAAAAAAAHB8wAAAAAAAXoDAAAAAAABegMA=",
          "dtype": "f8"
         },
         "yaxis": "y"
        },
        {
         "hoverinfo": "text",
         "marker": {
          "color": "rgb(61,153,112)"
         },
         "mode": "lines",
         "type": "scatter",
         "x": {
          "bdata": "AAAAAAAAAACqhsdDLzbWP6qGx0MvNtY/AAAAAAAAAAA=",
          "dtype": "f8"
         },
         "xaxis": "x",
         "y": {
          "bdata": "AAAAAAAIgcAAAAAAAAiBwAAAAAAAWIHAAAAAAABYgcA=",
          "dtype": "f8"
         },
         "yaxis": "y"
        },
        {
         "hoverinfo": "text",
         "marker": {
          "color": "rgb(61,153,112)"
         },
         "mode": "lines",
         "type": "scatter",
         "x": {
          "bdata": "qobHQy821j/U/hQH1gfhP9T+FAfWB+E/AAAAAAAAAAA=",
          "dtype": "f8"
         },
         "xaxis": "x",
         "y": {
          "bdata": "AAAAAAAwgcAAAAAAADCBwAAAAAAAqIHAAAAAAACogcA=",
          "dtype": "f8"
         },
         "yaxis": "y"
        },
        {
         "hoverinfo": "text",
         "marker": {
          "color": "rgb(0,116,217)"
         },
         "mode": "lines",
         "type": "scatter",
         "x": {
          "bdata": "SqUhD+ft7z+78BKxcuTxP7vwErFy5PE/1P4UB9YH4T8=",
          "dtype": "f8"
         },
         "xaxis": "x",
         "y": {
          "bdata": "AAAAAACWfsAAAAAAAJZ+wAAAAAAAbIHAAAAAAABsgcA=",
          "dtype": "f8"
         },
         "yaxis": "y"
        },
        {
         "hoverinfo": "text",
         "marker": {
          "color": "rgb(255,65,54)"
         },
         "mode": "lines",
         "type": "scatter",
         "x": {
          "bdata": "AAAAAAAAAACKUIMkOWTaP4pQgyQ5ZNo/AAAAAAAAAAA=",
          "dtype": "f8"
         },
         "xaxis": "x",
         "y": {
          "bdata": "AAAAAABIgsAAAAAAAEiCwAAAAAAAmILAAAAAAACYgsA=",
          "dtype": "f8"
         },
         "yaxis": "y"
        },
        {
         "hoverinfo": "text",
         "marker": {
          "color": "rgb(255,65,54)"
         },
         "mode": "lines",
         "type": "scatter",
         "x": {
          "bdata": "AAAAAAAAAACY/+oJG53iP5j/6gkbneI/ilCDJDlk2j8=",
          "dtype": "f8"
         },
         "xaxis": "x",
         "y": {
          "bdata": "AAAAAAD4gcAAAAAAAPiBwAAAAAAAcILAAAAAAABwgsA=",
          "dtype": "f8"
         },
         "yaxis": "y"
        },
        {
         "hoverinfo": "text",
         "marker": {
          "color": "rgb(35,205,205)"
         },
         "mode": "lines",
         "type": "scatter",
         "x": {
          "bdata": "AAAAAAAAAADMfpfUCTHTP8x+l9QJMdM/AAAAAAAAAAA=",
          "dtype": "f8"
         },
         "xaxis": "x",
         "y": {
          "bdata": "AAAAAAA4g8AAAAAAADiDwAAAAAAAiIPAAAAAAACIg8A=",
          "dtype": "f8"
         },
         "yaxis": "y"
        },
        {
         "hoverinfo": "text",
         "marker": {
          "color": "rgb(35,205,205)"
         },
         "mode": "lines",
         "type": "scatter",
         "x": {
          "bdata": "AAAAAAAAAACx8ygrqZnhP7HzKCupmeE/zH6X1Akx0z8=",
          "dtype": "f8"
         },
         "xaxis": "x",
         "y": {
          "bdata": "AAAAAADogsAAAAAAAOiCwAAAAAAAYIPAAAAAAABgg8A=",
          "dtype": "f8"
         },
         "yaxis": "y"
        },
        {
         "hoverinfo": "text",
         "marker": {
          "color": "rgb(35,205,205)"
         },
         "mode": "lines",
         "type": "scatter",
         "x": {
          "bdata": "AAAAAAAAAADAHMqt8cLeP8Acyq3xwt4/AAAAAAAAAAA=",
          "dtype": "f8"
         },
         "xaxis": "x",
         "y": {
          "bdata": "AAAAAADYg8AAAAAAANiDwAAAAAAAKITAAAAAAAAohMA=",
          "dtype": "f8"
         },
         "yaxis": "y"
        },
        {
         "hoverinfo": "text",
         "marker": {
          "color": "rgb(35,205,205)"
         },
         "mode": "lines",
         "type": "scatter",
         "x": {
          "bdata": "sfMoK6mZ4T9TnFG+Pj7sP1OcUb4+Puw/wBzKrfHC3j8=",
          "dtype": "f8"
         },
         "xaxis": "x",
         "y": {
          "bdata": "AAAAAAAkg8AAAAAAACSDwAAAAAAAAITAAAAAAAAAhMA=",
          "dtype": "f8"
         },
         "yaxis": "y"
        },
        {
         "hoverinfo": "text",
         "marker": {
          "color": "rgb(0,116,217)"
         },
         "mode": "lines",
         "type": "scatter",
         "x": {
          "bdata": "mP/qCRud4j8CGg8g0gnxPwIaDyDSCfE/U5xRvj4+7D8=",
          "dtype": "f8"
         },
         "xaxis": "x",
         "y": {
          "bdata": "AAAAAAA0gsAAAAAAADSCwAAAAAAAkoPAAAAAAACSg8A=",
          "dtype": "f8"
         },
         "yaxis": "y"
        },
        {
         "hoverinfo": "text",
         "marker": {
          "color": "rgb(0,116,217)"
         },
         "mode": "lines",
         "type": "scatter",
         "x": {
          "bdata": "u/ASsXLk8T+E40puyB/zP4TjSm7IH/M/AhoPINIJ8T8=",
          "dtype": "f8"
         },
         "xaxis": "x",
         "y": {
          "bdata": "AAAAAIBbgMAAAAAAgFuAwAAAAAAA44LAAAAAAADjgsA=",
          "dtype": "f8"
         },
         "yaxis": "y"
        },
        {
         "hoverinfo": "text",
         "marker": {
          "color": "rgb(61,153,112)"
         },
         "mode": "lines",
         "type": "scatter",
         "x": {
          "bdata": "AAAAAAAAAAAO0Gl0/h/WPw7QaXT+H9Y/AAAAAAAAAAA=",
          "dtype": "f8"
         },
         "xaxis": "x",
         "y": {
          "bdata": "AAAAAADIhMAAAAAAAMiEwAAAAAAAGIXAAAAAAAAYhcA=",
          "dtype": "f8"
         },
         "yaxis": "y"
        },
        {
         "hoverinfo": "text",
         "marker": {
          "color": "rgb(61,153,112)"
         },
         "mode": "lines",
         "type": "scatter",
         "x": {
          "bdata": "DtBpdP4f1j+ZWeDl2NndP5lZ4OXY2d0/AAAAAAAAAAA=",
          "dtype": "f8"
         },
         "xaxis": "x",
         "y": {
          "bdata": "AAAAAADwhMAAAAAAAPCEwAAAAAAAaIXAAAAAAABohcA=",
          "dtype": "f8"
         },
         "yaxis": "y"
        },
        {
         "hoverinfo": "text",
         "marker": {
          "color": "rgb(61,153,112)"
         },
         "mode": "lines",
         "type": "scatter",
         "x": {
          "bdata": "AAAAAAAAAAAjqjr3+LDnPyOqOvf4sOc/mVng5djZ3T8=",
          "dtype": "f8"
         },
         "xaxis": "x",
         "y": {
          "bdata": "AAAAAAB4hMAAAAAAAHiEwAAAAAAALIXAAAAAAAAshcA=",
          "dtype": "f8"
         },
         "yaxis": "y"
        },
        {
         "hoverinfo": "text",
         "marker": {
          "color": "rgb(61,153,112)"
         },
         "mode": "lines",
         "type": "scatter",
         "x": {
          "bdata": "AAAAAAAAAADqoY/VktDXP+qhj9WS0Nc/AAAAAAAAAAA=",
          "dtype": "f8"
         },
         "xaxis": "x",
         "y": {
          "bdata": "AAAAAAAIhsAAAAAAAAiGwAAAAAAAWIbAAAAAAABYhsA=",
          "dtype": "f8"
         },
         "yaxis": "y"
        },
        {
         "hoverinfo": "text",
         "marker": {
          "color": "rgb(61,153,112)"
         },
         "mode": "lines",
         "type": "scatter",
         "x": {
          "bdata": "AAAAAAAAAAD96oEJSNTgP/3qgQlI1OA/6qGP1ZLQ1z8=",
          "dtype": "f8"
         },
         "xaxis": "x",
         "y": {
          "bdata": "AAAAAAC4hcAAAAAAALiFwAAAAAAAMIbAAAAAAAAwhsA=",
          "dtype": "f8"
         },
         "yaxis": "y"
        },
        {
         "hoverinfo": "text",
         "marker": {
          "color": "rgb(61,153,112)"
         },
         "mode": "lines",
         "type": "scatter",
         "x": {
          "bdata": "/eqBCUjU4D+/QEb9zurmP79ARv3O6uY/AAAAAAAAAAA=",
          "dtype": "f8"
         },
         "xaxis": "x",
         "y": {
          "bdata": "AAAAAAD0hcAAAAAAAPSFwAAAAAAAqIbAAAAAAACohsA=",
          "dtype": "f8"
         },
         "yaxis": "y"
        },
        {
         "hoverinfo": "text",
         "marker": {
          "color": "rgb(61,153,112)"
         },
         "mode": "lines",
         "type": "scatter",
         "x": {
          "bdata": "I6o69/iw5z+IM2odJJbtP4gzah0klu0/v0BG/c7q5j8=",
          "dtype": "f8"
         },
         "xaxis": "x",
         "y": {
          "bdata": "AAAAAADShMAAAAAAANKEwAAAAAAATobAAAAAAABOhsA=",
          "dtype": "f8"
         },
         "yaxis": "y"
        },
        {
         "hoverinfo": "text",
         "marker": {
          "color": "rgb(255,65,54)"
         },
         "mode": "lines",
         "type": "scatter",
         "x": {
          "bdata": "AAAAAAAAAAAQCBzwNrbbPxAIHPA2tts/AAAAAAAAAAA=",
          "dtype": "f8"
         },
         "xaxis": "x",
         "y": {
          "bdata": "AAAAAABIh8AAAAAAAEiHwAAAAAAAmIfAAAAAAACYh8A=",
          "dtype": "f8"
         },
         "yaxis": "y"
        },
        {
         "hoverinfo": "text",
         "marker": {
          "color": "rgb(255,65,54)"
         },
         "mode": "lines",
         "type": "scatter",
         "x": {
          "bdata": "AAAAAAAAAADHhqntvFfiP8eGqe28V+I/EAgc8Da22z8=",
          "dtype": "f8"
         },
         "xaxis": "x",
         "y": {
          "bdata": "AAAAAAD4hsAAAAAAAPiGwAAAAAAAcIfAAAAAAABwh8A=",
          "dtype": "f8"
         },
         "yaxis": "y"
        },
        {
         "hoverinfo": "text",
         "marker": {
          "color": "rgb(255,65,54)"
         },
         "mode": "lines",
         "type": "scatter",
         "x": {
          "bdata": "AAAAAAAAAAB89lWIzl3eP3z2VYjOXd4/AAAAAAAAAAA=",
          "dtype": "f8"
         },
         "xaxis": "x",
         "y": {
          "bdata": "AAAAAADoh8AAAAAAAOiHwAAAAAAAOIjAAAAAAAA4iMA=",
          "dtype": "f8"
         },
         "yaxis": "y"
        },
        {
         "hoverinfo": "text",
         "marker": {
          "color": "rgb(255,65,54)"
         },
         "mode": "lines",
         "type": "scatter",
         "x": {
          "bdata": "fPZViM5d3j9sJBbRI+/hP2wkFtEj7+E/AAAAAAAAAAA=",
          "dtype": "f8"
         },
         "xaxis": "x",
         "y": {
          "bdata": "AAAAAAAQiMAAAAAAABCIwAAAAAAAiIjAAAAAAACIiMA=",
          "dtype": "f8"
         },
         "yaxis": "y"
        },
        {
         "hoverinfo": "text",
         "marker": {
          "color": "rgb(255,65,54)"
         },
         "mode": "lines",
         "type": "scatter",
         "x": {
          "bdata": "x4ap7bxX4j/RmK3Ih0PnP9GYrciHQ+c/bCQW0SPv4T8=",
          "dtype": "f8"
         },
         "xaxis": "x",
         "y": {
          "bdata": "AAAAAAA0h8AAAAAAADSHwAAAAAAATIjAAAAAAABMiMA=",
          "dtype": "f8"
         },
         "yaxis": "y"
        },
        {
         "hoverinfo": "text",
         "marker": {
          "color": "rgb(35,205,205)"
         },
         "mode": "lines",
         "type": "scatter",
         "x": {
          "bdata": "AAAAAAAAAADQLGHX5HriP9AsYdfkeuI/AAAAAAAAAAA=",
          "dtype": "f8"
         },
         "xaxis": "x",
         "y": {
          "bdata": "AAAAAADYiMAAAAAAANiIwAAAAAAAKInAAAAAAAAoicA=",
          "dtype": "f8"
         },
         "yaxis": "y"
        },
        {
         "hoverinfo": "text",
         "marker": {
          "color": "rgb(35,205,205)"
         },
         "mode": "lines",
         "type": "scatter",
         "x": {
          "bdata": "AAAAAAAAAADCYvjI8iXgP8Ji+MjyJeA/AAAAAAAAAAA=",
          "dtype": "f8"
         },
         "xaxis": "x",
         "y": {
          "bdata": "AAAAAADIicAAAAAAAMiJwAAAAAAAGIrAAAAAAAAYisA=",
          "dtype": "f8"
         },
         "yaxis": "y"
        },
        {
         "hoverinfo": "text",
         "marker": {
          "color": "rgb(35,205,205)"
         },
         "mode": "lines",
         "type": "scatter",
         "x": {
          "bdata": "AAAAAAAAAABl423OwUrmP2Xjbc7BSuY/wmL4yPIl4D8=",
          "dtype": "f8"
         },
         "xaxis": "x",
         "y": {
          "bdata": "AAAAAAB4icAAAAAAAHiJwAAAAAAA8InAAAAAAADwicA=",
          "dtype": "f8"
         },
         "yaxis": "y"
        },
        {
         "hoverinfo": "text",
         "marker": {
          "color": "rgb(35,205,205)"
         },
         "mode": "lines",
         "type": "scatter",
         "x": {
          "bdata": "0Cxh1+R64j8v8iAq50ntPy/yICrnSe0/ZeNtzsFK5j8=",
          "dtype": "f8"
         },
         "xaxis": "x",
         "y": {
          "bdata": "AAAAAAAAicAAAAAAAACJwAAAAAAAtInAAAAAAAC0icA=",
          "dtype": "f8"
         },
         "yaxis": "y"
        },
        {
         "hoverinfo": "text",
         "marker": {
          "color": "rgb(133,20,75)"
         },
         "mode": "lines",
         "type": "scatter",
         "x": {
          "bdata": "AAAAAAAAAABdvfmlD0PgP129+aUPQ+A/AAAAAAAAAAA=",
          "dtype": "f8"
         },
         "xaxis": "x",
         "y": {
          "bdata": "AAAAAAC4isAAAAAAALiKwAAAAAAACIvAAAAAAAAIi8A=",
          "dtype": "f8"
         },
         "yaxis": "y"
        },
        {
         "hoverinfo": "text",
         "marker": {
          "color": "rgb(133,20,75)"
         },
         "mode": "lines",
         "type": "scatter",
         "x": {
          "bdata": "Xb35pQ9D4D/GWwO9IM/jP8ZbA70gz+M/AAAAAAAAAAA=",
          "dtype": "f8"
         },
         "xaxis": "x",
         "y": {
          "bdata": "AAAAAADgisAAAAAAAOCKwAAAAAAAWIvAAAAAAABYi8A=",
          "dtype": "f8"
         },
         "yaxis": "y"
        },
        {
         "hoverinfo": "text",
         "marker": {
          "color": "rgb(133,20,75)"
         },
         "mode": "lines",
         "type": "scatter",
         "x": {
          "bdata": "AAAAAAAAAACAasx46fbmP4BqzHjp9uY/xlsDvSDP4z8=",
          "dtype": "f8"
         },
         "xaxis": "x",
         "y": {
          "bdata": "AAAAAABoisAAAAAAAGiKwAAAAAAAHIvAAAAAAAAci8A=",
          "dtype": "f8"
         },
         "yaxis": "y"
        },
        {
         "hoverinfo": "text",
         "marker": {
          "color": "rgb(133,20,75)"
         },
         "mode": "lines",
         "type": "scatter",
         "x": {
          "bdata": "gGrMeOn25j8CTnmrXhfoPwJOeateF+g/AAAAAAAAAAA=",
          "dtype": "f8"
         },
         "xaxis": "x",
         "y": {
          "bdata": "AAAAAADCisAAAAAAAMKKwAAAAAAAqIvAAAAAAACoi8A=",
          "dtype": "f8"
         },
         "yaxis": "y"
        },
        {
         "hoverinfo": "text",
         "marker": {
          "color": "rgb(133,20,75)"
         },
         "mode": "lines",
         "type": "scatter",
         "x": {
          "bdata": "AAAAAAAAAABVq33u7yvmP1Wrfe7vK+Y/AAAAAAAAAAA=",
          "dtype": "f8"
         },
         "xaxis": "x",
         "y": {
          "bdata": "AAAAAAD4i8AAAAAAAPiLwAAAAAAASIzAAAAAAABIjMA=",
          "dtype": "f8"
         },
         "yaxis": "y"
        },
        {
         "hoverinfo": "text",
         "marker": {
          "color": "rgb(133,20,75)"
         },
         "mode": "lines",
         "type": "scatter",
         "x": {
          "bdata": "Ak55q14X6D+R3jSgIGHpP5HeNKAgYek/Vat97u8r5j8=",
          "dtype": "f8"
         },
         "xaxis": "x",
         "y": {
          "bdata": "AAAAAAA1i8AAAAAAADWLwAAAAAAAIIzAAAAAAAAgjMA=",
          "dtype": "f8"
         },
         "yaxis": "y"
        },
        {
         "hoverinfo": "text",
         "marker": {
          "color": "rgb(133,20,75)"
         },
         "mode": "lines",
         "type": "scatter",
         "x": {
          "bdata": "AAAAAAAAAAD2Whs+8BbjP/ZaGz7wFuM/AAAAAAAAAAA=",
          "dtype": "f8"
         },
         "xaxis": "x",
         "y": {
          "bdata": "AAAAAACYjMAAAAAAAJiMwAAAAAAA6IzAAAAAAADojMA=",
          "dtype": "f8"
         },
         "yaxis": "y"
        },
        {
         "hoverinfo": "text",
         "marker": {
          "color": "rgb(133,20,75)"
         },
         "mode": "lines",
         "type": "scatter",
         "x": {
          "bdata": "9lobPvAW4z9XVM2KrLTmP1dUzYqstOY/AAAAAAAAAAA=",
          "dtype": "f8"
         },
         "xaxis": "x",
         "y": {
          "bdata": "AAAAAADAjMAAAAAAAMCMwAAAAAAAOI3AAAAAAAA4jcA=",
          "dtype": "f8"
         },
         "yaxis": "y"
        },
        {
         "hoverinfo": "text",
         "marker": {
          "color": "rgb(133,20,75)"
         },
         "mode": "lines",
         "type": "scatter",
         "x": {
          "bdata": "AAAAAAAAAAD+7W70wzvhP/7tbvTDO+E/AAAAAAAAAAA=",
          "dtype": "f8"
         },
         "xaxis": "x",
         "y": {
          "bdata": "AAAAAADYjcAAAAAAANiNwAAAAAAAKI7AAAAAAAAojsA=",
          "dtype": "f8"
         },
         "yaxis": "y"
        },
        {
         "hoverinfo": "text",
         "marker": {
          "color": "rgb(133,20,75)"
         },
         "mode": "lines",
         "type": "scatter",
         "x": {
          "bdata": "AAAAAAAAAABesV5L16XkP16xXkvXpeQ//u1u9MM74T8=",
          "dtype": "f8"
         },
         "xaxis": "x",
         "y": {
          "bdata": "AAAAAACIjcAAAAAAAIiNwAAAAAAAAI7AAAAAAAAAjsA=",
          "dtype": "f8"
         },
         "yaxis": "y"
        },
        {
         "hoverinfo": "text",
         "marker": {
          "color": "rgb(133,20,75)"
         },
         "mode": "lines",
         "type": "scatter",
         "x": {
          "bdata": "XrFeS9el5D8B9mOHfBrlPwH2Y4d8GuU/AAAAAAAAAAA=",
          "dtype": "f8"
         },
         "xaxis": "x",
         "y": {
          "bdata": "AAAAAADEjcAAAAAAAMSNwAAAAAAAeI7AAAAAAAB4jsA=",
          "dtype": "f8"
         },
         "yaxis": "y"
        },
        {
         "hoverinfo": "text",
         "marker": {
          "color": "rgb(133,20,75)"
         },
         "mode": "lines",
         "type": "scatter",
         "x": {
          "bdata": "V1TNiqy05j9kP84AMQDqP2Q/zgAxAOo/AfZjh3wa5T8=",
          "dtype": "f8"
         },
         "xaxis": "x",
         "y": {
          "bdata": "AAAAAAD8jMAAAAAAAPyMwAAAAAAAHo7AAAAAAAAejsA=",
          "dtype": "f8"
         },
         "yaxis": "y"
        },
        {
         "hoverinfo": "text",
         "marker": {
          "color": "rgb(133,20,75)"
         },
         "mode": "lines",
         "type": "scatter",
         "x": {
          "bdata": "kd40oCBh6T847MWBO/fsPzjsxYE79+w/ZD/OADEA6j8=",
          "dtype": "f8"
         },
         "xaxis": "x",
         "y": {
          "bdata": "AAAAAICqi8AAAAAAgKqLwAAAAAAAjY3AAAAAAACNjcA=",
          "dtype": "f8"
         },
         "yaxis": "y"
        },
        {
         "hoverinfo": "text",
         "marker": {
          "color": "rgb(255,220,0)"
         },
         "mode": "lines",
         "type": "scatter",
         "x": {
          "bdata": "AAAAAAAAAACUeiJ6cT7YP5R6InpxPtg/AAAAAAAAAAA=",
          "dtype": "f8"
         },
         "xaxis": "x",
         "y": {
          "bdata": "AAAAAAAYj8AAAAAAABiPwAAAAAAAaI/AAAAAAABoj8A=",
          "dtype": "f8"
         },
         "yaxis": "y"
        },
        {
         "hoverinfo": "text",
         "marker": {
          "color": "rgb(255,220,0)"
         },
         "mode": "lines",
         "type": "scatter",
         "x": {
          "bdata": "lHoienE+2D/FOqtQNk7mP8U6q1A2TuY/AAAAAAAAAAA=",
          "dtype": "f8"
         },
         "xaxis": "x",
         "y": {
          "bdata": "AAAAAABAj8AAAAAAAECPwAAAAAAAuI/AAAAAAAC4j8A=",
          "dtype": "f8"
         },
         "yaxis": "y"
        },
        {
         "hoverinfo": "text",
         "marker": {
          "color": "rgb(255,220,0)"
         },
         "mode": "lines",
         "type": "scatter",
         "x": {
          "bdata": "AAAAAAAAAAC/mQXcG7/oP7+ZBdwbv+g/xTqrUDZO5j8=",
          "dtype": "f8"
         },
         "xaxis": "x",
         "y": {
          "bdata": "AAAAAADIjsAAAAAAAMiOwAAAAAAAfI/AAAAAAAB8j8A=",
          "dtype": "f8"
         },
         "yaxis": "y"
        },
        {
         "hoverinfo": "text",
         "marker": {
          "color": "rgb(0,116,217)"
         },
         "mode": "lines",
         "type": "scatter",
         "x": {
          "bdata": "OOzFgTv37D9T0y4ZXEbwP1PTLhlcRvA/v5kF3Bu/6D8=",
          "dtype": "f8"
         },
         "xaxis": "x",
         "y": {
          "bdata": "AAAAAMCbjMAAAAAAwJuMwAAAAAAAIo/AAAAAAAAij8A=",
          "dtype": "f8"
         },
         "yaxis": "y"
        },
        {
         "hoverinfo": "text",
         "marker": {
          "color": "rgb(0,116,217)"
         },
         "mode": "lines",
         "type": "scatter",
         "x": {
          "bdata": "L/IgKudJ7T8mZSoE9rHwPyZlKgT2sfA/U9MuGVxG8D8=",
          "dtype": "f8"
         },
         "xaxis": "x",
         "y": {
          "bdata": "AAAAAABaicAAAAAAAFqJwAAAAADg3o3AAAAAAODejcA=",
          "dtype": "f8"
         },
         "yaxis": "y"
        },
        {
         "hoverinfo": "text",
         "marker": {
          "color": "rgb(40,35,35)"
         },
         "mode": "lines",
         "type": "scatter",
         "x": {
          "bdata": "AAAAAAAAAACMvKiw19DaP4y8qLDX0No/AAAAAAAAAAA=",
          "dtype": "f8"
         },
         "xaxis": "x",
         "y": {
          "bdata": "AAAAAAAskMAAAAAAACyQwAAAAAAAVJDAAAAAAABUkMA=",
          "dtype": "f8"
         },
         "yaxis": "y"
        },
        {
         "hoverinfo": "text",
         "marker": {
          "color": "rgb(40,35,35)"
         },
         "mode": "lines",
         "type": "scatter",
         "x": {
          "bdata": "AAAAAAAAAAA1Jt1RpVPhPzUm3VGlU+E/jLyosNfQ2j8=",
          "dtype": "f8"
         },
         "xaxis": "x",
         "y": {
          "bdata": "AAAAAAAEkMAAAAAAAASQwAAAAAAAQJDAAAAAAABAkMA=",
          "dtype": "f8"
         },
         "yaxis": "y"
        },
        {
         "hoverinfo": "text",
         "marker": {
          "color": "rgb(40,35,35)"
         },
         "mode": "lines",
         "type": "scatter",
         "x": {
          "bdata": "NSbdUaVT4T8rBycWRQ/jPysHJxZFD+M/AAAAAAAAAAA=",
          "dtype": "f8"
         },
         "xaxis": "x",
         "y": {
          "bdata": "AAAAAAAikMAAAAAAACKQwAAAAAAAfJDAAAAAAAB8kMA=",
          "dtype": "f8"
         },
         "yaxis": "y"
        },
        {
         "hoverinfo": "text",
         "marker": {
          "color": "rgb(0,116,217)"
         },
         "mode": "lines",
         "type": "scatter",
         "x": {
          "bdata": "JmUqBPax8D/ogjyl6E7xP+iCPKXoTvE/KwcnFkUP4z8=",
          "dtype": "f8"
         },
         "xaxis": "x",
         "y": {
          "bdata": "AAAAAHCci8AAAAAAcJyLwAAAAAAAT5DAAAAAAABPkMA=",
          "dtype": "f8"
         },
         "yaxis": "y"
        },
        {
         "hoverinfo": "text",
         "marker": {
          "color": "rgb(61,153,112)"
         },
         "mode": "lines",
         "type": "scatter",
         "x": {
          "bdata": "AAAAAAAAAAC2v8gK9sjfP7a/yAr2yN8/AAAAAAAAAAA=",
          "dtype": "f8"
         },
         "xaxis": "x",
         "y": {
          "bdata": "AAAAAABEkcAAAAAAAESRwAAAAAAAbJHAAAAAAABskcA=",
          "dtype": "f8"
         },
         "yaxis": "y"
        },
        {
         "hoverinfo": "text",
         "marker": {
          "color": "rgb(61,153,112)"
         },
         "mode": "lines",
         "type": "scatter",
         "x": {
          "bdata": "tr/ICvbI3z+XECZTKo3iP5cQJlMqjeI/AAAAAAAAAAA=",
          "dtype": "f8"
         },
         "xaxis": "x",
         "y": {
          "bdata": "AAAAAABYkcAAAAAAAFiRwAAAAAAAlJHAAAAAAACUkcA=",
          "dtype": "f8"
         },
         "yaxis": "y"
        },
        {
         "hoverinfo": "text",
         "marker": {
          "color": "rgb(61,153,112)"
         },
         "mode": "lines",
         "type": "scatter",
         "x": {
          "bdata": "AAAAAAAAAAC5GgV8TS3kP7kaBXxNLeQ/lxAmUyqN4j8=",
          "dtype": "f8"
         },
         "xaxis": "x",
         "y": {
          "bdata": "AAAAAAAckcAAAAAAAByRwAAAAAAAdpHAAAAAAAB2kcA=",
          "dtype": "f8"
         },
         "yaxis": "y"
        },
        {
         "hoverinfo": "text",
         "marker": {
          "color": "rgb(61,153,112)"
         },
         "mode": "lines",
         "type": "scatter",
         "x": {
          "bdata": "uRoFfE0t5D8gRFUOyKDlPyBEVQ7IoOU/AAAAAAAAAAA=",
          "dtype": "f8"
         },
         "xaxis": "x",
         "y": {
          "bdata": "AAAAAABJkcAAAAAAAEmRwAAAAAAAvJHAAAAAAAC8kcA=",
          "dtype": "f8"
         },
         "yaxis": "y"
        },
        {
         "hoverinfo": "text",
         "marker": {
          "color": "rgb(61,153,112)"
         },
         "mode": "lines",
         "type": "scatter",
         "x": {
          "bdata": "AAAAAAAAAACqj/OCuDHnP6qP84K4Mec/IERVDsig5T8=",
          "dtype": "f8"
         },
         "xaxis": "x",
         "y": {
          "bdata": "AAAAAAD0kMAAAAAAAPSQwAAAAACAgpHAAAAAAICCkcA=",
          "dtype": "f8"
         },
         "yaxis": "y"
        },
        {
         "hoverinfo": "text",
         "marker": {
          "color": "rgb(61,153,112)"
         },
         "mode": "lines",
         "type": "scatter",
         "x": {
          "bdata": "qo/zgrgx5z9tCqGaa5/nP20KoZprn+c/AAAAAAAAAAA=",
          "dtype": "f8"
         },
         "xaxis": "x",
         "y": {
          "bdata": "AAAAAEA7kcAAAAAAQDuRwAAAAAAA5JHAAAAAAADkkcA=",
          "dtype": "f8"
         },
         "yaxis": "y"
        },
        {
         "hoverinfo": "text",
         "marker": {
          "color": "rgb(61,153,112)"
         },
         "mode": "lines",
         "type": "scatter",
         "x": {
          "bdata": "AAAAAAAAAADB0OxEsSXoP8HQ7ESxJeg/bQqhmmuf5z8=",
          "dtype": "f8"
         },
         "xaxis": "x",
         "y": {
          "bdata": "AAAAAADMkMAAAAAAAMyQwAAAAACgj5HAAAAAAKCPkcA=",
          "dtype": "f8"
         },
         "yaxis": "y"
        },
        {
         "hoverinfo": "text",
         "marker": {
          "color": "rgb(61,153,112)"
         },
         "mode": "lines",
         "type": "scatter",
         "x": {
          "bdata": "wdDsRLEl6D9yDmvTvNboP3IOa9O81ug/AAAAAAAAAAA=",
          "dtype": "f8"
         },
         "xaxis": "x",
         "y": {
          "bdata": "AAAAANAtkcAAAAAA0C2RwAAAAAAADJLAAAAAAAAMksA=",
          "dtype": "f8"
         },
         "yaxis": "y"
        },
        {
         "hoverinfo": "text",
         "marker": {
          "color": "rgb(61,153,112)"
         },
         "mode": "lines",
         "type": "scatter",
         "x": {
          "bdata": "AAAAAAAAAAD9Wyh6i1frP/1bKHqLV+s/cg5r07zW6D8=",
          "dtype": "f8"
         },
         "xaxis": "x",
         "y": {
          "bdata": "AAAAAACkkMAAAAAAAKSQwAAAAADonJHAAAAAAOickcA=",
          "dtype": "f8"
         },
         "yaxis": "y"
        },
        {
         "hoverinfo": "text",
         "marker": {
          "color": "rgb(61,153,112)"
         },
         "mode": "lines",
         "type": "scatter",
         "x": {
          "bdata": "AAAAAAAAAACkyKuOnyTlP6TIq46fJOU/AAAAAAAAAAA=",
          "dtype": "f8"
         },
         "xaxis": "x",
         "y": {
          "bdata": "AAAAAABcksAAAAAAAFySwAAAAAAAhJLAAAAAAACEksA=",
          "dtype": "f8"
         },
         "yaxis": "y"
        },
        {
         "hoverinfo": "text",
         "marker": {
          "color": "rgb(61,153,112)"
         },
         "mode": "lines",
         "type": "scatter",
         "x": {
          "bdata": "AAAAAAAAAAADlXp4jRboPwOVeniNFug/pMirjp8k5T8=",
          "dtype": "f8"
         },
         "xaxis": "x",
         "y": {
          "bdata": "AAAAAAA0ksAAAAAAADSSwAAAAAAAcJLAAAAAAABwksA=",
          "dtype": "f8"
         },
         "yaxis": "y"
        },
        {
         "hoverinfo": "text",
         "marker": {
          "color": "rgb(61,153,112)"
         },
         "mode": "lines",
         "type": "scatter",
         "x": {
          "bdata": "AAAAAAAAAACSubRUaK7gP5K5tFRoruA/AAAAAAAAAAA=",
          "dtype": "f8"
         },
         "xaxis": "x",
         "y": {
          "bdata": "AAAAAACsksAAAAAAAKySwAAAAAAA1JLAAAAAAADUksA=",
          "dtype": "f8"
         },
         "yaxis": "y"
        },
        {
         "hoverinfo": "text",
         "marker": {
          "color": "rgb(61,153,112)"
         },
         "mode": "lines",
         "type": "scatter",
         "x": {
          "bdata": "krm0VGiu4D8nOsb3AKzkPyc6xvcArOQ/AAAAAAAAAAA=",
          "dtype": "f8"
         },
         "xaxis": "x",
         "y": {
          "bdata": "AAAAAADAksAAAAAAAMCSwAAAAAAA/JLAAAAAAAD8ksA=",
          "dtype": "f8"
         },
         "yaxis": "y"
        },
        {
         "hoverinfo": "text",
         "marker": {
          "color": "rgb(61,153,112)"
         },
         "mode": "lines",
         "type": "scatter",
         "x": {
          "bdata": "AAAAAAAAAAA22vtVZVLlPzba+1VlUuU/AAAAAAAAAAA=",
          "dtype": "f8"
         },
         "xaxis": "x",
         "y": {
          "bdata": "AAAAAAAkk8AAAAAAACSTwAAAAAAATJPAAAAAAABMk8A=",
          "dtype": "f8"
         },
         "yaxis": "y"
        },
        {
         "hoverinfo": "text",
         "marker": {
          "color": "rgb(61,153,112)"
         },
         "mode": "lines",
         "type": "scatter",
         "x": {
          "bdata": "JzrG9wCs5D//Atkz8oXnP/8C2TPyhec/Ntr7VWVS5T8=",
          "dtype": "f8"
         },
         "xaxis": "x",
         "y": {
          "bdata": "AAAAAADeksAAAAAAAN6SwAAAAAAAOJPAAAAAAAA4k8A=",
          "dtype": "f8"
         },
         "yaxis": "y"
        },
        {
         "hoverinfo": "text",
         "marker": {
          "color": "rgb(61,153,112)"
         },
         "mode": "lines",
         "type": "scatter",
         "x": {
          "bdata": "A5V6eI0W6D+fNi6GRDXqP582LoZENeo//wLZM/KF5z8=",
          "dtype": "f8"
         },
         "xaxis": "x",
         "y": {
          "bdata": "AAAAAABSksAAAAAAAFKSwAAAAAAAC5PAAAAAAAALk8A=",
          "dtype": "f8"
         },
         "yaxis": "y"
        },
        {
         "hoverinfo": "text",
         "marker": {
          "color": "rgb(61,153,112)"
         },
         "mode": "lines",
         "type": "scatter",
         "x": {
          "bdata": "AAAAAAAAAAApR8cfWWjoPylHxx9ZaOg/AAAAAAAAAAA=",
          "dtype": "f8"
         },
         "xaxis": "x",
         "y": {
          "bdata": "AAAAAAB0k8AAAAAAAHSTwAAAAAAAnJPAAAAAAACck8A=",
          "dtype": "f8"
         },
         "yaxis": "y"
        },
        {
         "hoverinfo": "text",
         "marker": {
          "color": "rgb(61,153,112)"
         },
         "mode": "lines",
         "type": "scatter",
         "x": {
          "bdata": "KUfHH1lo6D8AWo+sJHLpPwBaj6wkcuk/AAAAAAAAAAA=",
          "dtype": "f8"
         },
         "xaxis": "x",
         "y": {
          "bdata": "AAAAAACIk8AAAAAAAIiTwAAAAAAAxJPAAAAAAADEk8A=",
          "dtype": "f8"
         },
         "yaxis": "y"
        },
        {
         "hoverinfo": "text",
         "marker": {
          "color": "rgb(61,153,112)"
         },
         "mode": "lines",
         "type": "scatter",
         "x": {
          "bdata": "nzYuhkQ16j/8R1e5A+vqP/xHV7kD6+o/AFqPrCRy6T8=",
          "dtype": "f8"
         },
         "xaxis": "x",
         "y": {
          "bdata": "AAAAAICuksAAAAAAgK6SwAAAAAAAppPAAAAAAACmk8A=",
          "dtype": "f8"
         },
         "yaxis": "y"
        },
        {
         "hoverinfo": "text",
         "marker": {
          "color": "rgb(61,153,112)"
         },
         "mode": "lines",
         "type": "scatter",
         "x": {
          "bdata": "/VsoeotX6z+Z7xhEhJHsP5nvGESEkew//EdXuQPr6j8=",
          "dtype": "f8"
         },
         "xaxis": "x",
         "y": {
          "bdata": "AAAAAHQgkcAAAAAAdCCRwAAAAABAKpPAAAAAAEAqk8A=",
          "dtype": "f8"
         },
         "yaxis": "y"
        },
        {
         "hoverinfo": "text",
         "marker": {
          "color": "rgb(61,153,112)"
         },
         "mode": "lines",
         "type": "scatter",
         "x": {
          "bdata": "AAAAAAAAAAAweLDo/CzjPzB4sOj8LOM/AAAAAAAAAAA=",
          "dtype": "f8"
         },
         "xaxis": "x",
         "y": {
          "bdata": "AAAAAADsk8AAAAAAAOyTwAAAAAAAFJTAAAAAAAAUlMA=",
          "dtype": "f8"
         },
         "yaxis": "y"
        },
        {
         "hoverinfo": "text",
         "marker": {
          "color": "rgb(61,153,112)"
         },
         "mode": "lines",
         "type": "scatter",
         "x": {
          "bdata": "me8YRISR7D8xlxXaltTtPzGXFdqW1O0/MHiw6Pws4z8=",
          "dtype": "f8"
         },
         "xaxis": "x",
         "y": {
          "bdata": "AAAAAFolksAAAAAAWiWSwAAAAAAAAJTAAAAAAAAAlMA=",
          "dtype": "f8"
         },
         "yaxis": "y"
        },
        {
         "hoverinfo": "text",
         "marker": {
          "color": "rgb(61,153,112)"
         },
         "mode": "lines",
         "type": "scatter",
         "x": {
          "bdata": "AAAAAAAAAAArITuIq33lPyshO4irfeU/AAAAAAAAAAA=",
          "dtype": "f8"
         },
         "xaxis": "x",
         "y": {
          "bdata": "AAAAAAA8lMAAAAAAADyUwAAAAAAAZJTAAAAAAABklMA=",
          "dtype": "f8"
         },
         "yaxis": "y"
        },
        {
         "hoverinfo": "text",
         "marker": {
          "color": "rgb(61,153,112)"
         },
         "mode": "lines",
         "type": "scatter",
         "x": {
          "bdata": "AAAAAAAAAABCvQcR5qfmP0K9BxHmp+Y/AAAAAAAAAAA=",
          "dtype": "f8"
         },
         "xaxis": "x",
         "y": {
          "bdata": "AAAAAACMlMAAAAAAAIyUwAAAAAAAtJTAAAAAAAC0lMA=",
          "dtype": "f8"
         },
         "yaxis": "y"
        },
        {
         "hoverinfo": "text",
         "marker": {
          "color": "rgb(61,153,112)"
         },
         "mode": "lines",
         "type": "scatter",
         "x": {
          "bdata": "AAAAAAAAAAAxLCFKQUDiPzEsIUpBQOI/AAAAAAAAAAA=",
          "dtype": "f8"
         },
         "xaxis": "x",
         "y": {
          "bdata": "AAAAAAAElcAAAAAAAASVwAAAAAAALJXAAAAAAAAslcA=",
          "dtype": "f8"
         },
         "yaxis": "y"
        },
        {
         "hoverinfo": "text",
         "marker": {
          "color": "rgb(61,153,112)"
         },
         "mode": "lines",
         "type": "scatter",
         "x": {
          "bdata": "AAAAAAAAAACvdQ7C0nDmP691DsLScOY/MSwhSkFA4j8=",
          "dtype": "f8"
         },
         "xaxis": "x",
         "y": {
          "bdata": "AAAAAADclMAAAAAAANyUwAAAAAAAGJXAAAAAAAAYlcA=",
          "dtype": "f8"
         },
         "yaxis": "y"
        },
        {
         "hoverinfo": "text",
         "marker": {
          "color": "rgb(61,153,112)"
         },
         "mode": "lines",
         "type": "scatter",
         "x": {
          "bdata": "r3UOwtJw5j9tbsUvDU7oP21uxS8NTug/AAAAAAAAAAA=",
          "dtype": "f8"
         },
         "xaxis": "x",
         "y": {
          "bdata": "AAAAAAD6lMAAAAAAAPqUwAAAAAAAVJXAAAAAAABUlcA=",
          "dtype": "f8"
         },
         "yaxis": "y"
        },
        {
         "hoverinfo": "text",
         "marker": {
          "color": "rgb(61,153,112)"
         },
         "mode": "lines",
         "type": "scatter",
         "x": {
          "bdata": "Qr0HEean5j+mg9p7eQ3qP6aD2nt5Deo/bW7FLw1O6D8=",
          "dtype": "f8"
         },
         "xaxis": "x",
         "y": {
          "bdata": "AAAAAACglMAAAAAAAKCUwAAAAAAAJ5XAAAAAAAAnlcA=",
          "dtype": "f8"
         },
         "yaxis": "y"
        },
        {
         "hoverinfo": "text",
         "marker": {
          "color": "rgb(61,153,112)"
         },
         "mode": "lines",
         "type": "scatter",
         "x": {
          "bdata": "poPae3kN6j+p8ZbsUfTrP6nxluxR9Os/AAAAAAAAAAA=",
          "dtype": "f8"
         },
         "xaxis": "x",
         "y": {
          "bdata": "AAAAAIDjlMAAAAAAgOOUwAAAAAAAfJXAAAAAAAB8lcA=",
          "dtype": "f8"
         },
         "yaxis": "y"
        },
        {
         "hoverinfo": "text",
         "marker": {
          "color": "rgb(61,153,112)"
         },
         "mode": "lines",
         "type": "scatter",
         "x": {
          "bdata": "KyE7iKt95T9nF7v/gybuP2cXu/+DJu4/qfGW7FH06z8=",
          "dtype": "f8"
         },
         "xaxis": "x",
         "y": {
          "bdata": "AAAAAABQlMAAAAAAAFCUwAAAAADAL5XAAAAAAMAvlcA=",
          "dtype": "f8"
         },
         "yaxis": "y"
        },
        {
         "hoverinfo": "text",
         "marker": {
          "color": "rgb(61,153,112)"
         },
         "mode": "lines",
         "type": "scatter",
         "x": {
          "bdata": "MZcV2pbU7T+qzmSKzT3vP6rOZIrNPe8/Zxe7/4Mm7j8=",
          "dtype": "f8"
         },
         "xaxis": "x",
         "y": {
          "bdata": "AAAAAK0Sk8AAAAAArRKTwAAAAADgv5TAAAAAAOC/lMA=",
          "dtype": "f8"
         },
         "yaxis": "y"
        },
        {
         "hoverinfo": "text",
         "marker": {
          "color": "rgb(255,65,54)"
         },
         "mode": "lines",
         "type": "scatter",
         "x": {
          "bdata": "AAAAAAAAAAAvyRDUPmziPy/JENQ+bOI/AAAAAAAAAAA=",
          "dtype": "f8"
         },
         "xaxis": "x",
         "y": {
          "bdata": "AAAAAADMlcAAAAAAAMyVwAAAAAAA9JXAAAAAAAD0lcA=",
          "dtype": "f8"
         },
         "yaxis": "y"
        },
        {
         "hoverinfo": "text",
         "marker": {
          "color": "rgb(255,65,54)"
         },
         "mode": "lines",
         "type": "scatter",
         "x": {
          "bdata": "AAAAAAAAAACWNpoHpJboP5Y2mgeklug/L8kQ1D5s4j8=",
          "dtype": "f8"
         },
         "xaxis": "x",
         "y": {
          "bdata": "AAAAAACklcAAAAAAAKSVwAAAAAAA4JXAAAAAAADglcA=",
          "dtype": "f8"
         },
         "yaxis": "y"
        },
        {
         "hoverinfo": "text",
         "marker": {
          "color": "rgb(255,65,54)"
         },
         "mode": "lines",
         "type": "scatter",
         "x": {
          "bdata": "AAAAAAAAAADkw9WwQCzlP+TD1bBALOU/AAAAAAAAAAA=",
          "dtype": "f8"
         },
         "xaxis": "x",
         "y": {
          "bdata": "AAAAAAAclsAAAAAAAByWwAAAAAAARJbAAAAAAABElsA=",
          "dtype": "f8"
         },
         "yaxis": "y"
        },
        {
         "hoverinfo": "text",
         "marker": {
          "color": "rgb(255,65,54)"
         },
         "mode": "lines",
         "type": "scatter",
         "x": {
          "bdata": "ljaaB6SW6D9A1dye32brP0DV3J7fZus/5MPVsEAs5T8=",
          "dtype": "f8"
         },
         "xaxis": "x",
         "y": {
          "bdata": "AAAAAADClcAAAAAAAMKVwAAAAAAAMJbAAAAAAAAwlsA=",
          "dtype": "f8"
         },
         "yaxis": "y"
        },
        {
         "hoverinfo": "text",
         "marker": {
          "color": "rgb(255,65,54)"
         },
         "mode": "lines",
         "type": "scatter",
         "x": {
          "bdata": "AAAAAAAAAAA+LJwLWVPjPz4snAtZU+M/AAAAAAAAAAA=",
          "dtype": "f8"
         },
         "xaxis": "x",
         "y": {
          "bdata": "AAAAAABslsAAAAAAAGyWwAAAAAAAlJbAAAAAAACUlsA=",
          "dtype": "f8"
         },
         "yaxis": "y"
        },
        {
         "hoverinfo": "text",
         "marker": {
          "color": "rgb(255,65,54)"
         },
         "mode": "lines",
         "type": "scatter",
         "x": {
          "bdata": "AAAAAAAAAAA56evIHLrnPznp68gcuuc/AAAAAAAAAAA=",
          "dtype": "f8"
         },
         "xaxis": "x",
         "y": {
          "bdata": "AAAAAADklsAAAAAAAOSWwAAAAAAADJfAAAAAAAAMl8A=",
          "dtype": "f8"
         },
         "yaxis": "y"
        },
        {
         "hoverinfo": "text",
         "marker": {
          "color": "rgb(255,65,54)"
         },
         "mode": "lines",
         "type": "scatter",
         "x": {
          "bdata": "AAAAAAAAAAB0ISzttYzpP3QhLO21jOk/OenryBy65z8=",
          "dtype": "f8"
         },
         "xaxis": "x",
         "y": {
          "bdata": "AAAAAAC8lsAAAAAAALyWwAAAAAAA+JbAAAAAAAD4lsA=",
          "dtype": "f8"
         },
         "yaxis": "y"
        },
        {
         "hoverinfo": "text",
         "marker": {
          "color": "rgb(255,65,54)"
         },
         "mode": "lines",
         "type": "scatter",
         "x": {
          "bdata": "dCEs7bWM6T9yu7DugvTsP3K7sO6C9Ow/AAAAAAAAAAA=",
          "dtype": "f8"
         },
         "xaxis": "x",
         "y": {
          "bdata": "AAAAAADalsAAAAAAANqWwAAAAAAANJfAAAAAAAA0l8A=",
          "dtype": "f8"
         },
         "yaxis": "y"
        },
        {
         "hoverinfo": "text",
         "marker": {
          "color": "rgb(255,65,54)"
         },
         "mode": "lines",
         "type": "scatter",
         "x": {
          "bdata": "PiycC1lT4z9cOsXSDq/tP1w6xdIOr+0/cruw7oL07D8=",
          "dtype": "f8"
         },
         "xaxis": "x",
         "y": {
          "bdata": "AAAAAACAlsAAAAAAAICWwAAAAAAAB5fAAAAAAAAHl8A=",
          "dtype": "f8"
         },
         "yaxis": "y"
        },
        {
         "hoverinfo": "text",
         "marker": {
          "color": "rgb(255,65,54)"
         },
         "mode": "lines",
         "type": "scatter",
         "x": {
          "bdata": "QNXcnt9m6z9/eFUGxVTvP394VQbFVO8/XDrF0g6v7T8=",
          "dtype": "f8"
         },
         "xaxis": "x",
         "y": {
          "bdata": "AAAAAAD5lcAAAAAAAPmVwAAAAACAw5bAAAAAAIDDlsA=",
          "dtype": "f8"
         },
         "yaxis": "y"
        },
        {
         "hoverinfo": "text",
         "marker": {
          "color": "rgb(0,116,217)"
         },
         "mode": "lines",
         "type": "scatter",
         "x": {
          "bdata": "qs5kis097z+cKNjf+63wP5wo2N/7rfA/f3hVBsVU7z8=",
          "dtype": "f8"
         },
         "xaxis": "x",
         "y": {
          "bdata": "AAAAgEbpk8AAAACARumTwAAAAABAXpbAAAAAAEBelsA=",
          "dtype": "f8"
         },
         "yaxis": "y"
        },
        {
         "hoverinfo": "text",
         "marker": {
          "color": "rgb(0,116,217)"
         },
         "mode": "lines",
         "type": "scatter",
         "x": {
          "bdata": "6II8pehO8T+/ryJ13JzzP7+vInXcnPM/nCjY3/ut8D8=",
          "dtype": "f8"
         },
         "xaxis": "x",
         "y": {
          "bdata": "AAAAADgdjsAAAAAAOB2OwAAAAEDDI5XAAAAAQMMjlcA=",
          "dtype": "f8"
         },
         "yaxis": "y"
        },
        {
         "hoverinfo": "text",
         "marker": {
          "color": "rgb(0,116,217)"
         },
         "mode": "lines",
         "type": "scatter",
         "x": {
          "bdata": "0ZityIdD5z/Ro0UJeIP0P9GjRQl4g/Q/v68iddyc8z8=",
          "dtype": "f8"
         },
         "xaxis": "x",
         "y": {
          "bdata": "AAAAAADAh8AAAAAAAMCHwAAAAKAvGZLAAAAAoC8ZksA=",
          "dtype": "f8"
         },
         "yaxis": "y"
        },
        {
         "hoverinfo": "text",
         "marker": {
          "color": "rgb(0,116,217)"
         },
         "mode": "lines",
         "type": "scatter",
         "x": {
          "bdata": "iDNqHSSW7T/6dlIwG7z0P/p2UjAbvPQ/0aNFCXiD9D8=",
          "dtype": "f8"
         },
         "xaxis": "x",
         "y": {
          "bdata": "AAAAAACQhcAAAAAAAJCFwAAAAKAv+Y3AAAAAoC/5jcA=",
          "dtype": "f8"
         },
         "yaxis": "y"
        },
        {
         "hoverinfo": "text",
         "marker": {
          "color": "rgb(0,116,217)"
         },
         "mode": "lines",
         "type": "scatter",
         "x": {
          "bdata": "hONKbsgf8z9/43dQBbf3P3/jd1AFt/c/+nZSMBu89D8=",
          "dtype": "f8"
         },
         "xaxis": "x",
         "y": {
          "bdata": "AAAAAECfgcAAAAAAQJ+BwAAAANCXxInAAAAA0JfEicA=",
          "dtype": "f8"
         },
         "yaxis": "y"
        },
        {
         "hoverinfo": "text",
         "marker": {
          "color": "rgb(0,116,217)"
         },
         "mode": "lines",
         "type": "scatter",
         "x": {
          "bdata": "yBGQtmNs9j9BiGSVkHr5P0GIZJWQevk/f+N3UAW39z8=",
          "dtype": "f8"
         },
         "xaxis": "x",
         "y": {
          "bdata": "AAAAANDEasAAAAAA0MRqwAAAAOjrsYXAAAAA6OuxhcA=",
          "dtype": "f8"
         },
         "yaxis": "y"
        }
       ],
       "layout": {
        "autosize": false,
        "height": 2435,
        "hoverlabel": {
         "bgcolor": "white",
         "font": {
          "family": "Rockwell",
          "size": 16
         }
        },
        "hovermode": "closest",
        "plot_bgcolor": "#ECEFF1",
        "showlegend": false,
        "template": {
         "data": {
          "bar": [
           {
            "error_x": {
             "color": "#2a3f5f"
            },
            "error_y": {
             "color": "#2a3f5f"
            },
            "marker": {
             "line": {
              "color": "white",
              "width": 0.5
             },
             "pattern": {
              "fillmode": "overlay",
              "size": 10,
              "solidity": 0.2
             }
            },
            "type": "bar"
           }
          ],
          "barpolar": [
           {
            "marker": {
             "line": {
              "color": "white",
              "width": 0.5
             },
             "pattern": {
              "fillmode": "overlay",
              "size": 10,
              "solidity": 0.2
             }
            },
            "type": "barpolar"
           }
          ],
          "carpet": [
           {
            "aaxis": {
             "endlinecolor": "#2a3f5f",
             "gridcolor": "#C8D4E3",
             "linecolor": "#C8D4E3",
             "minorgridcolor": "#C8D4E3",
             "startlinecolor": "#2a3f5f"
            },
            "baxis": {
             "endlinecolor": "#2a3f5f",
             "gridcolor": "#C8D4E3",
             "linecolor": "#C8D4E3",
             "minorgridcolor": "#C8D4E3",
             "startlinecolor": "#2a3f5f"
            },
            "type": "carpet"
           }
          ],
          "choropleth": [
           {
            "colorbar": {
             "outlinewidth": 0,
             "ticks": ""
            },
            "type": "choropleth"
           }
          ],
          "contour": [
           {
            "colorbar": {
             "outlinewidth": 0,
             "ticks": ""
            },
            "colorscale": [
             [
              0,
              "#0d0887"
             ],
             [
              0.1111111111111111,
              "#46039f"
             ],
             [
              0.2222222222222222,
              "#7201a8"
             ],
             [
              0.3333333333333333,
              "#9c179e"
             ],
             [
              0.4444444444444444,
              "#bd3786"
             ],
             [
              0.5555555555555556,
              "#d8576b"
             ],
             [
              0.6666666666666666,
              "#ed7953"
             ],
             [
              0.7777777777777778,
              "#fb9f3a"
             ],
             [
              0.8888888888888888,
              "#fdca26"
             ],
             [
              1,
              "#f0f921"
             ]
            ],
            "type": "contour"
           }
          ],
          "contourcarpet": [
           {
            "colorbar": {
             "outlinewidth": 0,
             "ticks": ""
            },
            "type": "contourcarpet"
           }
          ],
          "heatmap": [
           {
            "colorbar": {
             "outlinewidth": 0,
             "ticks": ""
            },
            "colorscale": [
             [
              0,
              "#0d0887"
             ],
             [
              0.1111111111111111,
              "#46039f"
             ],
             [
              0.2222222222222222,
              "#7201a8"
             ],
             [
              0.3333333333333333,
              "#9c179e"
             ],
             [
              0.4444444444444444,
              "#bd3786"
             ],
             [
              0.5555555555555556,
              "#d8576b"
             ],
             [
              0.6666666666666666,
              "#ed7953"
             ],
             [
              0.7777777777777778,
              "#fb9f3a"
             ],
             [
              0.8888888888888888,
              "#fdca26"
             ],
             [
              1,
              "#f0f921"
             ]
            ],
            "type": "heatmap"
           }
          ],
          "histogram": [
           {
            "marker": {
             "pattern": {
              "fillmode": "overlay",
              "size": 10,
              "solidity": 0.2
             }
            },
            "type": "histogram"
           }
          ],
          "histogram2d": [
           {
            "colorbar": {
             "outlinewidth": 0,
             "ticks": ""
            },
            "colorscale": [
             [
              0,
              "#0d0887"
             ],
             [
              0.1111111111111111,
              "#46039f"
             ],
             [
              0.2222222222222222,
              "#7201a8"
             ],
             [
              0.3333333333333333,
              "#9c179e"
             ],
             [
              0.4444444444444444,
              "#bd3786"
             ],
             [
              0.5555555555555556,
              "#d8576b"
             ],
             [
              0.6666666666666666,
              "#ed7953"
             ],
             [
              0.7777777777777778,
              "#fb9f3a"
             ],
             [
              0.8888888888888888,
              "#fdca26"
             ],
             [
              1,
              "#f0f921"
             ]
            ],
            "type": "histogram2d"
           }
          ],
          "histogram2dcontour": [
           {
            "colorbar": {
             "outlinewidth": 0,
             "ticks": ""
            },
            "colorscale": [
             [
              0,
              "#0d0887"
             ],
             [
              0.1111111111111111,
              "#46039f"
             ],
             [
              0.2222222222222222,
              "#7201a8"
             ],
             [
              0.3333333333333333,
              "#9c179e"
             ],
             [
              0.4444444444444444,
              "#bd3786"
             ],
             [
              0.5555555555555556,
              "#d8576b"
             ],
             [
              0.6666666666666666,
              "#ed7953"
             ],
             [
              0.7777777777777778,
              "#fb9f3a"
             ],
             [
              0.8888888888888888,
              "#fdca26"
             ],
             [
              1,
              "#f0f921"
             ]
            ],
            "type": "histogram2dcontour"
           }
          ],
          "mesh3d": [
           {
            "colorbar": {
             "outlinewidth": 0,
             "ticks": ""
            },
            "type": "mesh3d"
           }
          ],
          "parcoords": [
           {
            "line": {
             "colorbar": {
              "outlinewidth": 0,
              "ticks": ""
             }
            },
            "type": "parcoords"
           }
          ],
          "pie": [
           {
            "automargin": true,
            "type": "pie"
           }
          ],
          "scatter": [
           {
            "fillpattern": {
             "fillmode": "overlay",
             "size": 10,
             "solidity": 0.2
            },
            "type": "scatter"
           }
          ],
          "scatter3d": [
           {
            "line": {
             "colorbar": {
              "outlinewidth": 0,
              "ticks": ""
             }
            },
            "marker": {
             "colorbar": {
              "outlinewidth": 0,
              "ticks": ""
             }
            },
            "type": "scatter3d"
           }
          ],
          "scattercarpet": [
           {
            "marker": {
             "colorbar": {
              "outlinewidth": 0,
              "ticks": ""
             }
            },
            "type": "scattercarpet"
           }
          ],
          "scattergeo": [
           {
            "marker": {
             "colorbar": {
              "outlinewidth": 0,
              "ticks": ""
             }
            },
            "type": "scattergeo"
           }
          ],
          "scattergl": [
           {
            "marker": {
             "colorbar": {
              "outlinewidth": 0,
              "ticks": ""
             }
            },
            "type": "scattergl"
           }
          ],
          "scattermap": [
           {
            "marker": {
             "colorbar": {
              "outlinewidth": 0,
              "ticks": ""
             }
            },
            "type": "scattermap"
           }
          ],
          "scattermapbox": [
           {
            "marker": {
             "colorbar": {
              "outlinewidth": 0,
              "ticks": ""
             }
            },
            "type": "scattermapbox"
           }
          ],
          "scatterpolar": [
           {
            "marker": {
             "colorbar": {
              "outlinewidth": 0,
              "ticks": ""
             }
            },
            "type": "scatterpolar"
           }
          ],
          "scatterpolargl": [
           {
            "marker": {
             "colorbar": {
              "outlinewidth": 0,
              "ticks": ""
             }
            },
            "type": "scatterpolargl"
           }
          ],
          "scatterternary": [
           {
            "marker": {
             "colorbar": {
              "outlinewidth": 0,
              "ticks": ""
             }
            },
            "type": "scatterternary"
           }
          ],
          "surface": [
           {
            "colorbar": {
             "outlinewidth": 0,
             "ticks": ""
            },
            "colorscale": [
             [
              0,
              "#0d0887"
             ],
             [
              0.1111111111111111,
              "#46039f"
             ],
             [
              0.2222222222222222,
              "#7201a8"
             ],
             [
              0.3333333333333333,
              "#9c179e"
             ],
             [
              0.4444444444444444,
              "#bd3786"
             ],
             [
              0.5555555555555556,
              "#d8576b"
             ],
             [
              0.6666666666666666,
              "#ed7953"
             ],
             [
              0.7777777777777778,
              "#fb9f3a"
             ],
             [
              0.8888888888888888,
              "#fdca26"
             ],
             [
              1,
              "#f0f921"
             ]
            ],
            "type": "surface"
           }
          ],
          "table": [
           {
            "cells": {
             "fill": {
              "color": "#EBF0F8"
             },
             "line": {
              "color": "white"
             }
            },
            "header": {
             "fill": {
              "color": "#C8D4E3"
             },
             "line": {
              "color": "white"
             }
            },
            "type": "table"
           }
          ]
         },
         "layout": {
          "annotationdefaults": {
           "arrowcolor": "#2a3f5f",
           "arrowhead": 0,
           "arrowwidth": 1
          },
          "autotypenumbers": "strict",
          "coloraxis": {
           "colorbar": {
            "outlinewidth": 0,
            "ticks": ""
           }
          },
          "colorscale": {
           "diverging": [
            [
             0,
             "#8e0152"
            ],
            [
             0.1,
             "#c51b7d"
            ],
            [
             0.2,
             "#de77ae"
            ],
            [
             0.3,
             "#f1b6da"
            ],
            [
             0.4,
             "#fde0ef"
            ],
            [
             0.5,
             "#f7f7f7"
            ],
            [
             0.6,
             "#e6f5d0"
            ],
            [
             0.7,
             "#b8e186"
            ],
            [
             0.8,
             "#7fbc41"
            ],
            [
             0.9,
             "#4d9221"
            ],
            [
             1,
             "#276419"
            ]
           ],
           "sequential": [
            [
             0,
             "#0d0887"
            ],
            [
             0.1111111111111111,
             "#46039f"
            ],
            [
             0.2222222222222222,
             "#7201a8"
            ],
            [
             0.3333333333333333,
             "#9c179e"
            ],
            [
             0.4444444444444444,
             "#bd3786"
            ],
            [
             0.5555555555555556,
             "#d8576b"
            ],
            [
             0.6666666666666666,
             "#ed7953"
            ],
            [
             0.7777777777777778,
             "#fb9f3a"
            ],
            [
             0.8888888888888888,
             "#fdca26"
            ],
            [
             1,
             "#f0f921"
            ]
           ],
           "sequentialminus": [
            [
             0,
             "#0d0887"
            ],
            [
             0.1111111111111111,
             "#46039f"
            ],
            [
             0.2222222222222222,
             "#7201a8"
            ],
            [
             0.3333333333333333,
             "#9c179e"
            ],
            [
             0.4444444444444444,
             "#bd3786"
            ],
            [
             0.5555555555555556,
             "#d8576b"
            ],
            [
             0.6666666666666666,
             "#ed7953"
            ],
            [
             0.7777777777777778,
             "#fb9f3a"
            ],
            [
             0.8888888888888888,
             "#fdca26"
            ],
            [
             1,
             "#f0f921"
            ]
           ]
          },
          "colorway": [
           "#636efa",
           "#EF553B",
           "#00cc96",
           "#ab63fa",
           "#FFA15A",
           "#19d3f3",
           "#FF6692",
           "#B6E880",
           "#FF97FF",
           "#FECB52"
          ],
          "font": {
           "color": "#2a3f5f"
          },
          "geo": {
           "bgcolor": "white",
           "lakecolor": "white",
           "landcolor": "white",
           "showlakes": true,
           "showland": true,
           "subunitcolor": "#C8D4E3"
          },
          "hoverlabel": {
           "align": "left"
          },
          "hovermode": "closest",
          "mapbox": {
           "style": "light"
          },
          "paper_bgcolor": "white",
          "plot_bgcolor": "white",
          "polar": {
           "angularaxis": {
            "gridcolor": "#EBF0F8",
            "linecolor": "#EBF0F8",
            "ticks": ""
           },
           "bgcolor": "white",
           "radialaxis": {
            "gridcolor": "#EBF0F8",
            "linecolor": "#EBF0F8",
            "ticks": ""
           }
          },
          "scene": {
           "xaxis": {
            "backgroundcolor": "white",
            "gridcolor": "#DFE8F3",
            "gridwidth": 2,
            "linecolor": "#EBF0F8",
            "showbackground": true,
            "ticks": "",
            "zerolinecolor": "#EBF0F8"
           },
           "yaxis": {
            "backgroundcolor": "white",
            "gridcolor": "#DFE8F3",
            "gridwidth": 2,
            "linecolor": "#EBF0F8",
            "showbackground": true,
            "ticks": "",
            "zerolinecolor": "#EBF0F8"
           },
           "zaxis": {
            "backgroundcolor": "white",
            "gridcolor": "#DFE8F3",
            "gridwidth": 2,
            "linecolor": "#EBF0F8",
            "showbackground": true,
            "ticks": "",
            "zerolinecolor": "#EBF0F8"
           }
          },
          "shapedefaults": {
           "line": {
            "color": "#2a3f5f"
           }
          },
          "ternary": {
           "aaxis": {
            "gridcolor": "#DFE8F3",
            "linecolor": "#A2B1C6",
            "ticks": ""
           },
           "baxis": {
            "gridcolor": "#DFE8F3",
            "linecolor": "#A2B1C6",
            "ticks": ""
           },
           "bgcolor": "white",
           "caxis": {
            "gridcolor": "#DFE8F3",
            "linecolor": "#A2B1C6",
            "ticks": ""
           }
          },
          "title": {
           "x": 0.05
          },
          "xaxis": {
           "automargin": true,
           "gridcolor": "#EBF0F8",
           "linecolor": "#EBF0F8",
           "ticks": "",
           "title": {
            "standoff": 15
           },
           "zerolinecolor": "#EBF0F8",
           "zerolinewidth": 2
          },
          "yaxis": {
           "automargin": true,
           "gridcolor": "#EBF0F8",
           "linecolor": "#EBF0F8",
           "ticks": "",
           "title": {
            "standoff": 15
           },
           "zerolinecolor": "#EBF0F8",
           "zerolinewidth": 2
          }
         }
        },
        "title": {
         "font": {
          "color": "Black",
          "size": 22
         },
         "text": "<b>Hierarchical Clustering</b>",
         "x": 0.5,
         "xanchor": "center",
         "yanchor": "top"
        },
        "width": 1000,
        "xaxis": {
         "mirror": "allticks",
         "rangemode": "tozero",
         "showgrid": false,
         "showline": true,
         "showticklabels": true,
         "ticks": "outside",
         "type": "linear",
         "zeroline": false
        },
        "yaxis": {
         "mirror": "allticks",
         "range": [
          -1490,
          0
         ],
         "rangemode": "tozero",
         "showgrid": false,
         "showline": true,
         "showticklabels": true,
         "tickmode": "array",
         "ticks": "outside",
         "ticktext": [
          "112_math_mwp_mathematical",
          "115_math_mathematical_reaso...",
          "62_cot_reasoning_thought",
          "24_commonsense_knowledge_re...",
          "69_editing_knowledge_factual",
          "90_continual_forgetting_cat...",
          "21_tuning_fine_lora",
          "84_masking_masked_mlm",
          "37_attention_transformer_tr...",
          "97_pruning_compression_spar...",
          "76_distillation_teacher_stu...",
          "58_icl_context_demonstrations",
          "34_prompt_shot_tuning",
          "148_prompt_prompts_optimiza...",
          "61_instruction_instructions...",
          "63_preference_feedback_reward",
          "99_calibration_uncertainty_...",
          "17_explanations_explanation...",
          "101_nlp_reproducibility_cro...",
          "78_llms_evaluation_chinese",
          "9_agents_agent_game",
          "65_generated_detectors_dete...",
          "12_generation_text_control",
          "60_hallucination_hallucinat...",
          "22_adversarial_attacks_attack",
          "48_safety_attacks_attack",
          "71_privacy_private_dp",
          "136_act_dialog_dialogue",
          "53_dialogue_dialog_policy",
          "49_dst_dialogue_tracking",
          "70_metrics_evaluation_nlg",
          "91_dialogue_evaluation_metr...",
          "87_knowledge_grounded_dialo...",
          "66_response_responses_dialo...",
          "88_persona_personas_persona...",
          "3_summarization_summaries_s...",
          "85_meeting_summarization_di...",
          "0_question_questions_answer",
          "94_vqa_visual_question",
          "106_visual_dialog_image",
          "10_image_visual_vision",
          "116_mmt_multimodal_visual",
          "140_propaganda_techniques_n...",
          "32_fake_news_detection",
          "52_stance_detection_rumor",
          "33_fact_checking_claim",
          "122_crisis_disaster_disasters",
          "75_covid_19_pandemic",
          "119_health_media_tweets",
          "44_mental_depression_health",
          "124_humor_pun_humorous",
          "81_sarcasm_sarcastic_detect...",
          "147_memes_meme_hateful",
          "141_emoji_emojis_emoticons",
          "27_emotion_multimodal_erc",
          "57_emotion_emotions_affective",
          "72_empathetic_empathy_emoti...",
          "38_code_programming_source",
          "107_switching_code_switched",
          "145_mixed_code_sentiment",
          "19_aspect_sentiment_absa",
          "30_sentiment_analysis_polar...",
          "132_arabic_sentiment_analysis",
          "77_arabic_dialectal_dialects",
          "146_dialect_identification_...",
          "93_autoregressive_nat_nar",
          "16_translation_mt_qe",
          "7_translation_nmt_machine",
          "121_context_document_transl...",
          "100_alignment_parallel_pairs",
          "74_lingual_cross_bilingual",
          "55_lingual_cross_transfer",
          "117_african_languages_pidgin",
          "133_ea_alignment_entity",
          "25_knowledge_graph_kg",
          "6_relation_extraction_relat...",
          "8_ner_entity_named",
          "42_entity_linking_entities",
          "144_typing_entity_type",
          "50_gec_correction_grammatical",
          "82_spelling_csc_correction",
          "110_segmentation_cws_chinese",
          "131_sequence_labeling_tagging",
          "123_pos_tagging_tagger",
          "39_sense_wsd_senses",
          "73_change_semantic_time",
          "15_law_zipf_frequency",
          "31_authorship_author_attrib...",
          "130_cognate_phylogenetic_co...",
          "83_morphological_inflection...",
          "118_annotation_tools_formats",
          "95_grammars_grammar_algorithm",
          "45_semantics_distributional...",
          "96_compositional_generaliza...",
          "46_nli_entailment_inference",
          "41_rnns_recurrent_lstm",
          "64_brain_reading_eye",
          "113_probing_probe_linguistic",
          "40_sql_queries_spider",
          "11_parsing_dependency_parser",
          "67_parsing_semantic_parser",
          "86_amr_meaning_smatch",
          "143_similarity_sts_semantic",
          "137_sentence_sts_embeddings",
          "18_word_embeddings_embedding",
          "128_contrastive_sentence_si...",
          "138_job_resume_skills",
          "13_legal_court_law",
          "135_materials_chemical_mole...",
          "92_layout_document_documents",
          "20_classification_label_lab...",
          "2_medical_clinical_biomedical",
          "43_citation_scientific_papers",
          "23_topic_topics_lda",
          "103_taxonomy_taxonomies_hyp...",
          "79_keyphrase_keyphrases_ext...",
          "89_metaphor_figurative_idio...",
          "56_paraphrase_paraphrases_p...",
          "28_simplification_readabili...",
          "4_hate_offensive_speech",
          "1_speech_asr_recognition",
          "14_intent_slot_intents",
          "104_augmentation_data_mixup",
          "125_active_al_learning",
          "80_radiology_reports_report",
          "120_dementia_ad_alzheimer",
          "108_scoring_essay_aes",
          "111_product_commerce_attrib...",
          "134_reviews_review_product",
          "139_counterfactual_counterf...",
          "114_causal_causality_effect",
          "127_climate_change_esg",
          "47_financial_stock_market",
          "105_geographic_location_geo...",
          "35_political_news_media",
          "5_gender_bias_biases",
          "98_moral_values_ethical",
          "129_personality_traits_llms",
          "29_coreference_resolution_m...",
          "36_event_extraction_events",
          "126_temporal_events_event",
          "26_argument_arguments_argum...",
          "102_srl_role_labeling",
          "54_discourse_rst_relations",
          "142_coherence_discourse_par...",
          "59_story_stories_narrative",
          "68_poetry_lyrics_music",
          "51_style_transfer_content",
          "109_sign_gloss_asl"
         ],
         "tickvals": [
          -5,
          -15,
          -25,
          -35,
          -45,
          -55,
          -65,
          -75,
          -85,
          -95,
          -105,
          -115,
          -125,
          -135,
          -145,
          -155,
          -165,
          -175,
          -185,
          -195,
          -205,
          -215,
          -225,
          -235,
          -245,
          -255,
          -265,
          -275,
          -285,
          -295,
          -305,
          -315,
          -325,
          -335,
          -345,
          -355,
          -365,
          -375,
          -385,
          -395,
          -405,
          -415,
          -425,
          -435,
          -445,
          -455,
          -465,
          -475,
          -485,
          -495,
          -505,
          -515,
          -525,
          -535,
          -545,
          -555,
          -565,
          -575,
          -585,
          -595,
          -605,
          -615,
          -625,
          -635,
          -645,
          -655,
          -665,
          -675,
          -685,
          -695,
          -705,
          -715,
          -725,
          -735,
          -745,
          -755,
          -765,
          -775,
          -785,
          -795,
          -805,
          -815,
          -825,
          -835,
          -845,
          -855,
          -865,
          -875,
          -885,
          -895,
          -905,
          -915,
          -925,
          -935,
          -945,
          -955,
          -965,
          -975,
          -985,
          -995,
          -1005,
          -1015,
          -1025,
          -1035,
          -1045,
          -1055,
          -1065,
          -1075,
          -1085,
          -1095,
          -1105,
          -1115,
          -1125,
          -1135,
          -1145,
          -1155,
          -1165,
          -1175,
          -1185,
          -1195,
          -1205,
          -1215,
          -1225,
          -1235,
          -1245,
          -1255,
          -1265,
          -1275,
          -1285,
          -1295,
          -1305,
          -1315,
          -1325,
          -1335,
          -1345,
          -1355,
          -1365,
          -1375,
          -1385,
          -1395,
          -1405,
          -1415,
          -1425,
          -1435,
          -1445,
          -1455,
          -1465,
          -1475,
          -1485
         ],
         "type": "linear",
         "zeroline": false
        }
       }
      },
      "text/html": [
       "<div>                        <script type=\"text/javascript\">window.PlotlyConfig = {MathJaxConfig: 'local'};</script>\n",
       "        <script charset=\"utf-8\" src=\"https://cdn.plot.ly/plotly-3.1.0.min.js\" integrity=\"sha256-Ei4740bWZhaUTQuD6q9yQlgVCMPBz6CZWhevDYPv93A=\" crossorigin=\"anonymous\"></script>                <div id=\"c0973df9-b7e6-46e9-a6d9-edc439e022fc\" class=\"plotly-graph-div\" style=\"height:2435px; width:1000px;\"></div>            <script type=\"text/javascript\">                window.PLOTLYENV=window.PLOTLYENV || {};                                if (document.getElementById(\"c0973df9-b7e6-46e9-a6d9-edc439e022fc\")) {                    Plotly.newPlot(                        \"c0973df9-b7e6-46e9-a6d9-edc439e022fc\",                        [{\"hoverinfo\":\"text\",\"marker\":{\"color\":\"rgb(61,153,112)\"},\"mode\":\"lines\",\"x\":{\"dtype\":\"f8\",\"bdata\":\"AAAAAAAAAAAkxVcelAjZPyTFVx6UCNk\\u002fAAAAAAAAAAA=\"},\"xaxis\":\"x\",\"y\":{\"dtype\":\"f8\",\"bdata\":\"AAAAAAAAFMAAAAAAAAAUwAAAAAAAAC7AAAAAAAAALsA=\"},\"yaxis\":\"y\",\"type\":\"scatter\"},{\"hoverinfo\":\"text\",\"marker\":{\"color\":\"rgb(61,153,112)\"},\"mode\":\"lines\",\"x\":{\"dtype\":\"f8\",\"bdata\":\"JMVXHpQI2T+O4f8IouHmP47h\\u002fwii4eY\\u002fAAAAAAAAAAA=\"},\"xaxis\":\"x\",\"y\":{\"dtype\":\"f8\",\"bdata\":\"AAAAAAAAJMAAAAAAAAAkwAAAAAAAADnAAAAAAAAAOcA=\"},\"yaxis\":\"y\",\"type\":\"scatter\"},{\"hoverinfo\":\"text\",\"marker\":{\"color\":\"rgb(255,65,54)\"},\"mode\":\"lines\",\"x\":{\"dtype\":\"f8\",\"bdata\":\"AAAAAAAAAADWjLUDBzrjP9aMtQMHOuM\\u002fAAAAAAAAAAA=\"},\"xaxis\":\"x\",\"y\":{\"dtype\":\"f8\",\"bdata\":\"AAAAAACAQcAAAAAAAIBBwAAAAAAAgEbAAAAAAACARsA=\"},\"yaxis\":\"y\",\"type\":\"scatter\"},{\"hoverinfo\":\"text\",\"marker\":{\"color\":\"rgb(255,65,54)\"},\"mode\":\"lines\",\"x\":{\"dtype\":\"f8\",\"bdata\":\"AAAAAAAAAAAMz0Jh3I3hPwzPQmHcjeE\\u002fAAAAAAAAAAA=\"},\"xaxis\":\"x\",\"y\":{\"dtype\":\"f8\",\"bdata\":\"AAAAAACAS8AAAAAAAIBLwAAAAAAAQFDAAAAAAABAUMA=\"},\"yaxis\":\"y\",\"type\":\"scatter\"},{\"hoverinfo\":\"text\",\"marker\":{\"color\":\"rgb(255,65,54)\"},\"mode\":\"lines\",\"x\":{\"dtype\":\"f8\",\"bdata\":\"AAAAAAAAAABvj1PUQw3jP2+PU9RDDeM\\u002fAAAAAAAAAAA=\"},\"xaxis\":\"x\",\"y\":{\"dtype\":\"f8\",\"bdata\":\"AAAAAADAUsAAAAAAAMBSwAAAAAAAQFXAAAAAAABAVcA=\"},\"yaxis\":\"y\",\"type\":\"scatter\"},{\"hoverinfo\":\"text\",\"marker\":{\"color\":\"rgb(255,65,54)\"},\"mode\":\"lines\",\"x\":{\"dtype\":\"f8\",\"bdata\":\"DM9CYdyN4T81Jpg1k+blPzUmmDWT5uU\\u002fb49T1EMN4z8=\"},\"xaxis\":\"x\",\"y\":{\"dtype\":\"f8\",\"bdata\":\"AAAAAAAATsAAAAAAAABOwAAAAAAAAFTAAAAAAAAAVMA=\"},\"yaxis\":\"y\",\"type\":\"scatter\"},{\"hoverinfo\":\"text\",\"marker\":{\"color\":\"rgb(255,65,54)\"},\"mode\":\"lines\",\"x\":{\"dtype\":\"f8\",\"bdata\":\"AAAAAAAAAAA4chqLzJbkPzhyGovMluQ\\u002fAAAAAAAAAAA=\"},\"xaxis\":\"x\",\"y\":{\"dtype\":\"f8\",\"bdata\":\"AAAAAADAV8AAAAAAAMBXwAAAAAAAQFrAAAAAAABAWsA=\"},\"yaxis\":\"y\",\"type\":\"scatter\"},{\"hoverinfo\":\"text\",\"marker\":{\"color\":\"rgb(255,65,54)\"},\"mode\":\"lines\",\"x\":{\"dtype\":\"f8\",\"bdata\":\"NSaYNZPm5T\\u002flvkozLSXoP+W+SjMtJeg\\u002fOHIai8yW5D8=\"},\"xaxis\":\"x\",\"y\":{\"dtype\":\"f8\",\"bdata\":\"AAAAAACAUcAAAAAAAIBRwAAAAAAAAFnAAAAAAAAAWcA=\"},\"yaxis\":\"y\",\"type\":\"scatter\"},{\"hoverinfo\":\"text\",\"marker\":{\"color\":\"rgb(255,65,54)\"},\"mode\":\"lines\",\"x\":{\"dtype\":\"f8\",\"bdata\":\"1oy1Awc64z82rAiDIPfpPzasCIMg9+k\\u002f5b5KMy0l6D8=\"},\"xaxis\":\"x\",\"y\":{\"dtype\":\"f8\",\"bdata\":\"AAAAAAAARMAAAAAAAABEwAAAAAAAQFXAAAAAAABAVcA=\"},\"yaxis\":\"y\",\"type\":\"scatter\"},{\"hoverinfo\":\"text\",\"marker\":{\"color\":\"rgb(35,205,205)\"},\"mode\":\"lines\",\"x\":{\"dtype\":\"f8\",\"bdata\":\"AAAAAAAAAABOXt0xkjTSP05e3TGSNNI\\u002fAAAAAAAAAAA=\"},\"xaxis\":\"x\",\"y\":{\"dtype\":\"f8\",\"bdata\":\"AAAAAABAX8AAAAAAAEBfwAAAAAAA4GDAAAAAAADgYMA=\"},\"yaxis\":\"y\",\"type\":\"scatter\"},{\"hoverinfo\":\"text\",\"marker\":{\"color\":\"rgb(35,205,205)\"},\"mode\":\"lines\",\"x\":{\"dtype\":\"f8\",\"bdata\":\"AAAAAAAAAACjVUsED0XlP6NVSwQPReU\\u002fTl7dMZI00j8=\"},\"xaxis\":\"x\",\"y\":{\"dtype\":\"f8\",\"bdata\":\"AAAAAADAXMAAAAAAAMBcwAAAAAAAQGDAAAAAAABAYMA=\"},\"yaxis\":\"y\",\"type\":\"scatter\"},{\"hoverinfo\":\"text\",\"marker\":{\"color\":\"rgb(35,205,205)\"},\"mode\":\"lines\",\"x\":{\"dtype\":\"f8\",\"bdata\":\"AAAAAAAAAADwD+zCl97jP\\u002fAP7MKX3uM\\u002fAAAAAAAAAAA=\"},\"xaxis\":\"x\",\"y\":{\"dtype\":\"f8\",\"bdata\":\"AAAAAAAgYsAAAAAAACBiwAAAAAAAYGPAAAAAAABgY8A=\"},\"yaxis\":\"y\",\"type\":\"scatter\"},{\"hoverinfo\":\"text\",\"marker\":{\"color\":\"rgb(35,205,205)\"},\"mode\":\"lines\",\"x\":{\"dtype\":\"f8\",\"bdata\":\"AAAAAAAAAAB0t5cH1tfiP3S3lwfW1+I\\u002fAAAAAAAAAAA=\"},\"xaxis\":\"x\",\"y\":{\"dtype\":\"f8\",\"bdata\":\"AAAAAACgZMAAAAAAAKBkwAAAAAAA4GXAAAAAAADgZcA=\"},\"yaxis\":\"y\",\"type\":\"scatter\"},{\"hoverinfo\":\"text\",\"marker\":{\"color\":\"rgb(35,205,205)\"},\"mode\":\"lines\",\"x\":{\"dtype\":\"f8\",\"bdata\":\"AAAAAAAAAADM\\u002fY5O92beP8z9jk73Zt4\\u002fAAAAAAAAAAA=\"},\"xaxis\":\"x\",\"y\":{\"dtype\":\"f8\",\"bdata\":\"AAAAAAAgZ8AAAAAAACBnwAAAAAAAYGjAAAAAAABgaMA=\"},\"yaxis\":\"y\",\"type\":\"scatter\"},{\"hoverinfo\":\"text\",\"marker\":{\"color\":\"rgb(35,205,205)\"},\"mode\":\"lines\",\"x\":{\"dtype\":\"f8\",\"bdata\":\"zP2OTvdm3j+3141qHhTiP7fXjWoeFOI\\u002fAAAAAAAAAAA=\"},\"xaxis\":\"x\",\"y\":{\"dtype\":\"f8\",\"bdata\":\"AAAAAADAZ8AAAAAAAMBnwAAAAAAAoGnAAAAAAACgacA=\"},\"yaxis\":\"y\",\"type\":\"scatter\"},{\"hoverinfo\":\"text\",\"marker\":{\"color\":\"rgb(35,205,205)\"},\"mode\":\"lines\",\"x\":{\"dtype\":\"f8\",\"bdata\":\"dLeXB9bX4j+p1uOysWTjP6nW47KxZOM\\u002ft9eNah4U4j8=\"},\"xaxis\":\"x\",\"y\":{\"dtype\":\"f8\",\"bdata\":\"AAAAAABAZcAAAAAAAEBlwAAAAAAAsGjAAAAAAACwaMA=\"},\"yaxis\":\"y\",\"type\":\"scatter\"},{\"hoverinfo\":\"text\",\"marker\":{\"color\":\"rgb(35,205,205)\"},\"mode\":\"lines\",\"x\":{\"dtype\":\"f8\",\"bdata\":\"AAAAAAAAAAA++tv1SS\\u002fgPz762\\u002fVJL+A\\u002fAAAAAAAAAAA=\"},\"xaxis\":\"x\",\"y\":{\"dtype\":\"f8\",\"bdata\":\"AAAAAADgasAAAAAAAOBqwAAAAAAAIGzAAAAAAAAgbMA=\"},\"yaxis\":\"y\",\"type\":\"scatter\"},{\"hoverinfo\":\"text\",\"marker\":{\"color\":\"rgb(35,205,205)\"},\"mode\":\"lines\",\"x\":{\"dtype\":\"f8\",\"bdata\":\"Pvrb9Ukv4D\\u002fuKQXtTKfkP+4pBe1Mp+Q\\u002fAAAAAAAAAAA=\"},\"xaxis\":\"x\",\"y\":{\"dtype\":\"f8\",\"bdata\":\"AAAAAACAa8AAAAAAAIBrwAAAAAAAYG3AAAAAAABgbcA=\"},\"yaxis\":\"y\",\"type\":\"scatter\"},{\"hoverinfo\":\"text\",\"marker\":{\"color\":\"rgb(35,205,205)\"},\"mode\":\"lines\",\"x\":{\"dtype\":\"f8\",\"bdata\":\"qdbjsrFk4z9Lq6Qll+zlP0urpCWX7OU\\u002f7ikF7Uyn5D8=\"},\"xaxis\":\"x\",\"y\":{\"dtype\":\"f8\",\"bdata\":\"AAAAAAD4ZsAAAAAAAPhmwAAAAAAAcGzAAAAAAABwbMA=\"},\"yaxis\":\"y\",\"type\":\"scatter\"},{\"hoverinfo\":\"text\",\"marker\":{\"color\":\"rgb(35,205,205)\"},\"mode\":\"lines\",\"x\":{\"dtype\":\"f8\",\"bdata\":\"8A\\u002fswpfe4z9tIMVxwRHnP20gxXHBEec\\u002fS6ukJZfs5T8=\"},\"xaxis\":\"x\",\"y\":{\"dtype\":\"f8\",\"bdata\":\"AAAAAADAYsAAAAAAAMBiwAAAAAAAtGnAAAAAAAC0acA=\"},\"yaxis\":\"y\",\"type\":\"scatter\"},{\"hoverinfo\":\"text\",\"marker\":{\"color\":\"rgb(35,205,205)\"},\"mode\":\"lines\",\"x\":{\"dtype\":\"f8\",\"bdata\":\"AAAAAAAAAABhhbgZ+hfgP2GFuBn6F+A\\u002fAAAAAAAAAAA=\"},\"xaxis\":\"x\",\"y\":{\"dtype\":\"f8\",\"bdata\":\"AAAAAACgbsAAAAAAAKBuwAAAAAAA4G\\u002fAAAAAAADgb8A=\"},\"yaxis\":\"y\",\"type\":\"scatter\"},{\"hoverinfo\":\"text\",\"marker\":{\"color\":\"rgb(35,205,205)\"},\"mode\":\"lines\",\"x\":{\"dtype\":\"f8\",\"bdata\":\"YYW4GfoX4D+5RNzHR+LnP7lE3MdH4uc\\u002fAAAAAAAAAAA=\"},\"xaxis\":\"x\",\"y\":{\"dtype\":\"f8\",\"bdata\":\"AAAAAABAb8AAAAAAAEBvwAAAAAAAkHDAAAAAAACQcMA=\"},\"yaxis\":\"y\",\"type\":\"scatter\"},{\"hoverinfo\":\"text\",\"marker\":{\"color\":\"rgb(35,205,205)\"},\"mode\":\"lines\",\"x\":{\"dtype\":\"f8\",\"bdata\":\"bSDFccER5z9GHzQTNHvsP0YfNBM0e+w\\u002fuUTcx0fi5z8=\"},\"xaxis\":\"x\",\"y\":{\"dtype\":\"f8\",\"bdata\":\"AAAAAAA6ZsAAAAAAADpmwAAAAAAAGHDAAAAAAAAYcMA=\"},\"yaxis\":\"y\",\"type\":\"scatter\"},{\"hoverinfo\":\"text\",\"marker\":{\"color\":\"rgb(35,205,205)\"},\"mode\":\"lines\",\"x\":{\"dtype\":\"f8\",\"bdata\":\"o1VLBA9F5T8nD6+aQvTsPycPr5pC9Ow\\u002fRh80EzR77D8=\"},\"xaxis\":\"x\",\"y\":{\"dtype\":\"f8\",\"bdata\":\"AAAAAACgXsAAAAAAAKBewAAAAAAANWvAAAAAAAA1a8A=\"},\"yaxis\":\"y\",\"type\":\"scatter\"},{\"hoverinfo\":\"text\",\"marker\":{\"color\":\"rgb(0,116,217)\"},\"mode\":\"lines\",\"x\":{\"dtype\":\"f8\",\"bdata\":\"NqwIgyD36T9EtR65ujzwP0S1Hrm6PPA\\u002fJw+vmkL07D8=\"},\"xaxis\":\"x\",\"y\":{\"dtype\":\"f8\",\"bdata\":\"AAAAAABAT8AAAAAAAEBPwAAAAACAQmXAAAAAAIBCZcA=\"},\"yaxis\":\"y\",\"type\":\"scatter\"},{\"hoverinfo\":\"text\",\"marker\":{\"color\":\"rgb(0,116,217)\"},\"mode\":\"lines\",\"x\":{\"dtype\":\"f8\",\"bdata\":\"juH\\u002fCKLh5j\\u002f5luYFTHPxP\\u002fmW5gVMc\\u002fE\\u002fRLUeubo88D8=\"},\"xaxis\":\"x\",\"y\":{\"dtype\":\"f8\",\"bdata\":\"AAAAAACAMcAAAAAAAIAxwAAAAACAEl3AAAAAAIASXcA=\"},\"yaxis\":\"y\",\"type\":\"scatter\"},{\"hoverinfo\":\"text\",\"marker\":{\"color\":\"rgb(133,20,75)\"},\"mode\":\"lines\",\"x\":{\"dtype\":\"f8\",\"bdata\":\"AAAAAAAAAABGwjqt5F\\u002ffP0bCOq3kX98\\u002fAAAAAAAAAAA=\"},\"xaxis\":\"x\",\"y\":{\"dtype\":\"f8\",\"bdata\":\"AAAAAADQccAAAAAAANBxwAAAAAAAcHLAAAAAAABwcsA=\"},\"yaxis\":\"y\",\"type\":\"scatter\"},{\"hoverinfo\":\"text\",\"marker\":{\"color\":\"rgb(133,20,75)\"},\"mode\":\"lines\",\"x\":{\"dtype\":\"f8\",\"bdata\":\"AAAAAAAAAACWvfaeVZLkP5a99p5VkuQ\\u002fRsI6reRf3z8=\"},\"xaxis\":\"x\",\"y\":{\"dtype\":\"f8\",\"bdata\":\"AAAAAAAwccAAAAAAADBxwAAAAAAAIHLAAAAAAAAgcsA=\"},\"yaxis\":\"y\",\"type\":\"scatter\"},{\"hoverinfo\":\"text\",\"marker\":{\"color\":\"rgb(133,20,75)\"},\"mode\":\"lines\",\"x\":{\"dtype\":\"f8\",\"bdata\":\"AAAAAAAAAAD8iwUnt9\\u002fWP\\u002fyLBSe339Y\\u002fAAAAAAAAAAA=\"},\"xaxis\":\"x\",\"y\":{\"dtype\":\"f8\",\"bdata\":\"AAAAAAAQc8AAAAAAABBzwAAAAAAAsHPAAAAAAACwc8A=\"},\"yaxis\":\"y\",\"type\":\"scatter\"},{\"hoverinfo\":\"text\",\"marker\":{\"color\":\"rgb(133,20,75)\"},\"mode\":\"lines\",\"x\":{\"dtype\":\"f8\",\"bdata\":\"AAAAAAAAAAD2WXYVENnUP\\u002fZZdhUQ2dQ\\u002fAAAAAAAAAAA=\"},\"xaxis\":\"x\",\"y\":{\"dtype\":\"f8\",\"bdata\":\"AAAAAABQdMAAAAAAAFB0wAAAAAAA8HTAAAAAAADwdMA=\"},\"yaxis\":\"y\",\"type\":\"scatter\"},{\"hoverinfo\":\"text\",\"marker\":{\"color\":\"rgb(133,20,75)\"},\"mode\":\"lines\",\"x\":{\"dtype\":\"f8\",\"bdata\":\"9ll2FRDZ1D8TEWisfHblPxMRaKx8duU\\u002fAAAAAAAAAAA=\"},\"xaxis\":\"x\",\"y\":{\"dtype\":\"f8\",\"bdata\":\"AAAAAACgdMAAAAAAAKB0wAAAAAAAkHXAAAAAAACQdcA=\"},\"yaxis\":\"y\",\"type\":\"scatter\"},{\"hoverinfo\":\"text\",\"marker\":{\"color\":\"rgb(133,20,75)\"},\"mode\":\"lines\",\"x\":{\"dtype\":\"f8\",\"bdata\":\"\\u002fIsFJ7ff1j+mn7WHE\\u002f\\u002fnP6aftYcT\\u002f+c\\u002fExForHx25T8=\"},\"xaxis\":\"x\",\"y\":{\"dtype\":\"f8\",\"bdata\":\"AAAAAABgc8AAAAAAAGBzwAAAAAAAGHXAAAAAAAAYdcA=\"},\"yaxis\":\"y\",\"type\":\"scatter\"},{\"hoverinfo\":\"text\",\"marker\":{\"color\":\"rgb(133,20,75)\"},\"mode\":\"lines\",\"x\":{\"dtype\":\"f8\",\"bdata\":\"lr32nlWS5D9REfTBF7PpP1ER9MEXs+k\\u002fpp+1hxP\\u002f5z8=\"},\"xaxis\":\"x\",\"y\":{\"dtype\":\"f8\",\"bdata\":\"AAAAAACoccAAAAAAAKhxwAAAAAAAPHTAAAAAAAA8dMA=\"},\"yaxis\":\"y\",\"type\":\"scatter\"},{\"hoverinfo\":\"text\",\"marker\":{\"color\":\"rgb(133,20,75)\"},\"mode\":\"lines\",\"x\":{\"dtype\":\"f8\",\"bdata\":\"AAAAAAAAAACSFywdlI3TP5IXLB2UjdM\\u002fAAAAAAAAAAA=\"},\"xaxis\":\"x\",\"y\":{\"dtype\":\"f8\",\"bdata\":\"AAAAAAAwdsAAAAAAADB2wAAAAAAA0HbAAAAAAADQdsA=\"},\"yaxis\":\"y\",\"type\":\"scatter\"},{\"hoverinfo\":\"text\",\"marker\":{\"color\":\"rgb(133,20,75)\"},\"mode\":\"lines\",\"x\":{\"dtype\":\"f8\",\"bdata\":\"URH0wRez6T\\u002fJ8jyvH7bsP8nyPK8ftuw\\u002fkhcsHZSN0z8=\"},\"xaxis\":\"x\",\"y\":{\"dtype\":\"f8\",\"bdata\":\"AAAAAADycsAAAAAAAPJywAAAAAAAgHbAAAAAAACAdsA=\"},\"yaxis\":\"y\",\"type\":\"scatter\"},{\"hoverinfo\":\"text\",\"marker\":{\"color\":\"rgb(255,220,0)\"},\"mode\":\"lines\",\"x\":{\"dtype\":\"f8\",\"bdata\":\"AAAAAAAAAAB4o1XVX7\\u002fbP3ijVdVfv9s\\u002fAAAAAAAAAAA=\"},\"xaxis\":\"x\",\"y\":{\"dtype\":\"f8\",\"bdata\":\"AAAAAABwd8AAAAAAAHB3wAAAAAAAEHjAAAAAAAAQeMA=\"},\"yaxis\":\"y\",\"type\":\"scatter\"},{\"hoverinfo\":\"text\",\"marker\":{\"color\":\"rgb(255,220,0)\"},\"mode\":\"lines\",\"x\":{\"dtype\":\"f8\",\"bdata\":\"AAAAAAAAAADKlWqzVDbWP8qVarNUNtY\\u002fAAAAAAAAAAA=\"},\"xaxis\":\"x\",\"y\":{\"dtype\":\"f8\",\"bdata\":\"AAAAAABQecAAAAAAAFB5wAAAAAAA8HnAAAAAAADwecA=\"},\"yaxis\":\"y\",\"type\":\"scatter\"},{\"hoverinfo\":\"text\",\"marker\":{\"color\":\"rgb(255,220,0)\"},\"mode\":\"lines\",\"x\":{\"dtype\":\"f8\",\"bdata\":\"AAAAAAAAAAC\\u002fEsjq5VvbP78SyOrlW9s\\u002fypVqs1Q21j8=\"},\"xaxis\":\"x\",\"y\":{\"dtype\":\"f8\",\"bdata\":\"AAAAAACweMAAAAAAALB4wAAAAAAAoHnAAAAAAACgecA=\"},\"yaxis\":\"y\",\"type\":\"scatter\"},{\"hoverinfo\":\"text\",\"marker\":{\"color\":\"rgb(255,220,0)\"},\"mode\":\"lines\",\"x\":{\"dtype\":\"f8\",\"bdata\":\"eKNV1V+\\u002f2z+IaCx5QwTnP4hoLHlDBOc\\u002fvxLI6uVb2z8=\"},\"xaxis\":\"x\",\"y\":{\"dtype\":\"f8\",\"bdata\":\"AAAAAADAd8AAAAAAAMB3wAAAAAAAKHnAAAAAAAAoecA=\"},\"yaxis\":\"y\",\"type\":\"scatter\"},{\"hoverinfo\":\"text\",\"marker\":{\"color\":\"rgb(0,116,217)\"},\"mode\":\"lines\",\"x\":{\"dtype\":\"f8\",\"bdata\":\"yfI8rx+27D8jwLGJwvDyPyPAsYnC8PI\\u002fiGgseUME5z8=\"},\"xaxis\":\"x\",\"y\":{\"dtype\":\"f8\",\"bdata\":\"AAAAAAC5dMAAAAAAALl0wAAAAAAAdHjAAAAAAAB0eMA=\"},\"yaxis\":\"y\",\"type\":\"scatter\"},{\"hoverinfo\":\"text\",\"marker\":{\"color\":\"rgb(0,116,217)\"},\"mode\":\"lines\",\"x\":{\"dtype\":\"f8\",\"bdata\":\"+ZbmBUxz8T\\u002fIEZC2Y2z2P8gRkLZjbPY\\u002fI8CxicLw8j8=\"},\"xaxis\":\"x\",\"y\":{\"dtype\":\"f8\",\"bdata\":\"AAAAAEC5UMAAAAAAQLlQwAAAAACAlnbAAAAAAICWdsA=\"},\"yaxis\":\"y\",\"type\":\"scatter\"},{\"hoverinfo\":\"text\",\"marker\":{\"color\":\"rgb(40,35,35)\"},\"mode\":\"lines\",\"x\":{\"dtype\":\"f8\",\"bdata\":\"AAAAAAAAAABAMqzxeUfmP0AyrPF5R+Y\\u002fAAAAAAAAAAA=\"},\"xaxis\":\"x\",\"y\":{\"dtype\":\"f8\",\"bdata\":\"AAAAAAAwe8AAAAAAADB7wAAAAAAA0HvAAAAAAADQe8A=\"},\"yaxis\":\"y\",\"type\":\"scatter\"},{\"hoverinfo\":\"text\",\"marker\":{\"color\":\"rgb(40,35,35)\"},\"mode\":\"lines\",\"x\":{\"dtype\":\"f8\",\"bdata\":\"QDKs8XlH5j8dKWBSo+vmPx0pYFKj6+Y\\u002fAAAAAAAAAAA=\"},\"xaxis\":\"x\",\"y\":{\"dtype\":\"f8\",\"bdata\":\"AAAAAACAe8AAAAAAAIB7wAAAAAAAcHzAAAAAAABwfMA=\"},\"yaxis\":\"y\",\"type\":\"scatter\"},{\"hoverinfo\":\"text\",\"marker\":{\"color\":\"rgb(40,35,35)\"},\"mode\":\"lines\",\"x\":{\"dtype\":\"f8\",\"bdata\":\"AAAAAAAAAACV7kN0nUvqP5XuQ3SdS+o\\u002fHSlgUqPr5j8=\"},\"xaxis\":\"x\",\"y\":{\"dtype\":\"f8\",\"bdata\":\"AAAAAACQesAAAAAAAJB6wAAAAAAA+HvAAAAAAAD4e8A=\"},\"yaxis\":\"y\",\"type\":\"scatter\"},{\"hoverinfo\":\"text\",\"marker\":{\"color\":\"rgb(40,35,35)\"},\"mode\":\"lines\",\"x\":{\"dtype\":\"f8\",\"bdata\":\"AAAAAAAAAABWCUUZ7EvcP1YJRRnsS9w\\u002fAAAAAAAAAAA=\"},\"xaxis\":\"x\",\"y\":{\"dtype\":\"f8\",\"bdata\":\"AAAAAABQfsAAAAAAAFB+wAAAAAAA8H7AAAAAAADwfsA=\"},\"yaxis\":\"y\",\"type\":\"scatter\"},{\"hoverinfo\":\"text\",\"marker\":{\"color\":\"rgb(40,35,35)\"},\"mode\":\"lines\",\"x\":{\"dtype\":\"f8\",\"bdata\":\"AAAAAAAAAAAEiMQz2y7kPwSIxDPbLuQ\\u002fVglFGexL3D8=\"},\"xaxis\":\"x\",\"y\":{\"dtype\":\"f8\",\"bdata\":\"AAAAAACwfcAAAAAAALB9wAAAAAAAoH7AAAAAAACgfsA=\"},\"yaxis\":\"y\",\"type\":\"scatter\"},{\"hoverinfo\":\"text\",\"marker\":{\"color\":\"rgb(40,35,35)\"},\"mode\":\"lines\",\"x\":{\"dtype\":\"f8\",\"bdata\":\"AAAAAAAAAACZgpEu3iHlP5mCkS7eIeU\\u002fBIjEM9su5D8=\"},\"xaxis\":\"x\",\"y\":{\"dtype\":\"f8\",\"bdata\":\"AAAAAAAQfcAAAAAAABB9wAAAAAAAKH7AAAAAAAAofsA=\"},\"yaxis\":\"y\",\"type\":\"scatter\"},{\"hoverinfo\":\"text\",\"marker\":{\"color\":\"rgb(40,35,35)\"},\"mode\":\"lines\",\"x\":{\"dtype\":\"f8\",\"bdata\":\"le5DdJ1L6j\\u002fL9bM5MILuP8v1szkwgu4\\u002fmYKRLt4h5T8=\"},\"xaxis\":\"x\",\"y\":{\"dtype\":\"f8\",\"bdata\":\"AAAAAABEe8AAAAAAAER7wAAAAAAAnH3AAAAAAACcfcA=\"},\"yaxis\":\"y\",\"type\":\"scatter\"},{\"hoverinfo\":\"text\",\"marker\":{\"color\":\"rgb(40,35,35)\"},\"mode\":\"lines\",\"x\":{\"dtype\":\"f8\",\"bdata\":\"AAAAAAAAAACQNUU9Ff7pP5A1RT0V\\u002fuk\\u002fAAAAAAAAAAA=\"},\"xaxis\":\"x\",\"y\":{\"dtype\":\"f8\",\"bdata\":\"AAAAAAAYgMAAAAAAABiAwAAAAAAAaIDAAAAAAABogMA=\"},\"yaxis\":\"y\",\"type\":\"scatter\"},{\"hoverinfo\":\"text\",\"marker\":{\"color\":\"rgb(40,35,35)\"},\"mode\":\"lines\",\"x\":{\"dtype\":\"f8\",\"bdata\":\"AAAAAAAAAAAHwFjK9kLrPwfAWMr2Qus\\u002fkDVFPRX+6T8=\"},\"xaxis\":\"x\",\"y\":{\"dtype\":\"f8\",\"bdata\":\"AAAAAACQf8AAAAAAAJB\\u002fwAAAAAAAQIDAAAAAAABAgMA=\"},\"yaxis\":\"y\",\"type\":\"scatter\"},{\"hoverinfo\":\"text\",\"marker\":{\"color\":\"rgb(40,35,35)\"},\"mode\":\"lines\",\"x\":{\"dtype\":\"f8\",\"bdata\":\"B8BYyvZC6z+LUqXOFvHsP4tSpc4W8ew\\u002fAAAAAAAAAAA=\"},\"xaxis\":\"x\",\"y\":{\"dtype\":\"f8\",\"bdata\":\"AAAAAAAEgMAAAAAAAASAwAAAAAAAuIDAAAAAAAC4gMA=\"},\"yaxis\":\"y\",\"type\":\"scatter\"},{\"hoverinfo\":\"text\",\"marker\":{\"color\":\"rgb(40,35,35)\"},\"mode\":\"lines\",\"x\":{\"dtype\":\"f8\",\"bdata\":\"y\\u002fWzOTCC7j9KpSEP5+3vP0qlIQ\\u002fn7e8\\u002fi1Klzhbx7D8=\"},\"xaxis\":\"x\",\"y\":{\"dtype\":\"f8\",\"bdata\":\"AAAAAABwfMAAAAAAAHB8wAAAAAAAXoDAAAAAAABegMA=\"},\"yaxis\":\"y\",\"type\":\"scatter\"},{\"hoverinfo\":\"text\",\"marker\":{\"color\":\"rgb(61,153,112)\"},\"mode\":\"lines\",\"x\":{\"dtype\":\"f8\",\"bdata\":\"AAAAAAAAAACqhsdDLzbWP6qGx0MvNtY\\u002fAAAAAAAAAAA=\"},\"xaxis\":\"x\",\"y\":{\"dtype\":\"f8\",\"bdata\":\"AAAAAAAIgcAAAAAAAAiBwAAAAAAAWIHAAAAAAABYgcA=\"},\"yaxis\":\"y\",\"type\":\"scatter\"},{\"hoverinfo\":\"text\",\"marker\":{\"color\":\"rgb(61,153,112)\"},\"mode\":\"lines\",\"x\":{\"dtype\":\"f8\",\"bdata\":\"qobHQy821j\\u002fU\\u002fhQH1gfhP9T+FAfWB+E\\u002fAAAAAAAAAAA=\"},\"xaxis\":\"x\",\"y\":{\"dtype\":\"f8\",\"bdata\":\"AAAAAAAwgcAAAAAAADCBwAAAAAAAqIHAAAAAAACogcA=\"},\"yaxis\":\"y\",\"type\":\"scatter\"},{\"hoverinfo\":\"text\",\"marker\":{\"color\":\"rgb(0,116,217)\"},\"mode\":\"lines\",\"x\":{\"dtype\":\"f8\",\"bdata\":\"SqUhD+ft7z+78BKxcuTxP7vwErFy5PE\\u002f1P4UB9YH4T8=\"},\"xaxis\":\"x\",\"y\":{\"dtype\":\"f8\",\"bdata\":\"AAAAAACWfsAAAAAAAJZ+wAAAAAAAbIHAAAAAAABsgcA=\"},\"yaxis\":\"y\",\"type\":\"scatter\"},{\"hoverinfo\":\"text\",\"marker\":{\"color\":\"rgb(255,65,54)\"},\"mode\":\"lines\",\"x\":{\"dtype\":\"f8\",\"bdata\":\"AAAAAAAAAACKUIMkOWTaP4pQgyQ5ZNo\\u002fAAAAAAAAAAA=\"},\"xaxis\":\"x\",\"y\":{\"dtype\":\"f8\",\"bdata\":\"AAAAAABIgsAAAAAAAEiCwAAAAAAAmILAAAAAAACYgsA=\"},\"yaxis\":\"y\",\"type\":\"scatter\"},{\"hoverinfo\":\"text\",\"marker\":{\"color\":\"rgb(255,65,54)\"},\"mode\":\"lines\",\"x\":{\"dtype\":\"f8\",\"bdata\":\"AAAAAAAAAACY\\u002f+oJG53iP5j\\u002f6gkbneI\\u002filCDJDlk2j8=\"},\"xaxis\":\"x\",\"y\":{\"dtype\":\"f8\",\"bdata\":\"AAAAAAD4gcAAAAAAAPiBwAAAAAAAcILAAAAAAABwgsA=\"},\"yaxis\":\"y\",\"type\":\"scatter\"},{\"hoverinfo\":\"text\",\"marker\":{\"color\":\"rgb(35,205,205)\"},\"mode\":\"lines\",\"x\":{\"dtype\":\"f8\",\"bdata\":\"AAAAAAAAAADMfpfUCTHTP8x+l9QJMdM\\u002fAAAAAAAAAAA=\"},\"xaxis\":\"x\",\"y\":{\"dtype\":\"f8\",\"bdata\":\"AAAAAAA4g8AAAAAAADiDwAAAAAAAiIPAAAAAAACIg8A=\"},\"yaxis\":\"y\",\"type\":\"scatter\"},{\"hoverinfo\":\"text\",\"marker\":{\"color\":\"rgb(35,205,205)\"},\"mode\":\"lines\",\"x\":{\"dtype\":\"f8\",\"bdata\":\"AAAAAAAAAACx8ygrqZnhP7HzKCupmeE\\u002fzH6X1Akx0z8=\"},\"xaxis\":\"x\",\"y\":{\"dtype\":\"f8\",\"bdata\":\"AAAAAADogsAAAAAAAOiCwAAAAAAAYIPAAAAAAABgg8A=\"},\"yaxis\":\"y\",\"type\":\"scatter\"},{\"hoverinfo\":\"text\",\"marker\":{\"color\":\"rgb(35,205,205)\"},\"mode\":\"lines\",\"x\":{\"dtype\":\"f8\",\"bdata\":\"AAAAAAAAAADAHMqt8cLeP8Acyq3xwt4\\u002fAAAAAAAAAAA=\"},\"xaxis\":\"x\",\"y\":{\"dtype\":\"f8\",\"bdata\":\"AAAAAADYg8AAAAAAANiDwAAAAAAAKITAAAAAAAAohMA=\"},\"yaxis\":\"y\",\"type\":\"scatter\"},{\"hoverinfo\":\"text\",\"marker\":{\"color\":\"rgb(35,205,205)\"},\"mode\":\"lines\",\"x\":{\"dtype\":\"f8\",\"bdata\":\"sfMoK6mZ4T9TnFG+Pj7sP1OcUb4+Puw\\u002fwBzKrfHC3j8=\"},\"xaxis\":\"x\",\"y\":{\"dtype\":\"f8\",\"bdata\":\"AAAAAAAkg8AAAAAAACSDwAAAAAAAAITAAAAAAAAAhMA=\"},\"yaxis\":\"y\",\"type\":\"scatter\"},{\"hoverinfo\":\"text\",\"marker\":{\"color\":\"rgb(0,116,217)\"},\"mode\":\"lines\",\"x\":{\"dtype\":\"f8\",\"bdata\":\"mP\\u002fqCRud4j8CGg8g0gnxPwIaDyDSCfE\\u002fU5xRvj4+7D8=\"},\"xaxis\":\"x\",\"y\":{\"dtype\":\"f8\",\"bdata\":\"AAAAAAA0gsAAAAAAADSCwAAAAAAAkoPAAAAAAACSg8A=\"},\"yaxis\":\"y\",\"type\":\"scatter\"},{\"hoverinfo\":\"text\",\"marker\":{\"color\":\"rgb(0,116,217)\"},\"mode\":\"lines\",\"x\":{\"dtype\":\"f8\",\"bdata\":\"u\\u002fASsXLk8T+E40puyB\\u002fzP4TjSm7IH\\u002fM\\u002fAhoPINIJ8T8=\"},\"xaxis\":\"x\",\"y\":{\"dtype\":\"f8\",\"bdata\":\"AAAAAIBbgMAAAAAAgFuAwAAAAAAA44LAAAAAAADjgsA=\"},\"yaxis\":\"y\",\"type\":\"scatter\"},{\"hoverinfo\":\"text\",\"marker\":{\"color\":\"rgb(61,153,112)\"},\"mode\":\"lines\",\"x\":{\"dtype\":\"f8\",\"bdata\":\"AAAAAAAAAAAO0Gl0\\u002fh\\u002fWPw7QaXT+H9Y\\u002fAAAAAAAAAAA=\"},\"xaxis\":\"x\",\"y\":{\"dtype\":\"f8\",\"bdata\":\"AAAAAADIhMAAAAAAAMiEwAAAAAAAGIXAAAAAAAAYhcA=\"},\"yaxis\":\"y\",\"type\":\"scatter\"},{\"hoverinfo\":\"text\",\"marker\":{\"color\":\"rgb(61,153,112)\"},\"mode\":\"lines\",\"x\":{\"dtype\":\"f8\",\"bdata\":\"DtBpdP4f1j+ZWeDl2NndP5lZ4OXY2d0\\u002fAAAAAAAAAAA=\"},\"xaxis\":\"x\",\"y\":{\"dtype\":\"f8\",\"bdata\":\"AAAAAADwhMAAAAAAAPCEwAAAAAAAaIXAAAAAAABohcA=\"},\"yaxis\":\"y\",\"type\":\"scatter\"},{\"hoverinfo\":\"text\",\"marker\":{\"color\":\"rgb(61,153,112)\"},\"mode\":\"lines\",\"x\":{\"dtype\":\"f8\",\"bdata\":\"AAAAAAAAAAAjqjr3+LDnPyOqOvf4sOc\\u002fmVng5djZ3T8=\"},\"xaxis\":\"x\",\"y\":{\"dtype\":\"f8\",\"bdata\":\"AAAAAAB4hMAAAAAAAHiEwAAAAAAALIXAAAAAAAAshcA=\"},\"yaxis\":\"y\",\"type\":\"scatter\"},{\"hoverinfo\":\"text\",\"marker\":{\"color\":\"rgb(61,153,112)\"},\"mode\":\"lines\",\"x\":{\"dtype\":\"f8\",\"bdata\":\"AAAAAAAAAADqoY\\u002fVktDXP+qhj9WS0Nc\\u002fAAAAAAAAAAA=\"},\"xaxis\":\"x\",\"y\":{\"dtype\":\"f8\",\"bdata\":\"AAAAAAAIhsAAAAAAAAiGwAAAAAAAWIbAAAAAAABYhsA=\"},\"yaxis\":\"y\",\"type\":\"scatter\"},{\"hoverinfo\":\"text\",\"marker\":{\"color\":\"rgb(61,153,112)\"},\"mode\":\"lines\",\"x\":{\"dtype\":\"f8\",\"bdata\":\"AAAAAAAAAAD96oEJSNTgP\\u002f3qgQlI1OA\\u002f6qGP1ZLQ1z8=\"},\"xaxis\":\"x\",\"y\":{\"dtype\":\"f8\",\"bdata\":\"AAAAAAC4hcAAAAAAALiFwAAAAAAAMIbAAAAAAAAwhsA=\"},\"yaxis\":\"y\",\"type\":\"scatter\"},{\"hoverinfo\":\"text\",\"marker\":{\"color\":\"rgb(61,153,112)\"},\"mode\":\"lines\",\"x\":{\"dtype\":\"f8\",\"bdata\":\"\\u002feqBCUjU4D+\\u002fQEb9zurmP79ARv3O6uY\\u002fAAAAAAAAAAA=\"},\"xaxis\":\"x\",\"y\":{\"dtype\":\"f8\",\"bdata\":\"AAAAAAD0hcAAAAAAAPSFwAAAAAAAqIbAAAAAAACohsA=\"},\"yaxis\":\"y\",\"type\":\"scatter\"},{\"hoverinfo\":\"text\",\"marker\":{\"color\":\"rgb(61,153,112)\"},\"mode\":\"lines\",\"x\":{\"dtype\":\"f8\",\"bdata\":\"I6o69\\u002fiw5z+IM2odJJbtP4gzah0klu0\\u002fv0BG\\u002fc7q5j8=\"},\"xaxis\":\"x\",\"y\":{\"dtype\":\"f8\",\"bdata\":\"AAAAAADShMAAAAAAANKEwAAAAAAATobAAAAAAABOhsA=\"},\"yaxis\":\"y\",\"type\":\"scatter\"},{\"hoverinfo\":\"text\",\"marker\":{\"color\":\"rgb(255,65,54)\"},\"mode\":\"lines\",\"x\":{\"dtype\":\"f8\",\"bdata\":\"AAAAAAAAAAAQCBzwNrbbPxAIHPA2tts\\u002fAAAAAAAAAAA=\"},\"xaxis\":\"x\",\"y\":{\"dtype\":\"f8\",\"bdata\":\"AAAAAABIh8AAAAAAAEiHwAAAAAAAmIfAAAAAAACYh8A=\"},\"yaxis\":\"y\",\"type\":\"scatter\"},{\"hoverinfo\":\"text\",\"marker\":{\"color\":\"rgb(255,65,54)\"},\"mode\":\"lines\",\"x\":{\"dtype\":\"f8\",\"bdata\":\"AAAAAAAAAADHhqntvFfiP8eGqe28V+I\\u002fEAgc8Da22z8=\"},\"xaxis\":\"x\",\"y\":{\"dtype\":\"f8\",\"bdata\":\"AAAAAAD4hsAAAAAAAPiGwAAAAAAAcIfAAAAAAABwh8A=\"},\"yaxis\":\"y\",\"type\":\"scatter\"},{\"hoverinfo\":\"text\",\"marker\":{\"color\":\"rgb(255,65,54)\"},\"mode\":\"lines\",\"x\":{\"dtype\":\"f8\",\"bdata\":\"AAAAAAAAAAB89lWIzl3eP3z2VYjOXd4\\u002fAAAAAAAAAAA=\"},\"xaxis\":\"x\",\"y\":{\"dtype\":\"f8\",\"bdata\":\"AAAAAADoh8AAAAAAAOiHwAAAAAAAOIjAAAAAAAA4iMA=\"},\"yaxis\":\"y\",\"type\":\"scatter\"},{\"hoverinfo\":\"text\",\"marker\":{\"color\":\"rgb(255,65,54)\"},\"mode\":\"lines\",\"x\":{\"dtype\":\"f8\",\"bdata\":\"fPZViM5d3j9sJBbRI+\\u002fhP2wkFtEj7+E\\u002fAAAAAAAAAAA=\"},\"xaxis\":\"x\",\"y\":{\"dtype\":\"f8\",\"bdata\":\"AAAAAAAQiMAAAAAAABCIwAAAAAAAiIjAAAAAAACIiMA=\"},\"yaxis\":\"y\",\"type\":\"scatter\"},{\"hoverinfo\":\"text\",\"marker\":{\"color\":\"rgb(255,65,54)\"},\"mode\":\"lines\",\"x\":{\"dtype\":\"f8\",\"bdata\":\"x4ap7bxX4j\\u002fRmK3Ih0PnP9GYrciHQ+c\\u002fbCQW0SPv4T8=\"},\"xaxis\":\"x\",\"y\":{\"dtype\":\"f8\",\"bdata\":\"AAAAAAA0h8AAAAAAADSHwAAAAAAATIjAAAAAAABMiMA=\"},\"yaxis\":\"y\",\"type\":\"scatter\"},{\"hoverinfo\":\"text\",\"marker\":{\"color\":\"rgb(35,205,205)\"},\"mode\":\"lines\",\"x\":{\"dtype\":\"f8\",\"bdata\":\"AAAAAAAAAADQLGHX5HriP9AsYdfkeuI\\u002fAAAAAAAAAAA=\"},\"xaxis\":\"x\",\"y\":{\"dtype\":\"f8\",\"bdata\":\"AAAAAADYiMAAAAAAANiIwAAAAAAAKInAAAAAAAAoicA=\"},\"yaxis\":\"y\",\"type\":\"scatter\"},{\"hoverinfo\":\"text\",\"marker\":{\"color\":\"rgb(35,205,205)\"},\"mode\":\"lines\",\"x\":{\"dtype\":\"f8\",\"bdata\":\"AAAAAAAAAADCYvjI8iXgP8Ji+MjyJeA\\u002fAAAAAAAAAAA=\"},\"xaxis\":\"x\",\"y\":{\"dtype\":\"f8\",\"bdata\":\"AAAAAADIicAAAAAAAMiJwAAAAAAAGIrAAAAAAAAYisA=\"},\"yaxis\":\"y\",\"type\":\"scatter\"},{\"hoverinfo\":\"text\",\"marker\":{\"color\":\"rgb(35,205,205)\"},\"mode\":\"lines\",\"x\":{\"dtype\":\"f8\",\"bdata\":\"AAAAAAAAAABl423OwUrmP2Xjbc7BSuY\\u002fwmL4yPIl4D8=\"},\"xaxis\":\"x\",\"y\":{\"dtype\":\"f8\",\"bdata\":\"AAAAAAB4icAAAAAAAHiJwAAAAAAA8InAAAAAAADwicA=\"},\"yaxis\":\"y\",\"type\":\"scatter\"},{\"hoverinfo\":\"text\",\"marker\":{\"color\":\"rgb(35,205,205)\"},\"mode\":\"lines\",\"x\":{\"dtype\":\"f8\",\"bdata\":\"0Cxh1+R64j8v8iAq50ntPy\\u002fyICrnSe0\\u002fZeNtzsFK5j8=\"},\"xaxis\":\"x\",\"y\":{\"dtype\":\"f8\",\"bdata\":\"AAAAAAAAicAAAAAAAACJwAAAAAAAtInAAAAAAAC0icA=\"},\"yaxis\":\"y\",\"type\":\"scatter\"},{\"hoverinfo\":\"text\",\"marker\":{\"color\":\"rgb(133,20,75)\"},\"mode\":\"lines\",\"x\":{\"dtype\":\"f8\",\"bdata\":\"AAAAAAAAAABdvfmlD0PgP129+aUPQ+A\\u002fAAAAAAAAAAA=\"},\"xaxis\":\"x\",\"y\":{\"dtype\":\"f8\",\"bdata\":\"AAAAAAC4isAAAAAAALiKwAAAAAAACIvAAAAAAAAIi8A=\"},\"yaxis\":\"y\",\"type\":\"scatter\"},{\"hoverinfo\":\"text\",\"marker\":{\"color\":\"rgb(133,20,75)\"},\"mode\":\"lines\",\"x\":{\"dtype\":\"f8\",\"bdata\":\"Xb35pQ9D4D\\u002fGWwO9IM\\u002fjP8ZbA70gz+M\\u002fAAAAAAAAAAA=\"},\"xaxis\":\"x\",\"y\":{\"dtype\":\"f8\",\"bdata\":\"AAAAAADgisAAAAAAAOCKwAAAAAAAWIvAAAAAAABYi8A=\"},\"yaxis\":\"y\",\"type\":\"scatter\"},{\"hoverinfo\":\"text\",\"marker\":{\"color\":\"rgb(133,20,75)\"},\"mode\":\"lines\",\"x\":{\"dtype\":\"f8\",\"bdata\":\"AAAAAAAAAACAasx46fbmP4BqzHjp9uY\\u002fxlsDvSDP4z8=\"},\"xaxis\":\"x\",\"y\":{\"dtype\":\"f8\",\"bdata\":\"AAAAAABoisAAAAAAAGiKwAAAAAAAHIvAAAAAAAAci8A=\"},\"yaxis\":\"y\",\"type\":\"scatter\"},{\"hoverinfo\":\"text\",\"marker\":{\"color\":\"rgb(133,20,75)\"},\"mode\":\"lines\",\"x\":{\"dtype\":\"f8\",\"bdata\":\"gGrMeOn25j8CTnmrXhfoPwJOeateF+g\\u002fAAAAAAAAAAA=\"},\"xaxis\":\"x\",\"y\":{\"dtype\":\"f8\",\"bdata\":\"AAAAAADCisAAAAAAAMKKwAAAAAAAqIvAAAAAAACoi8A=\"},\"yaxis\":\"y\",\"type\":\"scatter\"},{\"hoverinfo\":\"text\",\"marker\":{\"color\":\"rgb(133,20,75)\"},\"mode\":\"lines\",\"x\":{\"dtype\":\"f8\",\"bdata\":\"AAAAAAAAAABVq33u7yvmP1Wrfe7vK+Y\\u002fAAAAAAAAAAA=\"},\"xaxis\":\"x\",\"y\":{\"dtype\":\"f8\",\"bdata\":\"AAAAAAD4i8AAAAAAAPiLwAAAAAAASIzAAAAAAABIjMA=\"},\"yaxis\":\"y\",\"type\":\"scatter\"},{\"hoverinfo\":\"text\",\"marker\":{\"color\":\"rgb(133,20,75)\"},\"mode\":\"lines\",\"x\":{\"dtype\":\"f8\",\"bdata\":\"Ak55q14X6D+R3jSgIGHpP5HeNKAgYek\\u002fVat97u8r5j8=\"},\"xaxis\":\"x\",\"y\":{\"dtype\":\"f8\",\"bdata\":\"AAAAAAA1i8AAAAAAADWLwAAAAAAAIIzAAAAAAAAgjMA=\"},\"yaxis\":\"y\",\"type\":\"scatter\"},{\"hoverinfo\":\"text\",\"marker\":{\"color\":\"rgb(133,20,75)\"},\"mode\":\"lines\",\"x\":{\"dtype\":\"f8\",\"bdata\":\"AAAAAAAAAAD2Whs+8BbjP\\u002fZaGz7wFuM\\u002fAAAAAAAAAAA=\"},\"xaxis\":\"x\",\"y\":{\"dtype\":\"f8\",\"bdata\":\"AAAAAACYjMAAAAAAAJiMwAAAAAAA6IzAAAAAAADojMA=\"},\"yaxis\":\"y\",\"type\":\"scatter\"},{\"hoverinfo\":\"text\",\"marker\":{\"color\":\"rgb(133,20,75)\"},\"mode\":\"lines\",\"x\":{\"dtype\":\"f8\",\"bdata\":\"9lobPvAW4z9XVM2KrLTmP1dUzYqstOY\\u002fAAAAAAAAAAA=\"},\"xaxis\":\"x\",\"y\":{\"dtype\":\"f8\",\"bdata\":\"AAAAAADAjMAAAAAAAMCMwAAAAAAAOI3AAAAAAAA4jcA=\"},\"yaxis\":\"y\",\"type\":\"scatter\"},{\"hoverinfo\":\"text\",\"marker\":{\"color\":\"rgb(133,20,75)\"},\"mode\":\"lines\",\"x\":{\"dtype\":\"f8\",\"bdata\":\"AAAAAAAAAAD+7W70wzvhP\\u002f7tbvTDO+E\\u002fAAAAAAAAAAA=\"},\"xaxis\":\"x\",\"y\":{\"dtype\":\"f8\",\"bdata\":\"AAAAAADYjcAAAAAAANiNwAAAAAAAKI7AAAAAAAAojsA=\"},\"yaxis\":\"y\",\"type\":\"scatter\"},{\"hoverinfo\":\"text\",\"marker\":{\"color\":\"rgb(133,20,75)\"},\"mode\":\"lines\",\"x\":{\"dtype\":\"f8\",\"bdata\":\"AAAAAAAAAABesV5L16XkP16xXkvXpeQ\\u002f\\u002fu1u9MM74T8=\"},\"xaxis\":\"x\",\"y\":{\"dtype\":\"f8\",\"bdata\":\"AAAAAACIjcAAAAAAAIiNwAAAAAAAAI7AAAAAAAAAjsA=\"},\"yaxis\":\"y\",\"type\":\"scatter\"},{\"hoverinfo\":\"text\",\"marker\":{\"color\":\"rgb(133,20,75)\"},\"mode\":\"lines\",\"x\":{\"dtype\":\"f8\",\"bdata\":\"XrFeS9el5D8B9mOHfBrlPwH2Y4d8GuU\\u002fAAAAAAAAAAA=\"},\"xaxis\":\"x\",\"y\":{\"dtype\":\"f8\",\"bdata\":\"AAAAAADEjcAAAAAAAMSNwAAAAAAAeI7AAAAAAAB4jsA=\"},\"yaxis\":\"y\",\"type\":\"scatter\"},{\"hoverinfo\":\"text\",\"marker\":{\"color\":\"rgb(133,20,75)\"},\"mode\":\"lines\",\"x\":{\"dtype\":\"f8\",\"bdata\":\"V1TNiqy05j9kP84AMQDqP2Q\\u002fzgAxAOo\\u002fAfZjh3wa5T8=\"},\"xaxis\":\"x\",\"y\":{\"dtype\":\"f8\",\"bdata\":\"AAAAAAD8jMAAAAAAAPyMwAAAAAAAHo7AAAAAAAAejsA=\"},\"yaxis\":\"y\",\"type\":\"scatter\"},{\"hoverinfo\":\"text\",\"marker\":{\"color\":\"rgb(133,20,75)\"},\"mode\":\"lines\",\"x\":{\"dtype\":\"f8\",\"bdata\":\"kd40oCBh6T847MWBO\\u002ffsPzjsxYE79+w\\u002fZD\\u002fOADEA6j8=\"},\"xaxis\":\"x\",\"y\":{\"dtype\":\"f8\",\"bdata\":\"AAAAAICqi8AAAAAAgKqLwAAAAAAAjY3AAAAAAACNjcA=\"},\"yaxis\":\"y\",\"type\":\"scatter\"},{\"hoverinfo\":\"text\",\"marker\":{\"color\":\"rgb(255,220,0)\"},\"mode\":\"lines\",\"x\":{\"dtype\":\"f8\",\"bdata\":\"AAAAAAAAAACUeiJ6cT7YP5R6InpxPtg\\u002fAAAAAAAAAAA=\"},\"xaxis\":\"x\",\"y\":{\"dtype\":\"f8\",\"bdata\":\"AAAAAAAYj8AAAAAAABiPwAAAAAAAaI\\u002fAAAAAAABoj8A=\"},\"yaxis\":\"y\",\"type\":\"scatter\"},{\"hoverinfo\":\"text\",\"marker\":{\"color\":\"rgb(255,220,0)\"},\"mode\":\"lines\",\"x\":{\"dtype\":\"f8\",\"bdata\":\"lHoienE+2D\\u002fFOqtQNk7mP8U6q1A2TuY\\u002fAAAAAAAAAAA=\"},\"xaxis\":\"x\",\"y\":{\"dtype\":\"f8\",\"bdata\":\"AAAAAABAj8AAAAAAAECPwAAAAAAAuI\\u002fAAAAAAAC4j8A=\"},\"yaxis\":\"y\",\"type\":\"scatter\"},{\"hoverinfo\":\"text\",\"marker\":{\"color\":\"rgb(255,220,0)\"},\"mode\":\"lines\",\"x\":{\"dtype\":\"f8\",\"bdata\":\"AAAAAAAAAAC\\u002fmQXcG7\\u002foP7+ZBdwbv+g\\u002fxTqrUDZO5j8=\"},\"xaxis\":\"x\",\"y\":{\"dtype\":\"f8\",\"bdata\":\"AAAAAADIjsAAAAAAAMiOwAAAAAAAfI\\u002fAAAAAAAB8j8A=\"},\"yaxis\":\"y\",\"type\":\"scatter\"},{\"hoverinfo\":\"text\",\"marker\":{\"color\":\"rgb(0,116,217)\"},\"mode\":\"lines\",\"x\":{\"dtype\":\"f8\",\"bdata\":\"OOzFgTv37D9T0y4ZXEbwP1PTLhlcRvA\\u002fv5kF3Bu\\u002f6D8=\"},\"xaxis\":\"x\",\"y\":{\"dtype\":\"f8\",\"bdata\":\"AAAAAMCbjMAAAAAAwJuMwAAAAAAAIo\\u002fAAAAAAAAij8A=\"},\"yaxis\":\"y\",\"type\":\"scatter\"},{\"hoverinfo\":\"text\",\"marker\":{\"color\":\"rgb(0,116,217)\"},\"mode\":\"lines\",\"x\":{\"dtype\":\"f8\",\"bdata\":\"L\\u002fIgKudJ7T8mZSoE9rHwPyZlKgT2sfA\\u002fU9MuGVxG8D8=\"},\"xaxis\":\"x\",\"y\":{\"dtype\":\"f8\",\"bdata\":\"AAAAAABaicAAAAAAAFqJwAAAAADg3o3AAAAAAODejcA=\"},\"yaxis\":\"y\",\"type\":\"scatter\"},{\"hoverinfo\":\"text\",\"marker\":{\"color\":\"rgb(40,35,35)\"},\"mode\":\"lines\",\"x\":{\"dtype\":\"f8\",\"bdata\":\"AAAAAAAAAACMvKiw19DaP4y8qLDX0No\\u002fAAAAAAAAAAA=\"},\"xaxis\":\"x\",\"y\":{\"dtype\":\"f8\",\"bdata\":\"AAAAAAAskMAAAAAAACyQwAAAAAAAVJDAAAAAAABUkMA=\"},\"yaxis\":\"y\",\"type\":\"scatter\"},{\"hoverinfo\":\"text\",\"marker\":{\"color\":\"rgb(40,35,35)\"},\"mode\":\"lines\",\"x\":{\"dtype\":\"f8\",\"bdata\":\"AAAAAAAAAAA1Jt1RpVPhPzUm3VGlU+E\\u002fjLyosNfQ2j8=\"},\"xaxis\":\"x\",\"y\":{\"dtype\":\"f8\",\"bdata\":\"AAAAAAAEkMAAAAAAAASQwAAAAAAAQJDAAAAAAABAkMA=\"},\"yaxis\":\"y\",\"type\":\"scatter\"},{\"hoverinfo\":\"text\",\"marker\":{\"color\":\"rgb(40,35,35)\"},\"mode\":\"lines\",\"x\":{\"dtype\":\"f8\",\"bdata\":\"NSbdUaVT4T8rBycWRQ\\u002fjPysHJxZFD+M\\u002fAAAAAAAAAAA=\"},\"xaxis\":\"x\",\"y\":{\"dtype\":\"f8\",\"bdata\":\"AAAAAAAikMAAAAAAACKQwAAAAAAAfJDAAAAAAAB8kMA=\"},\"yaxis\":\"y\",\"type\":\"scatter\"},{\"hoverinfo\":\"text\",\"marker\":{\"color\":\"rgb(0,116,217)\"},\"mode\":\"lines\",\"x\":{\"dtype\":\"f8\",\"bdata\":\"JmUqBPax8D\\u002fogjyl6E7xP+iCPKXoTvE\\u002fKwcnFkUP4z8=\"},\"xaxis\":\"x\",\"y\":{\"dtype\":\"f8\",\"bdata\":\"AAAAAHCci8AAAAAAcJyLwAAAAAAAT5DAAAAAAABPkMA=\"},\"yaxis\":\"y\",\"type\":\"scatter\"},{\"hoverinfo\":\"text\",\"marker\":{\"color\":\"rgb(61,153,112)\"},\"mode\":\"lines\",\"x\":{\"dtype\":\"f8\",\"bdata\":\"AAAAAAAAAAC2v8gK9sjfP7a\\u002fyAr2yN8\\u002fAAAAAAAAAAA=\"},\"xaxis\":\"x\",\"y\":{\"dtype\":\"f8\",\"bdata\":\"AAAAAABEkcAAAAAAAESRwAAAAAAAbJHAAAAAAABskcA=\"},\"yaxis\":\"y\",\"type\":\"scatter\"},{\"hoverinfo\":\"text\",\"marker\":{\"color\":\"rgb(61,153,112)\"},\"mode\":\"lines\",\"x\":{\"dtype\":\"f8\",\"bdata\":\"tr\\u002fICvbI3z+XECZTKo3iP5cQJlMqjeI\\u002fAAAAAAAAAAA=\"},\"xaxis\":\"x\",\"y\":{\"dtype\":\"f8\",\"bdata\":\"AAAAAABYkcAAAAAAAFiRwAAAAAAAlJHAAAAAAACUkcA=\"},\"yaxis\":\"y\",\"type\":\"scatter\"},{\"hoverinfo\":\"text\",\"marker\":{\"color\":\"rgb(61,153,112)\"},\"mode\":\"lines\",\"x\":{\"dtype\":\"f8\",\"bdata\":\"AAAAAAAAAAC5GgV8TS3kP7kaBXxNLeQ\\u002flxAmUyqN4j8=\"},\"xaxis\":\"x\",\"y\":{\"dtype\":\"f8\",\"bdata\":\"AAAAAAAckcAAAAAAAByRwAAAAAAAdpHAAAAAAAB2kcA=\"},\"yaxis\":\"y\",\"type\":\"scatter\"},{\"hoverinfo\":\"text\",\"marker\":{\"color\":\"rgb(61,153,112)\"},\"mode\":\"lines\",\"x\":{\"dtype\":\"f8\",\"bdata\":\"uRoFfE0t5D8gRFUOyKDlPyBEVQ7IoOU\\u002fAAAAAAAAAAA=\"},\"xaxis\":\"x\",\"y\":{\"dtype\":\"f8\",\"bdata\":\"AAAAAABJkcAAAAAAAEmRwAAAAAAAvJHAAAAAAAC8kcA=\"},\"yaxis\":\"y\",\"type\":\"scatter\"},{\"hoverinfo\":\"text\",\"marker\":{\"color\":\"rgb(61,153,112)\"},\"mode\":\"lines\",\"x\":{\"dtype\":\"f8\",\"bdata\":\"AAAAAAAAAACqj\\u002fOCuDHnP6qP84K4Mec\\u002fIERVDsig5T8=\"},\"xaxis\":\"x\",\"y\":{\"dtype\":\"f8\",\"bdata\":\"AAAAAAD0kMAAAAAAAPSQwAAAAACAgpHAAAAAAICCkcA=\"},\"yaxis\":\"y\",\"type\":\"scatter\"},{\"hoverinfo\":\"text\",\"marker\":{\"color\":\"rgb(61,153,112)\"},\"mode\":\"lines\",\"x\":{\"dtype\":\"f8\",\"bdata\":\"qo\\u002fzgrgx5z9tCqGaa5\\u002fnP20KoZprn+c\\u002fAAAAAAAAAAA=\"},\"xaxis\":\"x\",\"y\":{\"dtype\":\"f8\",\"bdata\":\"AAAAAEA7kcAAAAAAQDuRwAAAAAAA5JHAAAAAAADkkcA=\"},\"yaxis\":\"y\",\"type\":\"scatter\"},{\"hoverinfo\":\"text\",\"marker\":{\"color\":\"rgb(61,153,112)\"},\"mode\":\"lines\",\"x\":{\"dtype\":\"f8\",\"bdata\":\"AAAAAAAAAADB0OxEsSXoP8HQ7ESxJeg\\u002fbQqhmmuf5z8=\"},\"xaxis\":\"x\",\"y\":{\"dtype\":\"f8\",\"bdata\":\"AAAAAADMkMAAAAAAAMyQwAAAAACgj5HAAAAAAKCPkcA=\"},\"yaxis\":\"y\",\"type\":\"scatter\"},{\"hoverinfo\":\"text\",\"marker\":{\"color\":\"rgb(61,153,112)\"},\"mode\":\"lines\",\"x\":{\"dtype\":\"f8\",\"bdata\":\"wdDsRLEl6D9yDmvTvNboP3IOa9O81ug\\u002fAAAAAAAAAAA=\"},\"xaxis\":\"x\",\"y\":{\"dtype\":\"f8\",\"bdata\":\"AAAAANAtkcAAAAAA0C2RwAAAAAAADJLAAAAAAAAMksA=\"},\"yaxis\":\"y\",\"type\":\"scatter\"},{\"hoverinfo\":\"text\",\"marker\":{\"color\":\"rgb(61,153,112)\"},\"mode\":\"lines\",\"x\":{\"dtype\":\"f8\",\"bdata\":\"AAAAAAAAAAD9Wyh6i1frP\\u002f1bKHqLV+s\\u002fcg5r07zW6D8=\"},\"xaxis\":\"x\",\"y\":{\"dtype\":\"f8\",\"bdata\":\"AAAAAACkkMAAAAAAAKSQwAAAAADonJHAAAAAAOickcA=\"},\"yaxis\":\"y\",\"type\":\"scatter\"},{\"hoverinfo\":\"text\",\"marker\":{\"color\":\"rgb(61,153,112)\"},\"mode\":\"lines\",\"x\":{\"dtype\":\"f8\",\"bdata\":\"AAAAAAAAAACkyKuOnyTlP6TIq46fJOU\\u002fAAAAAAAAAAA=\"},\"xaxis\":\"x\",\"y\":{\"dtype\":\"f8\",\"bdata\":\"AAAAAABcksAAAAAAAFySwAAAAAAAhJLAAAAAAACEksA=\"},\"yaxis\":\"y\",\"type\":\"scatter\"},{\"hoverinfo\":\"text\",\"marker\":{\"color\":\"rgb(61,153,112)\"},\"mode\":\"lines\",\"x\":{\"dtype\":\"f8\",\"bdata\":\"AAAAAAAAAAADlXp4jRboPwOVeniNFug\\u002fpMirjp8k5T8=\"},\"xaxis\":\"x\",\"y\":{\"dtype\":\"f8\",\"bdata\":\"AAAAAAA0ksAAAAAAADSSwAAAAAAAcJLAAAAAAABwksA=\"},\"yaxis\":\"y\",\"type\":\"scatter\"},{\"hoverinfo\":\"text\",\"marker\":{\"color\":\"rgb(61,153,112)\"},\"mode\":\"lines\",\"x\":{\"dtype\":\"f8\",\"bdata\":\"AAAAAAAAAACSubRUaK7gP5K5tFRoruA\\u002fAAAAAAAAAAA=\"},\"xaxis\":\"x\",\"y\":{\"dtype\":\"f8\",\"bdata\":\"AAAAAACsksAAAAAAAKySwAAAAAAA1JLAAAAAAADUksA=\"},\"yaxis\":\"y\",\"type\":\"scatter\"},{\"hoverinfo\":\"text\",\"marker\":{\"color\":\"rgb(61,153,112)\"},\"mode\":\"lines\",\"x\":{\"dtype\":\"f8\",\"bdata\":\"krm0VGiu4D8nOsb3AKzkPyc6xvcArOQ\\u002fAAAAAAAAAAA=\"},\"xaxis\":\"x\",\"y\":{\"dtype\":\"f8\",\"bdata\":\"AAAAAADAksAAAAAAAMCSwAAAAAAA\\u002fJLAAAAAAAD8ksA=\"},\"yaxis\":\"y\",\"type\":\"scatter\"},{\"hoverinfo\":\"text\",\"marker\":{\"color\":\"rgb(61,153,112)\"},\"mode\":\"lines\",\"x\":{\"dtype\":\"f8\",\"bdata\":\"AAAAAAAAAAA22vtVZVLlPzba+1VlUuU\\u002fAAAAAAAAAAA=\"},\"xaxis\":\"x\",\"y\":{\"dtype\":\"f8\",\"bdata\":\"AAAAAAAkk8AAAAAAACSTwAAAAAAATJPAAAAAAABMk8A=\"},\"yaxis\":\"y\",\"type\":\"scatter\"},{\"hoverinfo\":\"text\",\"marker\":{\"color\":\"rgb(61,153,112)\"},\"mode\":\"lines\",\"x\":{\"dtype\":\"f8\",\"bdata\":\"JzrG9wCs5D\\u002f\\u002fAtkz8oXnP\\u002f8C2TPyhec\\u002fNtr7VWVS5T8=\"},\"xaxis\":\"x\",\"y\":{\"dtype\":\"f8\",\"bdata\":\"AAAAAADeksAAAAAAAN6SwAAAAAAAOJPAAAAAAAA4k8A=\"},\"yaxis\":\"y\",\"type\":\"scatter\"},{\"hoverinfo\":\"text\",\"marker\":{\"color\":\"rgb(61,153,112)\"},\"mode\":\"lines\",\"x\":{\"dtype\":\"f8\",\"bdata\":\"A5V6eI0W6D+fNi6GRDXqP582LoZENeo\\u002f\\u002fwLZM\\u002fKF5z8=\"},\"xaxis\":\"x\",\"y\":{\"dtype\":\"f8\",\"bdata\":\"AAAAAABSksAAAAAAAFKSwAAAAAAAC5PAAAAAAAALk8A=\"},\"yaxis\":\"y\",\"type\":\"scatter\"},{\"hoverinfo\":\"text\",\"marker\":{\"color\":\"rgb(61,153,112)\"},\"mode\":\"lines\",\"x\":{\"dtype\":\"f8\",\"bdata\":\"AAAAAAAAAAApR8cfWWjoPylHxx9ZaOg\\u002fAAAAAAAAAAA=\"},\"xaxis\":\"x\",\"y\":{\"dtype\":\"f8\",\"bdata\":\"AAAAAAB0k8AAAAAAAHSTwAAAAAAAnJPAAAAAAACck8A=\"},\"yaxis\":\"y\",\"type\":\"scatter\"},{\"hoverinfo\":\"text\",\"marker\":{\"color\":\"rgb(61,153,112)\"},\"mode\":\"lines\",\"x\":{\"dtype\":\"f8\",\"bdata\":\"KUfHH1lo6D8AWo+sJHLpPwBaj6wkcuk\\u002fAAAAAAAAAAA=\"},\"xaxis\":\"x\",\"y\":{\"dtype\":\"f8\",\"bdata\":\"AAAAAACIk8AAAAAAAIiTwAAAAAAAxJPAAAAAAADEk8A=\"},\"yaxis\":\"y\",\"type\":\"scatter\"},{\"hoverinfo\":\"text\",\"marker\":{\"color\":\"rgb(61,153,112)\"},\"mode\":\"lines\",\"x\":{\"dtype\":\"f8\",\"bdata\":\"nzYuhkQ16j\\u002f8R1e5A+vqP\\u002fxHV7kD6+o\\u002fAFqPrCRy6T8=\"},\"xaxis\":\"x\",\"y\":{\"dtype\":\"f8\",\"bdata\":\"AAAAAICuksAAAAAAgK6SwAAAAAAAppPAAAAAAACmk8A=\"},\"yaxis\":\"y\",\"type\":\"scatter\"},{\"hoverinfo\":\"text\",\"marker\":{\"color\":\"rgb(61,153,112)\"},\"mode\":\"lines\",\"x\":{\"dtype\":\"f8\",\"bdata\":\"\\u002fVsoeotX6z+Z7xhEhJHsP5nvGESEkew\\u002f\\u002fEdXuQPr6j8=\"},\"xaxis\":\"x\",\"y\":{\"dtype\":\"f8\",\"bdata\":\"AAAAAHQgkcAAAAAAdCCRwAAAAABAKpPAAAAAAEAqk8A=\"},\"yaxis\":\"y\",\"type\":\"scatter\"},{\"hoverinfo\":\"text\",\"marker\":{\"color\":\"rgb(61,153,112)\"},\"mode\":\"lines\",\"x\":{\"dtype\":\"f8\",\"bdata\":\"AAAAAAAAAAAweLDo\\u002fCzjPzB4sOj8LOM\\u002fAAAAAAAAAAA=\"},\"xaxis\":\"x\",\"y\":{\"dtype\":\"f8\",\"bdata\":\"AAAAAADsk8AAAAAAAOyTwAAAAAAAFJTAAAAAAAAUlMA=\"},\"yaxis\":\"y\",\"type\":\"scatter\"},{\"hoverinfo\":\"text\",\"marker\":{\"color\":\"rgb(61,153,112)\"},\"mode\":\"lines\",\"x\":{\"dtype\":\"f8\",\"bdata\":\"me8YRISR7D8xlxXaltTtPzGXFdqW1O0\\u002fMHiw6Pws4z8=\"},\"xaxis\":\"x\",\"y\":{\"dtype\":\"f8\",\"bdata\":\"AAAAAFolksAAAAAAWiWSwAAAAAAAAJTAAAAAAAAAlMA=\"},\"yaxis\":\"y\",\"type\":\"scatter\"},{\"hoverinfo\":\"text\",\"marker\":{\"color\":\"rgb(61,153,112)\"},\"mode\":\"lines\",\"x\":{\"dtype\":\"f8\",\"bdata\":\"AAAAAAAAAAArITuIq33lPyshO4irfeU\\u002fAAAAAAAAAAA=\"},\"xaxis\":\"x\",\"y\":{\"dtype\":\"f8\",\"bdata\":\"AAAAAAA8lMAAAAAAADyUwAAAAAAAZJTAAAAAAABklMA=\"},\"yaxis\":\"y\",\"type\":\"scatter\"},{\"hoverinfo\":\"text\",\"marker\":{\"color\":\"rgb(61,153,112)\"},\"mode\":\"lines\",\"x\":{\"dtype\":\"f8\",\"bdata\":\"AAAAAAAAAABCvQcR5qfmP0K9BxHmp+Y\\u002fAAAAAAAAAAA=\"},\"xaxis\":\"x\",\"y\":{\"dtype\":\"f8\",\"bdata\":\"AAAAAACMlMAAAAAAAIyUwAAAAAAAtJTAAAAAAAC0lMA=\"},\"yaxis\":\"y\",\"type\":\"scatter\"},{\"hoverinfo\":\"text\",\"marker\":{\"color\":\"rgb(61,153,112)\"},\"mode\":\"lines\",\"x\":{\"dtype\":\"f8\",\"bdata\":\"AAAAAAAAAAAxLCFKQUDiPzEsIUpBQOI\\u002fAAAAAAAAAAA=\"},\"xaxis\":\"x\",\"y\":{\"dtype\":\"f8\",\"bdata\":\"AAAAAAAElcAAAAAAAASVwAAAAAAALJXAAAAAAAAslcA=\"},\"yaxis\":\"y\",\"type\":\"scatter\"},{\"hoverinfo\":\"text\",\"marker\":{\"color\":\"rgb(61,153,112)\"},\"mode\":\"lines\",\"x\":{\"dtype\":\"f8\",\"bdata\":\"AAAAAAAAAACvdQ7C0nDmP691DsLScOY\\u002fMSwhSkFA4j8=\"},\"xaxis\":\"x\",\"y\":{\"dtype\":\"f8\",\"bdata\":\"AAAAAADclMAAAAAAANyUwAAAAAAAGJXAAAAAAAAYlcA=\"},\"yaxis\":\"y\",\"type\":\"scatter\"},{\"hoverinfo\":\"text\",\"marker\":{\"color\":\"rgb(61,153,112)\"},\"mode\":\"lines\",\"x\":{\"dtype\":\"f8\",\"bdata\":\"r3UOwtJw5j9tbsUvDU7oP21uxS8NTug\\u002fAAAAAAAAAAA=\"},\"xaxis\":\"x\",\"y\":{\"dtype\":\"f8\",\"bdata\":\"AAAAAAD6lMAAAAAAAPqUwAAAAAAAVJXAAAAAAABUlcA=\"},\"yaxis\":\"y\",\"type\":\"scatter\"},{\"hoverinfo\":\"text\",\"marker\":{\"color\":\"rgb(61,153,112)\"},\"mode\":\"lines\",\"x\":{\"dtype\":\"f8\",\"bdata\":\"Qr0HEean5j+mg9p7eQ3qP6aD2nt5Deo\\u002fbW7FLw1O6D8=\"},\"xaxis\":\"x\",\"y\":{\"dtype\":\"f8\",\"bdata\":\"AAAAAACglMAAAAAAAKCUwAAAAAAAJ5XAAAAAAAAnlcA=\"},\"yaxis\":\"y\",\"type\":\"scatter\"},{\"hoverinfo\":\"text\",\"marker\":{\"color\":\"rgb(61,153,112)\"},\"mode\":\"lines\",\"x\":{\"dtype\":\"f8\",\"bdata\":\"poPae3kN6j+p8ZbsUfTrP6nxluxR9Os\\u002fAAAAAAAAAAA=\"},\"xaxis\":\"x\",\"y\":{\"dtype\":\"f8\",\"bdata\":\"AAAAAIDjlMAAAAAAgOOUwAAAAAAAfJXAAAAAAAB8lcA=\"},\"yaxis\":\"y\",\"type\":\"scatter\"},{\"hoverinfo\":\"text\",\"marker\":{\"color\":\"rgb(61,153,112)\"},\"mode\":\"lines\",\"x\":{\"dtype\":\"f8\",\"bdata\":\"KyE7iKt95T9nF7v\\u002fgybuP2cXu\\u002f+DJu4\\u002fqfGW7FH06z8=\"},\"xaxis\":\"x\",\"y\":{\"dtype\":\"f8\",\"bdata\":\"AAAAAABQlMAAAAAAAFCUwAAAAADAL5XAAAAAAMAvlcA=\"},\"yaxis\":\"y\",\"type\":\"scatter\"},{\"hoverinfo\":\"text\",\"marker\":{\"color\":\"rgb(61,153,112)\"},\"mode\":\"lines\",\"x\":{\"dtype\":\"f8\",\"bdata\":\"MZcV2pbU7T+qzmSKzT3vP6rOZIrNPe8\\u002fZxe7\\u002f4Mm7j8=\"},\"xaxis\":\"x\",\"y\":{\"dtype\":\"f8\",\"bdata\":\"AAAAAK0Sk8AAAAAArRKTwAAAAADgv5TAAAAAAOC\\u002flMA=\"},\"yaxis\":\"y\",\"type\":\"scatter\"},{\"hoverinfo\":\"text\",\"marker\":{\"color\":\"rgb(255,65,54)\"},\"mode\":\"lines\",\"x\":{\"dtype\":\"f8\",\"bdata\":\"AAAAAAAAAAAvyRDUPmziPy\\u002fJENQ+bOI\\u002fAAAAAAAAAAA=\"},\"xaxis\":\"x\",\"y\":{\"dtype\":\"f8\",\"bdata\":\"AAAAAADMlcAAAAAAAMyVwAAAAAAA9JXAAAAAAAD0lcA=\"},\"yaxis\":\"y\",\"type\":\"scatter\"},{\"hoverinfo\":\"text\",\"marker\":{\"color\":\"rgb(255,65,54)\"},\"mode\":\"lines\",\"x\":{\"dtype\":\"f8\",\"bdata\":\"AAAAAAAAAACWNpoHpJboP5Y2mgeklug\\u002fL8kQ1D5s4j8=\"},\"xaxis\":\"x\",\"y\":{\"dtype\":\"f8\",\"bdata\":\"AAAAAACklcAAAAAAAKSVwAAAAAAA4JXAAAAAAADglcA=\"},\"yaxis\":\"y\",\"type\":\"scatter\"},{\"hoverinfo\":\"text\",\"marker\":{\"color\":\"rgb(255,65,54)\"},\"mode\":\"lines\",\"x\":{\"dtype\":\"f8\",\"bdata\":\"AAAAAAAAAADkw9WwQCzlP+TD1bBALOU\\u002fAAAAAAAAAAA=\"},\"xaxis\":\"x\",\"y\":{\"dtype\":\"f8\",\"bdata\":\"AAAAAAAclsAAAAAAAByWwAAAAAAARJbAAAAAAABElsA=\"},\"yaxis\":\"y\",\"type\":\"scatter\"},{\"hoverinfo\":\"text\",\"marker\":{\"color\":\"rgb(255,65,54)\"},\"mode\":\"lines\",\"x\":{\"dtype\":\"f8\",\"bdata\":\"ljaaB6SW6D9A1dye32brP0DV3J7fZus\\u002f5MPVsEAs5T8=\"},\"xaxis\":\"x\",\"y\":{\"dtype\":\"f8\",\"bdata\":\"AAAAAADClcAAAAAAAMKVwAAAAAAAMJbAAAAAAAAwlsA=\"},\"yaxis\":\"y\",\"type\":\"scatter\"},{\"hoverinfo\":\"text\",\"marker\":{\"color\":\"rgb(255,65,54)\"},\"mode\":\"lines\",\"x\":{\"dtype\":\"f8\",\"bdata\":\"AAAAAAAAAAA+LJwLWVPjPz4snAtZU+M\\u002fAAAAAAAAAAA=\"},\"xaxis\":\"x\",\"y\":{\"dtype\":\"f8\",\"bdata\":\"AAAAAABslsAAAAAAAGyWwAAAAAAAlJbAAAAAAACUlsA=\"},\"yaxis\":\"y\",\"type\":\"scatter\"},{\"hoverinfo\":\"text\",\"marker\":{\"color\":\"rgb(255,65,54)\"},\"mode\":\"lines\",\"x\":{\"dtype\":\"f8\",\"bdata\":\"AAAAAAAAAAA56evIHLrnPznp68gcuuc\\u002fAAAAAAAAAAA=\"},\"xaxis\":\"x\",\"y\":{\"dtype\":\"f8\",\"bdata\":\"AAAAAADklsAAAAAAAOSWwAAAAAAADJfAAAAAAAAMl8A=\"},\"yaxis\":\"y\",\"type\":\"scatter\"},{\"hoverinfo\":\"text\",\"marker\":{\"color\":\"rgb(255,65,54)\"},\"mode\":\"lines\",\"x\":{\"dtype\":\"f8\",\"bdata\":\"AAAAAAAAAAB0ISzttYzpP3QhLO21jOk\\u002fOenryBy65z8=\"},\"xaxis\":\"x\",\"y\":{\"dtype\":\"f8\",\"bdata\":\"AAAAAAC8lsAAAAAAALyWwAAAAAAA+JbAAAAAAAD4lsA=\"},\"yaxis\":\"y\",\"type\":\"scatter\"},{\"hoverinfo\":\"text\",\"marker\":{\"color\":\"rgb(255,65,54)\"},\"mode\":\"lines\",\"x\":{\"dtype\":\"f8\",\"bdata\":\"dCEs7bWM6T9yu7DugvTsP3K7sO6C9Ow\\u002fAAAAAAAAAAA=\"},\"xaxis\":\"x\",\"y\":{\"dtype\":\"f8\",\"bdata\":\"AAAAAADalsAAAAAAANqWwAAAAAAANJfAAAAAAAA0l8A=\"},\"yaxis\":\"y\",\"type\":\"scatter\"},{\"hoverinfo\":\"text\",\"marker\":{\"color\":\"rgb(255,65,54)\"},\"mode\":\"lines\",\"x\":{\"dtype\":\"f8\",\"bdata\":\"PiycC1lT4z9cOsXSDq\\u002ftP1w6xdIOr+0\\u002fcruw7oL07D8=\"},\"xaxis\":\"x\",\"y\":{\"dtype\":\"f8\",\"bdata\":\"AAAAAACAlsAAAAAAAICWwAAAAAAAB5fAAAAAAAAHl8A=\"},\"yaxis\":\"y\",\"type\":\"scatter\"},{\"hoverinfo\":\"text\",\"marker\":{\"color\":\"rgb(255,65,54)\"},\"mode\":\"lines\",\"x\":{\"dtype\":\"f8\",\"bdata\":\"QNXcnt9m6z9\\u002feFUGxVTvP394VQbFVO8\\u002fXDrF0g6v7T8=\"},\"xaxis\":\"x\",\"y\":{\"dtype\":\"f8\",\"bdata\":\"AAAAAAD5lcAAAAAAAPmVwAAAAACAw5bAAAAAAIDDlsA=\"},\"yaxis\":\"y\",\"type\":\"scatter\"},{\"hoverinfo\":\"text\",\"marker\":{\"color\":\"rgb(0,116,217)\"},\"mode\":\"lines\",\"x\":{\"dtype\":\"f8\",\"bdata\":\"qs5kis097z+cKNjf+63wP5wo2N\\u002f7rfA\\u002ff3hVBsVU7z8=\"},\"xaxis\":\"x\",\"y\":{\"dtype\":\"f8\",\"bdata\":\"AAAAgEbpk8AAAACARumTwAAAAABAXpbAAAAAAEBelsA=\"},\"yaxis\":\"y\",\"type\":\"scatter\"},{\"hoverinfo\":\"text\",\"marker\":{\"color\":\"rgb(0,116,217)\"},\"mode\":\"lines\",\"x\":{\"dtype\":\"f8\",\"bdata\":\"6II8pehO8T+\\u002fryJ13JzzP7+vInXcnPM\\u002fnCjY3\\u002fut8D8=\"},\"xaxis\":\"x\",\"y\":{\"dtype\":\"f8\",\"bdata\":\"AAAAADgdjsAAAAAAOB2OwAAAAEDDI5XAAAAAQMMjlcA=\"},\"yaxis\":\"y\",\"type\":\"scatter\"},{\"hoverinfo\":\"text\",\"marker\":{\"color\":\"rgb(0,116,217)\"},\"mode\":\"lines\",\"x\":{\"dtype\":\"f8\",\"bdata\":\"0ZityIdD5z\\u002fRo0UJeIP0P9GjRQl4g\\u002fQ\\u002fv68iddyc8z8=\"},\"xaxis\":\"x\",\"y\":{\"dtype\":\"f8\",\"bdata\":\"AAAAAADAh8AAAAAAAMCHwAAAAKAvGZLAAAAAoC8ZksA=\"},\"yaxis\":\"y\",\"type\":\"scatter\"},{\"hoverinfo\":\"text\",\"marker\":{\"color\":\"rgb(0,116,217)\"},\"mode\":\"lines\",\"x\":{\"dtype\":\"f8\",\"bdata\":\"iDNqHSSW7T\\u002f6dlIwG7z0P\\u002fp2UjAbvPQ\\u002f0aNFCXiD9D8=\"},\"xaxis\":\"x\",\"y\":{\"dtype\":\"f8\",\"bdata\":\"AAAAAACQhcAAAAAAAJCFwAAAAKAv+Y3AAAAAoC\\u002f5jcA=\"},\"yaxis\":\"y\",\"type\":\"scatter\"},{\"hoverinfo\":\"text\",\"marker\":{\"color\":\"rgb(0,116,217)\"},\"mode\":\"lines\",\"x\":{\"dtype\":\"f8\",\"bdata\":\"hONKbsgf8z9\\u002f43dQBbf3P3\\u002fjd1AFt\\u002fc\\u002f+nZSMBu89D8=\"},\"xaxis\":\"x\",\"y\":{\"dtype\":\"f8\",\"bdata\":\"AAAAAECfgcAAAAAAQJ+BwAAAANCXxInAAAAA0JfEicA=\"},\"yaxis\":\"y\",\"type\":\"scatter\"},{\"hoverinfo\":\"text\",\"marker\":{\"color\":\"rgb(0,116,217)\"},\"mode\":\"lines\",\"x\":{\"dtype\":\"f8\",\"bdata\":\"yBGQtmNs9j9BiGSVkHr5P0GIZJWQevk\\u002ff+N3UAW39z8=\"},\"xaxis\":\"x\",\"y\":{\"dtype\":\"f8\",\"bdata\":\"AAAAANDEasAAAAAA0MRqwAAAAOjrsYXAAAAA6OuxhcA=\"},\"yaxis\":\"y\",\"type\":\"scatter\"}],                        {\"autosize\":false,\"height\":2435,\"hovermode\":\"closest\",\"showlegend\":false,\"width\":1000,\"xaxis\":{\"mirror\":\"allticks\",\"rangemode\":\"tozero\",\"showgrid\":false,\"showline\":true,\"showticklabels\":true,\"ticks\":\"outside\",\"type\":\"linear\",\"zeroline\":false},\"yaxis\":{\"mirror\":\"allticks\",\"rangemode\":\"tozero\",\"showgrid\":false,\"showline\":true,\"showticklabels\":true,\"tickmode\":\"array\",\"ticks\":\"outside\",\"ticktext\":[\"112_math_mwp_mathematical\",\"115_math_mathematical_reaso...\",\"62_cot_reasoning_thought\",\"24_commonsense_knowledge_re...\",\"69_editing_knowledge_factual\",\"90_continual_forgetting_cat...\",\"21_tuning_fine_lora\",\"84_masking_masked_mlm\",\"37_attention_transformer_tr...\",\"97_pruning_compression_spar...\",\"76_distillation_teacher_stu...\",\"58_icl_context_demonstrations\",\"34_prompt_shot_tuning\",\"148_prompt_prompts_optimiza...\",\"61_instruction_instructions...\",\"63_preference_feedback_reward\",\"99_calibration_uncertainty_...\",\"17_explanations_explanation...\",\"101_nlp_reproducibility_cro...\",\"78_llms_evaluation_chinese\",\"9_agents_agent_game\",\"65_generated_detectors_dete...\",\"12_generation_text_control\",\"60_hallucination_hallucinat...\",\"22_adversarial_attacks_attack\",\"48_safety_attacks_attack\",\"71_privacy_private_dp\",\"136_act_dialog_dialogue\",\"53_dialogue_dialog_policy\",\"49_dst_dialogue_tracking\",\"70_metrics_evaluation_nlg\",\"91_dialogue_evaluation_metr...\",\"87_knowledge_grounded_dialo...\",\"66_response_responses_dialo...\",\"88_persona_personas_persona...\",\"3_summarization_summaries_s...\",\"85_meeting_summarization_di...\",\"0_question_questions_answer\",\"94_vqa_visual_question\",\"106_visual_dialog_image\",\"10_image_visual_vision\",\"116_mmt_multimodal_visual\",\"140_propaganda_techniques_n...\",\"32_fake_news_detection\",\"52_stance_detection_rumor\",\"33_fact_checking_claim\",\"122_crisis_disaster_disasters\",\"75_covid_19_pandemic\",\"119_health_media_tweets\",\"44_mental_depression_health\",\"124_humor_pun_humorous\",\"81_sarcasm_sarcastic_detect...\",\"147_memes_meme_hateful\",\"141_emoji_emojis_emoticons\",\"27_emotion_multimodal_erc\",\"57_emotion_emotions_affective\",\"72_empathetic_empathy_emoti...\",\"38_code_programming_source\",\"107_switching_code_switched\",\"145_mixed_code_sentiment\",\"19_aspect_sentiment_absa\",\"30_sentiment_analysis_polar...\",\"132_arabic_sentiment_analysis\",\"77_arabic_dialectal_dialects\",\"146_dialect_identification_...\",\"93_autoregressive_nat_nar\",\"16_translation_mt_qe\",\"7_translation_nmt_machine\",\"121_context_document_transl...\",\"100_alignment_parallel_pairs\",\"74_lingual_cross_bilingual\",\"55_lingual_cross_transfer\",\"117_african_languages_pidgin\",\"133_ea_alignment_entity\",\"25_knowledge_graph_kg\",\"6_relation_extraction_relat...\",\"8_ner_entity_named\",\"42_entity_linking_entities\",\"144_typing_entity_type\",\"50_gec_correction_grammatical\",\"82_spelling_csc_correction\",\"110_segmentation_cws_chinese\",\"131_sequence_labeling_tagging\",\"123_pos_tagging_tagger\",\"39_sense_wsd_senses\",\"73_change_semantic_time\",\"15_law_zipf_frequency\",\"31_authorship_author_attrib...\",\"130_cognate_phylogenetic_co...\",\"83_morphological_inflection...\",\"118_annotation_tools_formats\",\"95_grammars_grammar_algorithm\",\"45_semantics_distributional...\",\"96_compositional_generaliza...\",\"46_nli_entailment_inference\",\"41_rnns_recurrent_lstm\",\"64_brain_reading_eye\",\"113_probing_probe_linguistic\",\"40_sql_queries_spider\",\"11_parsing_dependency_parser\",\"67_parsing_semantic_parser\",\"86_amr_meaning_smatch\",\"143_similarity_sts_semantic\",\"137_sentence_sts_embeddings\",\"18_word_embeddings_embedding\",\"128_contrastive_sentence_si...\",\"138_job_resume_skills\",\"13_legal_court_law\",\"135_materials_chemical_mole...\",\"92_layout_document_documents\",\"20_classification_label_lab...\",\"2_medical_clinical_biomedical\",\"43_citation_scientific_papers\",\"23_topic_topics_lda\",\"103_taxonomy_taxonomies_hyp...\",\"79_keyphrase_keyphrases_ext...\",\"89_metaphor_figurative_idio...\",\"56_paraphrase_paraphrases_p...\",\"28_simplification_readabili...\",\"4_hate_offensive_speech\",\"1_speech_asr_recognition\",\"14_intent_slot_intents\",\"104_augmentation_data_mixup\",\"125_active_al_learning\",\"80_radiology_reports_report\",\"120_dementia_ad_alzheimer\",\"108_scoring_essay_aes\",\"111_product_commerce_attrib...\",\"134_reviews_review_product\",\"139_counterfactual_counterf...\",\"114_causal_causality_effect\",\"127_climate_change_esg\",\"47_financial_stock_market\",\"105_geographic_location_geo...\",\"35_political_news_media\",\"5_gender_bias_biases\",\"98_moral_values_ethical\",\"129_personality_traits_llms\",\"29_coreference_resolution_m...\",\"36_event_extraction_events\",\"126_temporal_events_event\",\"26_argument_arguments_argum...\",\"102_srl_role_labeling\",\"54_discourse_rst_relations\",\"142_coherence_discourse_par...\",\"59_story_stories_narrative\",\"68_poetry_lyrics_music\",\"51_style_transfer_content\",\"109_sign_gloss_asl\"],\"tickvals\":[-5.0,-15.0,-25.0,-35.0,-45.0,-55.0,-65.0,-75.0,-85.0,-95.0,-105.0,-115.0,-125.0,-135.0,-145.0,-155.0,-165.0,-175.0,-185.0,-195.0,-205.0,-215.0,-225.0,-235.0,-245.0,-255.0,-265.0,-275.0,-285.0,-295.0,-305.0,-315.0,-325.0,-335.0,-345.0,-355.0,-365.0,-375.0,-385.0,-395.0,-405.0,-415.0,-425.0,-435.0,-445.0,-455.0,-465.0,-475.0,-485.0,-495.0,-505.0,-515.0,-525.0,-535.0,-545.0,-555.0,-565.0,-575.0,-585.0,-595.0,-605.0,-615.0,-625.0,-635.0,-645.0,-655.0,-665.0,-675.0,-685.0,-695.0,-705.0,-715.0,-725.0,-735.0,-745.0,-755.0,-765.0,-775.0,-785.0,-795.0,-805.0,-815.0,-825.0,-835.0,-845.0,-855.0,-865.0,-875.0,-885.0,-895.0,-905.0,-915.0,-925.0,-935.0,-945.0,-955.0,-965.0,-975.0,-985.0,-995.0,-1005.0,-1015.0,-1025.0,-1035.0,-1045.0,-1055.0,-1065.0,-1075.0,-1085.0,-1095.0,-1105.0,-1115.0,-1125.0,-1135.0,-1145.0,-1155.0,-1165.0,-1175.0,-1185.0,-1195.0,-1205.0,-1215.0,-1225.0,-1235.0,-1245.0,-1255.0,-1265.0,-1275.0,-1285.0,-1295.0,-1305.0,-1315.0,-1325.0,-1335.0,-1345.0,-1355.0,-1365.0,-1375.0,-1385.0,-1395.0,-1405.0,-1415.0,-1425.0,-1435.0,-1445.0,-1455.0,-1465.0,-1475.0,-1485.0],\"type\":\"linear\",\"zeroline\":false,\"range\":[-1490.0,0.0]},\"template\":{\"data\":{\"barpolar\":[{\"marker\":{\"line\":{\"color\":\"white\",\"width\":0.5},\"pattern\":{\"fillmode\":\"overlay\",\"size\":10,\"solidity\":0.2}},\"type\":\"barpolar\"}],\"bar\":[{\"error_x\":{\"color\":\"#2a3f5f\"},\"error_y\":{\"color\":\"#2a3f5f\"},\"marker\":{\"line\":{\"color\":\"white\",\"width\":0.5},\"pattern\":{\"fillmode\":\"overlay\",\"size\":10,\"solidity\":0.2}},\"type\":\"bar\"}],\"carpet\":[{\"aaxis\":{\"endlinecolor\":\"#2a3f5f\",\"gridcolor\":\"#C8D4E3\",\"linecolor\":\"#C8D4E3\",\"minorgridcolor\":\"#C8D4E3\",\"startlinecolor\":\"#2a3f5f\"},\"baxis\":{\"endlinecolor\":\"#2a3f5f\",\"gridcolor\":\"#C8D4E3\",\"linecolor\":\"#C8D4E3\",\"minorgridcolor\":\"#C8D4E3\",\"startlinecolor\":\"#2a3f5f\"},\"type\":\"carpet\"}],\"choropleth\":[{\"colorbar\":{\"outlinewidth\":0,\"ticks\":\"\"},\"type\":\"choropleth\"}],\"contourcarpet\":[{\"colorbar\":{\"outlinewidth\":0,\"ticks\":\"\"},\"type\":\"contourcarpet\"}],\"contour\":[{\"colorbar\":{\"outlinewidth\":0,\"ticks\":\"\"},\"colorscale\":[[0.0,\"#0d0887\"],[0.1111111111111111,\"#46039f\"],[0.2222222222222222,\"#7201a8\"],[0.3333333333333333,\"#9c179e\"],[0.4444444444444444,\"#bd3786\"],[0.5555555555555556,\"#d8576b\"],[0.6666666666666666,\"#ed7953\"],[0.7777777777777778,\"#fb9f3a\"],[0.8888888888888888,\"#fdca26\"],[1.0,\"#f0f921\"]],\"type\":\"contour\"}],\"heatmap\":[{\"colorbar\":{\"outlinewidth\":0,\"ticks\":\"\"},\"colorscale\":[[0.0,\"#0d0887\"],[0.1111111111111111,\"#46039f\"],[0.2222222222222222,\"#7201a8\"],[0.3333333333333333,\"#9c179e\"],[0.4444444444444444,\"#bd3786\"],[0.5555555555555556,\"#d8576b\"],[0.6666666666666666,\"#ed7953\"],[0.7777777777777778,\"#fb9f3a\"],[0.8888888888888888,\"#fdca26\"],[1.0,\"#f0f921\"]],\"type\":\"heatmap\"}],\"histogram2dcontour\":[{\"colorbar\":{\"outlinewidth\":0,\"ticks\":\"\"},\"colorscale\":[[0.0,\"#0d0887\"],[0.1111111111111111,\"#46039f\"],[0.2222222222222222,\"#7201a8\"],[0.3333333333333333,\"#9c179e\"],[0.4444444444444444,\"#bd3786\"],[0.5555555555555556,\"#d8576b\"],[0.6666666666666666,\"#ed7953\"],[0.7777777777777778,\"#fb9f3a\"],[0.8888888888888888,\"#fdca26\"],[1.0,\"#f0f921\"]],\"type\":\"histogram2dcontour\"}],\"histogram2d\":[{\"colorbar\":{\"outlinewidth\":0,\"ticks\":\"\"},\"colorscale\":[[0.0,\"#0d0887\"],[0.1111111111111111,\"#46039f\"],[0.2222222222222222,\"#7201a8\"],[0.3333333333333333,\"#9c179e\"],[0.4444444444444444,\"#bd3786\"],[0.5555555555555556,\"#d8576b\"],[0.6666666666666666,\"#ed7953\"],[0.7777777777777778,\"#fb9f3a\"],[0.8888888888888888,\"#fdca26\"],[1.0,\"#f0f921\"]],\"type\":\"histogram2d\"}],\"histogram\":[{\"marker\":{\"pattern\":{\"fillmode\":\"overlay\",\"size\":10,\"solidity\":0.2}},\"type\":\"histogram\"}],\"mesh3d\":[{\"colorbar\":{\"outlinewidth\":0,\"ticks\":\"\"},\"type\":\"mesh3d\"}],\"parcoords\":[{\"line\":{\"colorbar\":{\"outlinewidth\":0,\"ticks\":\"\"}},\"type\":\"parcoords\"}],\"pie\":[{\"automargin\":true,\"type\":\"pie\"}],\"scatter3d\":[{\"line\":{\"colorbar\":{\"outlinewidth\":0,\"ticks\":\"\"}},\"marker\":{\"colorbar\":{\"outlinewidth\":0,\"ticks\":\"\"}},\"type\":\"scatter3d\"}],\"scattercarpet\":[{\"marker\":{\"colorbar\":{\"outlinewidth\":0,\"ticks\":\"\"}},\"type\":\"scattercarpet\"}],\"scattergeo\":[{\"marker\":{\"colorbar\":{\"outlinewidth\":0,\"ticks\":\"\"}},\"type\":\"scattergeo\"}],\"scattergl\":[{\"marker\":{\"colorbar\":{\"outlinewidth\":0,\"ticks\":\"\"}},\"type\":\"scattergl\"}],\"scattermapbox\":[{\"marker\":{\"colorbar\":{\"outlinewidth\":0,\"ticks\":\"\"}},\"type\":\"scattermapbox\"}],\"scattermap\":[{\"marker\":{\"colorbar\":{\"outlinewidth\":0,\"ticks\":\"\"}},\"type\":\"scattermap\"}],\"scatterpolargl\":[{\"marker\":{\"colorbar\":{\"outlinewidth\":0,\"ticks\":\"\"}},\"type\":\"scatterpolargl\"}],\"scatterpolar\":[{\"marker\":{\"colorbar\":{\"outlinewidth\":0,\"ticks\":\"\"}},\"type\":\"scatterpolar\"}],\"scatter\":[{\"fillpattern\":{\"fillmode\":\"overlay\",\"size\":10,\"solidity\":0.2},\"type\":\"scatter\"}],\"scatterternary\":[{\"marker\":{\"colorbar\":{\"outlinewidth\":0,\"ticks\":\"\"}},\"type\":\"scatterternary\"}],\"surface\":[{\"colorbar\":{\"outlinewidth\":0,\"ticks\":\"\"},\"colorscale\":[[0.0,\"#0d0887\"],[0.1111111111111111,\"#46039f\"],[0.2222222222222222,\"#7201a8\"],[0.3333333333333333,\"#9c179e\"],[0.4444444444444444,\"#bd3786\"],[0.5555555555555556,\"#d8576b\"],[0.6666666666666666,\"#ed7953\"],[0.7777777777777778,\"#fb9f3a\"],[0.8888888888888888,\"#fdca26\"],[1.0,\"#f0f921\"]],\"type\":\"surface\"}],\"table\":[{\"cells\":{\"fill\":{\"color\":\"#EBF0F8\"},\"line\":{\"color\":\"white\"}},\"header\":{\"fill\":{\"color\":\"#C8D4E3\"},\"line\":{\"color\":\"white\"}},\"type\":\"table\"}]},\"layout\":{\"annotationdefaults\":{\"arrowcolor\":\"#2a3f5f\",\"arrowhead\":0,\"arrowwidth\":1},\"autotypenumbers\":\"strict\",\"coloraxis\":{\"colorbar\":{\"outlinewidth\":0,\"ticks\":\"\"}},\"colorscale\":{\"diverging\":[[0,\"#8e0152\"],[0.1,\"#c51b7d\"],[0.2,\"#de77ae\"],[0.3,\"#f1b6da\"],[0.4,\"#fde0ef\"],[0.5,\"#f7f7f7\"],[0.6,\"#e6f5d0\"],[0.7,\"#b8e186\"],[0.8,\"#7fbc41\"],[0.9,\"#4d9221\"],[1,\"#276419\"]],\"sequential\":[[0.0,\"#0d0887\"],[0.1111111111111111,\"#46039f\"],[0.2222222222222222,\"#7201a8\"],[0.3333333333333333,\"#9c179e\"],[0.4444444444444444,\"#bd3786\"],[0.5555555555555556,\"#d8576b\"],[0.6666666666666666,\"#ed7953\"],[0.7777777777777778,\"#fb9f3a\"],[0.8888888888888888,\"#fdca26\"],[1.0,\"#f0f921\"]],\"sequentialminus\":[[0.0,\"#0d0887\"],[0.1111111111111111,\"#46039f\"],[0.2222222222222222,\"#7201a8\"],[0.3333333333333333,\"#9c179e\"],[0.4444444444444444,\"#bd3786\"],[0.5555555555555556,\"#d8576b\"],[0.6666666666666666,\"#ed7953\"],[0.7777777777777778,\"#fb9f3a\"],[0.8888888888888888,\"#fdca26\"],[1.0,\"#f0f921\"]]},\"colorway\":[\"#636efa\",\"#EF553B\",\"#00cc96\",\"#ab63fa\",\"#FFA15A\",\"#19d3f3\",\"#FF6692\",\"#B6E880\",\"#FF97FF\",\"#FECB52\"],\"font\":{\"color\":\"#2a3f5f\"},\"geo\":{\"bgcolor\":\"white\",\"lakecolor\":\"white\",\"landcolor\":\"white\",\"showlakes\":true,\"showland\":true,\"subunitcolor\":\"#C8D4E3\"},\"hoverlabel\":{\"align\":\"left\"},\"hovermode\":\"closest\",\"mapbox\":{\"style\":\"light\"},\"paper_bgcolor\":\"white\",\"plot_bgcolor\":\"white\",\"polar\":{\"angularaxis\":{\"gridcolor\":\"#EBF0F8\",\"linecolor\":\"#EBF0F8\",\"ticks\":\"\"},\"bgcolor\":\"white\",\"radialaxis\":{\"gridcolor\":\"#EBF0F8\",\"linecolor\":\"#EBF0F8\",\"ticks\":\"\"}},\"scene\":{\"xaxis\":{\"backgroundcolor\":\"white\",\"gridcolor\":\"#DFE8F3\",\"gridwidth\":2,\"linecolor\":\"#EBF0F8\",\"showbackground\":true,\"ticks\":\"\",\"zerolinecolor\":\"#EBF0F8\"},\"yaxis\":{\"backgroundcolor\":\"white\",\"gridcolor\":\"#DFE8F3\",\"gridwidth\":2,\"linecolor\":\"#EBF0F8\",\"showbackground\":true,\"ticks\":\"\",\"zerolinecolor\":\"#EBF0F8\"},\"zaxis\":{\"backgroundcolor\":\"white\",\"gridcolor\":\"#DFE8F3\",\"gridwidth\":2,\"linecolor\":\"#EBF0F8\",\"showbackground\":true,\"ticks\":\"\",\"zerolinecolor\":\"#EBF0F8\"}},\"shapedefaults\":{\"line\":{\"color\":\"#2a3f5f\"}},\"ternary\":{\"aaxis\":{\"gridcolor\":\"#DFE8F3\",\"linecolor\":\"#A2B1C6\",\"ticks\":\"\"},\"baxis\":{\"gridcolor\":\"#DFE8F3\",\"linecolor\":\"#A2B1C6\",\"ticks\":\"\"},\"bgcolor\":\"white\",\"caxis\":{\"gridcolor\":\"#DFE8F3\",\"linecolor\":\"#A2B1C6\",\"ticks\":\"\"}},\"title\":{\"x\":0.05},\"xaxis\":{\"automargin\":true,\"gridcolor\":\"#EBF0F8\",\"linecolor\":\"#EBF0F8\",\"ticks\":\"\",\"title\":{\"standoff\":15},\"zerolinecolor\":\"#EBF0F8\",\"zerolinewidth\":2},\"yaxis\":{\"automargin\":true,\"gridcolor\":\"#EBF0F8\",\"linecolor\":\"#EBF0F8\",\"ticks\":\"\",\"title\":{\"standoff\":15},\"zerolinecolor\":\"#EBF0F8\",\"zerolinewidth\":2}}},\"title\":{\"font\":{\"size\":22,\"color\":\"Black\"},\"text\":\"\\u003cb\\u003eHierarchical Clustering\\u003c\\u002fb\\u003e\",\"x\":0.5,\"xanchor\":\"center\",\"yanchor\":\"top\"},\"hoverlabel\":{\"font\":{\"size\":16,\"family\":\"Rockwell\"},\"bgcolor\":\"white\"},\"plot_bgcolor\":\"#ECEFF1\"},                        {\"responsive\": true}                    )                };            </script>        </div>"
      ],
      "text/plain": [
       "Figure({\n",
       "    'data': [{'hoverinfo': 'text',\n",
       "              'marker': {'color': 'rgb(61,153,112)'},\n",
       "              'mode': 'lines',\n",
       "              'type': 'scatter',\n",
       "              'x': {'bdata': 'AAAAAAAAAAAkxVcelAjZPyTFVx6UCNk/AAAAAAAAAAA=', 'dtype': 'f8'},\n",
       "              'xaxis': 'x',\n",
       "              'y': {'bdata': 'AAAAAAAAFMAAAAAAAAAUwAAAAAAAAC7AAAAAAAAALsA=', 'dtype': 'f8'},\n",
       "              'yaxis': 'y'},\n",
       "             {'hoverinfo': 'text',\n",
       "              'marker': {'color': 'rgb(61,153,112)'},\n",
       "              'mode': 'lines',\n",
       "              'type': 'scatter',\n",
       "              'x': {'bdata': 'JMVXHpQI2T+O4f8IouHmP47h/wii4eY/AAAAAAAAAAA=', 'dtype': 'f8'},\n",
       "              'xaxis': 'x',\n",
       "              'y': {'bdata': 'AAAAAAAAJMAAAAAAAAAkwAAAAAAAADnAAAAAAAAAOcA=', 'dtype': 'f8'},\n",
       "              'yaxis': 'y'},\n",
       "             {'hoverinfo': 'text',\n",
       "              'marker': {'color': 'rgb(255,65,54)'},\n",
       "              'mode': 'lines',\n",
       "              'type': 'scatter',\n",
       "              'x': {'bdata': 'AAAAAAAAAADWjLUDBzrjP9aMtQMHOuM/AAAAAAAAAAA=', 'dtype': 'f8'},\n",
       "              'xaxis': 'x',\n",
       "              'y': {'bdata': 'AAAAAACAQcAAAAAAAIBBwAAAAAAAgEbAAAAAAACARsA=', 'dtype': 'f8'},\n",
       "              'yaxis': 'y'},\n",
       "             {'hoverinfo': 'text',\n",
       "              'marker': {'color': 'rgb(255,65,54)'},\n",
       "              'mode': 'lines',\n",
       "              'type': 'scatter',\n",
       "              'x': {'bdata': 'AAAAAAAAAAAMz0Jh3I3hPwzPQmHcjeE/AAAAAAAAAAA=', 'dtype': 'f8'},\n",
       "              'xaxis': 'x',\n",
       "              'y': {'bdata': 'AAAAAACAS8AAAAAAAIBLwAAAAAAAQFDAAAAAAABAUMA=', 'dtype': 'f8'},\n",
       "              'yaxis': 'y'},\n",
       "             {'hoverinfo': 'text',\n",
       "              'marker': {'color': 'rgb(255,65,54)'},\n",
       "              'mode': 'lines',\n",
       "              'type': 'scatter',\n",
       "              'x': {'bdata': 'AAAAAAAAAABvj1PUQw3jP2+PU9RDDeM/AAAAAAAAAAA=', 'dtype': 'f8'},\n",
       "              'xaxis': 'x',\n",
       "              'y': {'bdata': 'AAAAAADAUsAAAAAAAMBSwAAAAAAAQFXAAAAAAABAVcA=', 'dtype': 'f8'},\n",
       "              'yaxis': 'y'},\n",
       "             {'hoverinfo': 'text',\n",
       "              'marker': {'color': 'rgb(255,65,54)'},\n",
       "              'mode': 'lines',\n",
       "              'type': 'scatter',\n",
       "              'x': {'bdata': 'DM9CYdyN4T81Jpg1k+blPzUmmDWT5uU/b49T1EMN4z8=', 'dtype': 'f8'},\n",
       "              'xaxis': 'x',\n",
       "              'y': {'bdata': 'AAAAAAAATsAAAAAAAABOwAAAAAAAAFTAAAAAAAAAVMA=', 'dtype': 'f8'},\n",
       "              'yaxis': 'y'},\n",
       "             {'hoverinfo': 'text',\n",
       "              'marker': {'color': 'rgb(255,65,54)'},\n",
       "              'mode': 'lines',\n",
       "              'type': 'scatter',\n",
       "              'x': {'bdata': 'AAAAAAAAAAA4chqLzJbkPzhyGovMluQ/AAAAAAAAAAA=', 'dtype': 'f8'},\n",
       "              'xaxis': 'x',\n",
       "              'y': {'bdata': 'AAAAAADAV8AAAAAAAMBXwAAAAAAAQFrAAAAAAABAWsA=', 'dtype': 'f8'},\n",
       "              'yaxis': 'y'},\n",
       "             {'hoverinfo': 'text',\n",
       "              'marker': {'color': 'rgb(255,65,54)'},\n",
       "              'mode': 'lines',\n",
       "              'type': 'scatter',\n",
       "              'x': {'bdata': 'NSaYNZPm5T/lvkozLSXoP+W+SjMtJeg/OHIai8yW5D8=', 'dtype': 'f8'},\n",
       "              'xaxis': 'x',\n",
       "              'y': {'bdata': 'AAAAAACAUcAAAAAAAIBRwAAAAAAAAFnAAAAAAAAAWcA=', 'dtype': 'f8'},\n",
       "              'yaxis': 'y'},\n",
       "             {'hoverinfo': 'text',\n",
       "              'marker': {'color': 'rgb(255,65,54)'},\n",
       "              'mode': 'lines',\n",
       "              'type': 'scatter',\n",
       "              'x': {'bdata': '1oy1Awc64z82rAiDIPfpPzasCIMg9+k/5b5KMy0l6D8=', 'dtype': 'f8'},\n",
       "              'xaxis': 'x',\n",
       "              'y': {'bdata': 'AAAAAAAARMAAAAAAAABEwAAAAAAAQFXAAAAAAABAVcA=', 'dtype': 'f8'},\n",
       "              'yaxis': 'y'},\n",
       "             {'hoverinfo': 'text',\n",
       "              'marker': {'color': 'rgb(35,205,205)'},\n",
       "              'mode': 'lines',\n",
       "              'type': 'scatter',\n",
       "              'x': {'bdata': 'AAAAAAAAAABOXt0xkjTSP05e3TGSNNI/AAAAAAAAAAA=', 'dtype': 'f8'},\n",
       "              'xaxis': 'x',\n",
       "              'y': {'bdata': 'AAAAAABAX8AAAAAAAEBfwAAAAAAA4GDAAAAAAADgYMA=', 'dtype': 'f8'},\n",
       "              'yaxis': 'y'},\n",
       "             {'hoverinfo': 'text',\n",
       "              'marker': {'color': 'rgb(35,205,205)'},\n",
       "              'mode': 'lines',\n",
       "              'type': 'scatter',\n",
       "              'x': {'bdata': 'AAAAAAAAAACjVUsED0XlP6NVSwQPReU/Tl7dMZI00j8=', 'dtype': 'f8'},\n",
       "              'xaxis': 'x',\n",
       "              'y': {'bdata': 'AAAAAADAXMAAAAAAAMBcwAAAAAAAQGDAAAAAAABAYMA=', 'dtype': 'f8'},\n",
       "              'yaxis': 'y'},\n",
       "             {'hoverinfo': 'text',\n",
       "              'marker': {'color': 'rgb(35,205,205)'},\n",
       "              'mode': 'lines',\n",
       "              'type': 'scatter',\n",
       "              'x': {'bdata': 'AAAAAAAAAADwD+zCl97jP/AP7MKX3uM/AAAAAAAAAAA=', 'dtype': 'f8'},\n",
       "              'xaxis': 'x',\n",
       "              'y': {'bdata': 'AAAAAAAgYsAAAAAAACBiwAAAAAAAYGPAAAAAAABgY8A=', 'dtype': 'f8'},\n",
       "              'yaxis': 'y'},\n",
       "             {'hoverinfo': 'text',\n",
       "              'marker': {'color': 'rgb(35,205,205)'},\n",
       "              'mode': 'lines',\n",
       "              'type': 'scatter',\n",
       "              'x': {'bdata': 'AAAAAAAAAAB0t5cH1tfiP3S3lwfW1+I/AAAAAAAAAAA=', 'dtype': 'f8'},\n",
       "              'xaxis': 'x',\n",
       "              'y': {'bdata': 'AAAAAACgZMAAAAAAAKBkwAAAAAAA4GXAAAAAAADgZcA=', 'dtype': 'f8'},\n",
       "              'yaxis': 'y'},\n",
       "             {'hoverinfo': 'text',\n",
       "              'marker': {'color': 'rgb(35,205,205)'},\n",
       "              'mode': 'lines',\n",
       "              'type': 'scatter',\n",
       "              'x': {'bdata': 'AAAAAAAAAADM/Y5O92beP8z9jk73Zt4/AAAAAAAAAAA=', 'dtype': 'f8'},\n",
       "              'xaxis': 'x',\n",
       "              'y': {'bdata': 'AAAAAAAgZ8AAAAAAACBnwAAAAAAAYGjAAAAAAABgaMA=', 'dtype': 'f8'},\n",
       "              'yaxis': 'y'},\n",
       "             {'hoverinfo': 'text',\n",
       "              'marker': {'color': 'rgb(35,205,205)'},\n",
       "              'mode': 'lines',\n",
       "              'type': 'scatter',\n",
       "              'x': {'bdata': 'zP2OTvdm3j+3141qHhTiP7fXjWoeFOI/AAAAAAAAAAA=', 'dtype': 'f8'},\n",
       "              'xaxis': 'x',\n",
       "              'y': {'bdata': 'AAAAAADAZ8AAAAAAAMBnwAAAAAAAoGnAAAAAAACgacA=', 'dtype': 'f8'},\n",
       "              'yaxis': 'y'},\n",
       "             {'hoverinfo': 'text',\n",
       "              'marker': {'color': 'rgb(35,205,205)'},\n",
       "              'mode': 'lines',\n",
       "              'type': 'scatter',\n",
       "              'x': {'bdata': 'dLeXB9bX4j+p1uOysWTjP6nW47KxZOM/t9eNah4U4j8=', 'dtype': 'f8'},\n",
       "              'xaxis': 'x',\n",
       "              'y': {'bdata': 'AAAAAABAZcAAAAAAAEBlwAAAAAAAsGjAAAAAAACwaMA=', 'dtype': 'f8'},\n",
       "              'yaxis': 'y'},\n",
       "             {'hoverinfo': 'text',\n",
       "              'marker': {'color': 'rgb(35,205,205)'},\n",
       "              'mode': 'lines',\n",
       "              'type': 'scatter',\n",
       "              'x': {'bdata': 'AAAAAAAAAAA++tv1SS/gPz762/VJL+A/AAAAAAAAAAA=', 'dtype': 'f8'},\n",
       "              'xaxis': 'x',\n",
       "              'y': {'bdata': 'AAAAAADgasAAAAAAAOBqwAAAAAAAIGzAAAAAAAAgbMA=', 'dtype': 'f8'},\n",
       "              'yaxis': 'y'},\n",
       "             {'hoverinfo': 'text',\n",
       "              'marker': {'color': 'rgb(35,205,205)'},\n",
       "              'mode': 'lines',\n",
       "              'type': 'scatter',\n",
       "              'x': {'bdata': 'Pvrb9Ukv4D/uKQXtTKfkP+4pBe1Mp+Q/AAAAAAAAAAA=', 'dtype': 'f8'},\n",
       "              'xaxis': 'x',\n",
       "              'y': {'bdata': 'AAAAAACAa8AAAAAAAIBrwAAAAAAAYG3AAAAAAABgbcA=', 'dtype': 'f8'},\n",
       "              'yaxis': 'y'},\n",
       "             {'hoverinfo': 'text',\n",
       "              'marker': {'color': 'rgb(35,205,205)'},\n",
       "              'mode': 'lines',\n",
       "              'type': 'scatter',\n",
       "              'x': {'bdata': 'qdbjsrFk4z9Lq6Qll+zlP0urpCWX7OU/7ikF7Uyn5D8=', 'dtype': 'f8'},\n",
       "              'xaxis': 'x',\n",
       "              'y': {'bdata': 'AAAAAAD4ZsAAAAAAAPhmwAAAAAAAcGzAAAAAAABwbMA=', 'dtype': 'f8'},\n",
       "              'yaxis': 'y'},\n",
       "             {'hoverinfo': 'text',\n",
       "              'marker': {'color': 'rgb(35,205,205)'},\n",
       "              'mode': 'lines',\n",
       "              'type': 'scatter',\n",
       "              'x': {'bdata': '8A/swpfe4z9tIMVxwRHnP20gxXHBEec/S6ukJZfs5T8=', 'dtype': 'f8'},\n",
       "              'xaxis': 'x',\n",
       "              'y': {'bdata': 'AAAAAADAYsAAAAAAAMBiwAAAAAAAtGnAAAAAAAC0acA=', 'dtype': 'f8'},\n",
       "              'yaxis': 'y'},\n",
       "             {'hoverinfo': 'text',\n",
       "              'marker': {'color': 'rgb(35,205,205)'},\n",
       "              'mode': 'lines',\n",
       "              'type': 'scatter',\n",
       "              'x': {'bdata': 'AAAAAAAAAABhhbgZ+hfgP2GFuBn6F+A/AAAAAAAAAAA=', 'dtype': 'f8'},\n",
       "              'xaxis': 'x',\n",
       "              'y': {'bdata': 'AAAAAACgbsAAAAAAAKBuwAAAAAAA4G/AAAAAAADgb8A=', 'dtype': 'f8'},\n",
       "              'yaxis': 'y'},\n",
       "             {'hoverinfo': 'text',\n",
       "              'marker': {'color': 'rgb(35,205,205)'},\n",
       "              'mode': 'lines',\n",
       "              'type': 'scatter',\n",
       "              'x': {'bdata': 'YYW4GfoX4D+5RNzHR+LnP7lE3MdH4uc/AAAAAAAAAAA=', 'dtype': 'f8'},\n",
       "              'xaxis': 'x',\n",
       "              'y': {'bdata': 'AAAAAABAb8AAAAAAAEBvwAAAAAAAkHDAAAAAAACQcMA=', 'dtype': 'f8'},\n",
       "              'yaxis': 'y'},\n",
       "             {'hoverinfo': 'text',\n",
       "              'marker': {'color': 'rgb(35,205,205)'},\n",
       "              'mode': 'lines',\n",
       "              'type': 'scatter',\n",
       "              'x': {'bdata': 'bSDFccER5z9GHzQTNHvsP0YfNBM0e+w/uUTcx0fi5z8=', 'dtype': 'f8'},\n",
       "              'xaxis': 'x',\n",
       "              'y': {'bdata': 'AAAAAAA6ZsAAAAAAADpmwAAAAAAAGHDAAAAAAAAYcMA=', 'dtype': 'f8'},\n",
       "              'yaxis': 'y'},\n",
       "             {'hoverinfo': 'text',\n",
       "              'marker': {'color': 'rgb(35,205,205)'},\n",
       "              'mode': 'lines',\n",
       "              'type': 'scatter',\n",
       "              'x': {'bdata': 'o1VLBA9F5T8nD6+aQvTsPycPr5pC9Ow/Rh80EzR77D8=', 'dtype': 'f8'},\n",
       "              'xaxis': 'x',\n",
       "              'y': {'bdata': 'AAAAAACgXsAAAAAAAKBewAAAAAAANWvAAAAAAAA1a8A=', 'dtype': 'f8'},\n",
       "              'yaxis': 'y'},\n",
       "             {'hoverinfo': 'text',\n",
       "              'marker': {'color': 'rgb(0,116,217)'},\n",
       "              'mode': 'lines',\n",
       "              'type': 'scatter',\n",
       "              'x': {'bdata': 'NqwIgyD36T9EtR65ujzwP0S1Hrm6PPA/Jw+vmkL07D8=', 'dtype': 'f8'},\n",
       "              'xaxis': 'x',\n",
       "              'y': {'bdata': 'AAAAAABAT8AAAAAAAEBPwAAAAACAQmXAAAAAAIBCZcA=', 'dtype': 'f8'},\n",
       "              'yaxis': 'y'},\n",
       "             {'hoverinfo': 'text',\n",
       "              'marker': {'color': 'rgb(0,116,217)'},\n",
       "              'mode': 'lines',\n",
       "              'type': 'scatter',\n",
       "              'x': {'bdata': 'juH/CKLh5j/5luYFTHPxP/mW5gVMc/E/RLUeubo88D8=', 'dtype': 'f8'},\n",
       "              'xaxis': 'x',\n",
       "              'y': {'bdata': 'AAAAAACAMcAAAAAAAIAxwAAAAACAEl3AAAAAAIASXcA=', 'dtype': 'f8'},\n",
       "              'yaxis': 'y'},\n",
       "             {'hoverinfo': 'text',\n",
       "              'marker': {'color': 'rgb(133,20,75)'},\n",
       "              'mode': 'lines',\n",
       "              'type': 'scatter',\n",
       "              'x': {'bdata': 'AAAAAAAAAABGwjqt5F/fP0bCOq3kX98/AAAAAAAAAAA=', 'dtype': 'f8'},\n",
       "              'xaxis': 'x',\n",
       "              'y': {'bdata': 'AAAAAADQccAAAAAAANBxwAAAAAAAcHLAAAAAAABwcsA=', 'dtype': 'f8'},\n",
       "              'yaxis': 'y'},\n",
       "             {'hoverinfo': 'text',\n",
       "              'marker': {'color': 'rgb(133,20,75)'},\n",
       "              'mode': 'lines',\n",
       "              'type': 'scatter',\n",
       "              'x': {'bdata': 'AAAAAAAAAACWvfaeVZLkP5a99p5VkuQ/RsI6reRf3z8=', 'dtype': 'f8'},\n",
       "              'xaxis': 'x',\n",
       "              'y': {'bdata': 'AAAAAAAwccAAAAAAADBxwAAAAAAAIHLAAAAAAAAgcsA=', 'dtype': 'f8'},\n",
       "              'yaxis': 'y'},\n",
       "             {'hoverinfo': 'text',\n",
       "              'marker': {'color': 'rgb(133,20,75)'},\n",
       "              'mode': 'lines',\n",
       "              'type': 'scatter',\n",
       "              'x': {'bdata': 'AAAAAAAAAAD8iwUnt9/WP/yLBSe339Y/AAAAAAAAAAA=', 'dtype': 'f8'},\n",
       "              'xaxis': 'x',\n",
       "              'y': {'bdata': 'AAAAAAAQc8AAAAAAABBzwAAAAAAAsHPAAAAAAACwc8A=', 'dtype': 'f8'},\n",
       "              'yaxis': 'y'},\n",
       "             {'hoverinfo': 'text',\n",
       "              'marker': {'color': 'rgb(133,20,75)'},\n",
       "              'mode': 'lines',\n",
       "              'type': 'scatter',\n",
       "              'x': {'bdata': 'AAAAAAAAAAD2WXYVENnUP/ZZdhUQ2dQ/AAAAAAAAAAA=', 'dtype': 'f8'},\n",
       "              'xaxis': 'x',\n",
       "              'y': {'bdata': 'AAAAAABQdMAAAAAAAFB0wAAAAAAA8HTAAAAAAADwdMA=', 'dtype': 'f8'},\n",
       "              'yaxis': 'y'},\n",
       "             {'hoverinfo': 'text',\n",
       "              'marker': {'color': 'rgb(133,20,75)'},\n",
       "              'mode': 'lines',\n",
       "              'type': 'scatter',\n",
       "              'x': {'bdata': '9ll2FRDZ1D8TEWisfHblPxMRaKx8duU/AAAAAAAAAAA=', 'dtype': 'f8'},\n",
       "              'xaxis': 'x',\n",
       "              'y': {'bdata': 'AAAAAACgdMAAAAAAAKB0wAAAAAAAkHXAAAAAAACQdcA=', 'dtype': 'f8'},\n",
       "              'yaxis': 'y'},\n",
       "             {'hoverinfo': 'text',\n",
       "              'marker': {'color': 'rgb(133,20,75)'},\n",
       "              'mode': 'lines',\n",
       "              'type': 'scatter',\n",
       "              'x': {'bdata': '/IsFJ7ff1j+mn7WHE//nP6aftYcT/+c/ExForHx25T8=', 'dtype': 'f8'},\n",
       "              'xaxis': 'x',\n",
       "              'y': {'bdata': 'AAAAAABgc8AAAAAAAGBzwAAAAAAAGHXAAAAAAAAYdcA=', 'dtype': 'f8'},\n",
       "              'yaxis': 'y'},\n",
       "             {'hoverinfo': 'text',\n",
       "              'marker': {'color': 'rgb(133,20,75)'},\n",
       "              'mode': 'lines',\n",
       "              'type': 'scatter',\n",
       "              'x': {'bdata': 'lr32nlWS5D9REfTBF7PpP1ER9MEXs+k/pp+1hxP/5z8=', 'dtype': 'f8'},\n",
       "              'xaxis': 'x',\n",
       "              'y': {'bdata': 'AAAAAACoccAAAAAAAKhxwAAAAAAAPHTAAAAAAAA8dMA=', 'dtype': 'f8'},\n",
       "              'yaxis': 'y'},\n",
       "             {'hoverinfo': 'text',\n",
       "              'marker': {'color': 'rgb(133,20,75)'},\n",
       "              'mode': 'lines',\n",
       "              'type': 'scatter',\n",
       "              'x': {'bdata': 'AAAAAAAAAACSFywdlI3TP5IXLB2UjdM/AAAAAAAAAAA=', 'dtype': 'f8'},\n",
       "              'xaxis': 'x',\n",
       "              'y': {'bdata': 'AAAAAAAwdsAAAAAAADB2wAAAAAAA0HbAAAAAAADQdsA=', 'dtype': 'f8'},\n",
       "              'yaxis': 'y'},\n",
       "             {'hoverinfo': 'text',\n",
       "              'marker': {'color': 'rgb(133,20,75)'},\n",
       "              'mode': 'lines',\n",
       "              'type': 'scatter',\n",
       "              'x': {'bdata': 'URH0wRez6T/J8jyvH7bsP8nyPK8ftuw/khcsHZSN0z8=', 'dtype': 'f8'},\n",
       "              'xaxis': 'x',\n",
       "              'y': {'bdata': 'AAAAAADycsAAAAAAAPJywAAAAAAAgHbAAAAAAACAdsA=', 'dtype': 'f8'},\n",
       "              'yaxis': 'y'},\n",
       "             {'hoverinfo': 'text',\n",
       "              'marker': {'color': 'rgb(255,220,0)'},\n",
       "              'mode': 'lines',\n",
       "              'type': 'scatter',\n",
       "              'x': {'bdata': 'AAAAAAAAAAB4o1XVX7/bP3ijVdVfv9s/AAAAAAAAAAA=', 'dtype': 'f8'},\n",
       "              'xaxis': 'x',\n",
       "              'y': {'bdata': 'AAAAAABwd8AAAAAAAHB3wAAAAAAAEHjAAAAAAAAQeMA=', 'dtype': 'f8'},\n",
       "              'yaxis': 'y'},\n",
       "             {'hoverinfo': 'text',\n",
       "              'marker': {'color': 'rgb(255,220,0)'},\n",
       "              'mode': 'lines',\n",
       "              'type': 'scatter',\n",
       "              'x': {'bdata': 'AAAAAAAAAADKlWqzVDbWP8qVarNUNtY/AAAAAAAAAAA=', 'dtype': 'f8'},\n",
       "              'xaxis': 'x',\n",
       "              'y': {'bdata': 'AAAAAABQecAAAAAAAFB5wAAAAAAA8HnAAAAAAADwecA=', 'dtype': 'f8'},\n",
       "              'yaxis': 'y'},\n",
       "             {'hoverinfo': 'text',\n",
       "              'marker': {'color': 'rgb(255,220,0)'},\n",
       "              'mode': 'lines',\n",
       "              'type': 'scatter',\n",
       "              'x': {'bdata': 'AAAAAAAAAAC/Esjq5VvbP78SyOrlW9s/ypVqs1Q21j8=', 'dtype': 'f8'},\n",
       "              'xaxis': 'x',\n",
       "              'y': {'bdata': 'AAAAAACweMAAAAAAALB4wAAAAAAAoHnAAAAAAACgecA=', 'dtype': 'f8'},\n",
       "              'yaxis': 'y'},\n",
       "             {'hoverinfo': 'text',\n",
       "              'marker': {'color': 'rgb(255,220,0)'},\n",
       "              'mode': 'lines',\n",
       "              'type': 'scatter',\n",
       "              'x': {'bdata': 'eKNV1V+/2z+IaCx5QwTnP4hoLHlDBOc/vxLI6uVb2z8=', 'dtype': 'f8'},\n",
       "              'xaxis': 'x',\n",
       "              'y': {'bdata': 'AAAAAADAd8AAAAAAAMB3wAAAAAAAKHnAAAAAAAAoecA=', 'dtype': 'f8'},\n",
       "              'yaxis': 'y'},\n",
       "             {'hoverinfo': 'text',\n",
       "              'marker': {'color': 'rgb(0,116,217)'},\n",
       "              'mode': 'lines',\n",
       "              'type': 'scatter',\n",
       "              'x': {'bdata': 'yfI8rx+27D8jwLGJwvDyPyPAsYnC8PI/iGgseUME5z8=', 'dtype': 'f8'},\n",
       "              'xaxis': 'x',\n",
       "              'y': {'bdata': 'AAAAAAC5dMAAAAAAALl0wAAAAAAAdHjAAAAAAAB0eMA=', 'dtype': 'f8'},\n",
       "              'yaxis': 'y'},\n",
       "             {'hoverinfo': 'text',\n",
       "              'marker': {'color': 'rgb(0,116,217)'},\n",
       "              'mode': 'lines',\n",
       "              'type': 'scatter',\n",
       "              'x': {'bdata': '+ZbmBUxz8T/IEZC2Y2z2P8gRkLZjbPY/I8CxicLw8j8=', 'dtype': 'f8'},\n",
       "              'xaxis': 'x',\n",
       "              'y': {'bdata': 'AAAAAEC5UMAAAAAAQLlQwAAAAACAlnbAAAAAAICWdsA=', 'dtype': 'f8'},\n",
       "              'yaxis': 'y'},\n",
       "             {'hoverinfo': 'text',\n",
       "              'marker': {'color': 'rgb(40,35,35)'},\n",
       "              'mode': 'lines',\n",
       "              'type': 'scatter',\n",
       "              'x': {'bdata': 'AAAAAAAAAABAMqzxeUfmP0AyrPF5R+Y/AAAAAAAAAAA=', 'dtype': 'f8'},\n",
       "              'xaxis': 'x',\n",
       "              'y': {'bdata': 'AAAAAAAwe8AAAAAAADB7wAAAAAAA0HvAAAAAAADQe8A=', 'dtype': 'f8'},\n",
       "              'yaxis': 'y'},\n",
       "             {'hoverinfo': 'text',\n",
       "              'marker': {'color': 'rgb(40,35,35)'},\n",
       "              'mode': 'lines',\n",
       "              'type': 'scatter',\n",
       "              'x': {'bdata': 'QDKs8XlH5j8dKWBSo+vmPx0pYFKj6+Y/AAAAAAAAAAA=', 'dtype': 'f8'},\n",
       "              'xaxis': 'x',\n",
       "              'y': {'bdata': 'AAAAAACAe8AAAAAAAIB7wAAAAAAAcHzAAAAAAABwfMA=', 'dtype': 'f8'},\n",
       "              'yaxis': 'y'},\n",
       "             {'hoverinfo': 'text',\n",
       "              'marker': {'color': 'rgb(40,35,35)'},\n",
       "              'mode': 'lines',\n",
       "              'type': 'scatter',\n",
       "              'x': {'bdata': 'AAAAAAAAAACV7kN0nUvqP5XuQ3SdS+o/HSlgUqPr5j8=', 'dtype': 'f8'},\n",
       "              'xaxis': 'x',\n",
       "              'y': {'bdata': 'AAAAAACQesAAAAAAAJB6wAAAAAAA+HvAAAAAAAD4e8A=', 'dtype': 'f8'},\n",
       "              'yaxis': 'y'},\n",
       "             {'hoverinfo': 'text',\n",
       "              'marker': {'color': 'rgb(40,35,35)'},\n",
       "              'mode': 'lines',\n",
       "              'type': 'scatter',\n",
       "              'x': {'bdata': 'AAAAAAAAAABWCUUZ7EvcP1YJRRnsS9w/AAAAAAAAAAA=', 'dtype': 'f8'},\n",
       "              'xaxis': 'x',\n",
       "              'y': {'bdata': 'AAAAAABQfsAAAAAAAFB+wAAAAAAA8H7AAAAAAADwfsA=', 'dtype': 'f8'},\n",
       "              'yaxis': 'y'},\n",
       "             {'hoverinfo': 'text',\n",
       "              'marker': {'color': 'rgb(40,35,35)'},\n",
       "              'mode': 'lines',\n",
       "              'type': 'scatter',\n",
       "              'x': {'bdata': 'AAAAAAAAAAAEiMQz2y7kPwSIxDPbLuQ/VglFGexL3D8=', 'dtype': 'f8'},\n",
       "              'xaxis': 'x',\n",
       "              'y': {'bdata': 'AAAAAACwfcAAAAAAALB9wAAAAAAAoH7AAAAAAACgfsA=', 'dtype': 'f8'},\n",
       "              'yaxis': 'y'},\n",
       "             {'hoverinfo': 'text',\n",
       "              'marker': {'color': 'rgb(40,35,35)'},\n",
       "              'mode': 'lines',\n",
       "              'type': 'scatter',\n",
       "              'x': {'bdata': 'AAAAAAAAAACZgpEu3iHlP5mCkS7eIeU/BIjEM9su5D8=', 'dtype': 'f8'},\n",
       "              'xaxis': 'x',\n",
       "              'y': {'bdata': 'AAAAAAAQfcAAAAAAABB9wAAAAAAAKH7AAAAAAAAofsA=', 'dtype': 'f8'},\n",
       "              'yaxis': 'y'},\n",
       "             {'hoverinfo': 'text',\n",
       "              'marker': {'color': 'rgb(40,35,35)'},\n",
       "              'mode': 'lines',\n",
       "              'type': 'scatter',\n",
       "              'x': {'bdata': 'le5DdJ1L6j/L9bM5MILuP8v1szkwgu4/mYKRLt4h5T8=', 'dtype': 'f8'},\n",
       "              'xaxis': 'x',\n",
       "              'y': {'bdata': 'AAAAAABEe8AAAAAAAER7wAAAAAAAnH3AAAAAAACcfcA=', 'dtype': 'f8'},\n",
       "              'yaxis': 'y'},\n",
       "             {'hoverinfo': 'text',\n",
       "              'marker': {'color': 'rgb(40,35,35)'},\n",
       "              'mode': 'lines',\n",
       "              'type': 'scatter',\n",
       "              'x': {'bdata': 'AAAAAAAAAACQNUU9Ff7pP5A1RT0V/uk/AAAAAAAAAAA=', 'dtype': 'f8'},\n",
       "              'xaxis': 'x',\n",
       "              'y': {'bdata': 'AAAAAAAYgMAAAAAAABiAwAAAAAAAaIDAAAAAAABogMA=', 'dtype': 'f8'},\n",
       "              'yaxis': 'y'},\n",
       "             {'hoverinfo': 'text',\n",
       "              'marker': {'color': 'rgb(40,35,35)'},\n",
       "              'mode': 'lines',\n",
       "              'type': 'scatter',\n",
       "              'x': {'bdata': 'AAAAAAAAAAAHwFjK9kLrPwfAWMr2Qus/kDVFPRX+6T8=', 'dtype': 'f8'},\n",
       "              'xaxis': 'x',\n",
       "              'y': {'bdata': 'AAAAAACQf8AAAAAAAJB/wAAAAAAAQIDAAAAAAABAgMA=', 'dtype': 'f8'},\n",
       "              'yaxis': 'y'},\n",
       "             {'hoverinfo': 'text',\n",
       "              'marker': {'color': 'rgb(40,35,35)'},\n",
       "              'mode': 'lines',\n",
       "              'type': 'scatter',\n",
       "              'x': {'bdata': 'B8BYyvZC6z+LUqXOFvHsP4tSpc4W8ew/AAAAAAAAAAA=', 'dtype': 'f8'},\n",
       "              'xaxis': 'x',\n",
       "              'y': {'bdata': 'AAAAAAAEgMAAAAAAAASAwAAAAAAAuIDAAAAAAAC4gMA=', 'dtype': 'f8'},\n",
       "              'yaxis': 'y'},\n",
       "             {'hoverinfo': 'text',\n",
       "              'marker': {'color': 'rgb(40,35,35)'},\n",
       "              'mode': 'lines',\n",
       "              'type': 'scatter',\n",
       "              'x': {'bdata': 'y/WzOTCC7j9KpSEP5+3vP0qlIQ/n7e8/i1Klzhbx7D8=', 'dtype': 'f8'},\n",
       "              'xaxis': 'x',\n",
       "              'y': {'bdata': 'AAAAAABwfMAAAAAAAHB8wAAAAAAAXoDAAAAAAABegMA=', 'dtype': 'f8'},\n",
       "              'yaxis': 'y'},\n",
       "             {'hoverinfo': 'text',\n",
       "              'marker': {'color': 'rgb(61,153,112)'},\n",
       "              'mode': 'lines',\n",
       "              'type': 'scatter',\n",
       "              'x': {'bdata': 'AAAAAAAAAACqhsdDLzbWP6qGx0MvNtY/AAAAAAAAAAA=', 'dtype': 'f8'},\n",
       "              'xaxis': 'x',\n",
       "              'y': {'bdata': 'AAAAAAAIgcAAAAAAAAiBwAAAAAAAWIHAAAAAAABYgcA=', 'dtype': 'f8'},\n",
       "              'yaxis': 'y'},\n",
       "             {'hoverinfo': 'text',\n",
       "              'marker': {'color': 'rgb(61,153,112)'},\n",
       "              'mode': 'lines',\n",
       "              'type': 'scatter',\n",
       "              'x': {'bdata': 'qobHQy821j/U/hQH1gfhP9T+FAfWB+E/AAAAAAAAAAA=', 'dtype': 'f8'},\n",
       "              'xaxis': 'x',\n",
       "              'y': {'bdata': 'AAAAAAAwgcAAAAAAADCBwAAAAAAAqIHAAAAAAACogcA=', 'dtype': 'f8'},\n",
       "              'yaxis': 'y'},\n",
       "             {'hoverinfo': 'text',\n",
       "              'marker': {'color': 'rgb(0,116,217)'},\n",
       "              'mode': 'lines',\n",
       "              'type': 'scatter',\n",
       "              'x': {'bdata': 'SqUhD+ft7z+78BKxcuTxP7vwErFy5PE/1P4UB9YH4T8=', 'dtype': 'f8'},\n",
       "              'xaxis': 'x',\n",
       "              'y': {'bdata': 'AAAAAACWfsAAAAAAAJZ+wAAAAAAAbIHAAAAAAABsgcA=', 'dtype': 'f8'},\n",
       "              'yaxis': 'y'},\n",
       "             {'hoverinfo': 'text',\n",
       "              'marker': {'color': 'rgb(255,65,54)'},\n",
       "              'mode': 'lines',\n",
       "              'type': 'scatter',\n",
       "              'x': {'bdata': 'AAAAAAAAAACKUIMkOWTaP4pQgyQ5ZNo/AAAAAAAAAAA=', 'dtype': 'f8'},\n",
       "              'xaxis': 'x',\n",
       "              'y': {'bdata': 'AAAAAABIgsAAAAAAAEiCwAAAAAAAmILAAAAAAACYgsA=', 'dtype': 'f8'},\n",
       "              'yaxis': 'y'},\n",
       "             {'hoverinfo': 'text',\n",
       "              'marker': {'color': 'rgb(255,65,54)'},\n",
       "              'mode': 'lines',\n",
       "              'type': 'scatter',\n",
       "              'x': {'bdata': 'AAAAAAAAAACY/+oJG53iP5j/6gkbneI/ilCDJDlk2j8=', 'dtype': 'f8'},\n",
       "              'xaxis': 'x',\n",
       "              'y': {'bdata': 'AAAAAAD4gcAAAAAAAPiBwAAAAAAAcILAAAAAAABwgsA=', 'dtype': 'f8'},\n",
       "              'yaxis': 'y'},\n",
       "             {'hoverinfo': 'text',\n",
       "              'marker': {'color': 'rgb(35,205,205)'},\n",
       "              'mode': 'lines',\n",
       "              'type': 'scatter',\n",
       "              'x': {'bdata': 'AAAAAAAAAADMfpfUCTHTP8x+l9QJMdM/AAAAAAAAAAA=', 'dtype': 'f8'},\n",
       "              'xaxis': 'x',\n",
       "              'y': {'bdata': 'AAAAAAA4g8AAAAAAADiDwAAAAAAAiIPAAAAAAACIg8A=', 'dtype': 'f8'},\n",
       "              'yaxis': 'y'},\n",
       "             {'hoverinfo': 'text',\n",
       "              'marker': {'color': 'rgb(35,205,205)'},\n",
       "              'mode': 'lines',\n",
       "              'type': 'scatter',\n",
       "              'x': {'bdata': 'AAAAAAAAAACx8ygrqZnhP7HzKCupmeE/zH6X1Akx0z8=', 'dtype': 'f8'},\n",
       "              'xaxis': 'x',\n",
       "              'y': {'bdata': 'AAAAAADogsAAAAAAAOiCwAAAAAAAYIPAAAAAAABgg8A=', 'dtype': 'f8'},\n",
       "              'yaxis': 'y'},\n",
       "             {'hoverinfo': 'text',\n",
       "              'marker': {'color': 'rgb(35,205,205)'},\n",
       "              'mode': 'lines',\n",
       "              'type': 'scatter',\n",
       "              'x': {'bdata': 'AAAAAAAAAADAHMqt8cLeP8Acyq3xwt4/AAAAAAAAAAA=', 'dtype': 'f8'},\n",
       "              'xaxis': 'x',\n",
       "              'y': {'bdata': 'AAAAAADYg8AAAAAAANiDwAAAAAAAKITAAAAAAAAohMA=', 'dtype': 'f8'},\n",
       "              'yaxis': 'y'},\n",
       "             {'hoverinfo': 'text',\n",
       "              'marker': {'color': 'rgb(35,205,205)'},\n",
       "              'mode': 'lines',\n",
       "              'type': 'scatter',\n",
       "              'x': {'bdata': 'sfMoK6mZ4T9TnFG+Pj7sP1OcUb4+Puw/wBzKrfHC3j8=', 'dtype': 'f8'},\n",
       "              'xaxis': 'x',\n",
       "              'y': {'bdata': 'AAAAAAAkg8AAAAAAACSDwAAAAAAAAITAAAAAAAAAhMA=', 'dtype': 'f8'},\n",
       "              'yaxis': 'y'},\n",
       "             {'hoverinfo': 'text',\n",
       "              'marker': {'color': 'rgb(0,116,217)'},\n",
       "              'mode': 'lines',\n",
       "              'type': 'scatter',\n",
       "              'x': {'bdata': 'mP/qCRud4j8CGg8g0gnxPwIaDyDSCfE/U5xRvj4+7D8=', 'dtype': 'f8'},\n",
       "              'xaxis': 'x',\n",
       "              'y': {'bdata': 'AAAAAAA0gsAAAAAAADSCwAAAAAAAkoPAAAAAAACSg8A=', 'dtype': 'f8'},\n",
       "              'yaxis': 'y'},\n",
       "             {'hoverinfo': 'text',\n",
       "              'marker': {'color': 'rgb(0,116,217)'},\n",
       "              'mode': 'lines',\n",
       "              'type': 'scatter',\n",
       "              'x': {'bdata': 'u/ASsXLk8T+E40puyB/zP4TjSm7IH/M/AhoPINIJ8T8=', 'dtype': 'f8'},\n",
       "              'xaxis': 'x',\n",
       "              'y': {'bdata': 'AAAAAIBbgMAAAAAAgFuAwAAAAAAA44LAAAAAAADjgsA=', 'dtype': 'f8'},\n",
       "              'yaxis': 'y'},\n",
       "             {'hoverinfo': 'text',\n",
       "              'marker': {'color': 'rgb(61,153,112)'},\n",
       "              'mode': 'lines',\n",
       "              'type': 'scatter',\n",
       "              'x': {'bdata': 'AAAAAAAAAAAO0Gl0/h/WPw7QaXT+H9Y/AAAAAAAAAAA=', 'dtype': 'f8'},\n",
       "              'xaxis': 'x',\n",
       "              'y': {'bdata': 'AAAAAADIhMAAAAAAAMiEwAAAAAAAGIXAAAAAAAAYhcA=', 'dtype': 'f8'},\n",
       "              'yaxis': 'y'},\n",
       "             {'hoverinfo': 'text',\n",
       "              'marker': {'color': 'rgb(61,153,112)'},\n",
       "              'mode': 'lines',\n",
       "              'type': 'scatter',\n",
       "              'x': {'bdata': 'DtBpdP4f1j+ZWeDl2NndP5lZ4OXY2d0/AAAAAAAAAAA=', 'dtype': 'f8'},\n",
       "              'xaxis': 'x',\n",
       "              'y': {'bdata': 'AAAAAADwhMAAAAAAAPCEwAAAAAAAaIXAAAAAAABohcA=', 'dtype': 'f8'},\n",
       "              'yaxis': 'y'},\n",
       "             {'hoverinfo': 'text',\n",
       "              'marker': {'color': 'rgb(61,153,112)'},\n",
       "              'mode': 'lines',\n",
       "              'type': 'scatter',\n",
       "              'x': {'bdata': 'AAAAAAAAAAAjqjr3+LDnPyOqOvf4sOc/mVng5djZ3T8=', 'dtype': 'f8'},\n",
       "              'xaxis': 'x',\n",
       "              'y': {'bdata': 'AAAAAAB4hMAAAAAAAHiEwAAAAAAALIXAAAAAAAAshcA=', 'dtype': 'f8'},\n",
       "              'yaxis': 'y'},\n",
       "             {'hoverinfo': 'text',\n",
       "              'marker': {'color': 'rgb(61,153,112)'},\n",
       "              'mode': 'lines',\n",
       "              'type': 'scatter',\n",
       "              'x': {'bdata': 'AAAAAAAAAADqoY/VktDXP+qhj9WS0Nc/AAAAAAAAAAA=', 'dtype': 'f8'},\n",
       "              'xaxis': 'x',\n",
       "              'y': {'bdata': 'AAAAAAAIhsAAAAAAAAiGwAAAAAAAWIbAAAAAAABYhsA=', 'dtype': 'f8'},\n",
       "              'yaxis': 'y'},\n",
       "             {'hoverinfo': 'text',\n",
       "              'marker': {'color': 'rgb(61,153,112)'},\n",
       "              'mode': 'lines',\n",
       "              'type': 'scatter',\n",
       "              'x': {'bdata': 'AAAAAAAAAAD96oEJSNTgP/3qgQlI1OA/6qGP1ZLQ1z8=', 'dtype': 'f8'},\n",
       "              'xaxis': 'x',\n",
       "              'y': {'bdata': 'AAAAAAC4hcAAAAAAALiFwAAAAAAAMIbAAAAAAAAwhsA=', 'dtype': 'f8'},\n",
       "              'yaxis': 'y'},\n",
       "             {'hoverinfo': 'text',\n",
       "              'marker': {'color': 'rgb(61,153,112)'},\n",
       "              'mode': 'lines',\n",
       "              'type': 'scatter',\n",
       "              'x': {'bdata': '/eqBCUjU4D+/QEb9zurmP79ARv3O6uY/AAAAAAAAAAA=', 'dtype': 'f8'},\n",
       "              'xaxis': 'x',\n",
       "              'y': {'bdata': 'AAAAAAD0hcAAAAAAAPSFwAAAAAAAqIbAAAAAAACohsA=', 'dtype': 'f8'},\n",
       "              'yaxis': 'y'},\n",
       "             {'hoverinfo': 'text',\n",
       "              'marker': {'color': 'rgb(61,153,112)'},\n",
       "              'mode': 'lines',\n",
       "              'type': 'scatter',\n",
       "              'x': {'bdata': 'I6o69/iw5z+IM2odJJbtP4gzah0klu0/v0BG/c7q5j8=', 'dtype': 'f8'},\n",
       "              'xaxis': 'x',\n",
       "              'y': {'bdata': 'AAAAAADShMAAAAAAANKEwAAAAAAATobAAAAAAABOhsA=', 'dtype': 'f8'},\n",
       "              'yaxis': 'y'},\n",
       "             {'hoverinfo': 'text',\n",
       "              'marker': {'color': 'rgb(255,65,54)'},\n",
       "              'mode': 'lines',\n",
       "              'type': 'scatter',\n",
       "              'x': {'bdata': 'AAAAAAAAAAAQCBzwNrbbPxAIHPA2tts/AAAAAAAAAAA=', 'dtype': 'f8'},\n",
       "              'xaxis': 'x',\n",
       "              'y': {'bdata': 'AAAAAABIh8AAAAAAAEiHwAAAAAAAmIfAAAAAAACYh8A=', 'dtype': 'f8'},\n",
       "              'yaxis': 'y'},\n",
       "             {'hoverinfo': 'text',\n",
       "              'marker': {'color': 'rgb(255,65,54)'},\n",
       "              'mode': 'lines',\n",
       "              'type': 'scatter',\n",
       "              'x': {'bdata': 'AAAAAAAAAADHhqntvFfiP8eGqe28V+I/EAgc8Da22z8=', 'dtype': 'f8'},\n",
       "              'xaxis': 'x',\n",
       "              'y': {'bdata': 'AAAAAAD4hsAAAAAAAPiGwAAAAAAAcIfAAAAAAABwh8A=', 'dtype': 'f8'},\n",
       "              'yaxis': 'y'},\n",
       "             {'hoverinfo': 'text',\n",
       "              'marker': {'color': 'rgb(255,65,54)'},\n",
       "              'mode': 'lines',\n",
       "              'type': 'scatter',\n",
       "              'x': {'bdata': 'AAAAAAAAAAB89lWIzl3eP3z2VYjOXd4/AAAAAAAAAAA=', 'dtype': 'f8'},\n",
       "              'xaxis': 'x',\n",
       "              'y': {'bdata': 'AAAAAADoh8AAAAAAAOiHwAAAAAAAOIjAAAAAAAA4iMA=', 'dtype': 'f8'},\n",
       "              'yaxis': 'y'},\n",
       "             {'hoverinfo': 'text',\n",
       "              'marker': {'color': 'rgb(255,65,54)'},\n",
       "              'mode': 'lines',\n",
       "              'type': 'scatter',\n",
       "              'x': {'bdata': 'fPZViM5d3j9sJBbRI+/hP2wkFtEj7+E/AAAAAAAAAAA=', 'dtype': 'f8'},\n",
       "              'xaxis': 'x',\n",
       "              'y': {'bdata': 'AAAAAAAQiMAAAAAAABCIwAAAAAAAiIjAAAAAAACIiMA=', 'dtype': 'f8'},\n",
       "              'yaxis': 'y'},\n",
       "             {'hoverinfo': 'text',\n",
       "              'marker': {'color': 'rgb(255,65,54)'},\n",
       "              'mode': 'lines',\n",
       "              'type': 'scatter',\n",
       "              'x': {'bdata': 'x4ap7bxX4j/RmK3Ih0PnP9GYrciHQ+c/bCQW0SPv4T8=', 'dtype': 'f8'},\n",
       "              'xaxis': 'x',\n",
       "              'y': {'bdata': 'AAAAAAA0h8AAAAAAADSHwAAAAAAATIjAAAAAAABMiMA=', 'dtype': 'f8'},\n",
       "              'yaxis': 'y'},\n",
       "             {'hoverinfo': 'text',\n",
       "              'marker': {'color': 'rgb(35,205,205)'},\n",
       "              'mode': 'lines',\n",
       "              'type': 'scatter',\n",
       "              'x': {'bdata': 'AAAAAAAAAADQLGHX5HriP9AsYdfkeuI/AAAAAAAAAAA=', 'dtype': 'f8'},\n",
       "              'xaxis': 'x',\n",
       "              'y': {'bdata': 'AAAAAADYiMAAAAAAANiIwAAAAAAAKInAAAAAAAAoicA=', 'dtype': 'f8'},\n",
       "              'yaxis': 'y'},\n",
       "             {'hoverinfo': 'text',\n",
       "              'marker': {'color': 'rgb(35,205,205)'},\n",
       "              'mode': 'lines',\n",
       "              'type': 'scatter',\n",
       "              'x': {'bdata': 'AAAAAAAAAADCYvjI8iXgP8Ji+MjyJeA/AAAAAAAAAAA=', 'dtype': 'f8'},\n",
       "              'xaxis': 'x',\n",
       "              'y': {'bdata': 'AAAAAADIicAAAAAAAMiJwAAAAAAAGIrAAAAAAAAYisA=', 'dtype': 'f8'},\n",
       "              'yaxis': 'y'},\n",
       "             {'hoverinfo': 'text',\n",
       "              'marker': {'color': 'rgb(35,205,205)'},\n",
       "              'mode': 'lines',\n",
       "              'type': 'scatter',\n",
       "              'x': {'bdata': 'AAAAAAAAAABl423OwUrmP2Xjbc7BSuY/wmL4yPIl4D8=', 'dtype': 'f8'},\n",
       "              'xaxis': 'x',\n",
       "              'y': {'bdata': 'AAAAAAB4icAAAAAAAHiJwAAAAAAA8InAAAAAAADwicA=', 'dtype': 'f8'},\n",
       "              'yaxis': 'y'},\n",
       "             {'hoverinfo': 'text',\n",
       "              'marker': {'color': 'rgb(35,205,205)'},\n",
       "              'mode': 'lines',\n",
       "              'type': 'scatter',\n",
       "              'x': {'bdata': '0Cxh1+R64j8v8iAq50ntPy/yICrnSe0/ZeNtzsFK5j8=', 'dtype': 'f8'},\n",
       "              'xaxis': 'x',\n",
       "              'y': {'bdata': 'AAAAAAAAicAAAAAAAACJwAAAAAAAtInAAAAAAAC0icA=', 'dtype': 'f8'},\n",
       "              'yaxis': 'y'},\n",
       "             {'hoverinfo': 'text',\n",
       "              'marker': {'color': 'rgb(133,20,75)'},\n",
       "              'mode': 'lines',\n",
       "              'type': 'scatter',\n",
       "              'x': {'bdata': 'AAAAAAAAAABdvfmlD0PgP129+aUPQ+A/AAAAAAAAAAA=', 'dtype': 'f8'},\n",
       "              'xaxis': 'x',\n",
       "              'y': {'bdata': 'AAAAAAC4isAAAAAAALiKwAAAAAAACIvAAAAAAAAIi8A=', 'dtype': 'f8'},\n",
       "              'yaxis': 'y'},\n",
       "             {'hoverinfo': 'text',\n",
       "              'marker': {'color': 'rgb(133,20,75)'},\n",
       "              'mode': 'lines',\n",
       "              'type': 'scatter',\n",
       "              'x': {'bdata': 'Xb35pQ9D4D/GWwO9IM/jP8ZbA70gz+M/AAAAAAAAAAA=', 'dtype': 'f8'},\n",
       "              'xaxis': 'x',\n",
       "              'y': {'bdata': 'AAAAAADgisAAAAAAAOCKwAAAAAAAWIvAAAAAAABYi8A=', 'dtype': 'f8'},\n",
       "              'yaxis': 'y'},\n",
       "             {'hoverinfo': 'text',\n",
       "              'marker': {'color': 'rgb(133,20,75)'},\n",
       "              'mode': 'lines',\n",
       "              'type': 'scatter',\n",
       "              'x': {'bdata': 'AAAAAAAAAACAasx46fbmP4BqzHjp9uY/xlsDvSDP4z8=', 'dtype': 'f8'},\n",
       "              'xaxis': 'x',\n",
       "              'y': {'bdata': 'AAAAAABoisAAAAAAAGiKwAAAAAAAHIvAAAAAAAAci8A=', 'dtype': 'f8'},\n",
       "              'yaxis': 'y'},\n",
       "             {'hoverinfo': 'text',\n",
       "              'marker': {'color': 'rgb(133,20,75)'},\n",
       "              'mode': 'lines',\n",
       "              'type': 'scatter',\n",
       "              'x': {'bdata': 'gGrMeOn25j8CTnmrXhfoPwJOeateF+g/AAAAAAAAAAA=', 'dtype': 'f8'},\n",
       "              'xaxis': 'x',\n",
       "              'y': {'bdata': 'AAAAAADCisAAAAAAAMKKwAAAAAAAqIvAAAAAAACoi8A=', 'dtype': 'f8'},\n",
       "              'yaxis': 'y'},\n",
       "             {'hoverinfo': 'text',\n",
       "              'marker': {'color': 'rgb(133,20,75)'},\n",
       "              'mode': 'lines',\n",
       "              'type': 'scatter',\n",
       "              'x': {'bdata': 'AAAAAAAAAABVq33u7yvmP1Wrfe7vK+Y/AAAAAAAAAAA=', 'dtype': 'f8'},\n",
       "              'xaxis': 'x',\n",
       "              'y': {'bdata': 'AAAAAAD4i8AAAAAAAPiLwAAAAAAASIzAAAAAAABIjMA=', 'dtype': 'f8'},\n",
       "              'yaxis': 'y'},\n",
       "             {'hoverinfo': 'text',\n",
       "              'marker': {'color': 'rgb(133,20,75)'},\n",
       "              'mode': 'lines',\n",
       "              'type': 'scatter',\n",
       "              'x': {'bdata': 'Ak55q14X6D+R3jSgIGHpP5HeNKAgYek/Vat97u8r5j8=', 'dtype': 'f8'},\n",
       "              'xaxis': 'x',\n",
       "              'y': {'bdata': 'AAAAAAA1i8AAAAAAADWLwAAAAAAAIIzAAAAAAAAgjMA=', 'dtype': 'f8'},\n",
       "              'yaxis': 'y'},\n",
       "             {'hoverinfo': 'text',\n",
       "              'marker': {'color': 'rgb(133,20,75)'},\n",
       "              'mode': 'lines',\n",
       "              'type': 'scatter',\n",
       "              'x': {'bdata': 'AAAAAAAAAAD2Whs+8BbjP/ZaGz7wFuM/AAAAAAAAAAA=', 'dtype': 'f8'},\n",
       "              'xaxis': 'x',\n",
       "              'y': {'bdata': 'AAAAAACYjMAAAAAAAJiMwAAAAAAA6IzAAAAAAADojMA=', 'dtype': 'f8'},\n",
       "              'yaxis': 'y'},\n",
       "             {'hoverinfo': 'text',\n",
       "              'marker': {'color': 'rgb(133,20,75)'},\n",
       "              'mode': 'lines',\n",
       "              'type': 'scatter',\n",
       "              'x': {'bdata': '9lobPvAW4z9XVM2KrLTmP1dUzYqstOY/AAAAAAAAAAA=', 'dtype': 'f8'},\n",
       "              'xaxis': 'x',\n",
       "              'y': {'bdata': 'AAAAAADAjMAAAAAAAMCMwAAAAAAAOI3AAAAAAAA4jcA=', 'dtype': 'f8'},\n",
       "              'yaxis': 'y'},\n",
       "             {'hoverinfo': 'text',\n",
       "              'marker': {'color': 'rgb(133,20,75)'},\n",
       "              'mode': 'lines',\n",
       "              'type': 'scatter',\n",
       "              'x': {'bdata': 'AAAAAAAAAAD+7W70wzvhP/7tbvTDO+E/AAAAAAAAAAA=', 'dtype': 'f8'},\n",
       "              'xaxis': 'x',\n",
       "              'y': {'bdata': 'AAAAAADYjcAAAAAAANiNwAAAAAAAKI7AAAAAAAAojsA=', 'dtype': 'f8'},\n",
       "              'yaxis': 'y'},\n",
       "             {'hoverinfo': 'text',\n",
       "              'marker': {'color': 'rgb(133,20,75)'},\n",
       "              'mode': 'lines',\n",
       "              'type': 'scatter',\n",
       "              'x': {'bdata': 'AAAAAAAAAABesV5L16XkP16xXkvXpeQ//u1u9MM74T8=', 'dtype': 'f8'},\n",
       "              'xaxis': 'x',\n",
       "              'y': {'bdata': 'AAAAAACIjcAAAAAAAIiNwAAAAAAAAI7AAAAAAAAAjsA=', 'dtype': 'f8'},\n",
       "              'yaxis': 'y'},\n",
       "             {'hoverinfo': 'text',\n",
       "              'marker': {'color': 'rgb(133,20,75)'},\n",
       "              'mode': 'lines',\n",
       "              'type': 'scatter',\n",
       "              'x': {'bdata': 'XrFeS9el5D8B9mOHfBrlPwH2Y4d8GuU/AAAAAAAAAAA=', 'dtype': 'f8'},\n",
       "              'xaxis': 'x',\n",
       "              'y': {'bdata': 'AAAAAADEjcAAAAAAAMSNwAAAAAAAeI7AAAAAAAB4jsA=', 'dtype': 'f8'},\n",
       "              'yaxis': 'y'},\n",
       "             {'hoverinfo': 'text',\n",
       "              'marker': {'color': 'rgb(133,20,75)'},\n",
       "              'mode': 'lines',\n",
       "              'type': 'scatter',\n",
       "              'x': {'bdata': 'V1TNiqy05j9kP84AMQDqP2Q/zgAxAOo/AfZjh3wa5T8=', 'dtype': 'f8'},\n",
       "              'xaxis': 'x',\n",
       "              'y': {'bdata': 'AAAAAAD8jMAAAAAAAPyMwAAAAAAAHo7AAAAAAAAejsA=', 'dtype': 'f8'},\n",
       "              'yaxis': 'y'},\n",
       "             {'hoverinfo': 'text',\n",
       "              'marker': {'color': 'rgb(133,20,75)'},\n",
       "              'mode': 'lines',\n",
       "              'type': 'scatter',\n",
       "              'x': {'bdata': 'kd40oCBh6T847MWBO/fsPzjsxYE79+w/ZD/OADEA6j8=', 'dtype': 'f8'},\n",
       "              'xaxis': 'x',\n",
       "              'y': {'bdata': 'AAAAAICqi8AAAAAAgKqLwAAAAAAAjY3AAAAAAACNjcA=', 'dtype': 'f8'},\n",
       "              'yaxis': 'y'},\n",
       "             {'hoverinfo': 'text',\n",
       "              'marker': {'color': 'rgb(255,220,0)'},\n",
       "              'mode': 'lines',\n",
       "              'type': 'scatter',\n",
       "              'x': {'bdata': 'AAAAAAAAAACUeiJ6cT7YP5R6InpxPtg/AAAAAAAAAAA=', 'dtype': 'f8'},\n",
       "              'xaxis': 'x',\n",
       "              'y': {'bdata': 'AAAAAAAYj8AAAAAAABiPwAAAAAAAaI/AAAAAAABoj8A=', 'dtype': 'f8'},\n",
       "              'yaxis': 'y'},\n",
       "             {'hoverinfo': 'text',\n",
       "              'marker': {'color': 'rgb(255,220,0)'},\n",
       "              'mode': 'lines',\n",
       "              'type': 'scatter',\n",
       "              'x': {'bdata': 'lHoienE+2D/FOqtQNk7mP8U6q1A2TuY/AAAAAAAAAAA=', 'dtype': 'f8'},\n",
       "              'xaxis': 'x',\n",
       "              'y': {'bdata': 'AAAAAABAj8AAAAAAAECPwAAAAAAAuI/AAAAAAAC4j8A=', 'dtype': 'f8'},\n",
       "              'yaxis': 'y'},\n",
       "             {'hoverinfo': 'text',\n",
       "              'marker': {'color': 'rgb(255,220,0)'},\n",
       "              'mode': 'lines',\n",
       "              'type': 'scatter',\n",
       "              'x': {'bdata': 'AAAAAAAAAAC/mQXcG7/oP7+ZBdwbv+g/xTqrUDZO5j8=', 'dtype': 'f8'},\n",
       "              'xaxis': 'x',\n",
       "              'y': {'bdata': 'AAAAAADIjsAAAAAAAMiOwAAAAAAAfI/AAAAAAAB8j8A=', 'dtype': 'f8'},\n",
       "              'yaxis': 'y'},\n",
       "             {'hoverinfo': 'text',\n",
       "              'marker': {'color': 'rgb(0,116,217)'},\n",
       "              'mode': 'lines',\n",
       "              'type': 'scatter',\n",
       "              'x': {'bdata': 'OOzFgTv37D9T0y4ZXEbwP1PTLhlcRvA/v5kF3Bu/6D8=', 'dtype': 'f8'},\n",
       "              'xaxis': 'x',\n",
       "              'y': {'bdata': 'AAAAAMCbjMAAAAAAwJuMwAAAAAAAIo/AAAAAAAAij8A=', 'dtype': 'f8'},\n",
       "              'yaxis': 'y'},\n",
       "             {'hoverinfo': 'text',\n",
       "              'marker': {'color': 'rgb(0,116,217)'},\n",
       "              'mode': 'lines',\n",
       "              'type': 'scatter',\n",
       "              'x': {'bdata': 'L/IgKudJ7T8mZSoE9rHwPyZlKgT2sfA/U9MuGVxG8D8=', 'dtype': 'f8'},\n",
       "              'xaxis': 'x',\n",
       "              'y': {'bdata': 'AAAAAABaicAAAAAAAFqJwAAAAADg3o3AAAAAAODejcA=', 'dtype': 'f8'},\n",
       "              'yaxis': 'y'},\n",
       "             {'hoverinfo': 'text',\n",
       "              'marker': {'color': 'rgb(40,35,35)'},\n",
       "              'mode': 'lines',\n",
       "              'type': 'scatter',\n",
       "              'x': {'bdata': 'AAAAAAAAAACMvKiw19DaP4y8qLDX0No/AAAAAAAAAAA=', 'dtype': 'f8'},\n",
       "              'xaxis': 'x',\n",
       "              'y': {'bdata': 'AAAAAAAskMAAAAAAACyQwAAAAAAAVJDAAAAAAABUkMA=', 'dtype': 'f8'},\n",
       "              'yaxis': 'y'},\n",
       "             {'hoverinfo': 'text',\n",
       "              'marker': {'color': 'rgb(40,35,35)'},\n",
       "              'mode': 'lines',\n",
       "              'type': 'scatter',\n",
       "              'x': {'bdata': 'AAAAAAAAAAA1Jt1RpVPhPzUm3VGlU+E/jLyosNfQ2j8=', 'dtype': 'f8'},\n",
       "              'xaxis': 'x',\n",
       "              'y': {'bdata': 'AAAAAAAEkMAAAAAAAASQwAAAAAAAQJDAAAAAAABAkMA=', 'dtype': 'f8'},\n",
       "              'yaxis': 'y'},\n",
       "             {'hoverinfo': 'text',\n",
       "              'marker': {'color': 'rgb(40,35,35)'},\n",
       "              'mode': 'lines',\n",
       "              'type': 'scatter',\n",
       "              'x': {'bdata': 'NSbdUaVT4T8rBycWRQ/jPysHJxZFD+M/AAAAAAAAAAA=', 'dtype': 'f8'},\n",
       "              'xaxis': 'x',\n",
       "              'y': {'bdata': 'AAAAAAAikMAAAAAAACKQwAAAAAAAfJDAAAAAAAB8kMA=', 'dtype': 'f8'},\n",
       "              'yaxis': 'y'},\n",
       "             {'hoverinfo': 'text',\n",
       "              'marker': {'color': 'rgb(0,116,217)'},\n",
       "              'mode': 'lines',\n",
       "              'type': 'scatter',\n",
       "              'x': {'bdata': 'JmUqBPax8D/ogjyl6E7xP+iCPKXoTvE/KwcnFkUP4z8=', 'dtype': 'f8'},\n",
       "              'xaxis': 'x',\n",
       "              'y': {'bdata': 'AAAAAHCci8AAAAAAcJyLwAAAAAAAT5DAAAAAAABPkMA=', 'dtype': 'f8'},\n",
       "              'yaxis': 'y'},\n",
       "             {'hoverinfo': 'text',\n",
       "              'marker': {'color': 'rgb(61,153,112)'},\n",
       "              'mode': 'lines',\n",
       "              'type': 'scatter',\n",
       "              'x': {'bdata': 'AAAAAAAAAAC2v8gK9sjfP7a/yAr2yN8/AAAAAAAAAAA=', 'dtype': 'f8'},\n",
       "              'xaxis': 'x',\n",
       "              'y': {'bdata': 'AAAAAABEkcAAAAAAAESRwAAAAAAAbJHAAAAAAABskcA=', 'dtype': 'f8'},\n",
       "              'yaxis': 'y'},\n",
       "             {'hoverinfo': 'text',\n",
       "              'marker': {'color': 'rgb(61,153,112)'},\n",
       "              'mode': 'lines',\n",
       "              'type': 'scatter',\n",
       "              'x': {'bdata': 'tr/ICvbI3z+XECZTKo3iP5cQJlMqjeI/AAAAAAAAAAA=', 'dtype': 'f8'},\n",
       "              'xaxis': 'x',\n",
       "              'y': {'bdata': 'AAAAAABYkcAAAAAAAFiRwAAAAAAAlJHAAAAAAACUkcA=', 'dtype': 'f8'},\n",
       "              'yaxis': 'y'},\n",
       "             {'hoverinfo': 'text',\n",
       "              'marker': {'color': 'rgb(61,153,112)'},\n",
       "              'mode': 'lines',\n",
       "              'type': 'scatter',\n",
       "              'x': {'bdata': 'AAAAAAAAAAC5GgV8TS3kP7kaBXxNLeQ/lxAmUyqN4j8=', 'dtype': 'f8'},\n",
       "              'xaxis': 'x',\n",
       "              'y': {'bdata': 'AAAAAAAckcAAAAAAAByRwAAAAAAAdpHAAAAAAAB2kcA=', 'dtype': 'f8'},\n",
       "              'yaxis': 'y'},\n",
       "             {'hoverinfo': 'text',\n",
       "              'marker': {'color': 'rgb(61,153,112)'},\n",
       "              'mode': 'lines',\n",
       "              'type': 'scatter',\n",
       "              'x': {'bdata': 'uRoFfE0t5D8gRFUOyKDlPyBEVQ7IoOU/AAAAAAAAAAA=', 'dtype': 'f8'},\n",
       "              'xaxis': 'x',\n",
       "              'y': {'bdata': 'AAAAAABJkcAAAAAAAEmRwAAAAAAAvJHAAAAAAAC8kcA=', 'dtype': 'f8'},\n",
       "              'yaxis': 'y'},\n",
       "             {'hoverinfo': 'text',\n",
       "              'marker': {'color': 'rgb(61,153,112)'},\n",
       "              'mode': 'lines',\n",
       "              'type': 'scatter',\n",
       "              'x': {'bdata': 'AAAAAAAAAACqj/OCuDHnP6qP84K4Mec/IERVDsig5T8=', 'dtype': 'f8'},\n",
       "              'xaxis': 'x',\n",
       "              'y': {'bdata': 'AAAAAAD0kMAAAAAAAPSQwAAAAACAgpHAAAAAAICCkcA=', 'dtype': 'f8'},\n",
       "              'yaxis': 'y'},\n",
       "             {'hoverinfo': 'text',\n",
       "              'marker': {'color': 'rgb(61,153,112)'},\n",
       "              'mode': 'lines',\n",
       "              'type': 'scatter',\n",
       "              'x': {'bdata': 'qo/zgrgx5z9tCqGaa5/nP20KoZprn+c/AAAAAAAAAAA=', 'dtype': 'f8'},\n",
       "              'xaxis': 'x',\n",
       "              'y': {'bdata': 'AAAAAEA7kcAAAAAAQDuRwAAAAAAA5JHAAAAAAADkkcA=', 'dtype': 'f8'},\n",
       "              'yaxis': 'y'},\n",
       "             {'hoverinfo': 'text',\n",
       "              'marker': {'color': 'rgb(61,153,112)'},\n",
       "              'mode': 'lines',\n",
       "              'type': 'scatter',\n",
       "              'x': {'bdata': 'AAAAAAAAAADB0OxEsSXoP8HQ7ESxJeg/bQqhmmuf5z8=', 'dtype': 'f8'},\n",
       "              'xaxis': 'x',\n",
       "              'y': {'bdata': 'AAAAAADMkMAAAAAAAMyQwAAAAACgj5HAAAAAAKCPkcA=', 'dtype': 'f8'},\n",
       "              'yaxis': 'y'},\n",
       "             {'hoverinfo': 'text',\n",
       "              'marker': {'color': 'rgb(61,153,112)'},\n",
       "              'mode': 'lines',\n",
       "              'type': 'scatter',\n",
       "              'x': {'bdata': 'wdDsRLEl6D9yDmvTvNboP3IOa9O81ug/AAAAAAAAAAA=', 'dtype': 'f8'},\n",
       "              'xaxis': 'x',\n",
       "              'y': {'bdata': 'AAAAANAtkcAAAAAA0C2RwAAAAAAADJLAAAAAAAAMksA=', 'dtype': 'f8'},\n",
       "              'yaxis': 'y'},\n",
       "             {'hoverinfo': 'text',\n",
       "              'marker': {'color': 'rgb(61,153,112)'},\n",
       "              'mode': 'lines',\n",
       "              'type': 'scatter',\n",
       "              'x': {'bdata': 'AAAAAAAAAAD9Wyh6i1frP/1bKHqLV+s/cg5r07zW6D8=', 'dtype': 'f8'},\n",
       "              'xaxis': 'x',\n",
       "              'y': {'bdata': 'AAAAAACkkMAAAAAAAKSQwAAAAADonJHAAAAAAOickcA=', 'dtype': 'f8'},\n",
       "              'yaxis': 'y'},\n",
       "             {'hoverinfo': 'text',\n",
       "              'marker': {'color': 'rgb(61,153,112)'},\n",
       "              'mode': 'lines',\n",
       "              'type': 'scatter',\n",
       "              'x': {'bdata': 'AAAAAAAAAACkyKuOnyTlP6TIq46fJOU/AAAAAAAAAAA=', 'dtype': 'f8'},\n",
       "              'xaxis': 'x',\n",
       "              'y': {'bdata': 'AAAAAABcksAAAAAAAFySwAAAAAAAhJLAAAAAAACEksA=', 'dtype': 'f8'},\n",
       "              'yaxis': 'y'},\n",
       "             {'hoverinfo': 'text',\n",
       "              'marker': {'color': 'rgb(61,153,112)'},\n",
       "              'mode': 'lines',\n",
       "              'type': 'scatter',\n",
       "              'x': {'bdata': 'AAAAAAAAAAADlXp4jRboPwOVeniNFug/pMirjp8k5T8=', 'dtype': 'f8'},\n",
       "              'xaxis': 'x',\n",
       "              'y': {'bdata': 'AAAAAAA0ksAAAAAAADSSwAAAAAAAcJLAAAAAAABwksA=', 'dtype': 'f8'},\n",
       "              'yaxis': 'y'},\n",
       "             {'hoverinfo': 'text',\n",
       "              'marker': {'color': 'rgb(61,153,112)'},\n",
       "              'mode': 'lines',\n",
       "              'type': 'scatter',\n",
       "              'x': {'bdata': 'AAAAAAAAAACSubRUaK7gP5K5tFRoruA/AAAAAAAAAAA=', 'dtype': 'f8'},\n",
       "              'xaxis': 'x',\n",
       "              'y': {'bdata': 'AAAAAACsksAAAAAAAKySwAAAAAAA1JLAAAAAAADUksA=', 'dtype': 'f8'},\n",
       "              'yaxis': 'y'},\n",
       "             {'hoverinfo': 'text',\n",
       "              'marker': {'color': 'rgb(61,153,112)'},\n",
       "              'mode': 'lines',\n",
       "              'type': 'scatter',\n",
       "              'x': {'bdata': 'krm0VGiu4D8nOsb3AKzkPyc6xvcArOQ/AAAAAAAAAAA=', 'dtype': 'f8'},\n",
       "              'xaxis': 'x',\n",
       "              'y': {'bdata': 'AAAAAADAksAAAAAAAMCSwAAAAAAA/JLAAAAAAAD8ksA=', 'dtype': 'f8'},\n",
       "              'yaxis': 'y'},\n",
       "             {'hoverinfo': 'text',\n",
       "              'marker': {'color': 'rgb(61,153,112)'},\n",
       "              'mode': 'lines',\n",
       "              'type': 'scatter',\n",
       "              'x': {'bdata': 'AAAAAAAAAAA22vtVZVLlPzba+1VlUuU/AAAAAAAAAAA=', 'dtype': 'f8'},\n",
       "              'xaxis': 'x',\n",
       "              'y': {'bdata': 'AAAAAAAkk8AAAAAAACSTwAAAAAAATJPAAAAAAABMk8A=', 'dtype': 'f8'},\n",
       "              'yaxis': 'y'},\n",
       "             {'hoverinfo': 'text',\n",
       "              'marker': {'color': 'rgb(61,153,112)'},\n",
       "              'mode': 'lines',\n",
       "              'type': 'scatter',\n",
       "              'x': {'bdata': 'JzrG9wCs5D//Atkz8oXnP/8C2TPyhec/Ntr7VWVS5T8=', 'dtype': 'f8'},\n",
       "              'xaxis': 'x',\n",
       "              'y': {'bdata': 'AAAAAADeksAAAAAAAN6SwAAAAAAAOJPAAAAAAAA4k8A=', 'dtype': 'f8'},\n",
       "              'yaxis': 'y'},\n",
       "             {'hoverinfo': 'text',\n",
       "              'marker': {'color': 'rgb(61,153,112)'},\n",
       "              'mode': 'lines',\n",
       "              'type': 'scatter',\n",
       "              'x': {'bdata': 'A5V6eI0W6D+fNi6GRDXqP582LoZENeo//wLZM/KF5z8=', 'dtype': 'f8'},\n",
       "              'xaxis': 'x',\n",
       "              'y': {'bdata': 'AAAAAABSksAAAAAAAFKSwAAAAAAAC5PAAAAAAAALk8A=', 'dtype': 'f8'},\n",
       "              'yaxis': 'y'},\n",
       "             {'hoverinfo': 'text',\n",
       "              'marker': {'color': 'rgb(61,153,112)'},\n",
       "              'mode': 'lines',\n",
       "              'type': 'scatter',\n",
       "              'x': {'bdata': 'AAAAAAAAAAApR8cfWWjoPylHxx9ZaOg/AAAAAAAAAAA=', 'dtype': 'f8'},\n",
       "              'xaxis': 'x',\n",
       "              'y': {'bdata': 'AAAAAAB0k8AAAAAAAHSTwAAAAAAAnJPAAAAAAACck8A=', 'dtype': 'f8'},\n",
       "              'yaxis': 'y'},\n",
       "             {'hoverinfo': 'text',\n",
       "              'marker': {'color': 'rgb(61,153,112)'},\n",
       "              'mode': 'lines',\n",
       "              'type': 'scatter',\n",
       "              'x': {'bdata': 'KUfHH1lo6D8AWo+sJHLpPwBaj6wkcuk/AAAAAAAAAAA=', 'dtype': 'f8'},\n",
       "              'xaxis': 'x',\n",
       "              'y': {'bdata': 'AAAAAACIk8AAAAAAAIiTwAAAAAAAxJPAAAAAAADEk8A=', 'dtype': 'f8'},\n",
       "              'yaxis': 'y'},\n",
       "             {'hoverinfo': 'text',\n",
       "              'marker': {'color': 'rgb(61,153,112)'},\n",
       "              'mode': 'lines',\n",
       "              'type': 'scatter',\n",
       "              'x': {'bdata': 'nzYuhkQ16j/8R1e5A+vqP/xHV7kD6+o/AFqPrCRy6T8=', 'dtype': 'f8'},\n",
       "              'xaxis': 'x',\n",
       "              'y': {'bdata': 'AAAAAICuksAAAAAAgK6SwAAAAAAAppPAAAAAAACmk8A=', 'dtype': 'f8'},\n",
       "              'yaxis': 'y'},\n",
       "             {'hoverinfo': 'text',\n",
       "              'marker': {'color': 'rgb(61,153,112)'},\n",
       "              'mode': 'lines',\n",
       "              'type': 'scatter',\n",
       "              'x': {'bdata': '/VsoeotX6z+Z7xhEhJHsP5nvGESEkew//EdXuQPr6j8=', 'dtype': 'f8'},\n",
       "              'xaxis': 'x',\n",
       "              'y': {'bdata': 'AAAAAHQgkcAAAAAAdCCRwAAAAABAKpPAAAAAAEAqk8A=', 'dtype': 'f8'},\n",
       "              'yaxis': 'y'},\n",
       "             {'hoverinfo': 'text',\n",
       "              'marker': {'color': 'rgb(61,153,112)'},\n",
       "              'mode': 'lines',\n",
       "              'type': 'scatter',\n",
       "              'x': {'bdata': 'AAAAAAAAAAAweLDo/CzjPzB4sOj8LOM/AAAAAAAAAAA=', 'dtype': 'f8'},\n",
       "              'xaxis': 'x',\n",
       "              'y': {'bdata': 'AAAAAADsk8AAAAAAAOyTwAAAAAAAFJTAAAAAAAAUlMA=', 'dtype': 'f8'},\n",
       "              'yaxis': 'y'},\n",
       "             {'hoverinfo': 'text',\n",
       "              'marker': {'color': 'rgb(61,153,112)'},\n",
       "              'mode': 'lines',\n",
       "              'type': 'scatter',\n",
       "              'x': {'bdata': 'me8YRISR7D8xlxXaltTtPzGXFdqW1O0/MHiw6Pws4z8=', 'dtype': 'f8'},\n",
       "              'xaxis': 'x',\n",
       "              'y': {'bdata': 'AAAAAFolksAAAAAAWiWSwAAAAAAAAJTAAAAAAAAAlMA=', 'dtype': 'f8'},\n",
       "              'yaxis': 'y'},\n",
       "             {'hoverinfo': 'text',\n",
       "              'marker': {'color': 'rgb(61,153,112)'},\n",
       "              'mode': 'lines',\n",
       "              'type': 'scatter',\n",
       "              'x': {'bdata': 'AAAAAAAAAAArITuIq33lPyshO4irfeU/AAAAAAAAAAA=', 'dtype': 'f8'},\n",
       "              'xaxis': 'x',\n",
       "              'y': {'bdata': 'AAAAAAA8lMAAAAAAADyUwAAAAAAAZJTAAAAAAABklMA=', 'dtype': 'f8'},\n",
       "              'yaxis': 'y'},\n",
       "             {'hoverinfo': 'text',\n",
       "              'marker': {'color': 'rgb(61,153,112)'},\n",
       "              'mode': 'lines',\n",
       "              'type': 'scatter',\n",
       "              'x': {'bdata': 'AAAAAAAAAABCvQcR5qfmP0K9BxHmp+Y/AAAAAAAAAAA=', 'dtype': 'f8'},\n",
       "              'xaxis': 'x',\n",
       "              'y': {'bdata': 'AAAAAACMlMAAAAAAAIyUwAAAAAAAtJTAAAAAAAC0lMA=', 'dtype': 'f8'},\n",
       "              'yaxis': 'y'},\n",
       "             {'hoverinfo': 'text',\n",
       "              'marker': {'color': 'rgb(61,153,112)'},\n",
       "              'mode': 'lines',\n",
       "              'type': 'scatter',\n",
       "              'x': {'bdata': 'AAAAAAAAAAAxLCFKQUDiPzEsIUpBQOI/AAAAAAAAAAA=', 'dtype': 'f8'},\n",
       "              'xaxis': 'x',\n",
       "              'y': {'bdata': 'AAAAAAAElcAAAAAAAASVwAAAAAAALJXAAAAAAAAslcA=', 'dtype': 'f8'},\n",
       "              'yaxis': 'y'},\n",
       "             {'hoverinfo': 'text',\n",
       "              'marker': {'color': 'rgb(61,153,112)'},\n",
       "              'mode': 'lines',\n",
       "              'type': 'scatter',\n",
       "              'x': {'bdata': 'AAAAAAAAAACvdQ7C0nDmP691DsLScOY/MSwhSkFA4j8=', 'dtype': 'f8'},\n",
       "              'xaxis': 'x',\n",
       "              'y': {'bdata': 'AAAAAADclMAAAAAAANyUwAAAAAAAGJXAAAAAAAAYlcA=', 'dtype': 'f8'},\n",
       "              'yaxis': 'y'},\n",
       "             {'hoverinfo': 'text',\n",
       "              'marker': {'color': 'rgb(61,153,112)'},\n",
       "              'mode': 'lines',\n",
       "              'type': 'scatter',\n",
       "              'x': {'bdata': 'r3UOwtJw5j9tbsUvDU7oP21uxS8NTug/AAAAAAAAAAA=', 'dtype': 'f8'},\n",
       "              'xaxis': 'x',\n",
       "              'y': {'bdata': 'AAAAAAD6lMAAAAAAAPqUwAAAAAAAVJXAAAAAAABUlcA=', 'dtype': 'f8'},\n",
       "              'yaxis': 'y'},\n",
       "             {'hoverinfo': 'text',\n",
       "              'marker': {'color': 'rgb(61,153,112)'},\n",
       "              'mode': 'lines',\n",
       "              'type': 'scatter',\n",
       "              'x': {'bdata': 'Qr0HEean5j+mg9p7eQ3qP6aD2nt5Deo/bW7FLw1O6D8=', 'dtype': 'f8'},\n",
       "              'xaxis': 'x',\n",
       "              'y': {'bdata': 'AAAAAACglMAAAAAAAKCUwAAAAAAAJ5XAAAAAAAAnlcA=', 'dtype': 'f8'},\n",
       "              'yaxis': 'y'},\n",
       "             {'hoverinfo': 'text',\n",
       "              'marker': {'color': 'rgb(61,153,112)'},\n",
       "              'mode': 'lines',\n",
       "              'type': 'scatter',\n",
       "              'x': {'bdata': 'poPae3kN6j+p8ZbsUfTrP6nxluxR9Os/AAAAAAAAAAA=', 'dtype': 'f8'},\n",
       "              'xaxis': 'x',\n",
       "              'y': {'bdata': 'AAAAAIDjlMAAAAAAgOOUwAAAAAAAfJXAAAAAAAB8lcA=', 'dtype': 'f8'},\n",
       "              'yaxis': 'y'},\n",
       "             {'hoverinfo': 'text',\n",
       "              'marker': {'color': 'rgb(61,153,112)'},\n",
       "              'mode': 'lines',\n",
       "              'type': 'scatter',\n",
       "              'x': {'bdata': 'KyE7iKt95T9nF7v/gybuP2cXu/+DJu4/qfGW7FH06z8=', 'dtype': 'f8'},\n",
       "              'xaxis': 'x',\n",
       "              'y': {'bdata': 'AAAAAABQlMAAAAAAAFCUwAAAAADAL5XAAAAAAMAvlcA=', 'dtype': 'f8'},\n",
       "              'yaxis': 'y'},\n",
       "             {'hoverinfo': 'text',\n",
       "              'marker': {'color': 'rgb(61,153,112)'},\n",
       "              'mode': 'lines',\n",
       "              'type': 'scatter',\n",
       "              'x': {'bdata': 'MZcV2pbU7T+qzmSKzT3vP6rOZIrNPe8/Zxe7/4Mm7j8=', 'dtype': 'f8'},\n",
       "              'xaxis': 'x',\n",
       "              'y': {'bdata': 'AAAAAK0Sk8AAAAAArRKTwAAAAADgv5TAAAAAAOC/lMA=', 'dtype': 'f8'},\n",
       "              'yaxis': 'y'},\n",
       "             {'hoverinfo': 'text',\n",
       "              'marker': {'color': 'rgb(255,65,54)'},\n",
       "              'mode': 'lines',\n",
       "              'type': 'scatter',\n",
       "              'x': {'bdata': 'AAAAAAAAAAAvyRDUPmziPy/JENQ+bOI/AAAAAAAAAAA=', 'dtype': 'f8'},\n",
       "              'xaxis': 'x',\n",
       "              'y': {'bdata': 'AAAAAADMlcAAAAAAAMyVwAAAAAAA9JXAAAAAAAD0lcA=', 'dtype': 'f8'},\n",
       "              'yaxis': 'y'},\n",
       "             {'hoverinfo': 'text',\n",
       "              'marker': {'color': 'rgb(255,65,54)'},\n",
       "              'mode': 'lines',\n",
       "              'type': 'scatter',\n",
       "              'x': {'bdata': 'AAAAAAAAAACWNpoHpJboP5Y2mgeklug/L8kQ1D5s4j8=', 'dtype': 'f8'},\n",
       "              'xaxis': 'x',\n",
       "              'y': {'bdata': 'AAAAAACklcAAAAAAAKSVwAAAAAAA4JXAAAAAAADglcA=', 'dtype': 'f8'},\n",
       "              'yaxis': 'y'},\n",
       "             {'hoverinfo': 'text',\n",
       "              'marker': {'color': 'rgb(255,65,54)'},\n",
       "              'mode': 'lines',\n",
       "              'type': 'scatter',\n",
       "              'x': {'bdata': 'AAAAAAAAAADkw9WwQCzlP+TD1bBALOU/AAAAAAAAAAA=', 'dtype': 'f8'},\n",
       "              'xaxis': 'x',\n",
       "              'y': {'bdata': 'AAAAAAAclsAAAAAAAByWwAAAAAAARJbAAAAAAABElsA=', 'dtype': 'f8'},\n",
       "              'yaxis': 'y'},\n",
       "             {'hoverinfo': 'text',\n",
       "              'marker': {'color': 'rgb(255,65,54)'},\n",
       "              'mode': 'lines',\n",
       "              'type': 'scatter',\n",
       "              'x': {'bdata': 'ljaaB6SW6D9A1dye32brP0DV3J7fZus/5MPVsEAs5T8=', 'dtype': 'f8'},\n",
       "              'xaxis': 'x',\n",
       "              'y': {'bdata': 'AAAAAADClcAAAAAAAMKVwAAAAAAAMJbAAAAAAAAwlsA=', 'dtype': 'f8'},\n",
       "              'yaxis': 'y'},\n",
       "             {'hoverinfo': 'text',\n",
       "              'marker': {'color': 'rgb(255,65,54)'},\n",
       "              'mode': 'lines',\n",
       "              'type': 'scatter',\n",
       "              'x': {'bdata': 'AAAAAAAAAAA+LJwLWVPjPz4snAtZU+M/AAAAAAAAAAA=', 'dtype': 'f8'},\n",
       "              'xaxis': 'x',\n",
       "              'y': {'bdata': 'AAAAAABslsAAAAAAAGyWwAAAAAAAlJbAAAAAAACUlsA=', 'dtype': 'f8'},\n",
       "              'yaxis': 'y'},\n",
       "             {'hoverinfo': 'text',\n",
       "              'marker': {'color': 'rgb(255,65,54)'},\n",
       "              'mode': 'lines',\n",
       "              'type': 'scatter',\n",
       "              'x': {'bdata': 'AAAAAAAAAAA56evIHLrnPznp68gcuuc/AAAAAAAAAAA=', 'dtype': 'f8'},\n",
       "              'xaxis': 'x',\n",
       "              'y': {'bdata': 'AAAAAADklsAAAAAAAOSWwAAAAAAADJfAAAAAAAAMl8A=', 'dtype': 'f8'},\n",
       "              'yaxis': 'y'},\n",
       "             {'hoverinfo': 'text',\n",
       "              'marker': {'color': 'rgb(255,65,54)'},\n",
       "              'mode': 'lines',\n",
       "              'type': 'scatter',\n",
       "              'x': {'bdata': 'AAAAAAAAAAB0ISzttYzpP3QhLO21jOk/OenryBy65z8=', 'dtype': 'f8'},\n",
       "              'xaxis': 'x',\n",
       "              'y': {'bdata': 'AAAAAAC8lsAAAAAAALyWwAAAAAAA+JbAAAAAAAD4lsA=', 'dtype': 'f8'},\n",
       "              'yaxis': 'y'},\n",
       "             {'hoverinfo': 'text',\n",
       "              'marker': {'color': 'rgb(255,65,54)'},\n",
       "              'mode': 'lines',\n",
       "              'type': 'scatter',\n",
       "              'x': {'bdata': 'dCEs7bWM6T9yu7DugvTsP3K7sO6C9Ow/AAAAAAAAAAA=', 'dtype': 'f8'},\n",
       "              'xaxis': 'x',\n",
       "              'y': {'bdata': 'AAAAAADalsAAAAAAANqWwAAAAAAANJfAAAAAAAA0l8A=', 'dtype': 'f8'},\n",
       "              'yaxis': 'y'},\n",
       "             {'hoverinfo': 'text',\n",
       "              'marker': {'color': 'rgb(255,65,54)'},\n",
       "              'mode': 'lines',\n",
       "              'type': 'scatter',\n",
       "              'x': {'bdata': 'PiycC1lT4z9cOsXSDq/tP1w6xdIOr+0/cruw7oL07D8=', 'dtype': 'f8'},\n",
       "              'xaxis': 'x',\n",
       "              'y': {'bdata': 'AAAAAACAlsAAAAAAAICWwAAAAAAAB5fAAAAAAAAHl8A=', 'dtype': 'f8'},\n",
       "              'yaxis': 'y'},\n",
       "             {'hoverinfo': 'text',\n",
       "              'marker': {'color': 'rgb(255,65,54)'},\n",
       "              'mode': 'lines',\n",
       "              'type': 'scatter',\n",
       "              'x': {'bdata': 'QNXcnt9m6z9/eFUGxVTvP394VQbFVO8/XDrF0g6v7T8=', 'dtype': 'f8'},\n",
       "              'xaxis': 'x',\n",
       "              'y': {'bdata': 'AAAAAAD5lcAAAAAAAPmVwAAAAACAw5bAAAAAAIDDlsA=', 'dtype': 'f8'},\n",
       "              'yaxis': 'y'},\n",
       "             {'hoverinfo': 'text',\n",
       "              'marker': {'color': 'rgb(0,116,217)'},\n",
       "              'mode': 'lines',\n",
       "              'type': 'scatter',\n",
       "              'x': {'bdata': 'qs5kis097z+cKNjf+63wP5wo2N/7rfA/f3hVBsVU7z8=', 'dtype': 'f8'},\n",
       "              'xaxis': 'x',\n",
       "              'y': {'bdata': 'AAAAgEbpk8AAAACARumTwAAAAABAXpbAAAAAAEBelsA=', 'dtype': 'f8'},\n",
       "              'yaxis': 'y'},\n",
       "             {'hoverinfo': 'text',\n",
       "              'marker': {'color': 'rgb(0,116,217)'},\n",
       "              'mode': 'lines',\n",
       "              'type': 'scatter',\n",
       "              'x': {'bdata': '6II8pehO8T+/ryJ13JzzP7+vInXcnPM/nCjY3/ut8D8=', 'dtype': 'f8'},\n",
       "              'xaxis': 'x',\n",
       "              'y': {'bdata': 'AAAAADgdjsAAAAAAOB2OwAAAAEDDI5XAAAAAQMMjlcA=', 'dtype': 'f8'},\n",
       "              'yaxis': 'y'},\n",
       "             {'hoverinfo': 'text',\n",
       "              'marker': {'color': 'rgb(0,116,217)'},\n",
       "              'mode': 'lines',\n",
       "              'type': 'scatter',\n",
       "              'x': {'bdata': '0ZityIdD5z/Ro0UJeIP0P9GjRQl4g/Q/v68iddyc8z8=', 'dtype': 'f8'},\n",
       "              'xaxis': 'x',\n",
       "              'y': {'bdata': 'AAAAAADAh8AAAAAAAMCHwAAAAKAvGZLAAAAAoC8ZksA=', 'dtype': 'f8'},\n",
       "              'yaxis': 'y'},\n",
       "             {'hoverinfo': 'text',\n",
       "              'marker': {'color': 'rgb(0,116,217)'},\n",
       "              'mode': 'lines',\n",
       "              'type': 'scatter',\n",
       "              'x': {'bdata': 'iDNqHSSW7T/6dlIwG7z0P/p2UjAbvPQ/0aNFCXiD9D8=', 'dtype': 'f8'},\n",
       "              'xaxis': 'x',\n",
       "              'y': {'bdata': 'AAAAAACQhcAAAAAAAJCFwAAAAKAv+Y3AAAAAoC/5jcA=', 'dtype': 'f8'},\n",
       "              'yaxis': 'y'},\n",
       "             {'hoverinfo': 'text',\n",
       "              'marker': {'color': 'rgb(0,116,217)'},\n",
       "              'mode': 'lines',\n",
       "              'type': 'scatter',\n",
       "              'x': {'bdata': 'hONKbsgf8z9/43dQBbf3P3/jd1AFt/c/+nZSMBu89D8=', 'dtype': 'f8'},\n",
       "              'xaxis': 'x',\n",
       "              'y': {'bdata': 'AAAAAECfgcAAAAAAQJ+BwAAAANCXxInAAAAA0JfEicA=', 'dtype': 'f8'},\n",
       "              'yaxis': 'y'},\n",
       "             {'hoverinfo': 'text',\n",
       "              'marker': {'color': 'rgb(0,116,217)'},\n",
       "              'mode': 'lines',\n",
       "              'type': 'scatter',\n",
       "              'x': {'bdata': 'yBGQtmNs9j9BiGSVkHr5P0GIZJWQevk/f+N3UAW39z8=', 'dtype': 'f8'},\n",
       "              'xaxis': 'x',\n",
       "              'y': {'bdata': 'AAAAANDEasAAAAAA0MRqwAAAAOjrsYXAAAAA6OuxhcA=', 'dtype': 'f8'},\n",
       "              'yaxis': 'y'}],\n",
       "    'layout': {'autosize': False,\n",
       "               'height': 2435,\n",
       "               'hoverlabel': {'bgcolor': 'white', 'font': {'family': 'Rockwell', 'size': 16}},\n",
       "               'hovermode': 'closest',\n",
       "               'plot_bgcolor': '#ECEFF1',\n",
       "               'showlegend': False,\n",
       "               'template': '...',\n",
       "               'title': {'font': {'color': 'Black', 'size': 22},\n",
       "                         'text': '<b>Hierarchical Clustering</b>',\n",
       "                         'x': 0.5,\n",
       "                         'xanchor': 'center',\n",
       "                         'yanchor': 'top'},\n",
       "               'width': 1000,\n",
       "               'xaxis': {'mirror': 'allticks',\n",
       "                         'rangemode': 'tozero',\n",
       "                         'showgrid': False,\n",
       "                         'showline': True,\n",
       "                         'showticklabels': True,\n",
       "                         'ticks': 'outside',\n",
       "                         'type': 'linear',\n",
       "                         'zeroline': False},\n",
       "               'yaxis': {'mirror': 'allticks',\n",
       "                         'range': [-1490.0, 0.0],\n",
       "                         'rangemode': 'tozero',\n",
       "                         'showgrid': False,\n",
       "                         'showline': True,\n",
       "                         'showticklabels': True,\n",
       "                         'tickmode': 'array',\n",
       "                         'ticks': 'outside',\n",
       "                         'ticktext': [112_math_mwp_mathematical,\n",
       "                                      115_math_mathematical_reaso...,\n",
       "                                      62_cot_reasoning_thought,\n",
       "                                      24_commonsense_knowledge_re...,\n",
       "                                      69_editing_knowledge_factual,\n",
       "                                      90_continual_forgetting_cat...,\n",
       "                                      21_tuning_fine_lora, 84_masking_masked_mlm,\n",
       "                                      37_attention_transformer_tr...,\n",
       "                                      97_pruning_compression_spar...,\n",
       "                                      76_distillation_teacher_stu...,\n",
       "                                      58_icl_context_demonstrations,\n",
       "                                      34_prompt_shot_tuning,\n",
       "                                      148_prompt_prompts_optimiza...,\n",
       "                                      61_instruction_instructions...,\n",
       "                                      63_preference_feedback_reward,\n",
       "                                      99_calibration_uncertainty_...,\n",
       "                                      17_explanations_explanation...,\n",
       "                                      101_nlp_reproducibility_cro...,\n",
       "                                      78_llms_evaluation_chinese,\n",
       "                                      9_agents_agent_game,\n",
       "                                      65_generated_detectors_dete...,\n",
       "                                      12_generation_text_control,\n",
       "                                      60_hallucination_hallucinat...,\n",
       "                                      22_adversarial_attacks_attack,\n",
       "                                      48_safety_attacks_attack,\n",
       "                                      71_privacy_private_dp,\n",
       "                                      136_act_dialog_dialogue,\n",
       "                                      53_dialogue_dialog_policy,\n",
       "                                      49_dst_dialogue_tracking,\n",
       "                                      70_metrics_evaluation_nlg,\n",
       "                                      91_dialogue_evaluation_metr...,\n",
       "                                      87_knowledge_grounded_dialo...,\n",
       "                                      66_response_responses_dialo...,\n",
       "                                      88_persona_personas_persona...,\n",
       "                                      3_summarization_summaries_s...,\n",
       "                                      85_meeting_summarization_di...,\n",
       "                                      0_question_questions_answer,\n",
       "                                      94_vqa_visual_question,\n",
       "                                      106_visual_dialog_image,\n",
       "                                      10_image_visual_vision,\n",
       "                                      116_mmt_multimodal_visual,\n",
       "                                      140_propaganda_techniques_n...,\n",
       "                                      32_fake_news_detection,\n",
       "                                      52_stance_detection_rumor,\n",
       "                                      33_fact_checking_claim,\n",
       "                                      122_crisis_disaster_disasters,\n",
       "                                      75_covid_19_pandemic,\n",
       "                                      119_health_media_tweets,\n",
       "                                      44_mental_depression_health,\n",
       "                                      124_humor_pun_humorous,\n",
       "                                      81_sarcasm_sarcastic_detect...,\n",
       "                                      147_memes_meme_hateful,\n",
       "                                      141_emoji_emojis_emoticons,\n",
       "                                      27_emotion_multimodal_erc,\n",
       "                                      57_emotion_emotions_affective,\n",
       "                                      72_empathetic_empathy_emoti...,\n",
       "                                      38_code_programming_source,\n",
       "                                      107_switching_code_switched,\n",
       "                                      145_mixed_code_sentiment,\n",
       "                                      19_aspect_sentiment_absa,\n",
       "                                      30_sentiment_analysis_polar...,\n",
       "                                      132_arabic_sentiment_analysis,\n",
       "                                      77_arabic_dialectal_dialects,\n",
       "                                      146_dialect_identification_...,\n",
       "                                      93_autoregressive_nat_nar,\n",
       "                                      16_translation_mt_qe,\n",
       "                                      7_translation_nmt_machine,\n",
       "                                      121_context_document_transl...,\n",
       "                                      100_alignment_parallel_pairs,\n",
       "                                      74_lingual_cross_bilingual,\n",
       "                                      55_lingual_cross_transfer,\n",
       "                                      117_african_languages_pidgin,\n",
       "                                      133_ea_alignment_entity,\n",
       "                                      25_knowledge_graph_kg,\n",
       "                                      6_relation_extraction_relat...,\n",
       "                                      8_ner_entity_named,\n",
       "                                      42_entity_linking_entities,\n",
       "                                      144_typing_entity_type,\n",
       "                                      50_gec_correction_grammatical,\n",
       "                                      82_spelling_csc_correction,\n",
       "                                      110_segmentation_cws_chinese,\n",
       "                                      131_sequence_labeling_tagging,\n",
       "                                      123_pos_tagging_tagger, 39_sense_wsd_senses,\n",
       "                                      73_change_semantic_time,\n",
       "                                      15_law_zipf_frequency,\n",
       "                                      31_authorship_author_attrib...,\n",
       "                                      130_cognate_phylogenetic_co...,\n",
       "                                      83_morphological_inflection...,\n",
       "                                      118_annotation_tools_formats,\n",
       "                                      95_grammars_grammar_algorithm,\n",
       "                                      45_semantics_distributional...,\n",
       "                                      96_compositional_generaliza...,\n",
       "                                      46_nli_entailment_inference,\n",
       "                                      41_rnns_recurrent_lstm, 64_brain_reading_eye,\n",
       "                                      113_probing_probe_linguistic,\n",
       "                                      40_sql_queries_spider,\n",
       "                                      11_parsing_dependency_parser,\n",
       "                                      67_parsing_semantic_parser,\n",
       "                                      86_amr_meaning_smatch,\n",
       "                                      143_similarity_sts_semantic,\n",
       "                                      137_sentence_sts_embeddings,\n",
       "                                      18_word_embeddings_embedding,\n",
       "                                      128_contrastive_sentence_si...,\n",
       "                                      138_job_resume_skills, 13_legal_court_law,\n",
       "                                      135_materials_chemical_mole...,\n",
       "                                      92_layout_document_documents,\n",
       "                                      20_classification_label_lab...,\n",
       "                                      2_medical_clinical_biomedical,\n",
       "                                      43_citation_scientific_papers,\n",
       "                                      23_topic_topics_lda,\n",
       "                                      103_taxonomy_taxonomies_hyp...,\n",
       "                                      79_keyphrase_keyphrases_ext...,\n",
       "                                      89_metaphor_figurative_idio...,\n",
       "                                      56_paraphrase_paraphrases_p...,\n",
       "                                      28_simplification_readabili...,\n",
       "                                      4_hate_offensive_speech,\n",
       "                                      1_speech_asr_recognition,\n",
       "                                      14_intent_slot_intents,\n",
       "                                      104_augmentation_data_mixup,\n",
       "                                      125_active_al_learning,\n",
       "                                      80_radiology_reports_report,\n",
       "                                      120_dementia_ad_alzheimer,\n",
       "                                      108_scoring_essay_aes,\n",
       "                                      111_product_commerce_attrib...,\n",
       "                                      134_reviews_review_product,\n",
       "                                      139_counterfactual_counterf...,\n",
       "                                      114_causal_causality_effect,\n",
       "                                      127_climate_change_esg,\n",
       "                                      47_financial_stock_market,\n",
       "                                      105_geographic_location_geo...,\n",
       "                                      35_political_news_media,\n",
       "                                      5_gender_bias_biases,\n",
       "                                      98_moral_values_ethical,\n",
       "                                      129_personality_traits_llms,\n",
       "                                      29_coreference_resolution_m...,\n",
       "                                      36_event_extraction_events,\n",
       "                                      126_temporal_events_event,\n",
       "                                      26_argument_arguments_argum...,\n",
       "                                      102_srl_role_labeling,\n",
       "                                      54_discourse_rst_relations,\n",
       "                                      142_coherence_discourse_par...,\n",
       "                                      59_story_stories_narrative,\n",
       "                                      68_poetry_lyrics_music,\n",
       "                                      51_style_transfer_content,\n",
       "                                      109_sign_gloss_asl],\n",
       "                         'tickvals': [-5.0, -15.0, -25.0, -35.0, -45.0, -55.0,\n",
       "                                      -65.0, -75.0, -85.0, -95.0, -105.0, -115.0,\n",
       "                                      -125.0, -135.0, -145.0, -155.0, -165.0,\n",
       "                                      -175.0, -185.0, -195.0, -205.0, -215.0,\n",
       "                                      -225.0, -235.0, -245.0, -255.0, -265.0,\n",
       "                                      -275.0, -285.0, -295.0, -305.0, -315.0,\n",
       "                                      -325.0, -335.0, -345.0, -355.0, -365.0,\n",
       "                                      -375.0, -385.0, -395.0, -405.0, -415.0,\n",
       "                                      -425.0, -435.0, -445.0, -455.0, -465.0,\n",
       "                                      -475.0, -485.0, -495.0, -505.0, -515.0,\n",
       "                                      -525.0, -535.0, -545.0, -555.0, -565.0,\n",
       "                                      -575.0, -585.0, -595.0, -605.0, -615.0,\n",
       "                                      -625.0, -635.0, -645.0, -655.0, -665.0,\n",
       "                                      -675.0, -685.0, -695.0, -705.0, -715.0,\n",
       "                                      -725.0, -735.0, -745.0, -755.0, -765.0,\n",
       "                                      -775.0, -785.0, -795.0, -805.0, -815.0,\n",
       "                                      -825.0, -835.0, -845.0, -855.0, -865.0,\n",
       "                                      -875.0, -885.0, -895.0, -905.0, -915.0,\n",
       "                                      -925.0, -935.0, -945.0, -955.0, -965.0,\n",
       "                                      -975.0, -985.0, -995.0, -1005.0, -1015.0,\n",
       "                                      -1025.0, -1035.0, -1045.0, -1055.0, -1065.0,\n",
       "                                      -1075.0, -1085.0, -1095.0, -1105.0, -1115.0,\n",
       "                                      -1125.0, -1135.0, -1145.0, -1155.0, -1165.0,\n",
       "                                      -1175.0, -1185.0, -1195.0, -1205.0, -1215.0,\n",
       "                                      -1225.0, -1235.0, -1245.0, -1255.0, -1265.0,\n",
       "                                      -1275.0, -1285.0, -1295.0, -1305.0, -1315.0,\n",
       "                                      -1325.0, -1335.0, -1345.0, -1355.0, -1365.0,\n",
       "                                      -1375.0, -1385.0, -1395.0, -1405.0, -1415.0,\n",
       "                                      -1425.0, -1435.0, -1445.0, -1455.0, -1465.0,\n",
       "                                      -1475.0, -1485.0],\n",
       "                         'type': 'linear',\n",
       "                         'zeroline': False}}\n",
       "})"
      ]
     },
     "execution_count": 48,
     "metadata": {},
     "output_type": "execute_result"
    }
   ],
   "source": [
    "# Visualize barchart with ranked keywords\n",
    "topic_model.visualize_barchart()\n",
    "\n",
    "# Visualize relationships between topics\n",
    "topic_model.visualize_heatmap(n_clusters=30)\n",
    "\n",
    "# Visualize the potential hierarchical structure of topics\n",
    "topic_model.visualize_hierarchy()"
   ]
  },
  {
   "cell_type": "markdown",
   "id": "25278381",
   "metadata": {},
   "source": [
    "### Representation Models\n",
    "\n",
    "In these examples that follow, we will update our topic representations after having trained our model. This allows for quick iteration. If, however, you want to use a representation model at the start of training, you will need to run it as follows:\n",
    "\n",
    "from bertopic.representation import KeyBERTInspired\n",
    "from bertopic import BERTopic\n",
    "\n",
    "##### Create your representation model\n",
    "representation_model = KeyBERTInspired()\n",
    "\n",
    "##### Use the representation model in BERTopic on top of the default pipeline\n",
    "topic_model = BERTopic(representation_model=representation_model)\n",
    "To use the representation models, we are first going to duplicate our topic model such that easily show the differences between a model with and without representation model."
   ]
  },
  {
   "cell_type": "code",
   "execution_count": 49,
   "id": "d86d3cea",
   "metadata": {},
   "outputs": [],
   "source": [
    "# Save original representations\n",
    "from copy import deepcopy\n",
    "original_topics = deepcopy(topic_model.topic_representations_)"
   ]
  },
  {
   "cell_type": "code",
   "execution_count": 50,
   "id": "cad4f419",
   "metadata": {},
   "outputs": [],
   "source": [
    "def topic_differences(model, original_topics, nr_topics=5):\n",
    "    \"\"\"Show the differences in topic representations between two models \"\"\"\n",
    "    df = pd.DataFrame(columns=[\"Topic\", \"Original\", \"Updated\"])\n",
    "    for topic in range(nr_topics):\n",
    "\n",
    "        # Extract top 5 words per topic per model\n",
    "        og_words = \" | \".join(list(zip(*original_topics[topic]))[0][:5])\n",
    "        new_words = \" | \".join(list(zip(*model.get_topic(topic)))[0][:5])\n",
    "        df.loc[len(df)] = [topic, og_words, new_words]\n",
    "\n",
    "    return df"
   ]
  },
  {
   "cell_type": "markdown",
   "id": "91ac832a",
   "metadata": {},
   "source": [
    "#### KeyBERTInspired"
   ]
  },
  {
   "cell_type": "code",
   "execution_count": 51,
   "id": "4931002d",
   "metadata": {},
   "outputs": [
    {
     "data": {
      "text/html": [
       "<div>\n",
       "<style scoped>\n",
       "    .dataframe tbody tr th:only-of-type {\n",
       "        vertical-align: middle;\n",
       "    }\n",
       "\n",
       "    .dataframe tbody tr th {\n",
       "        vertical-align: top;\n",
       "    }\n",
       "\n",
       "    .dataframe thead th {\n",
       "        text-align: right;\n",
       "    }\n",
       "</style>\n",
       "<table border=\"1\" class=\"dataframe\">\n",
       "  <thead>\n",
       "    <tr style=\"text-align: right;\">\n",
       "      <th></th>\n",
       "      <th>Topic</th>\n",
       "      <th>Original</th>\n",
       "      <th>Updated</th>\n",
       "    </tr>\n",
       "  </thead>\n",
       "  <tbody>\n",
       "    <tr>\n",
       "      <th>0</th>\n",
       "      <td>0</td>\n",
       "      <td>question | questions | answer | qa | answering</td>\n",
       "      <td>answering | questions | comprehension | retrie...</td>\n",
       "    </tr>\n",
       "    <tr>\n",
       "      <th>1</th>\n",
       "      <td>1</td>\n",
       "      <td>speech | asr | recognition | end | acoustic</td>\n",
       "      <td>phonetic | transcription | speech | language |...</td>\n",
       "    </tr>\n",
       "    <tr>\n",
       "      <th>2</th>\n",
       "      <td>2</td>\n",
       "      <td>medical | clinical | biomedical | patient | notes</td>\n",
       "      <td>nlp | clinical | ehr | ehrs | concepts</td>\n",
       "    </tr>\n",
       "    <tr>\n",
       "      <th>3</th>\n",
       "      <td>3</td>\n",
       "      <td>summarization | summaries | summary | abstract...</td>\n",
       "      <td>summarization | summarizers | summaries | summ...</td>\n",
       "    </tr>\n",
       "    <tr>\n",
       "      <th>4</th>\n",
       "      <td>4</td>\n",
       "      <td>hate | offensive | speech | detection | toxic</td>\n",
       "      <td>hate | hateful | language | offensive | languages</td>\n",
       "    </tr>\n",
       "  </tbody>\n",
       "</table>\n",
       "</div>"
      ],
      "text/plain": [
       "   Topic                                           Original  \\\n",
       "0      0     question | questions | answer | qa | answering   \n",
       "1      1        speech | asr | recognition | end | acoustic   \n",
       "2      2  medical | clinical | biomedical | patient | notes   \n",
       "3      3  summarization | summaries | summary | abstract...   \n",
       "4      4      hate | offensive | speech | detection | toxic   \n",
       "\n",
       "                                             Updated  \n",
       "0  answering | questions | comprehension | retrie...  \n",
       "1  phonetic | transcription | speech | language |...  \n",
       "2             nlp | clinical | ehr | ehrs | concepts  \n",
       "3  summarization | summarizers | summaries | summ...  \n",
       "4  hate | hateful | language | offensive | languages  "
      ]
     },
     "execution_count": 51,
     "metadata": {},
     "output_type": "execute_result"
    }
   ],
   "source": [
    "from bertopic.representation import KeyBERTInspired\n",
    "\n",
    "# Update our topic representations using KeyBERTInspired\n",
    "representation_model = KeyBERTInspired()\n",
    "topic_model.update_topics(abstracts, representation_model=representation_model)\n",
    "\n",
    "# Show topic differences\n",
    "topic_differences(topic_model, original_topics)"
   ]
  },
  {
   "cell_type": "markdown",
   "id": "4e58cca7",
   "metadata": {},
   "source": [
    "#### Maximal Marginal Relevance"
   ]
  },
  {
   "cell_type": "code",
   "execution_count": 52,
   "id": "036a7257",
   "metadata": {},
   "outputs": [
    {
     "data": {
      "text/html": [
       "<div>\n",
       "<style scoped>\n",
       "    .dataframe tbody tr th:only-of-type {\n",
       "        vertical-align: middle;\n",
       "    }\n",
       "\n",
       "    .dataframe tbody tr th {\n",
       "        vertical-align: top;\n",
       "    }\n",
       "\n",
       "    .dataframe thead th {\n",
       "        text-align: right;\n",
       "    }\n",
       "</style>\n",
       "<table border=\"1\" class=\"dataframe\">\n",
       "  <thead>\n",
       "    <tr style=\"text-align: right;\">\n",
       "      <th></th>\n",
       "      <th>Topic</th>\n",
       "      <th>Original</th>\n",
       "      <th>Updated</th>\n",
       "    </tr>\n",
       "  </thead>\n",
       "  <tbody>\n",
       "    <tr>\n",
       "      <th>0</th>\n",
       "      <td>0</td>\n",
       "      <td>question | questions | answer | qa | answering</td>\n",
       "      <td>questions | retrieval | comprehension | knowle...</td>\n",
       "    </tr>\n",
       "    <tr>\n",
       "      <th>1</th>\n",
       "      <td>1</td>\n",
       "      <td>speech | asr | recognition | end | acoustic</td>\n",
       "      <td>speech | asr | error | model | automatic</td>\n",
       "    </tr>\n",
       "    <tr>\n",
       "      <th>2</th>\n",
       "      <td>2</td>\n",
       "      <td>medical | clinical | biomedical | patient | notes</td>\n",
       "      <td>clinical | biomedical | patient | extraction |...</td>\n",
       "    </tr>\n",
       "    <tr>\n",
       "      <th>3</th>\n",
       "      <td>3</td>\n",
       "      <td>summarization | summaries | summary | abstract...</td>\n",
       "      <td>summarization | document | extractive | rouge ...</td>\n",
       "    </tr>\n",
       "    <tr>\n",
       "      <th>4</th>\n",
       "      <td>4</td>\n",
       "      <td>hate | offensive | speech | detection | toxic</td>\n",
       "      <td>offensive | toxicity | abusive | comments | ha...</td>\n",
       "    </tr>\n",
       "  </tbody>\n",
       "</table>\n",
       "</div>"
      ],
      "text/plain": [
       "   Topic                                           Original  \\\n",
       "0      0     question | questions | answer | qa | answering   \n",
       "1      1        speech | asr | recognition | end | acoustic   \n",
       "2      2  medical | clinical | biomedical | patient | notes   \n",
       "3      3  summarization | summaries | summary | abstract...   \n",
       "4      4      hate | offensive | speech | detection | toxic   \n",
       "\n",
       "                                             Updated  \n",
       "0  questions | retrieval | comprehension | knowle...  \n",
       "1           speech | asr | error | model | automatic  \n",
       "2  clinical | biomedical | patient | extraction |...  \n",
       "3  summarization | document | extractive | rouge ...  \n",
       "4  offensive | toxicity | abusive | comments | ha...  "
      ]
     },
     "execution_count": 52,
     "metadata": {},
     "output_type": "execute_result"
    }
   ],
   "source": [
    "from bertopic.representation import MaximalMarginalRelevance\n",
    "\n",
    "# Update our topic representations to MaximalMarginalRelevance\n",
    "representation_model = MaximalMarginalRelevance(diversity=0.5)\n",
    "topic_model.update_topics(abstracts, representation_model=representation_model)\n",
    "\n",
    "# Show topic differences\n",
    "topic_differences(topic_model, original_topics)"
   ]
  },
  {
   "cell_type": "markdown",
   "id": "b0dc9ada",
   "metadata": {},
   "source": [
    "#### Text Generation\n",
    "##### Flan-T5"
   ]
  },
  {
   "cell_type": "code",
   "execution_count": 53,
   "id": "79d7ef36",
   "metadata": {},
   "outputs": [
    {
     "name": "stderr",
     "output_type": "stream",
     "text": [
      "100%|██████████| 150/150 [00:38<00:00,  3.89it/s]\n"
     ]
    },
    {
     "data": {
      "text/html": [
       "<div>\n",
       "<style scoped>\n",
       "    .dataframe tbody tr th:only-of-type {\n",
       "        vertical-align: middle;\n",
       "    }\n",
       "\n",
       "    .dataframe tbody tr th {\n",
       "        vertical-align: top;\n",
       "    }\n",
       "\n",
       "    .dataframe thead th {\n",
       "        text-align: right;\n",
       "    }\n",
       "</style>\n",
       "<table border=\"1\" class=\"dataframe\">\n",
       "  <thead>\n",
       "    <tr style=\"text-align: right;\">\n",
       "      <th></th>\n",
       "      <th>Topic</th>\n",
       "      <th>Original</th>\n",
       "      <th>Updated</th>\n",
       "    </tr>\n",
       "  </thead>\n",
       "  <tbody>\n",
       "    <tr>\n",
       "      <th>0</th>\n",
       "      <td>0</td>\n",
       "      <td>question | questions | answer | qa | answering</td>\n",
       "      <td>Question answering |  |  |  |</td>\n",
       "    </tr>\n",
       "    <tr>\n",
       "      <th>1</th>\n",
       "      <td>1</td>\n",
       "      <td>speech | asr | recognition | end | acoustic</td>\n",
       "      <td>Speech-to-speech |  |  |  |</td>\n",
       "    </tr>\n",
       "    <tr>\n",
       "      <th>2</th>\n",
       "      <td>2</td>\n",
       "      <td>medical | clinical | biomedical | patient | notes</td>\n",
       "      <td>Science/Tech |  |  |  |</td>\n",
       "    </tr>\n",
       "    <tr>\n",
       "      <th>3</th>\n",
       "      <td>3</td>\n",
       "      <td>summarization | summaries | summary | abstract...</td>\n",
       "      <td>Abstractive summarization |  |  |  |</td>\n",
       "    </tr>\n",
       "    <tr>\n",
       "      <th>4</th>\n",
       "      <td>4</td>\n",
       "      <td>hate | offensive | speech | detection | toxic</td>\n",
       "      <td>Science/Tech |  |  |  |</td>\n",
       "    </tr>\n",
       "  </tbody>\n",
       "</table>\n",
       "</div>"
      ],
      "text/plain": [
       "   Topic                                           Original  \\\n",
       "0      0     question | questions | answer | qa | answering   \n",
       "1      1        speech | asr | recognition | end | acoustic   \n",
       "2      2  medical | clinical | biomedical | patient | notes   \n",
       "3      3  summarization | summaries | summary | abstract...   \n",
       "4      4      hate | offensive | speech | detection | toxic   \n",
       "\n",
       "                                 Updated  \n",
       "0         Question answering |  |  |  |   \n",
       "1           Speech-to-speech |  |  |  |   \n",
       "2               Science/Tech |  |  |  |   \n",
       "3  Abstractive summarization |  |  |  |   \n",
       "4               Science/Tech |  |  |  |   "
      ]
     },
     "execution_count": 53,
     "metadata": {},
     "output_type": "execute_result"
    }
   ],
   "source": [
    "from transformers import pipeline\n",
    "from bertopic.representation import TextGeneration\n",
    "\n",
    "prompt = \"\"\"I have a topic that contains the following documents:\n",
    "[DOCUMENTS]\n",
    "\n",
    "The topic is described by the following keywords: '[KEYWORDS]'.\n",
    "\n",
    "Based on the documents and keywords, what is this topic about?\"\"\"\n",
    "\n",
    "# Update our topic representations using Flan-T5\n",
    "generator = pipeline('text2text-generation', model='google/flan-t5-small')\n",
    "representation_model = TextGeneration(\n",
    "    generator, prompt=prompt, doc_length=50, tokenizer=\"whitespace\"\n",
    ")\n",
    "topic_model.update_topics(abstracts, representation_model=representation_model)\n",
    "\n",
    "# Show topic differences\n",
    "topic_differences(topic_model, original_topics)"
   ]
  },
  {
   "cell_type": "markdown",
   "id": "4f69701a",
   "metadata": {},
   "source": [
    "#### OpenAI"
   ]
  },
  {
   "cell_type": "markdown",
   "id": "f457c545",
   "metadata": {},
   "source": [
    "import openai\n",
    "from bertopic.representation import OpenAI\n",
    "\n",
    "prompt = \"\"\"\n",
    "I have a topic that contains the following documents:\n",
    "[DOCUMENTS]\n",
    "\n",
    "The topic is described by the following keywords: [KEYWORDS]\n",
    "\n",
    "Based on the information above, extract a short topic label in the following format:\n",
    "topic: <short topic label>\n",
    "\"\"\"\n",
    "\n",
    "# Update our topic representations using GPT-3.5\n",
    "client = openai.OpenAI(api_key=\"YOUR_KEY_HERE\")\n",
    "representation_model = OpenAI(\n",
    "    client, model=\"gpt-3.5-turbo\", exponential_backoff=True, chat=True, prompt=prompt\n",
    ")\n",
    "topic_model.update_topics(abstracts, representation_model=representation_model)\n",
    "\n",
    "# Show topic differences\n",
    "topic_differences(topic_model, original_topics)"
   ]
  },
  {
   "cell_type": "code",
   "execution_count": 57,
   "id": "3aebfc51",
   "metadata": {},
   "outputs": [
    {
     "ename": "TypeError",
     "evalue": "only integer scalar arrays can be converted to a scalar index",
     "output_type": "error",
     "traceback": [
      "\u001b[31m---------------------------------------------------------------------------\u001b[39m",
      "\u001b[31mTypeError\u001b[39m                                 Traceback (most recent call last)",
      "\u001b[36mCell\u001b[39m\u001b[36m \u001b[39m\u001b[32mIn[57]\u001b[39m\u001b[32m, line 2\u001b[39m\n\u001b[32m      1\u001b[39m \u001b[38;5;66;03m# Visualize topics and documents\u001b[39;00m\n\u001b[32m----> \u001b[39m\u001b[32m2\u001b[39m fig = \u001b[43mtopic_model\u001b[49m\u001b[43m.\u001b[49m\u001b[43mvisualize_document_datamap\u001b[49m\u001b[43m(\u001b[49m\n\u001b[32m      3\u001b[39m \u001b[43m    \u001b[49m\u001b[43mtitles\u001b[49m\u001b[43m,\u001b[49m\n\u001b[32m      4\u001b[39m \u001b[43m    \u001b[49m\u001b[43mtopics\u001b[49m\u001b[43m=\u001b[49m\u001b[38;5;28;43mlist\u001b[39;49m\u001b[43m(\u001b[49m\u001b[38;5;28;43mrange\u001b[39;49m\u001b[43m(\u001b[49m\u001b[32;43m20\u001b[39;49m\u001b[43m)\u001b[49m\u001b[43m)\u001b[49m\u001b[43m,\u001b[49m\n\u001b[32m      5\u001b[39m \u001b[43m    \u001b[49m\u001b[43mreduced_embeddings\u001b[49m\u001b[43m=\u001b[49m\u001b[43mreduced_embeddings\u001b[49m\u001b[43m,\u001b[49m\n\u001b[32m      6\u001b[39m \u001b[43m    \u001b[49m\u001b[43mwidth\u001b[49m\u001b[43m=\u001b[49m\u001b[32;43m1200\u001b[39;49m\u001b[43m,\u001b[49m\n\u001b[32m      7\u001b[39m \u001b[43m    \u001b[49m\u001b[38;5;66;43;03m# label_font_size=11,\u001b[39;49;00m\n\u001b[32m      8\u001b[39m \u001b[43m    \u001b[49m\u001b[38;5;66;43;03m# label_wrap_width=20,\u001b[39;49;00m\n\u001b[32m      9\u001b[39m \u001b[43m    \u001b[49m\u001b[38;5;66;43;03m# use_medoids=True,\u001b[39;49;00m\n\u001b[32m     10\u001b[39m \u001b[43m)\u001b[49m\n\u001b[32m     11\u001b[39m plt.savefig(\u001b[33m\"\u001b[39m\u001b[33mdatamapplot.png\u001b[39m\u001b[33m\"\u001b[39m, dpi=\u001b[32m300\u001b[39m)\n",
      "\u001b[36mFile \u001b[39m\u001b[32mc:\\Users\\ptpl-648\\Desktop\\Hands_on_LLM\\.venv\\Lib\\site-packages\\bertopic\\_bertopic.py:2645\u001b[39m, in \u001b[36mBERTopic.visualize_document_datamap\u001b[39m\u001b[34m(self, docs, topics, embeddings, reduced_embeddings, custom_labels, title, sub_title, width, height, interactive, enable_search, topic_prefix, datamap_kwds, int_datamap_kwds)\u001b[39m\n\u001b[32m   2569\u001b[39m \u001b[38;5;250m\u001b[39m\u001b[33;03m\"\"\"Visualize documents and their topics in 2D as a static plot for publication using\u001b[39;00m\n\u001b[32m   2570\u001b[39m \u001b[33;03mDataMapPlot. This works best if there are between 5 and 60 topics. It is therefore best\u001b[39;00m\n\u001b[32m   2571\u001b[39m \u001b[33;03mto use a sufficiently large `min_topic_size` or set `nr_topics` when building the model.\u001b[39;00m\n\u001b[32m   (...)\u001b[39m\u001b[32m   2642\u001b[39m \u001b[33;03m```\u001b[39;00m\n\u001b[32m   2643\u001b[39m \u001b[33;03m\"\"\"\u001b[39;00m\n\u001b[32m   2644\u001b[39m check_is_fitted(\u001b[38;5;28mself\u001b[39m)\n\u001b[32m-> \u001b[39m\u001b[32m2645\u001b[39m \u001b[38;5;28;01mreturn\u001b[39;00m \u001b[43mplotting\u001b[49m\u001b[43m.\u001b[49m\u001b[43mvisualize_document_datamap\u001b[49m\u001b[43m(\u001b[49m\n\u001b[32m   2646\u001b[39m \u001b[43m    \u001b[49m\u001b[38;5;28;43mself\u001b[39;49m\u001b[43m,\u001b[49m\n\u001b[32m   2647\u001b[39m \u001b[43m    \u001b[49m\u001b[43mdocs\u001b[49m\u001b[43m,\u001b[49m\n\u001b[32m   2648\u001b[39m \u001b[43m    \u001b[49m\u001b[43mtopics\u001b[49m\u001b[43m,\u001b[49m\n\u001b[32m   2649\u001b[39m \u001b[43m    \u001b[49m\u001b[43membeddings\u001b[49m\u001b[43m,\u001b[49m\n\u001b[32m   2650\u001b[39m \u001b[43m    \u001b[49m\u001b[43mreduced_embeddings\u001b[49m\u001b[43m,\u001b[49m\n\u001b[32m   2651\u001b[39m \u001b[43m    \u001b[49m\u001b[43mcustom_labels\u001b[49m\u001b[43m,\u001b[49m\n\u001b[32m   2652\u001b[39m \u001b[43m    \u001b[49m\u001b[43mtitle\u001b[49m\u001b[43m,\u001b[49m\n\u001b[32m   2653\u001b[39m \u001b[43m    \u001b[49m\u001b[43msub_title\u001b[49m\u001b[43m,\u001b[49m\n\u001b[32m   2654\u001b[39m \u001b[43m    \u001b[49m\u001b[43mwidth\u001b[49m\u001b[43m,\u001b[49m\n\u001b[32m   2655\u001b[39m \u001b[43m    \u001b[49m\u001b[43mheight\u001b[49m\u001b[43m,\u001b[49m\n\u001b[32m   2656\u001b[39m \u001b[43m    \u001b[49m\u001b[43minteractive\u001b[49m\u001b[43m,\u001b[49m\n\u001b[32m   2657\u001b[39m \u001b[43m    \u001b[49m\u001b[43menable_search\u001b[49m\u001b[43m,\u001b[49m\n\u001b[32m   2658\u001b[39m \u001b[43m    \u001b[49m\u001b[43mtopic_prefix\u001b[49m\u001b[43m,\u001b[49m\n\u001b[32m   2659\u001b[39m \u001b[43m    \u001b[49m\u001b[43mdatamap_kwds\u001b[49m\u001b[43m,\u001b[49m\n\u001b[32m   2660\u001b[39m \u001b[43m    \u001b[49m\u001b[43mint_datamap_kwds\u001b[49m\u001b[43m,\u001b[49m\n\u001b[32m   2661\u001b[39m \u001b[43m\u001b[49m\u001b[43m)\u001b[49m\n",
      "\u001b[36mFile \u001b[39m\u001b[32mc:\\Users\\ptpl-648\\Desktop\\Hands_on_LLM\\.venv\\Lib\\site-packages\\bertopic\\plotting\\_datamap.py:178\u001b[39m, in \u001b[36mvisualize_document_datamap\u001b[39m\u001b[34m(topic_model, docs, topics, embeddings, reduced_embeddings, custom_labels, title, sub_title, width, height, interactive, enable_search, topic_prefix, datamap_kwds, int_datamap_kwds)\u001b[39m\n\u001b[32m    168\u001b[39m     figure = datamapplot.create_interactive_plot(\n\u001b[32m    169\u001b[39m         embeddings_2d,\n\u001b[32m    170\u001b[39m         named_topic_per_doc,\n\u001b[32m   (...)\u001b[39m\u001b[32m    175\u001b[39m         **int_datamap_kwds,\n\u001b[32m    176\u001b[39m     )\n\u001b[32m    177\u001b[39m \u001b[38;5;28;01melse\u001b[39;00m:\n\u001b[32m--> \u001b[39m\u001b[32m178\u001b[39m     figure, _ = \u001b[43mdatamapplot\u001b[49m\u001b[43m.\u001b[49m\u001b[43mcreate_plot\u001b[49m\u001b[43m(\u001b[49m\n\u001b[32m    179\u001b[39m \u001b[43m        \u001b[49m\u001b[43membeddings_2d\u001b[49m\u001b[43m,\u001b[49m\n\u001b[32m    180\u001b[39m \u001b[43m        \u001b[49m\u001b[43mnamed_topic_per_doc\u001b[49m\u001b[43m,\u001b[49m\n\u001b[32m    181\u001b[39m \u001b[43m        \u001b[49m\u001b[43mfigsize\u001b[49m\u001b[43m=\u001b[49m\u001b[43m(\u001b[49m\u001b[43mwidth\u001b[49m\u001b[43m \u001b[49m\u001b[43m/\u001b[49m\u001b[43m \u001b[49m\u001b[32;43m100\u001b[39;49m\u001b[43m,\u001b[49m\u001b[43m \u001b[49m\u001b[43mheight\u001b[49m\u001b[43m \u001b[49m\u001b[43m/\u001b[49m\u001b[43m \u001b[49m\u001b[32;43m100\u001b[39;49m\u001b[43m)\u001b[49m\u001b[43m,\u001b[49m\n\u001b[32m    182\u001b[39m \u001b[43m        \u001b[49m\u001b[43mdpi\u001b[49m\u001b[43m=\u001b[49m\u001b[32;43m100\u001b[39;49m\u001b[43m,\u001b[49m\n\u001b[32m    183\u001b[39m \u001b[43m        \u001b[49m\u001b[43mtitle\u001b[49m\u001b[43m=\u001b[49m\u001b[43mtitle\u001b[49m\u001b[43m,\u001b[49m\n\u001b[32m    184\u001b[39m \u001b[43m        \u001b[49m\u001b[43msub_title\u001b[49m\u001b[43m=\u001b[49m\u001b[43msub_title\u001b[49m\u001b[43m,\u001b[49m\n\u001b[32m    185\u001b[39m \u001b[43m        \u001b[49m\u001b[43m*\u001b[49m\u001b[43m*\u001b[49m\u001b[43mdatamap_kwds\u001b[49m\u001b[43m,\u001b[49m\n\u001b[32m    186\u001b[39m \u001b[43m    \u001b[49m\u001b[43m)\u001b[49m\n\u001b[32m    188\u001b[39m \u001b[38;5;28;01mreturn\u001b[39;00m figure\n",
      "\u001b[36mFile \u001b[39m\u001b[32mc:\\Users\\ptpl-648\\Desktop\\Hands_on_LLM\\.venv\\Lib\\site-packages\\datamapplot\\config.py:126\u001b[39m, in \u001b[36mConfigManager.complete.<locals>.decorator.<locals>.fn_with_config\u001b[39m\u001b[34m(*args, **kwargs)\u001b[39m\n\u001b[32m    119\u001b[39m             \u001b[38;5;28;01mraise\u001b[39;00m ConfigError(\n\u001b[32m    120\u001b[39m                 \u001b[33mf\u001b[39m\u001b[33m\"\u001b[39m\u001b[33mParameter \u001b[39m\u001b[38;5;132;01m{\u001b[39;00mparam.name\u001b[38;5;132;01m}\u001b[39;00m\u001b[33m is deliberately listed as \u001b[39m\u001b[33m\"\u001b[39m\n\u001b[32m    121\u001b[39m                 \u001b[33m\"\u001b[39m\u001b[33mforbidden from being defined through the DataMapPlot \u001b[39m\u001b[33m\"\u001b[39m\n\u001b[32m    122\u001b[39m                 \u001b[33m\"\u001b[39m\u001b[33mconfiguration file.\u001b[39m\u001b[33m\"\u001b[39m,\n\u001b[32m    123\u001b[39m                 param\n\u001b[32m    124\u001b[39m             )\n\u001b[32m    125\u001b[39m         from_config[name] = \u001b[38;5;28mself\u001b[39m[name]\n\u001b[32m--> \u001b[39m\u001b[32m126\u001b[39m \u001b[38;5;28;01mreturn\u001b[39;00m \u001b[43mfn\u001b[49m\u001b[43m(\u001b[49m\u001b[43m*\u001b[49m\u001b[43mbound_args\u001b[49m\u001b[43m.\u001b[49m\u001b[43margs\u001b[49m\u001b[43m,\u001b[49m\u001b[43m \u001b[49m\u001b[43m*\u001b[49m\u001b[43m*\u001b[49m\u001b[43m(\u001b[49m\u001b[43mbound_args\u001b[49m\u001b[43m.\u001b[49m\u001b[43mkwargs\u001b[49m\u001b[43m \u001b[49m\u001b[43m|\u001b[49m\u001b[43m \u001b[49m\u001b[43mfrom_config\u001b[49m\u001b[43m)\u001b[49m\u001b[43m)\u001b[49m\n",
      "\u001b[36mFile \u001b[39m\u001b[32mc:\\Users\\ptpl-648\\Desktop\\Hands_on_LLM\\.venv\\Lib\\site-packages\\datamapplot\\create_plots.py:206\u001b[39m, in \u001b[36mcreate_plot\u001b[39m\u001b[34m(data_map_coords, labels, title, sub_title, noise_label, noise_color, color_label_text, color_label_arrows, label_wrap_width, label_color_map, figsize, dynamic_label_size, dpi, force_matplotlib, darkmode, highlight_labels, palette_hue_shift, palette_hue_radius_dependence, palette_theta_range, palette_min_lightness, use_medoids, cmap, cvd_safer, marker_color_array, **render_plot_kwds)\u001b[39m\n\u001b[32m    198\u001b[39m         label_locations = np.asarray(\n\u001b[32m    199\u001b[39m             [\n\u001b[32m    200\u001b[39m                 medoid(data_map_coords[cluster_label_vector == i])\n\u001b[32m    201\u001b[39m                 \u001b[38;5;28;01mfor\u001b[39;00m i \u001b[38;5;129;01min\u001b[39;00m tqdm(unique_non_noise_labels, desc=\u001b[33m\"\u001b[39m\u001b[33mCalculating medoids\u001b[39m\u001b[33m\"\u001b[39m)\n\u001b[32m    202\u001b[39m             ]\n\u001b[32m    203\u001b[39m         )\n\u001b[32m    204\u001b[39m     \u001b[38;5;28;01melse\u001b[39;00m:\n\u001b[32m    205\u001b[39m         label_locations = np.asarray(\n\u001b[32m--> \u001b[39m\u001b[32m206\u001b[39m             \u001b[43m[\u001b[49m\n\u001b[32m    207\u001b[39m \u001b[43m                \u001b[49m\u001b[43mdata_map_coords\u001b[49m\u001b[43m[\u001b[49m\u001b[43mcluster_label_vector\u001b[49m\u001b[43m \u001b[49m\u001b[43m==\u001b[49m\u001b[43m \u001b[49m\u001b[43mi\u001b[49m\u001b[43m]\u001b[49m\u001b[43m.\u001b[49m\u001b[43mmean\u001b[49m\u001b[43m(\u001b[49m\u001b[43maxis\u001b[49m\u001b[43m=\u001b[49m\u001b[32;43m0\u001b[39;49m\u001b[43m)\u001b[49m\n\u001b[32m    208\u001b[39m \u001b[43m                \u001b[49m\u001b[38;5;28;43;01mfor\u001b[39;49;00m\u001b[43m \u001b[49m\u001b[43mi\u001b[49m\u001b[43m \u001b[49m\u001b[38;5;129;43;01min\u001b[39;49;00m\u001b[43m \u001b[49m\u001b[43munique_non_noise_labels\u001b[49m\n\u001b[32m    209\u001b[39m \u001b[43m            \u001b[49m\u001b[43m]\u001b[49m\n\u001b[32m    210\u001b[39m         )\n\u001b[32m    211\u001b[39m     label_text = [\n\u001b[32m    212\u001b[39m         textwrap.fill(x, width=label_wrap_width, break_long_words=\u001b[38;5;28;01mFalse\u001b[39;00m)\n\u001b[32m    213\u001b[39m         \u001b[38;5;28;01mfor\u001b[39;00m x \u001b[38;5;129;01min\u001b[39;00m unique_non_noise_labels\n\u001b[32m    214\u001b[39m     ]\n\u001b[32m    215\u001b[39m \u001b[38;5;28;01mif\u001b[39;00m highlight_labels \u001b[38;5;129;01mis\u001b[39;00m \u001b[38;5;129;01mnot\u001b[39;00m \u001b[38;5;28;01mNone\u001b[39;00m:\n",
      "\u001b[36mFile \u001b[39m\u001b[32mc:\\Users\\ptpl-648\\Desktop\\Hands_on_LLM\\.venv\\Lib\\site-packages\\datamapplot\\create_plots.py:207\u001b[39m, in \u001b[36m<listcomp>\u001b[39m\u001b[34m(.0)\u001b[39m\n\u001b[32m    198\u001b[39m         label_locations = np.asarray(\n\u001b[32m    199\u001b[39m             [\n\u001b[32m    200\u001b[39m                 medoid(data_map_coords[cluster_label_vector == i])\n\u001b[32m    201\u001b[39m                 \u001b[38;5;28;01mfor\u001b[39;00m i \u001b[38;5;129;01min\u001b[39;00m tqdm(unique_non_noise_labels, desc=\u001b[33m\"\u001b[39m\u001b[33mCalculating medoids\u001b[39m\u001b[33m\"\u001b[39m)\n\u001b[32m    202\u001b[39m             ]\n\u001b[32m    203\u001b[39m         )\n\u001b[32m    204\u001b[39m     \u001b[38;5;28;01melse\u001b[39;00m:\n\u001b[32m    205\u001b[39m         label_locations = np.asarray(\n\u001b[32m    206\u001b[39m             [\n\u001b[32m--> \u001b[39m\u001b[32m207\u001b[39m                 \u001b[43mdata_map_coords\u001b[49m\u001b[43m[\u001b[49m\u001b[43mcluster_label_vector\u001b[49m\u001b[43m \u001b[49m\u001b[43m==\u001b[49m\u001b[43m \u001b[49m\u001b[43mi\u001b[49m\u001b[43m]\u001b[49m.mean(axis=\u001b[32m0\u001b[39m)\n\u001b[32m    208\u001b[39m                 \u001b[38;5;28;01mfor\u001b[39;00m i \u001b[38;5;129;01min\u001b[39;00m unique_non_noise_labels\n\u001b[32m    209\u001b[39m             ]\n\u001b[32m    210\u001b[39m         )\n\u001b[32m    211\u001b[39m     label_text = [\n\u001b[32m    212\u001b[39m         textwrap.fill(x, width=label_wrap_width, break_long_words=\u001b[38;5;28;01mFalse\u001b[39;00m)\n\u001b[32m    213\u001b[39m         \u001b[38;5;28;01mfor\u001b[39;00m x \u001b[38;5;129;01min\u001b[39;00m unique_non_noise_labels\n\u001b[32m    214\u001b[39m     ]\n\u001b[32m    215\u001b[39m \u001b[38;5;28;01mif\u001b[39;00m highlight_labels \u001b[38;5;129;01mis\u001b[39;00m \u001b[38;5;129;01mnot\u001b[39;00m \u001b[38;5;28;01mNone\u001b[39;00m:\n",
      "\u001b[31mTypeError\u001b[39m: only integer scalar arrays can be converted to a scalar index"
     ]
    }
   ],
   "source": [
    "# Visualize topics and documents\n",
    "fig = topic_model.visualize_document_datamap(\n",
    "    titles,\n",
    "    topics=list(range(20)),\n",
    "    reduced_embeddings=reduced_embeddings,\n",
    "    width=1200,\n",
    "    # label_font_size=11,\n",
    "    # label_wrap_width=20,\n",
    "    # use_medoids=True,\n",
    ")\n",
    "plt.savefig(\"datamapplot.png\", dpi=300)"
   ]
  },
  {
   "cell_type": "code",
   "execution_count": null,
   "id": "3dabeb86",
   "metadata": {},
   "outputs": [],
   "source": []
  },
  {
   "cell_type": "code",
   "execution_count": null,
   "id": "96688167",
   "metadata": {},
   "outputs": [],
   "source": []
  }
 ],
 "metadata": {
  "kernelspec": {
   "display_name": ".venv (3.11.6)",
   "language": "python",
   "name": "python3"
  },
  "language_info": {
   "codemirror_mode": {
    "name": "ipython",
    "version": 3
   },
   "file_extension": ".py",
   "mimetype": "text/x-python",
   "name": "python",
   "nbconvert_exporter": "python",
   "pygments_lexer": "ipython3",
   "version": "3.11.6"
  }
 },
 "nbformat": 4,
 "nbformat_minor": 5
}
